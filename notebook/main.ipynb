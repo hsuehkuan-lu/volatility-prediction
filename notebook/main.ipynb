{
 "cells": [
  {
   "cell_type": "markdown",
   "metadata": {},
   "source": [
    "# Competition"
   ]
  },
  {
   "cell_type": "code",
   "execution_count": 1,
   "metadata": {},
   "outputs": [],
   "source": [
    "import os\n",
    "import glob\n",
    "from joblib import Parallel, delayed\n",
    "import pandas as pd\n",
    "import numpy as np\n",
    "import scipy as sc\n",
    "from sklearn.model_selection import KFold, train_test_split\n",
    "import optuna\n",
    "import xgboost as xgb\n",
    "import warnings\n",
    "warnings.filterwarnings('ignore')\n",
    "pd.set_option('max_columns', 300)"
   ]
  },
  {
   "cell_type": "markdown",
   "metadata": {},
   "source": [
    "## Preprocessing"
   ]
  },
  {
   "cell_type": "markdown",
   "metadata": {},
   "source": [
    "### Preprocessing Utilities"
   ]
  },
  {
   "cell_type": "code",
   "execution_count": 8,
   "metadata": {},
   "outputs": [],
   "source": [
    "def calc_wap1(df):\n",
    "    wap = (df['bid_price1'] * df['ask_size1'] + df['ask_price1'] * df['bid_size1'])/(df['bid_size1'] + df['ask_size1'])\n",
    "    return wap\n",
    "\n",
    "def calc_wap2(df):\n",
    "    wap = (df['bid_price2'] * df['ask_size2'] + df['ask_price2'] * df['bid_size2'])/(df['bid_size2'] + df['ask_size2'])\n",
    "    return wap"
   ]
  },
  {
   "cell_type": "code",
   "execution_count": 9,
   "metadata": {},
   "outputs": [],
   "source": [
    "def log_return(wap):\n",
    "    return np.log(wap).diff()"
   ]
  },
  {
   "cell_type": "code",
   "execution_count": 10,
   "metadata": {},
   "outputs": [],
   "source": [
    "def realized_volatility(series):\n",
    "    return np.sqrt(np.sum(series**2))"
   ]
  },
  {
   "cell_type": "code",
   "execution_count": 11,
   "metadata": {},
   "outputs": [],
   "source": [
    "def count_unique(series):\n",
    "    return len(np.unique(series))"
   ]
  },
  {
   "cell_type": "code",
   "execution_count": 12,
   "metadata": {},
   "outputs": [],
   "source": [
    "# Function to read our base train and test set\n",
    "def read_train_test():\n",
    "    train = pd.read_csv(config.data_dir + 'train.csv')\n",
    "    test = pd.read_csv(config.data_dir + 'test.csv')\n",
    "    # Create a key to merge with book and trade data\n",
    "    train['row_id'] = train['stock_id'].astype(str) + '-' + train['time_id'].astype(str)\n",
    "    test['row_id'] = test['stock_id'].astype(str) + '-' + test['time_id'].astype(str)\n",
    "    print(f'Our training set has {train.shape[0]} rows')\n",
    "    return train, test"
   ]
  },
  {
   "cell_type": "code",
   "execution_count": 81,
   "metadata": {},
   "outputs": [],
   "source": [
    "class Config:\n",
    "    seed = 123\n",
    "    data_dir = '/data/'\n",
    "    time_gap = 100\n",
    "    \n",
    "    feature_dict_book = {\n",
    "        'wap1': [np.sum, np.mean, np.std],\n",
    "        'wap2': [np.sum, np.mean, np.std],\n",
    "        'log_return1': [np.sum, realized_volatility, np.mean, np.std],\n",
    "        'log_return2': [np.sum, realized_volatility, np.mean, np.std],\n",
    "        'wap_balance': [np.sum, np.mean, np.std],\n",
    "        'price_spread':[np.sum, np.mean, np.std],\n",
    "        'price_spread2':[np.sum, np.mean, np.std],\n",
    "        'bid_spread':[np.sum, np.mean, np.std],\n",
    "        'ask_spread':[np.sum, np.mean, np.std],\n",
    "        'total_volume':[np.sum, np.mean, np.std],\n",
    "        'volume_imbalance':[np.sum, np.mean, np.std],\n",
    "        \"bid_ask_spread\":[np.sum, np.mean, np.std],\n",
    "    }\n",
    "    \n",
    "    feature_dict_trade = {\n",
    "        'log_return':[realized_volatility],\n",
    "        'seconds_in_bucket':[count_unique],\n",
    "        'size':[np.sum, realized_volatility, np.mean, np.std, np.max, np.min],\n",
    "        'order_count':[np.mean,np.sum,np.max],\n",
    "    }\n",
    "    \n",
    "    model_params = {\n",
    "        \"xgb_bl\": {\n",
    "            \"objective\": \"reg:squarederror\",\n",
    "            \"booster\": \"gblinear\",\n",
    "            \"nthread\": -1,\n",
    "            \"eta\": 0.3,\n",
    "            \"max_depth\": 8,\n",
    "            \"min_child_weight\": 1,\n",
    "            \"sampling_method\": \"gradient_based\",\n",
    "            \"tree_method\": \"gpu_hist\"  # turn it on for GPU\n",
    "        },\n",
    "        \"xgb_tuning\": {\n",
    "            \"objective\": \"reg:squarederror\",\n",
    "            \"booster\": \"gbtree\",\n",
    "            \"nthread\": -1,\n",
    "            \"tree_method\": \"gpu_hist\",\n",
    "            'max_depth': 7,\n",
    "            'eta': 0.03,\n",
    "            'lambda': 0.01,\n",
    "            \"subsample\": 0.2,\n",
    "            \"colsample_bytree\": 0.33,\n",
    "            \"sampling_method\": \"uniform\"\n",
    "        },\n",
    "        \"xgb_optuna\": {\n",
    "            \"objective\": \"reg:squarederror\",\n",
    "            \"booster\": \"gblinear\",\n",
    "            \"nthread\": -1,\n",
    "            \"tree_method\": \"gpu_hist\",\n",
    "            'max_depth': 7,\n",
    "            'eta': 0.03,\n",
    "            'lambda': 1.0979256871605507e-06,\n",
    "            'gamma': 2.3321112461277414e-08,\n",
    "            'alpha': 0.006405029944559645,\n",
    "            \"sampling_method\": \"gradient_based\"\n",
    "        }\n",
    "    }"
   ]
  },
  {
   "cell_type": "code",
   "execution_count": 82,
   "metadata": {},
   "outputs": [],
   "source": [
    "config = Config"
   ]
  },
  {
   "cell_type": "markdown",
   "metadata": {},
   "source": [
    "### Preprocessing of Book"
   ]
  },
  {
   "cell_type": "code",
   "execution_count": 36,
   "metadata": {},
   "outputs": [],
   "source": [
    "from functools import reduce\n",
    "\n",
    "def book_preprocessor(file_path):\n",
    "    # Function to preprocess book data (for each stock id)\n",
    "    \n",
    "    df = pd.read_parquet(file_path)\n",
    "    \n",
    "    # Calculate Wap\n",
    "    df['wap1'] = calc_wap1(df)\n",
    "    df['wap2'] = calc_wap2(df)\n",
    "    \n",
    "    # Calculate log returns\n",
    "    df['log_return1'] = df.groupby(['time_id'])['wap1'].apply(log_return)\n",
    "    df['log_return2'] = df.groupby(['time_id'])['wap2'].apply(log_return)\n",
    "    \n",
    "    # Calculate wap balance\n",
    "    df['wap_balance'] = abs(df['wap1'] - df['wap2'])\n",
    "    \n",
    "    # Calculate spread\n",
    "    df['price_spread'] = (df['ask_price1'] - df['bid_price1']) / ((df['ask_price1'] + df['bid_price1']) / 2)\n",
    "    df['price_spread2'] = (df['ask_price2'] - df['bid_price2']) / ((df['ask_price2'] + df['bid_price2']) / 2)\n",
    "    df['bid_spread'] = df['bid_price1'] - df['bid_price2']\n",
    "    df['ask_spread'] = df['ask_price1'] - df['ask_price2']\n",
    "    df[\"bid_ask_spread\"] = abs(df['bid_spread'] - df['ask_spread'])\n",
    "    df['total_volume'] = (df['ask_size1'] + df['ask_size2']) + (df['bid_size1'] + df['bid_size2'])\n",
    "    df['volume_imbalance'] = abs((df['ask_size1'] + df['ask_size2']) - (df['bid_size1'] + df['bid_size2']))\n",
    "    \n",
    "    def get_stats_window(seconds_in_bucket, add_suffix = False):\n",
    "        # Function to get group stats for different windows (seconds in bucket)\n",
    "        \n",
    "        # Group by the window\n",
    "        df_feature = df[df['seconds_in_bucket'] >= seconds_in_bucket].groupby(['time_id']).agg(config.feature_dict_book).reset_index()\n",
    "        \n",
    "        # Rename columns joining suffix\n",
    "        df_feature.columns = ['_'.join(col) for col in df_feature.columns]\n",
    "        \n",
    "        # Add a suffix to differentiate windows\n",
    "        if add_suffix:\n",
    "            df_feature = df_feature.add_suffix('_' + str(seconds_in_bucket))\n",
    "            df_feature.rename({f'time_id__{seconds_in_bucket}': 'time_id_'}, axis=1, inplace=True)\n",
    "        return df_feature\n",
    "    \n",
    "    # Get the stats for different windows\n",
    "    df_list = [get_stats_window(seconds_in_bucket = 0, add_suffix = False)]\n",
    "    \n",
    "    time_slices = [t * config.time_gap for t in range(1, 600 // config.time_gap)]\n",
    "    for t in time_slices:\n",
    "        df_list += [get_stats_window(seconds_in_bucket = t, add_suffix = True)]\n",
    "    \n",
    "    df_feature = reduce(lambda left, right: pd.merge(left, right, on='time_id_'), df_list)\n",
    "    \n",
    "    # Create row_id so we can merge\n",
    "    stock_id = file_path.split('=')[1]\n",
    "    df_feature.loc[:, 'row_id'] = df_feature['time_id_'].apply(lambda x: f'{stock_id}-{x}')\n",
    "    df_feature.drop(['time_id_'], axis = 1, inplace = True)\n",
    "    \n",
    "    return df_feature"
   ]
  },
  {
   "cell_type": "markdown",
   "metadata": {},
   "source": [
    "### Preprocessing of Trade"
   ]
  },
  {
   "cell_type": "code",
   "execution_count": 37,
   "metadata": {},
   "outputs": [],
   "source": [
    "def trade_preprocessor(file_path):\n",
    "    # Function to preprocess trade data (for each stock id)\n",
    "    \n",
    "    df = pd.read_parquet(file_path)\n",
    "    df['log_return'] = df.groupby('time_id')['price'].apply(log_return)\n",
    "    \n",
    "    def get_stats_window(seconds_in_bucket, add_suffix = False):\n",
    "        # Function to get group stats for different windows (seconds in bucket)\n",
    "        \n",
    "        # Group by the window\n",
    "        df_feature = df[df['seconds_in_bucket'] >= seconds_in_bucket].groupby(['time_id']).agg(config.feature_dict_trade).reset_index()\n",
    "        \n",
    "        # Rename columns joining suffix\n",
    "        df_feature.columns = ['_'.join(col) for col in df_feature.columns]\n",
    "        \n",
    "        # Add a suffix to differentiate windows\n",
    "        if add_suffix:\n",
    "            df_feature = df_feature.add_suffix('_' + str(seconds_in_bucket))\n",
    "            df_feature.rename({f'time_id__{seconds_in_bucket}': 'time_id_'}, axis=1, inplace=True)\n",
    "        return df_feature\n",
    "    \n",
    "    def tendency(price, vol):    \n",
    "        df_diff = np.diff(price)\n",
    "        val = (df_diff/price[1:])*100\n",
    "        power = np.sum(val*vol[1:])\n",
    "        return(power)\n",
    "    \n",
    "    def process_trade_features(df):\n",
    "        lis = []\n",
    "        for n_time_id in df['time_id'].unique():\n",
    "            df_id = df[df['time_id'] == n_time_id]        \n",
    "            tendencyV = tendency(df_id['price'].values, df_id['size'].values)      \n",
    "            f_max = np.sum(df_id['price'].values > np.mean(df_id['price'].values))\n",
    "            f_min = np.sum(df_id['price'].values < np.mean(df_id['price'].values))\n",
    "            df_max =  np.sum(np.diff(df_id['price'].values) > 0)\n",
    "            df_min =  np.sum(np.diff(df_id['price'].values) < 0)\n",
    "            abs_diff = np.median(np.abs( df_id['price'].values - np.mean(df_id['price'].values)))        \n",
    "            energy = np.mean(df_id['price'].values**2)\n",
    "            iqr_p = np.percentile(df_id['price'].values,75) - np.percentile(df_id['price'].values,25)\n",
    "            abs_diff_v = np.median(np.abs( df_id['size'].values - np.mean(df_id['size'].values)))        \n",
    "            energy_v = np.sum(df_id['size'].values**2)\n",
    "            iqr_p_v = np.percentile(df_id['size'].values,75) - np.percentile(df_id['size'].values,25)\n",
    "\n",
    "            lis.append({'time_id':n_time_id,'tendency':tendencyV,'f_max':f_max,'f_min':f_min,'df_max':df_max,'df_min':df_min,\n",
    "                       'abs_diff':abs_diff,'energy':energy,'iqr_p':iqr_p,'abs_diff_v':abs_diff_v,'energy_v':energy_v,'iqr_p_v':iqr_p_v})\n",
    "\n",
    "        df_lr = pd.DataFrame(lis)\n",
    "        return df_lr\n",
    "    \n",
    "    # Get the stats for different windows\n",
    "    df_list = [get_stats_window(seconds_in_bucket = 0, add_suffix = False)]\n",
    "    \n",
    "    time_slices = [t * 100 for t in range(1, 600 // config.time_gap)]\n",
    "    for t in time_slices:\n",
    "        df_list += [get_stats_window(seconds_in_bucket = t, add_suffix = True)]\n",
    "        \n",
    "    df_feature = reduce(lambda left, right: pd.merge(left, right, on='time_id_'), df_list)\n",
    "    df_lr = process_trade_features(df)\n",
    "    df_feature = df_feature.merge(df_lr, how = 'left', left_on = 'time_id_', right_on = 'time_id')\n",
    "    \n",
    "    df_feature = df_feature.add_prefix('trade_')\n",
    "    stock_id = file_path.split('=')[1]\n",
    "    df_feature['row_id'] = df_feature['trade_time_id_'].apply(lambda x:f'{stock_id}-{x}')\n",
    "    df_feature.drop(['trade_time_id_'], axis = 1, inplace = True)\n",
    "    \n",
    "    return df_feature"
   ]
  },
  {
   "cell_type": "markdown",
   "metadata": {},
   "source": [
    "### Preprocess of Time Stock"
   ]
  },
  {
   "cell_type": "code",
   "execution_count": 38,
   "metadata": {},
   "outputs": [],
   "source": [
    "# Function to get group stats for the stock_id and time_id\n",
    "def get_time_stock(df):\n",
    "    # Get realized volatility columns\n",
    "    vol_cols = [col for col in df.columns if 'realized_volatility' in col]\n",
    "\n",
    "    # Group by the stock id\n",
    "    df_stock_id = df.groupby(['stock_id'])[vol_cols].agg(['mean', 'std', 'max', 'min', ]).reset_index()\n",
    "    # Rename columns joining suffix\n",
    "    df_stock_id.columns = ['_'.join(col) for col in df_stock_id.columns]\n",
    "    df_stock_id = df_stock_id.add_suffix('_' + 'stock')\n",
    "\n",
    "    # Group by the stock id\n",
    "    df_time_id = df.groupby(['time_id'])[vol_cols].agg(['mean', 'std', 'max', 'min', ]).reset_index()\n",
    "    # Rename columns joining suffix\n",
    "    df_time_id.columns = ['_'.join(col) for col in df_time_id.columns]\n",
    "    df_time_id = df_time_id.add_suffix('_' + 'time')\n",
    "    \n",
    "    # Merge with original dataframe\n",
    "    df = df.merge(df_stock_id, how = 'left', left_on = ['stock_id'], right_on = ['stock_id__stock'])\n",
    "    df = df.merge(df_time_id, how = 'left', left_on = ['time_id'], right_on = ['time_id__time'])\n",
    "    df.drop(['stock_id__stock', 'time_id__time'], axis = 1, inplace = True)\n",
    "    return df"
   ]
  },
  {
   "cell_type": "markdown",
   "metadata": {},
   "source": [
    "### Overall Preprocessing"
   ]
  },
  {
   "cell_type": "code",
   "execution_count": 39,
   "metadata": {},
   "outputs": [],
   "source": [
    "# Funtion to make preprocessing function in parallel (for each stock id)\n",
    "def preprocessor(list_stock_ids, is_train = True):\n",
    "    \n",
    "    # Parrallel for loop\n",
    "    def for_joblib(stock_id):\n",
    "        # Train\n",
    "        if is_train:\n",
    "            file_path_book = config.data_dir + \"book_train.parquet/stock_id=\" + str(stock_id)\n",
    "            file_path_trade = config.data_dir + \"trade_train.parquet/stock_id=\" + str(stock_id)\n",
    "        # Test\n",
    "        else:\n",
    "            file_path_book = config.data_dir + \"book_test.parquet/stock_id=\" + str(stock_id)\n",
    "            file_path_trade = config.data_dir + \"trade_test.parquet/stock_id=\" + str(stock_id)\n",
    "    \n",
    "        # Preprocess book and trade data and merge them\n",
    "        df_tmp = pd.merge(book_preprocessor(file_path_book), trade_preprocessor(file_path_trade), on = 'row_id', how = 'left')\n",
    "        \n",
    "        # Return the merge dataframe\n",
    "        return df_tmp\n",
    "    \n",
    "    # Use parallel api to call paralle for loop\n",
    "    df = Parallel(n_jobs = -1, verbose = 1)(delayed(for_joblib)(stock_id) for stock_id in list_stock_ids)\n",
    "    # Concatenate all the dataframes that return from Parallel\n",
    "    df = pd.concat(df, ignore_index = True)\n",
    "    return df"
   ]
  },
  {
   "cell_type": "markdown",
   "metadata": {},
   "source": [
    "## Traning"
   ]
  },
  {
   "cell_type": "markdown",
   "metadata": {},
   "source": [
    "### Utilities"
   ]
  },
  {
   "cell_type": "code",
   "execution_count": 40,
   "metadata": {},
   "outputs": [],
   "source": [
    "# Function to calculate the root mean squared percentage error\n",
    "def rmspe(y_true, y_pred):\n",
    "    return np.sqrt(np.mean(np.square((y_true - y_pred) / y_true)))\n",
    "\n",
    "# Function to early stop with root mean squared percentage error\n",
    "def feval_rmspe(y_pred, xgb_train):\n",
    "    y_true = xgb_train.get_label()\n",
    "    return 'RMSPE', rmspe(y_true, y_pred)"
   ]
  },
  {
   "cell_type": "markdown",
   "metadata": {},
   "source": [
    "### Modeling"
   ]
  },
  {
   "cell_type": "code",
   "execution_count": 83,
   "metadata": {},
   "outputs": [],
   "source": [
    "def train_and_evaluate(train, test):\n",
    "    params = config.model_params['xgb_tuning']\n",
    "    \n",
    "    # Split features and target\n",
    "    x = train.drop(['row_id', 'target', 'time_id'], axis = 1)\n",
    "    y = train['target']\n",
    "    x_test = test.drop(['row_id', 'time_id'], axis = 1)\n",
    "    # Transform stock id to a numeric value\n",
    "    x['stock_id'] = x['stock_id'].astype(int)\n",
    "    x_test['stock_id'] = x_test['stock_id'].astype(int)\n",
    "    dtest = xgb.DMatrix(x_test)\n",
    "    \n",
    "    # Create out of folds array\n",
    "    oof_predictions = np.zeros(x.shape[0])\n",
    "    # Create test array to store predictions\n",
    "    test_predictions = np.zeros(x_test.shape[0])\n",
    "    # Create a KFold object\n",
    "    kfold = KFold(n_splits = 5, random_state = config.seed, shuffle = True)\n",
    "    # Iterate through each fold\n",
    "    for fold, (train_idx, val_idx) in enumerate(kfold.split(x)):\n",
    "        print(f'Training fold {fold + 1}')\n",
    "        x_train, y_train = x.iloc[train_idx], y.iloc[train_idx]\n",
    "        x_val, y_val = x.iloc[val_idx], y.iloc[val_idx]\n",
    "\n",
    "        x_train[\"stock_id\"] = x_train[\"stock_id\"].astype(int)\n",
    "        x_val[\"stock_id\"] = x_val[\"stock_id\"].astype(int)\n",
    "\n",
    "        dtrain = xgb.DMatrix(x_train, label=y_train, weight=1/np.square(y_train), enable_categorical=True)\n",
    "        dval = xgb.DMatrix(x_val, label=y_val, weight=1/np.square(y_val), enable_categorical=True)\n",
    "\n",
    "        model = xgb.train(params,\n",
    "                          dtrain=dtrain,\n",
    "                          evals=[(dtrain, \"dtrain\"), (dval, \"dval\")],\n",
    "                          verbose_eval=50,\n",
    "                          early_stopping_rounds=100,\n",
    "                          num_boost_round=1000,\n",
    "                          feval=feval_rmspe)\n",
    "\n",
    "        oof_predictions[val_idx] = model.predict(dval)\n",
    "        test_predictions += model.predict(dtest) / 5\n",
    "        \n",
    "    rmspe_score = rmspe(y, oof_predictions)\n",
    "    print(f'Our out of folds RMSPE is {rmspe_score}')\n",
    "    # Return test predictions\n",
    "    return test_predictions"
   ]
  },
  {
   "cell_type": "markdown",
   "metadata": {},
   "source": [
    "### Running"
   ]
  },
  {
   "cell_type": "code",
   "execution_count": 42,
   "metadata": {},
   "outputs": [
    {
     "name": "stdout",
     "output_type": "stream",
     "text": [
      "Our training set has 428932 rows\n"
     ]
    },
    {
     "name": "stderr",
     "output_type": "stream",
     "text": [
      "[Parallel(n_jobs=-1)]: Using backend LokyBackend with 12 concurrent workers.\n",
      "[Parallel(n_jobs=-1)]: Done  26 tasks      | elapsed:  1.7min\n",
      "[Parallel(n_jobs=-1)]: Done 112 out of 112 | elapsed:  5.6min finished\n",
      "[Parallel(n_jobs=-1)]: Using backend LokyBackend with 12 concurrent workers.\n",
      "[Parallel(n_jobs=-1)]: Done   1 out of   1 | elapsed:    0.2s finished\n",
      "/home/lhk/.local/lib/python3.8/site-packages/pandas/core/indexing.py:1667: PerformanceWarning: DataFrame is highly fragmented.  This is usually the result of calling `frame.insert` many times, which has poor performance.  Consider joining all columns at once using pd.concat(axis=1) instead.  To get a de-fragmented frame, use `newframe = frame.copy()`\n",
      "  self.obj[key] = value\n",
      "/tmp/ipykernel_4300/2304823975.py:2: RuntimeWarning: invalid value encountered in sqrt\n",
      "/tmp/ipykernel_4300/2304823975.py:2: RuntimeWarning: invalid value encountered in sqrt\n",
      "/tmp/ipykernel_4300/2304823975.py:2: RuntimeWarning: invalid value encountered in sqrt\n",
      "/tmp/ipykernel_4300/2304823975.py:2: RuntimeWarning: invalid value encountered in sqrt\n",
      "/home/lhk/.local/lib/python3.8/site-packages/pandas/core/indexing.py:1667: PerformanceWarning: DataFrame is highly fragmented.  This is usually the result of calling `frame.insert` many times, which has poor performance.  Consider joining all columns at once using pd.concat(axis=1) instead.  To get a de-fragmented frame, use `newframe = frame.copy()`\n",
      "  self.obj[key] = value\n",
      "/tmp/ipykernel_4300/2304823975.py:2: RuntimeWarning: invalid value encountered in sqrt\n",
      "/tmp/ipykernel_4300/2304823975.py:2: RuntimeWarning: invalid value encountered in sqrt\n",
      "/tmp/ipykernel_4300/2304823975.py:2: RuntimeWarning: invalid value encountered in sqrt\n",
      "/tmp/ipykernel_4300/2304823975.py:2: RuntimeWarning: invalid value encountered in sqrt\n",
      "/home/lhk/.local/lib/python3.8/site-packages/pandas/core/indexing.py:1667: PerformanceWarning: DataFrame is highly fragmented.  This is usually the result of calling `frame.insert` many times, which has poor performance.  Consider joining all columns at once using pd.concat(axis=1) instead.  To get a de-fragmented frame, use `newframe = frame.copy()`\n",
      "  self.obj[key] = value\n",
      "/tmp/ipykernel_4300/2304823975.py:2: RuntimeWarning: invalid value encountered in sqrt\n",
      "/tmp/ipykernel_4300/2304823975.py:2: RuntimeWarning: invalid value encountered in sqrt\n",
      "/tmp/ipykernel_4300/2304823975.py:2: RuntimeWarning: invalid value encountered in sqrt\n",
      "/tmp/ipykernel_4300/2304823975.py:2: RuntimeWarning: invalid value encountered in sqrt\n",
      "/home/lhk/.local/lib/python3.8/site-packages/pandas/core/indexing.py:1667: PerformanceWarning: DataFrame is highly fragmented.  This is usually the result of calling `frame.insert` many times, which has poor performance.  Consider joining all columns at once using pd.concat(axis=1) instead.  To get a de-fragmented frame, use `newframe = frame.copy()`\n",
      "  self.obj[key] = value\n",
      "/tmp/ipykernel_4300/2304823975.py:2: RuntimeWarning: invalid value encountered in sqrt\n",
      "/tmp/ipykernel_4300/2304823975.py:2: RuntimeWarning: invalid value encountered in sqrt\n",
      "/tmp/ipykernel_4300/2304823975.py:2: RuntimeWarning: invalid value encountered in sqrt\n",
      "/tmp/ipykernel_4300/2304823975.py:2: RuntimeWarning: invalid value encountered in sqrt\n",
      "/home/lhk/.local/lib/python3.8/site-packages/pandas/core/indexing.py:1667: PerformanceWarning: DataFrame is highly fragmented.  This is usually the result of calling `frame.insert` many times, which has poor performance.  Consider joining all columns at once using pd.concat(axis=1) instead.  To get a de-fragmented frame, use `newframe = frame.copy()`\n",
      "  self.obj[key] = value\n",
      "/tmp/ipykernel_4300/2304823975.py:2: RuntimeWarning: invalid value encountered in sqrt\n",
      "/tmp/ipykernel_4300/2304823975.py:2: RuntimeWarning: invalid value encountered in sqrt\n",
      "/tmp/ipykernel_4300/2304823975.py:2: RuntimeWarning: invalid value encountered in sqrt\n",
      "/tmp/ipykernel_4300/2304823975.py:2: RuntimeWarning: invalid value encountered in sqrt\n",
      "/home/lhk/.local/lib/python3.8/site-packages/pandas/core/indexing.py:1667: PerformanceWarning: DataFrame is highly fragmented.  This is usually the result of calling `frame.insert` many times, which has poor performance.  Consider joining all columns at once using pd.concat(axis=1) instead.  To get a de-fragmented frame, use `newframe = frame.copy()`\n",
      "  self.obj[key] = value\n",
      "/tmp/ipykernel_4300/2304823975.py:2: RuntimeWarning: invalid value encountered in sqrt\n",
      "/tmp/ipykernel_4300/2304823975.py:2: RuntimeWarning: invalid value encountered in sqrt\n",
      "/tmp/ipykernel_4300/2304823975.py:2: RuntimeWarning: invalid value encountered in sqrt\n",
      "/tmp/ipykernel_4300/2304823975.py:2: RuntimeWarning: invalid value encountered in sqrt\n",
      "/tmp/ipykernel_4300/2304823975.py:2: RuntimeWarning: invalid value encountered in sqrt\n",
      "/tmp/ipykernel_4300/2304823975.py:2: RuntimeWarning: invalid value encountered in sqrt\n",
      "/tmp/ipykernel_4300/2304823975.py:2: RuntimeWarning: invalid value encountered in sqrt\n",
      "/home/lhk/.local/lib/python3.8/site-packages/pandas/core/indexing.py:1667: PerformanceWarning: DataFrame is highly fragmented.  This is usually the result of calling `frame.insert` many times, which has poor performance.  Consider joining all columns at once using pd.concat(axis=1) instead.  To get a de-fragmented frame, use `newframe = frame.copy()`\n",
      "  self.obj[key] = value\n",
      "/tmp/ipykernel_4300/2304823975.py:2: RuntimeWarning: invalid value encountered in sqrt\n",
      "/tmp/ipykernel_4300/2304823975.py:2: RuntimeWarning: invalid value encountered in sqrt\n",
      "/tmp/ipykernel_4300/2304823975.py:2: RuntimeWarning: invalid value encountered in sqrt\n",
      "/tmp/ipykernel_4300/2304823975.py:2: RuntimeWarning: invalid value encountered in sqrt\n",
      "/home/lhk/.local/lib/python3.8/site-packages/pandas/core/indexing.py:1667: PerformanceWarning: DataFrame is highly fragmented.  This is usually the result of calling `frame.insert` many times, which has poor performance.  Consider joining all columns at once using pd.concat(axis=1) instead.  To get a de-fragmented frame, use `newframe = frame.copy()`\n",
      "  self.obj[key] = value\n",
      "/tmp/ipykernel_4300/2304823975.py:2: RuntimeWarning: invalid value encountered in sqrt\n",
      "/tmp/ipykernel_4300/2304823975.py:2: RuntimeWarning: invalid value encountered in sqrt\n",
      "/tmp/ipykernel_4300/2304823975.py:2: RuntimeWarning: invalid value encountered in sqrt\n",
      "/home/lhk/.local/lib/python3.8/site-packages/pandas/core/indexing.py:1667: PerformanceWarning: DataFrame is highly fragmented.  This is usually the result of calling `frame.insert` many times, which has poor performance.  Consider joining all columns at once using pd.concat(axis=1) instead.  To get a de-fragmented frame, use `newframe = frame.copy()`\n",
      "  self.obj[key] = value\n",
      "/tmp/ipykernel_4300/2304823975.py:2: RuntimeWarning: invalid value encountered in sqrt\n",
      "/tmp/ipykernel_4300/2304823975.py:2: RuntimeWarning: invalid value encountered in sqrt\n",
      "/tmp/ipykernel_4300/2304823975.py:2: RuntimeWarning: invalid value encountered in sqrt\n",
      "/tmp/ipykernel_4300/2304823975.py:2: RuntimeWarning: invalid value encountered in sqrt\n",
      "/tmp/ipykernel_4300/2304823975.py:2: RuntimeWarning: invalid value encountered in sqrt\n",
      "/home/lhk/.local/lib/python3.8/site-packages/pandas/core/indexing.py:1667: PerformanceWarning: DataFrame is highly fragmented.  This is usually the result of calling `frame.insert` many times, which has poor performance.  Consider joining all columns at once using pd.concat(axis=1) instead.  To get a de-fragmented frame, use `newframe = frame.copy()`\n",
      "  self.obj[key] = value\n",
      "/tmp/ipykernel_4300/2304823975.py:2: RuntimeWarning: invalid value encountered in sqrt\n",
      "/tmp/ipykernel_4300/2304823975.py:2: RuntimeWarning: invalid value encountered in sqrt\n",
      "/tmp/ipykernel_4300/2304823975.py:2: RuntimeWarning: invalid value encountered in sqrt\n",
      "/home/lhk/.local/lib/python3.8/site-packages/pandas/core/indexing.py:1667: PerformanceWarning: DataFrame is highly fragmented.  This is usually the result of calling `frame.insert` many times, which has poor performance.  Consider joining all columns at once using pd.concat(axis=1) instead.  To get a de-fragmented frame, use `newframe = frame.copy()`\n",
      "  self.obj[key] = value\n",
      "/tmp/ipykernel_4300/2304823975.py:2: RuntimeWarning: invalid value encountered in sqrt\n",
      "/tmp/ipykernel_4300/2304823975.py:2: RuntimeWarning: invalid value encountered in sqrt\n",
      "/tmp/ipykernel_4300/2304823975.py:2: RuntimeWarning: invalid value encountered in sqrt\n",
      "/tmp/ipykernel_4300/2304823975.py:2: RuntimeWarning: invalid value encountered in sqrt\n",
      "/home/lhk/.local/lib/python3.8/site-packages/pandas/core/indexing.py:1667: PerformanceWarning: DataFrame is highly fragmented.  This is usually the result of calling `frame.insert` many times, which has poor performance.  Consider joining all columns at once using pd.concat(axis=1) instead.  To get a de-fragmented frame, use `newframe = frame.copy()`\n",
      "  self.obj[key] = value\n",
      "/tmp/ipykernel_4300/2304823975.py:2: RuntimeWarning: invalid value encountered in sqrt\n",
      "/tmp/ipykernel_4300/2304823975.py:2: RuntimeWarning: invalid value encountered in sqrt\n",
      "/tmp/ipykernel_4300/2304823975.py:2: RuntimeWarning: invalid value encountered in sqrt\n"
     ]
    }
   ],
   "source": [
    "# Read train and test\n",
    "train, test = read_train_test()\n",
    "\n",
    "# Get unique stock ids \n",
    "train_stock_ids = train['stock_id'].unique()\n",
    "# Preprocess them using Parallel and our single stock id functions\n",
    "train_ = preprocessor(train_stock_ids, is_train = True)\n",
    "train = train.merge(train_, on = ['row_id'], how = 'left')\n",
    "\n",
    "# Get unique stock ids \n",
    "test_stock_ids = test['stock_id'].unique()\n",
    "# Preprocess them using Parallel and our single stock id functions\n",
    "test_ = preprocessor(test_stock_ids, is_train = False)\n",
    "test = test.merge(test_, on = ['row_id'], how = 'left')\n",
    "\n",
    "# Get group stats of time_id and stock_id\n",
    "train = get_time_stock(train)\n",
    "test = get_time_stock(test)"
   ]
  },
  {
   "cell_type": "markdown",
   "metadata": {},
   "source": [
    "### Optimization"
   ]
  },
  {
   "cell_type": "code",
   "execution_count": 20,
   "metadata": {},
   "outputs": [],
   "source": [
    "def objective(trial, train=train):\n",
    "    x = train.drop(['row_id', 'target', 'time_id'], axis = 1)\n",
    "    y = train['target']\n",
    "    train_x, valid_x, train_y, valid_y = train_test_split(x, y, test_size=0.25, random_state=config.seed)\n",
    "    dtrain = xgb.DMatrix(train_x, label=train_y)\n",
    "    dvalid = xgb.DMatrix(valid_x, label=valid_y)\n",
    "    \n",
    "    param = {\n",
    "        \"objective\": \"reg:squarederror\",\n",
    "        \"booster\": \"gbtree\",\n",
    "        \"max_depth\": trial.suggest_int(\"max_depth\", 1, 9),\n",
    "        \"eta\": trial.suggest_categorical(\"eta\", [.3, .1]),\n",
    "        \"lambda\": trial.suggest_loguniform(\"lambda\", 1e-8, 1.0),\n",
    "        \"gamma\": trial.suggest_float(\"gamma\", 1e-8, 1.0, log=True),\n",
    "        \"alpha\": trial.suggest_loguniform(\"alpha\", 1e-8, 1.0),\n",
    "        \"tree_method\": \"gpu_hist\"  # turn it on for GPU\n",
    "    }\n",
    "\n",
    "    # Add a callback for pruning.\n",
    "    model = xgb.train(param,\n",
    "                      dtrain,\n",
    "                      evals=[(dtrain, \"dtrain\"), (dvalid, \"dval\")],\n",
    "                      verbose_eval=50,\n",
    "                      feval=feval_rmspe,\n",
    "                      num_boost_round=1000,\n",
    "                      early_stopping_rounds=100)\n",
    "    y_pred = model.predict(dvalid)\n",
    "    return rmspe(valid_y, y_pred)"
   ]
  },
  {
   "cell_type": "code",
   "execution_count": 21,
   "metadata": {},
   "outputs": [
    {
     "name": "stderr",
     "output_type": "stream",
     "text": [
      "\u001b[32m[I 2021-08-29 20:34:39,354]\u001b[0m A new study created in memory with name: no-name-44bc5c6c-abce-4390-9535-20c63448ba86\u001b[0m\n"
     ]
    },
    {
     "name": "stdout",
     "output_type": "stream",
     "text": [
      "[0]\tdtrain-rmse:0.44652\tdtrain-RMSPE:207.72995\tdval-rmse:0.44651\tdval-RMSPE:207.10060\n",
      "[50]\tdtrain-rmse:0.00261\tdtrain-RMSPE:1.31693\tdval-rmse:0.00261\tdval-RMSPE:1.30587\n",
      "[100]\tdtrain-rmse:0.00112\tdtrain-RMSPE:0.28281\tdval-rmse:0.00115\tdval-RMSPE:0.27382\n",
      "[150]\tdtrain-rmse:0.00112\tdtrain-RMSPE:0.27976\tdval-rmse:0.00115\tdval-RMSPE:0.27082\n",
      "[200]\tdtrain-rmse:0.00112\tdtrain-RMSPE:0.27975\tdval-rmse:0.00115\tdval-RMSPE:0.27081\n",
      "[250]\tdtrain-rmse:0.00112\tdtrain-RMSPE:0.27975\tdval-rmse:0.00115\tdval-RMSPE:0.27081\n",
      "[283]\tdtrain-rmse:0.00112\tdtrain-RMSPE:0.27975\tdval-rmse:0.00115\tdval-RMSPE:0.27081\n"
     ]
    },
    {
     "name": "stderr",
     "output_type": "stream",
     "text": [
      "\u001b[32m[I 2021-08-29 20:34:48,831]\u001b[0m Trial 0 finished with value: 0.2708351141333529 and parameters: {'max_depth': 9, 'eta': 0.1, 'lambda': 0.00021752702272772565, 'gamma': 0.00016957320889323264, 'alpha': 0.6727536315726015}. Best is trial 0 with value: 0.2708351141333529.\u001b[0m\n"
     ]
    },
    {
     "name": "stdout",
     "output_type": "stream",
     "text": [
      "[0]\tdtrain-rmse:0.34730\tdtrain-RMSPE:161.69887\tdval-rmse:0.34729\tdval-RMSPE:161.20781\n",
      "[50]\tdtrain-rmse:0.00177\tdtrain-RMSPE:0.67212\tdval-rmse:0.00179\tdval-RMSPE:0.66360\n",
      "[100]\tdtrain-rmse:0.00177\tdtrain-RMSPE:0.67212\tdval-rmse:0.00179\tdval-RMSPE:0.66360\n",
      "[150]\tdtrain-rmse:0.00177\tdtrain-RMSPE:0.67212\tdval-rmse:0.00179\tdval-RMSPE:0.66360\n",
      "[154]\tdtrain-rmse:0.00177\tdtrain-RMSPE:0.67212\tdval-rmse:0.00179\tdval-RMSPE:0.66360\n"
     ]
    },
    {
     "name": "stderr",
     "output_type": "stream",
     "text": [
      "\u001b[32m[I 2021-08-29 20:34:54,775]\u001b[0m Trial 1 finished with value: 0.6635729506493484 and parameters: {'max_depth': 5, 'eta': 0.3, 'lambda': 8.718646811776916e-07, 'gamma': 0.21461108591694744, 'alpha': 0.8331889468812087}. Best is trial 0 with value: 0.2708351141333529.\u001b[0m\n"
     ]
    },
    {
     "name": "stdout",
     "output_type": "stream",
     "text": [
      "[0]\tdtrain-rmse:0.34729\tdtrain-RMSPE:161.61568\tdval-rmse:0.34728\tdval-RMSPE:161.12454\n",
      "[50]\tdtrain-rmse:0.00146\tdtrain-RMSPE:0.51405\tdval-rmse:0.00149\tdval-RMSPE:0.50505\n",
      "[100]\tdtrain-rmse:0.00146\tdtrain-RMSPE:0.51404\tdval-rmse:0.00149\tdval-RMSPE:0.50505\n",
      "[150]\tdtrain-rmse:0.00146\tdtrain-RMSPE:0.51404\tdval-rmse:0.00149\tdval-RMSPE:0.50505\n",
      "[153]\tdtrain-rmse:0.00146\tdtrain-RMSPE:0.51404\tdval-rmse:0.00149\tdval-RMSPE:0.50505\n"
     ]
    },
    {
     "name": "stderr",
     "output_type": "stream",
     "text": [
      "\u001b[32m[I 2021-08-29 20:35:00,778]\u001b[0m Trial 2 finished with value: 0.5050482488868142 and parameters: {'max_depth': 9, 'eta': 0.3, 'lambda': 0.003969702245392738, 'gamma': 0.0670353378375698, 'alpha': 0.029617435434526843}. Best is trial 0 with value: 0.2708351141333529.\u001b[0m\n"
     ]
    },
    {
     "name": "stdout",
     "output_type": "stream",
     "text": [
      "[0]\tdtrain-rmse:0.44652\tdtrain-RMSPE:207.72948\tdval-rmse:0.44651\tdval-RMSPE:207.10010\n",
      "[50]\tdtrain-rmse:0.00265\tdtrain-RMSPE:1.39231\tdval-rmse:0.00266\tdval-RMSPE:1.38073\n",
      "[100]\tdtrain-rmse:0.00123\tdtrain-RMSPE:0.32971\tdval-rmse:0.00125\tdval-RMSPE:0.31993\n",
      "[150]\tdtrain-rmse:0.00120\tdtrain-RMSPE:0.30653\tdval-rmse:0.00123\tdval-RMSPE:0.29683\n",
      "[200]\tdtrain-rmse:0.00119\tdtrain-RMSPE:0.29185\tdval-rmse:0.00121\tdval-RMSPE:0.28204\n",
      "[250]\tdtrain-rmse:0.00118\tdtrain-RMSPE:0.28723\tdval-rmse:0.00121\tdval-RMSPE:0.27768\n",
      "[300]\tdtrain-rmse:0.00118\tdtrain-RMSPE:0.28406\tdval-rmse:0.00120\tdval-RMSPE:0.27443\n",
      "[350]\tdtrain-rmse:0.00117\tdtrain-RMSPE:0.28095\tdval-rmse:0.00120\tdval-RMSPE:0.27148\n",
      "[400]\tdtrain-rmse:0.00117\tdtrain-RMSPE:0.27936\tdval-rmse:0.00120\tdval-RMSPE:0.26993\n",
      "[450]\tdtrain-rmse:0.00117\tdtrain-RMSPE:0.27711\tdval-rmse:0.00119\tdval-RMSPE:0.26809\n",
      "[500]\tdtrain-rmse:0.00116\tdtrain-RMSPE:0.27591\tdval-rmse:0.00119\tdval-RMSPE:0.26698\n",
      "[550]\tdtrain-rmse:0.00116\tdtrain-RMSPE:0.27473\tdval-rmse:0.00119\tdval-RMSPE:0.26615\n",
      "[600]\tdtrain-rmse:0.00116\tdtrain-RMSPE:0.27419\tdval-rmse:0.00119\tdval-RMSPE:0.26574\n",
      "[650]\tdtrain-rmse:0.00116\tdtrain-RMSPE:0.27319\tdval-rmse:0.00119\tdval-RMSPE:0.26487\n",
      "[700]\tdtrain-rmse:0.00115\tdtrain-RMSPE:0.27243\tdval-rmse:0.00118\tdval-RMSPE:0.26427\n",
      "[750]\tdtrain-rmse:0.00115\tdtrain-RMSPE:0.27208\tdval-rmse:0.00118\tdval-RMSPE:0.26402\n",
      "[800]\tdtrain-rmse:0.00115\tdtrain-RMSPE:0.27142\tdval-rmse:0.00118\tdval-RMSPE:0.26351\n",
      "[850]\tdtrain-rmse:0.00115\tdtrain-RMSPE:0.27102\tdval-rmse:0.00118\tdval-RMSPE:0.26329\n",
      "[900]\tdtrain-rmse:0.00115\tdtrain-RMSPE:0.27069\tdval-rmse:0.00118\tdval-RMSPE:0.26294\n",
      "[950]\tdtrain-rmse:0.00115\tdtrain-RMSPE:0.27017\tdval-rmse:0.00118\tdval-RMSPE:0.26262\n",
      "[999]\tdtrain-rmse:0.00115\tdtrain-RMSPE:0.27013\tdval-rmse:0.00118\tdval-RMSPE:0.26249\n"
     ]
    },
    {
     "name": "stderr",
     "output_type": "stream",
     "text": [
      "\u001b[32m[I 2021-08-29 20:35:21,814]\u001b[0m Trial 3 finished with value: 0.2625213991097128 and parameters: {'max_depth': 1, 'eta': 0.1, 'lambda': 0.44939009755142, 'gamma': 1.5184682543387327e-06, 'alpha': 0.0554126480199203}. Best is trial 3 with value: 0.2625213991097128.\u001b[0m\n"
     ]
    },
    {
     "name": "stdout",
     "output_type": "stream",
     "text": [
      "[0]\tdtrain-rmse:0.44652\tdtrain-RMSPE:207.68721\tdval-rmse:0.44651\tdval-RMSPE:207.05794\n",
      "[50]\tdtrain-rmse:0.00254\tdtrain-RMSPE:1.20562\tdval-rmse:0.00255\tdval-RMSPE:1.19547\n",
      "[100]\tdtrain-rmse:0.00100\tdtrain-RMSPE:0.25866\tdval-rmse:0.00109\tdval-RMSPE:0.25045\n",
      "[150]\tdtrain-rmse:0.00096\tdtrain-RMSPE:0.25082\tdval-rmse:0.00107\tdval-RMSPE:0.24400\n",
      "[200]\tdtrain-rmse:0.00093\tdtrain-RMSPE:0.24526\tdval-rmse:0.00105\tdval-RMSPE:0.23990\n",
      "[250]\tdtrain-rmse:0.00091\tdtrain-RMSPE:0.24154\tdval-rmse:0.00105\tdval-RMSPE:0.23777\n",
      "[300]\tdtrain-rmse:0.00089\tdtrain-RMSPE:0.23741\tdval-rmse:0.00104\tdval-RMSPE:0.23488\n",
      "[350]\tdtrain-rmse:0.00087\tdtrain-RMSPE:0.23432\tdval-rmse:0.00104\tdval-RMSPE:0.23340\n",
      "[400]\tdtrain-rmse:0.00085\tdtrain-RMSPE:0.23108\tdval-rmse:0.00103\tdval-RMSPE:0.23165\n",
      "[450]\tdtrain-rmse:0.00084\tdtrain-RMSPE:0.22809\tdval-rmse:0.00103\tdval-RMSPE:0.23020\n",
      "[500]\tdtrain-rmse:0.00082\tdtrain-RMSPE:0.22548\tdval-rmse:0.00103\tdval-RMSPE:0.22859\n",
      "[550]\tdtrain-rmse:0.00081\tdtrain-RMSPE:0.22329\tdval-rmse:0.00102\tdval-RMSPE:0.22786\n",
      "[600]\tdtrain-rmse:0.00080\tdtrain-RMSPE:0.22121\tdval-rmse:0.00102\tdval-RMSPE:0.22689\n",
      "[650]\tdtrain-rmse:0.00079\tdtrain-RMSPE:0.21920\tdval-rmse:0.00102\tdval-RMSPE:0.22605\n",
      "[700]\tdtrain-rmse:0.00077\tdtrain-RMSPE:0.21649\tdval-rmse:0.00102\tdval-RMSPE:0.22564\n",
      "[750]\tdtrain-rmse:0.00076\tdtrain-RMSPE:0.21523\tdval-rmse:0.00102\tdval-RMSPE:0.22528\n",
      "[800]\tdtrain-rmse:0.00076\tdtrain-RMSPE:0.21364\tdval-rmse:0.00102\tdval-RMSPE:0.22456\n",
      "[850]\tdtrain-rmse:0.00075\tdtrain-RMSPE:0.21152\tdval-rmse:0.00101\tdval-RMSPE:0.22398\n",
      "[900]\tdtrain-rmse:0.00074\tdtrain-RMSPE:0.21018\tdval-rmse:0.00101\tdval-RMSPE:0.22355\n",
      "[950]\tdtrain-rmse:0.00073\tdtrain-RMSPE:0.20887\tdval-rmse:0.00101\tdval-RMSPE:0.22332\n",
      "[999]\tdtrain-rmse:0.00072\tdtrain-RMSPE:0.20721\tdval-rmse:0.00101\tdval-RMSPE:0.22287\n"
     ]
    },
    {
     "name": "stderr",
     "output_type": "stream",
     "text": [
      "\u001b[32m[I 2021-08-29 20:36:02,667]\u001b[0m Trial 4 finished with value: 0.2228617890081164 and parameters: {'max_depth': 5, 'eta': 0.1, 'lambda': 1.3960961083790106e-08, 'gamma': 4.800060194598112e-07, 'alpha': 2.0504669617978936e-06}. Best is trial 4 with value: 0.2228617890081164.\u001b[0m\n"
     ]
    },
    {
     "name": "stdout",
     "output_type": "stream",
     "text": [
      "[0]\tdtrain-rmse:0.34730\tdtrain-RMSPE:161.69313\tdval-rmse:0.34729\tdval-RMSPE:161.20210\n",
      "[50]\tdtrain-rmse:0.00110\tdtrain-RMSPE:0.27435\tdval-rmse:0.00114\tdval-RMSPE:0.26512\n",
      "[100]\tdtrain-rmse:0.00110\tdtrain-RMSPE:0.27435\tdval-rmse:0.00114\tdval-RMSPE:0.26512\n",
      "[150]\tdtrain-rmse:0.00110\tdtrain-RMSPE:0.27435\tdval-rmse:0.00114\tdval-RMSPE:0.26512\n"
     ]
    },
    {
     "name": "stderr",
     "output_type": "stream",
     "text": [
      "\u001b[32m[I 2021-08-29 20:36:09,365]\u001b[0m Trial 5 finished with value: 0.265115794810942 and parameters: {'max_depth': 4, 'eta': 0.3, 'lambda': 0.24304296725602437, 'gamma': 9.694276260609387e-05, 'alpha': 0.29217749885389344}. Best is trial 4 with value: 0.2228617890081164.\u001b[0m\n"
     ]
    },
    {
     "name": "stdout",
     "output_type": "stream",
     "text": [
      "[0]\tdtrain-rmse:0.44652\tdtrain-RMSPE:207.69168\tdval-rmse:0.44651\tdval-RMSPE:207.06239\n",
      "[50]\tdtrain-rmse:0.00257\tdtrain-RMSPE:1.23783\tdval-rmse:0.00258\tdval-RMSPE:1.22637\n",
      "[100]\tdtrain-rmse:0.00114\tdtrain-RMSPE:0.28942\tdval-rmse:0.00117\tdval-RMSPE:0.27817\n",
      "[150]\tdtrain-rmse:0.00114\tdtrain-RMSPE:0.28680\tdval-rmse:0.00117\tdval-RMSPE:0.27558\n",
      "[200]\tdtrain-rmse:0.00114\tdtrain-RMSPE:0.28679\tdval-rmse:0.00117\tdval-RMSPE:0.27557\n",
      "[250]\tdtrain-rmse:0.00114\tdtrain-RMSPE:0.28679\tdval-rmse:0.00117\tdval-RMSPE:0.27557\n",
      "[300]\tdtrain-rmse:0.00114\tdtrain-RMSPE:0.28679\tdval-rmse:0.00117\tdval-RMSPE:0.27557\n",
      "[305]\tdtrain-rmse:0.00114\tdtrain-RMSPE:0.28679\tdval-rmse:0.00117\tdval-RMSPE:0.27557\n"
     ]
    },
    {
     "name": "stderr",
     "output_type": "stream",
     "text": [
      "\u001b[32m[I 2021-08-29 20:36:18,560]\u001b[0m Trial 6 finished with value: 0.27556686645899287 and parameters: {'max_depth': 3, 'eta': 0.1, 'lambda': 0.00033189848971967455, 'gamma': 0.0005371979175652795, 'alpha': 1.692388683580534e-08}. Best is trial 4 with value: 0.2228617890081164.\u001b[0m\n"
     ]
    },
    {
     "name": "stdout",
     "output_type": "stream",
     "text": [
      "[0]\tdtrain-rmse:0.34729\tdtrain-RMSPE:161.58096\tdval-rmse:0.34728\tdval-RMSPE:161.08986\n",
      "[50]\tdtrain-rmse:0.00109\tdtrain-RMSPE:0.27059\tdval-rmse:0.00114\tdval-RMSPE:0.26164\n",
      "[100]\tdtrain-rmse:0.00104\tdtrain-RMSPE:0.26260\tdval-rmse:0.00110\tdval-RMSPE:0.25313\n",
      "[150]\tdtrain-rmse:0.00101\tdtrain-RMSPE:0.25599\tdval-rmse:0.00108\tdval-RMSPE:0.24796\n",
      "[200]\tdtrain-rmse:0.00099\tdtrain-RMSPE:0.24961\tdval-rmse:0.00106\tdval-RMSPE:0.24284\n",
      "[250]\tdtrain-rmse:0.00097\tdtrain-RMSPE:0.24515\tdval-rmse:0.00105\tdval-RMSPE:0.23936\n",
      "[300]\tdtrain-rmse:0.00095\tdtrain-RMSPE:0.24165\tdval-rmse:0.00105\tdval-RMSPE:0.23666\n",
      "[350]\tdtrain-rmse:0.00094\tdtrain-RMSPE:0.23936\tdval-rmse:0.00104\tdval-RMSPE:0.23472\n",
      "[400]\tdtrain-rmse:0.00093\tdtrain-RMSPE:0.23566\tdval-rmse:0.00104\tdval-RMSPE:0.23208\n",
      "[450]\tdtrain-rmse:0.00092\tdtrain-RMSPE:0.23366\tdval-rmse:0.00103\tdval-RMSPE:0.23053\n",
      "[500]\tdtrain-rmse:0.00091\tdtrain-RMSPE:0.23126\tdval-rmse:0.00103\tdval-RMSPE:0.22885\n",
      "[550]\tdtrain-rmse:0.00090\tdtrain-RMSPE:0.22990\tdval-rmse:0.00103\tdval-RMSPE:0.22792\n",
      "[600]\tdtrain-rmse:0.00089\tdtrain-RMSPE:0.22775\tdval-rmse:0.00103\tdval-RMSPE:0.22653\n",
      "[650]\tdtrain-rmse:0.00088\tdtrain-RMSPE:0.22672\tdval-rmse:0.00102\tdval-RMSPE:0.22555\n",
      "[700]\tdtrain-rmse:0.00087\tdtrain-RMSPE:0.22526\tdval-rmse:0.00102\tdval-RMSPE:0.22451\n",
      "[750]\tdtrain-rmse:0.00086\tdtrain-RMSPE:0.22396\tdval-rmse:0.00102\tdval-RMSPE:0.22379\n",
      "[800]\tdtrain-rmse:0.00086\tdtrain-RMSPE:0.22232\tdval-rmse:0.00102\tdval-RMSPE:0.22329\n",
      "[850]\tdtrain-rmse:0.00085\tdtrain-RMSPE:0.22203\tdval-rmse:0.00102\tdval-RMSPE:0.22306\n",
      "[900]\tdtrain-rmse:0.00085\tdtrain-RMSPE:0.22090\tdval-rmse:0.00102\tdval-RMSPE:0.22234\n",
      "[950]\tdtrain-rmse:0.00084\tdtrain-RMSPE:0.22024\tdval-rmse:0.00102\tdval-RMSPE:0.22211\n",
      "[999]\tdtrain-rmse:0.00083\tdtrain-RMSPE:0.21904\tdval-rmse:0.00102\tdval-RMSPE:0.22158\n"
     ]
    },
    {
     "name": "stderr",
     "output_type": "stream",
     "text": [
      "\u001b[32m[I 2021-08-29 20:36:48,009]\u001b[0m Trial 7 finished with value: 0.22156770514724022 and parameters: {'max_depth': 3, 'eta': 0.3, 'lambda': 0.0007366467875840789, 'gamma': 6.735612546844864e-07, 'alpha': 0.012545539058236618}. Best is trial 7 with value: 0.22156770514724022.\u001b[0m\n"
     ]
    },
    {
     "name": "stdout",
     "output_type": "stream",
     "text": [
      "[0]\tdtrain-rmse:0.34729\tdtrain-RMSPE:161.61278\tdval-rmse:0.34728\tdval-RMSPE:161.12155\n",
      "[50]\tdtrain-rmse:0.00178\tdtrain-RMSPE:0.69078\tdval-rmse:0.00180\tdval-RMSPE:0.68225\n",
      "[100]\tdtrain-rmse:0.00178\tdtrain-RMSPE:0.69078\tdval-rmse:0.00180\tdval-RMSPE:0.68225\n",
      "[150]\tdtrain-rmse:0.00178\tdtrain-RMSPE:0.69078\tdval-rmse:0.00180\tdval-RMSPE:0.68225\n",
      "[155]\tdtrain-rmse:0.00178\tdtrain-RMSPE:0.69078\tdval-rmse:0.00180\tdval-RMSPE:0.68225\n"
     ]
    },
    {
     "name": "stderr",
     "output_type": "stream",
     "text": [
      "\u001b[32m[I 2021-08-29 20:36:54,083]\u001b[0m Trial 8 finished with value: 0.6822288260990887 and parameters: {'max_depth': 6, 'eta': 0.3, 'lambda': 2.389149387445347e-06, 'gamma': 0.24727395225923635, 'alpha': 7.934042735757033e-06}. Best is trial 7 with value: 0.22156770514724022.\u001b[0m\n"
     ]
    },
    {
     "name": "stdout",
     "output_type": "stream",
     "text": [
      "[0]\tdtrain-rmse:0.34729\tdtrain-RMSPE:161.61497\tdval-rmse:0.34728\tdval-RMSPE:161.12386\n",
      "[50]\tdtrain-rmse:0.00110\tdtrain-RMSPE:0.27012\tdval-rmse:0.00114\tdval-RMSPE:0.26265\n",
      "[100]\tdtrain-rmse:0.00104\tdtrain-RMSPE:0.26300\tdval-rmse:0.00110\tdval-RMSPE:0.25503\n",
      "[150]\tdtrain-rmse:0.00101\tdtrain-RMSPE:0.25640\tdval-rmse:0.00108\tdval-RMSPE:0.24998\n",
      "[200]\tdtrain-rmse:0.00098\tdtrain-RMSPE:0.25101\tdval-rmse:0.00107\tdval-RMSPE:0.24542\n",
      "[250]\tdtrain-rmse:0.00097\tdtrain-RMSPE:0.24611\tdval-rmse:0.00106\tdval-RMSPE:0.24169\n",
      "[300]\tdtrain-rmse:0.00095\tdtrain-RMSPE:0.24282\tdval-rmse:0.00105\tdval-RMSPE:0.23891\n",
      "[350]\tdtrain-rmse:0.00093\tdtrain-RMSPE:0.24121\tdval-rmse:0.00105\tdval-RMSPE:0.23786\n",
      "[400]\tdtrain-rmse:0.00092\tdtrain-RMSPE:0.23831\tdval-rmse:0.00104\tdval-RMSPE:0.23572\n",
      "[450]\tdtrain-rmse:0.00091\tdtrain-RMSPE:0.23594\tdval-rmse:0.00104\tdval-RMSPE:0.23461\n",
      "[500]\tdtrain-rmse:0.00090\tdtrain-RMSPE:0.23323\tdval-rmse:0.00104\tdval-RMSPE:0.23296\n",
      "[550]\tdtrain-rmse:0.00089\tdtrain-RMSPE:0.23093\tdval-rmse:0.00103\tdval-RMSPE:0.23136\n",
      "[600]\tdtrain-rmse:0.00088\tdtrain-RMSPE:0.23011\tdval-rmse:0.00103\tdval-RMSPE:0.23053\n",
      "[650]\tdtrain-rmse:0.00087\tdtrain-RMSPE:0.22884\tdval-rmse:0.00103\tdval-RMSPE:0.22999\n",
      "[700]\tdtrain-rmse:0.00086\tdtrain-RMSPE:0.22731\tdval-rmse:0.00103\tdval-RMSPE:0.22947\n",
      "[750]\tdtrain-rmse:0.00085\tdtrain-RMSPE:0.22543\tdval-rmse:0.00103\tdval-RMSPE:0.22873\n",
      "[800]\tdtrain-rmse:0.00085\tdtrain-RMSPE:0.22368\tdval-rmse:0.00103\tdval-RMSPE:0.22794\n",
      "[850]\tdtrain-rmse:0.00084\tdtrain-RMSPE:0.22278\tdval-rmse:0.00103\tdval-RMSPE:0.22743\n",
      "[900]\tdtrain-rmse:0.00083\tdtrain-RMSPE:0.22164\tdval-rmse:0.00103\tdval-RMSPE:0.22708\n",
      "[950]\tdtrain-rmse:0.00082\tdtrain-RMSPE:0.22018\tdval-rmse:0.00103\tdval-RMSPE:0.22636\n",
      "[999]\tdtrain-rmse:0.00082\tdtrain-RMSPE:0.21874\tdval-rmse:0.00103\tdval-RMSPE:0.22576\n"
     ]
    },
    {
     "name": "stderr",
     "output_type": "stream",
     "text": [
      "\u001b[32m[I 2021-08-29 20:37:23,224]\u001b[0m Trial 9 finished with value: 0.22574609443558577 and parameters: {'max_depth': 3, 'eta': 0.3, 'lambda': 0.46904730531345123, 'gamma': 1.7386831227974267e-08, 'alpha': 3.498829717015561e-07}. Best is trial 7 with value: 0.22156770514724022.\u001b[0m\n"
     ]
    },
    {
     "name": "stdout",
     "output_type": "stream",
     "text": [
      "[0]\tdtrain-rmse:0.34730\tdtrain-RMSPE:161.69983\tdval-rmse:0.34729\tdval-RMSPE:161.20874\n",
      "[50]\tdtrain-rmse:0.00124\tdtrain-RMSPE:0.30754\tdval-rmse:0.00127\tdval-RMSPE:0.29892\n",
      "[100]\tdtrain-rmse:0.00121\tdtrain-RMSPE:0.29308\tdval-rmse:0.00124\tdval-RMSPE:0.28385\n",
      "[150]\tdtrain-rmse:0.00120\tdtrain-RMSPE:0.28719\tdval-rmse:0.00123\tdval-RMSPE:0.27850\n",
      "[200]\tdtrain-rmse:0.00119\tdtrain-RMSPE:0.28419\tdval-rmse:0.00122\tdval-RMSPE:0.27516\n",
      "[250]\tdtrain-rmse:0.00118\tdtrain-RMSPE:0.28100\tdval-rmse:0.00121\tdval-RMSPE:0.27240\n",
      "[300]\tdtrain-rmse:0.00117\tdtrain-RMSPE:0.27897\tdval-rmse:0.00120\tdval-RMSPE:0.27082\n",
      "[350]\tdtrain-rmse:0.00117\tdtrain-RMSPE:0.27799\tdval-rmse:0.00120\tdval-RMSPE:0.26979\n",
      "[400]\tdtrain-rmse:0.00116\tdtrain-RMSPE:0.27459\tdval-rmse:0.00119\tdval-RMSPE:0.26781\n",
      "[450]\tdtrain-rmse:0.00116\tdtrain-RMSPE:0.27438\tdval-rmse:0.00119\tdval-RMSPE:0.26741\n",
      "[500]\tdtrain-rmse:0.00115\tdtrain-RMSPE:0.27399\tdval-rmse:0.00118\tdval-RMSPE:0.26698\n",
      "[550]\tdtrain-rmse:0.00115\tdtrain-RMSPE:0.27332\tdval-rmse:0.00118\tdval-RMSPE:0.26653\n",
      "[600]\tdtrain-rmse:0.00114\tdtrain-RMSPE:0.27137\tdval-rmse:0.00118\tdval-RMSPE:0.26530\n",
      "[650]\tdtrain-rmse:0.00114\tdtrain-RMSPE:0.27097\tdval-rmse:0.00117\tdval-RMSPE:0.26472\n",
      "[700]\tdtrain-rmse:0.00114\tdtrain-RMSPE:0.27023\tdval-rmse:0.00117\tdval-RMSPE:0.26430\n",
      "[750]\tdtrain-rmse:0.00114\tdtrain-RMSPE:0.26928\tdval-rmse:0.00117\tdval-RMSPE:0.26334\n",
      "[800]\tdtrain-rmse:0.00113\tdtrain-RMSPE:0.26932\tdval-rmse:0.00117\tdval-RMSPE:0.26311\n",
      "[850]\tdtrain-rmse:0.00113\tdtrain-RMSPE:0.26885\tdval-rmse:0.00116\tdval-RMSPE:0.26277\n",
      "[900]\tdtrain-rmse:0.00113\tdtrain-RMSPE:0.26720\tdval-rmse:0.00116\tdval-RMSPE:0.26189\n",
      "[950]\tdtrain-rmse:0.00113\tdtrain-RMSPE:0.26690\tdval-rmse:0.00116\tdval-RMSPE:0.26157\n",
      "[999]\tdtrain-rmse:0.00112\tdtrain-RMSPE:0.26692\tdval-rmse:0.00116\tdval-RMSPE:0.26155\n"
     ]
    },
    {
     "name": "stderr",
     "output_type": "stream",
     "text": [
      "\u001b[32m[I 2021-08-29 20:37:44,508]\u001b[0m Trial 10 finished with value: 0.2615663550046243 and parameters: {'max_depth': 1, 'eta': 0.3, 'lambda': 0.006394084966135577, 'gamma': 1.492856912831938e-08, 'alpha': 0.0014681493857262608}. Best is trial 7 with value: 0.22156770514724022.\u001b[0m\n"
     ]
    },
    {
     "name": "stdout",
     "output_type": "stream",
     "text": [
      "[0]\tdtrain-rmse:0.44652\tdtrain-RMSPE:207.68642\tdval-rmse:0.44651\tdval-RMSPE:207.05716\n",
      "[50]\tdtrain-rmse:0.00249\tdtrain-RMSPE:1.19305\tdval-rmse:0.00253\tdval-RMSPE:1.18441\n",
      "[100]\tdtrain-rmse:0.00087\tdtrain-RMSPE:0.24226\tdval-rmse:0.00105\tdval-RMSPE:0.24013\n",
      "[150]\tdtrain-rmse:0.00082\tdtrain-RMSPE:0.23084\tdval-rmse:0.00104\tdval-RMSPE:0.23304\n",
      "[200]\tdtrain-rmse:0.00078\tdtrain-RMSPE:0.22217\tdval-rmse:0.00103\tdval-RMSPE:0.22962\n",
      "[250]\tdtrain-rmse:0.00074\tdtrain-RMSPE:0.21471\tdval-rmse:0.00102\tdval-RMSPE:0.22672\n",
      "[300]\tdtrain-rmse:0.00071\tdtrain-RMSPE:0.20975\tdval-rmse:0.00102\tdval-RMSPE:0.22500\n",
      "[350]\tdtrain-rmse:0.00069\tdtrain-RMSPE:0.20259\tdval-rmse:0.00101\tdval-RMSPE:0.22365\n"
     ]
    },
    {
     "name": "stderr",
     "output_type": "stream",
     "text": [
      "/home/lhk/.local/lib/python3.8/site-packages/pandas/core/indexing.py:1667: PerformanceWarning: DataFrame is highly fragmented.  This is usually the result of calling `frame.insert` many times, which has poor performance.  Consider joining all columns at once using pd.concat(axis=1) instead.  To get a de-fragmented frame, use `newframe = frame.copy()`\n",
      "  self.obj[key] = value\n",
      "/tmp/ipykernel_399335/2304823975.py:2: RuntimeWarning: invalid value encountered in sqrt\n",
      "/tmp/ipykernel_399335/2304823975.py:2: RuntimeWarning: invalid value encountered in sqrt\n",
      "/tmp/ipykernel_399335/2304823975.py:2: RuntimeWarning: invalid value encountered in sqrt\n",
      "/tmp/ipykernel_399335/2304823975.py:2: RuntimeWarning: invalid value encountered in sqrt\n"
     ]
    },
    {
     "name": "stdout",
     "output_type": "stream",
     "text": [
      "[400]\tdtrain-rmse:0.00067\tdtrain-RMSPE:0.19816\tdval-rmse:0.00101\tdval-RMSPE:0.22264\n"
     ]
    },
    {
     "name": "stderr",
     "output_type": "stream",
     "text": [
      "/home/lhk/.local/lib/python3.8/site-packages/pandas/core/indexing.py:1667: PerformanceWarning: DataFrame is highly fragmented.  This is usually the result of calling `frame.insert` many times, which has poor performance.  Consider joining all columns at once using pd.concat(axis=1) instead.  To get a de-fragmented frame, use `newframe = frame.copy()`\n",
      "  self.obj[key] = value\n",
      "/tmp/ipykernel_399335/2304823975.py:2: RuntimeWarning: invalid value encountered in sqrt\n",
      "/tmp/ipykernel_399335/2304823975.py:2: RuntimeWarning: invalid value encountered in sqrt\n",
      "/tmp/ipykernel_399335/2304823975.py:2: RuntimeWarning: invalid value encountered in sqrt\n",
      "/tmp/ipykernel_399335/2304823975.py:2: RuntimeWarning: invalid value encountered in sqrt\n",
      "/tmp/ipykernel_399335/2304823975.py:2: RuntimeWarning: invalid value encountered in sqrt\n",
      "/home/lhk/.local/lib/python3.8/site-packages/pandas/core/indexing.py:1667: PerformanceWarning: DataFrame is highly fragmented.  This is usually the result of calling `frame.insert` many times, which has poor performance.  Consider joining all columns at once using pd.concat(axis=1) instead.  To get a de-fragmented frame, use `newframe = frame.copy()`\n",
      "  self.obj[key] = value\n",
      "/tmp/ipykernel_399335/2304823975.py:2: RuntimeWarning: invalid value encountered in sqrt\n",
      "/tmp/ipykernel_399335/2304823975.py:2: RuntimeWarning: invalid value encountered in sqrt\n",
      "/tmp/ipykernel_399335/2304823975.py:2: RuntimeWarning: invalid value encountered in sqrt\n",
      "/home/lhk/.local/lib/python3.8/site-packages/pandas/core/indexing.py:1667: PerformanceWarning: DataFrame is highly fragmented.  This is usually the result of calling `frame.insert` many times, which has poor performance.  Consider joining all columns at once using pd.concat(axis=1) instead.  To get a de-fragmented frame, use `newframe = frame.copy()`\n",
      "  self.obj[key] = value\n",
      "/tmp/ipykernel_399335/2304823975.py:2: RuntimeWarning: invalid value encountered in sqrt\n",
      "/tmp/ipykernel_399335/2304823975.py:2: RuntimeWarning: invalid value encountered in sqrt\n",
      "/tmp/ipykernel_399335/2304823975.py:2: RuntimeWarning: invalid value encountered in sqrt\n",
      "/tmp/ipykernel_399335/2304823975.py:2: RuntimeWarning: invalid value encountered in sqrt\n",
      "/tmp/ipykernel_399335/2304823975.py:2: RuntimeWarning: invalid value encountered in sqrt\n"
     ]
    },
    {
     "name": "stdout",
     "output_type": "stream",
     "text": [
      "[450]\tdtrain-rmse:0.00065\tdtrain-RMSPE:0.19407\tdval-rmse:0.00101\tdval-RMSPE:0.22155\n"
     ]
    },
    {
     "name": "stderr",
     "output_type": "stream",
     "text": [
      "/home/lhk/.local/lib/python3.8/site-packages/pandas/core/indexing.py:1667: PerformanceWarning: DataFrame is highly fragmented.  This is usually the result of calling `frame.insert` many times, which has poor performance.  Consider joining all columns at once using pd.concat(axis=1) instead.  To get a de-fragmented frame, use `newframe = frame.copy()`\n",
      "  self.obj[key] = value\n",
      "/tmp/ipykernel_399335/2304823975.py:2: RuntimeWarning: invalid value encountered in sqrt\n",
      "/tmp/ipykernel_399335/2304823975.py:2: RuntimeWarning: invalid value encountered in sqrt\n",
      "/tmp/ipykernel_399335/2304823975.py:2: RuntimeWarning: invalid value encountered in sqrt\n",
      "/tmp/ipykernel_399335/2304823975.py:2: RuntimeWarning: invalid value encountered in sqrt\n",
      "/tmp/ipykernel_399335/2304823975.py:2: RuntimeWarning: invalid value encountered in sqrt\n"
     ]
    },
    {
     "name": "stdout",
     "output_type": "stream",
     "text": [
      "[500]\tdtrain-rmse:0.00063\tdtrain-RMSPE:0.19088\tdval-rmse:0.00101\tdval-RMSPE:0.22095\n"
     ]
    },
    {
     "name": "stderr",
     "output_type": "stream",
     "text": [
      "/home/lhk/.local/lib/python3.8/site-packages/pandas/core/indexing.py:1667: PerformanceWarning: DataFrame is highly fragmented.  This is usually the result of calling `frame.insert` many times, which has poor performance.  Consider joining all columns at once using pd.concat(axis=1) instead.  To get a de-fragmented frame, use `newframe = frame.copy()`\n",
      "  self.obj[key] = value\n",
      "/tmp/ipykernel_399335/2304823975.py:2: RuntimeWarning: invalid value encountered in sqrt\n",
      "/tmp/ipykernel_399335/2304823975.py:2: RuntimeWarning: invalid value encountered in sqrt\n",
      "/tmp/ipykernel_399335/2304823975.py:2: RuntimeWarning: invalid value encountered in sqrt\n",
      "/tmp/ipykernel_399335/2304823975.py:2: RuntimeWarning: invalid value encountered in sqrt\n",
      "/home/lhk/.local/lib/python3.8/site-packages/pandas/core/indexing.py:1667: PerformanceWarning: DataFrame is highly fragmented.  This is usually the result of calling `frame.insert` many times, which has poor performance.  Consider joining all columns at once using pd.concat(axis=1) instead.  To get a de-fragmented frame, use `newframe = frame.copy()`\n",
      "  self.obj[key] = value\n",
      "/tmp/ipykernel_399335/2304823975.py:2: RuntimeWarning: invalid value encountered in sqrt\n",
      "/tmp/ipykernel_399335/2304823975.py:2: RuntimeWarning: invalid value encountered in sqrt\n",
      "/tmp/ipykernel_399335/2304823975.py:2: RuntimeWarning: invalid value encountered in sqrt\n",
      "/tmp/ipykernel_399335/2304823975.py:2: RuntimeWarning: invalid value encountered in sqrt\n",
      "/tmp/ipykernel_399335/2304823975.py:2: RuntimeWarning: invalid value encountered in sqrt\n"
     ]
    },
    {
     "name": "stdout",
     "output_type": "stream",
     "text": [
      "[550]\tdtrain-rmse:0.00061\tdtrain-RMSPE:0.18676\tdval-rmse:0.00101\tdval-RMSPE:0.22083\n",
      "[600]\tdtrain-rmse:0.00060\tdtrain-RMSPE:0.18371\tdval-rmse:0.00101\tdval-RMSPE:0.22043\n",
      "[650]\tdtrain-rmse:0.00058\tdtrain-RMSPE:0.18110\tdval-rmse:0.00101\tdval-RMSPE:0.22029\n"
     ]
    },
    {
     "name": "stderr",
     "output_type": "stream",
     "text": [
      "/home/lhk/.local/lib/python3.8/site-packages/pandas/core/indexing.py:1667: PerformanceWarning: DataFrame is highly fragmented.  This is usually the result of calling `frame.insert` many times, which has poor performance.  Consider joining all columns at once using pd.concat(axis=1) instead.  To get a de-fragmented frame, use `newframe = frame.copy()`\n",
      "  self.obj[key] = value\n",
      "/tmp/ipykernel_399335/2304823975.py:2: RuntimeWarning: invalid value encountered in sqrt\n",
      "/tmp/ipykernel_399335/2304823975.py:2: RuntimeWarning: invalid value encountered in sqrt\n",
      "/tmp/ipykernel_399335/2304823975.py:2: RuntimeWarning: invalid value encountered in sqrt\n",
      "/tmp/ipykernel_399335/2304823975.py:2: RuntimeWarning: invalid value encountered in sqrt\n",
      "/tmp/ipykernel_399335/2304823975.py:2: RuntimeWarning: invalid value encountered in sqrt\n",
      "/home/lhk/.local/lib/python3.8/site-packages/pandas/core/indexing.py:1667: PerformanceWarning: DataFrame is highly fragmented.  This is usually the result of calling `frame.insert` many times, which has poor performance.  Consider joining all columns at once using pd.concat(axis=1) instead.  To get a de-fragmented frame, use `newframe = frame.copy()`\n",
      "  self.obj[key] = value\n",
      "/tmp/ipykernel_399335/2304823975.py:2: RuntimeWarning: invalid value encountered in sqrt\n",
      "/tmp/ipykernel_399335/2304823975.py:2: RuntimeWarning: invalid value encountered in sqrt\n",
      "/tmp/ipykernel_399335/2304823975.py:2: RuntimeWarning: invalid value encountered in sqrt\n",
      "/tmp/ipykernel_399335/2304823975.py:2: RuntimeWarning: invalid value encountered in sqrt\n",
      "/home/lhk/.local/lib/python3.8/site-packages/pandas/core/indexing.py:1667: PerformanceWarning: DataFrame is highly fragmented.  This is usually the result of calling `frame.insert` many times, which has poor performance.  Consider joining all columns at once using pd.concat(axis=1) instead.  To get a de-fragmented frame, use `newframe = frame.copy()`\n",
      "  self.obj[key] = value\n",
      "/tmp/ipykernel_399335/2304823975.py:2: RuntimeWarning: invalid value encountered in sqrt\n",
      "/tmp/ipykernel_399335/2304823975.py:2: RuntimeWarning: invalid value encountered in sqrt\n",
      "/home/lhk/.local/lib/python3.8/site-packages/pandas/core/indexing.py:1667: PerformanceWarning: DataFrame is highly fragmented.  This is usually the result of calling `frame.insert` many times, which has poor performance.  Consider joining all columns at once using pd.concat(axis=1) instead.  To get a de-fragmented frame, use `newframe = frame.copy()`\n",
      "  self.obj[key] = value\n",
      "/tmp/ipykernel_399335/2304823975.py:2: RuntimeWarning: invalid value encountered in sqrt\n",
      "/tmp/ipykernel_399335/2304823975.py:2: RuntimeWarning: invalid value encountered in sqrt\n",
      "/tmp/ipykernel_399335/2304823975.py:2: RuntimeWarning: invalid value encountered in sqrt\n",
      "/tmp/ipykernel_399335/2304823975.py:2: RuntimeWarning: invalid value encountered in sqrt\n"
     ]
    },
    {
     "name": "stdout",
     "output_type": "stream",
     "text": [
      "[700]\tdtrain-rmse:0.00057\tdtrain-RMSPE:0.17849\tdval-rmse:0.00101\tdval-RMSPE:0.22006\n",
      "[750]\tdtrain-rmse:0.00057\tdtrain-RMSPE:0.17849\tdval-rmse:0.00101\tdval-RMSPE:0.22007\n",
      "[799]\tdtrain-rmse:0.00057\tdtrain-RMSPE:0.17849\tdval-rmse:0.00101\tdval-RMSPE:0.22007\n"
     ]
    },
    {
     "name": "stderr",
     "output_type": "stream",
     "text": [
      "\u001b[32m[I 2021-08-29 20:38:36,898]\u001b[0m Trial 11 finished with value: 0.220024617915384 and parameters: {'max_depth': 7, 'eta': 0.1, 'lambda': 2.0145482156641235e-08, 'gamma': 6.384678423873547e-07, 'alpha': 0.00010917945615104866}. Best is trial 11 with value: 0.220024617915384.\u001b[0m\n"
     ]
    },
    {
     "name": "stdout",
     "output_type": "stream",
     "text": [
      "[0]\tdtrain-rmse:0.44652\tdtrain-RMSPE:207.68770\tdval-rmse:0.44651\tdval-RMSPE:207.05829\n"
     ]
    },
    {
     "name": "stderr",
     "output_type": "stream",
     "text": [
      "/home/lhk/.local/lib/python3.8/site-packages/pandas/core/indexing.py:1667: PerformanceWarning: DataFrame is highly fragmented.  This is usually the result of calling `frame.insert` many times, which has poor performance.  Consider joining all columns at once using pd.concat(axis=1) instead.  To get a de-fragmented frame, use `newframe = frame.copy()`\n",
      "  self.obj[key] = value\n",
      "/tmp/ipykernel_399335/2304823975.py:2: RuntimeWarning: invalid value encountered in sqrt\n",
      "/tmp/ipykernel_399335/2304823975.py:2: RuntimeWarning: invalid value encountered in sqrt\n",
      "/tmp/ipykernel_399335/2304823975.py:2: RuntimeWarning: invalid value encountered in sqrt\n"
     ]
    },
    {
     "name": "stdout",
     "output_type": "stream",
     "text": [
      "[50]\tdtrain-rmse:0.00250\tdtrain-RMSPE:1.19699\tdval-rmse:0.00253\tdval-RMSPE:1.18757\n",
      "[100]\tdtrain-rmse:0.00089\tdtrain-RMSPE:0.24269\tdval-rmse:0.00105\tdval-RMSPE:0.24082\n",
      "[150]\tdtrain-rmse:0.00083\tdtrain-RMSPE:0.23017\tdval-rmse:0.00103\tdval-RMSPE:0.23330\n",
      "[200]\tdtrain-rmse:0.00078\tdtrain-RMSPE:0.22168\tdval-rmse:0.00102\tdval-RMSPE:0.22951\n",
      "[250]\tdtrain-rmse:0.00075\tdtrain-RMSPE:0.21538\tdval-rmse:0.00102\tdval-RMSPE:0.22706\n",
      "[300]\tdtrain-rmse:0.00072\tdtrain-RMSPE:0.20948\tdval-rmse:0.00101\tdval-RMSPE:0.22515\n",
      "[350]\tdtrain-rmse:0.00069\tdtrain-RMSPE:0.20430\tdval-rmse:0.00101\tdval-RMSPE:0.22379\n",
      "[400]\tdtrain-rmse:0.00067\tdtrain-RMSPE:0.19977\tdval-rmse:0.00101\tdval-RMSPE:0.22255\n",
      "[450]\tdtrain-rmse:0.00065\tdtrain-RMSPE:0.19570\tdval-rmse:0.00101\tdval-RMSPE:0.22157\n",
      "[500]\tdtrain-rmse:0.00064\tdtrain-RMSPE:0.19418\tdval-rmse:0.00101\tdval-RMSPE:0.22149\n",
      "[550]\tdtrain-rmse:0.00064\tdtrain-RMSPE:0.19418\tdval-rmse:0.00101\tdval-RMSPE:0.22149\n",
      "[579]\tdtrain-rmse:0.00064\tdtrain-RMSPE:0.19418\tdval-rmse:0.00101\tdval-RMSPE:0.22149\n"
     ]
    },
    {
     "name": "stderr",
     "output_type": "stream",
     "text": [
      "\u001b[32m[I 2021-08-29 20:39:15,616]\u001b[0m Trial 12 finished with value: 0.22150783700769858 and parameters: {'max_depth': 7, 'eta': 0.1, 'lambda': 4.148953369068239e-06, 'gamma': 1.861520021530466e-06, 'alpha': 0.0011337772301612933}. Best is trial 11 with value: 0.220024617915384.\u001b[0m\n"
     ]
    },
    {
     "name": "stdout",
     "output_type": "stream",
     "text": [
      "[0]\tdtrain-rmse:0.44652\tdtrain-RMSPE:207.68690\tdval-rmse:0.44651\tdval-RMSPE:207.05757\n",
      "[50]\tdtrain-rmse:0.00249\tdtrain-RMSPE:1.19283\tdval-rmse:0.00253\tdval-RMSPE:1.18413\n",
      "[100]\tdtrain-rmse:0.00088\tdtrain-RMSPE:0.24342\tdval-rmse:0.00105\tdval-RMSPE:0.24058\n",
      "[150]\tdtrain-rmse:0.00082\tdtrain-RMSPE:0.23022\tdval-rmse:0.00104\tdval-RMSPE:0.23237\n",
      "[200]\tdtrain-rmse:0.00078\tdtrain-RMSPE:0.22225\tdval-rmse:0.00103\tdval-RMSPE:0.22898\n",
      "[250]\tdtrain-rmse:0.00074\tdtrain-RMSPE:0.21472\tdval-rmse:0.00102\tdval-RMSPE:0.22592\n",
      "[300]\tdtrain-rmse:0.00072\tdtrain-RMSPE:0.20950\tdval-rmse:0.00102\tdval-RMSPE:0.22462\n",
      "[350]\tdtrain-rmse:0.00069\tdtrain-RMSPE:0.20463\tdval-rmse:0.00101\tdval-RMSPE:0.22300\n",
      "[400]\tdtrain-rmse:0.00069\tdtrain-RMSPE:0.20354\tdval-rmse:0.00101\tdval-RMSPE:0.22296\n",
      "[450]\tdtrain-rmse:0.00069\tdtrain-RMSPE:0.20354\tdval-rmse:0.00101\tdval-RMSPE:0.22296\n",
      "[459]\tdtrain-rmse:0.00069\tdtrain-RMSPE:0.20354\tdval-rmse:0.00101\tdval-RMSPE:0.22296\n"
     ]
    },
    {
     "name": "stderr",
     "output_type": "stream",
     "text": [
      "\u001b[32m[I 2021-08-29 20:39:45,348]\u001b[0m Trial 13 finished with value: 0.22294976127044555 and parameters: {'max_depth': 7, 'eta': 0.1, 'lambda': 1.4128064691865668e-08, 'gamma': 2.944824675199469e-06, 'alpha': 0.00030310106808946935}. Best is trial 11 with value: 0.220024617915384.\u001b[0m\n"
     ]
    },
    {
     "name": "stdout",
     "output_type": "stream",
     "text": [
      "[0]\tdtrain-rmse:0.44652\tdtrain-RMSPE:207.68643\tdval-rmse:0.44651\tdval-RMSPE:207.05722\n",
      "[50]\tdtrain-rmse:0.00249\tdtrain-RMSPE:1.19279\tdval-rmse:0.00253\tdval-RMSPE:1.18411\n",
      "[100]\tdtrain-rmse:0.00088\tdtrain-RMSPE:0.24321\tdval-rmse:0.00105\tdval-RMSPE:0.24065\n",
      "[150]\tdtrain-rmse:0.00082\tdtrain-RMSPE:0.23189\tdval-rmse:0.00103\tdval-RMSPE:0.23356\n",
      "[200]\tdtrain-rmse:0.00078\tdtrain-RMSPE:0.22435\tdval-rmse:0.00103\tdval-RMSPE:0.23020\n",
      "[250]\tdtrain-rmse:0.00078\tdtrain-RMSPE:0.22435\tdval-rmse:0.00103\tdval-RMSPE:0.23020\n",
      "[297]\tdtrain-rmse:0.00078\tdtrain-RMSPE:0.22435\tdval-rmse:0.00103\tdval-RMSPE:0.23020\n"
     ]
    },
    {
     "name": "stderr",
     "output_type": "stream",
     "text": [
      "\u001b[32m[I 2021-08-29 20:40:04,003]\u001b[0m Trial 14 finished with value: 0.23019446040478736 and parameters: {'max_depth': 7, 'eta': 0.1, 'lambda': 7.618531296846694e-07, 'gamma': 8.313408527473821e-06, 'alpha': 4.414953438929759e-05}. Best is trial 11 with value: 0.220024617915384.\u001b[0m\n"
     ]
    },
    {
     "name": "stdout",
     "output_type": "stream",
     "text": [
      "[0]\tdtrain-rmse:0.44652\tdtrain-RMSPE:207.68832\tdval-rmse:0.44651\tdval-RMSPE:207.05904\n",
      "[50]\tdtrain-rmse:0.00249\tdtrain-RMSPE:1.19649\tdval-rmse:0.00254\tdval-RMSPE:1.18726\n",
      "[100]\tdtrain-rmse:0.00084\tdtrain-RMSPE:0.23644\tdval-rmse:0.00105\tdval-RMSPE:0.23781\n",
      "[150]\tdtrain-rmse:0.00076\tdtrain-RMSPE:0.22000\tdval-rmse:0.00103\tdval-RMSPE:0.22959\n",
      "[200]\tdtrain-rmse:0.00071\tdtrain-RMSPE:0.20929\tdval-rmse:0.00102\tdval-RMSPE:0.22650\n",
      "[250]\tdtrain-rmse:0.00067\tdtrain-RMSPE:0.20017\tdval-rmse:0.00101\tdval-RMSPE:0.22412\n",
      "[300]\tdtrain-rmse:0.00063\tdtrain-RMSPE:0.19273\tdval-rmse:0.00101\tdval-RMSPE:0.22218\n",
      "[350]\tdtrain-rmse:0.00060\tdtrain-RMSPE:0.18693\tdval-rmse:0.00101\tdval-RMSPE:0.22097\n",
      "[400]\tdtrain-rmse:0.00058\tdtrain-RMSPE:0.18109\tdval-rmse:0.00101\tdval-RMSPE:0.22039\n",
      "[450]\tdtrain-rmse:0.00056\tdtrain-RMSPE:0.17616\tdval-rmse:0.00101\tdval-RMSPE:0.21984\n",
      "[500]\tdtrain-rmse:0.00055\tdtrain-RMSPE:0.17585\tdval-rmse:0.00101\tdval-RMSPE:0.21979\n",
      "[547]\tdtrain-rmse:0.00055\tdtrain-RMSPE:0.17585\tdval-rmse:0.00101\tdval-RMSPE:0.21979\n"
     ]
    },
    {
     "name": "stderr",
     "output_type": "stream",
     "text": [
      "\u001b[32m[I 2021-08-29 20:40:55,905]\u001b[0m Trial 15 finished with value: 0.21978263160085842 and parameters: {'max_depth': 8, 'eta': 0.1, 'lambda': 4.521546095669731e-06, 'gamma': 1.0286679395133152e-07, 'alpha': 0.002289761608427856}. Best is trial 15 with value: 0.21978263160085842.\u001b[0m\n"
     ]
    },
    {
     "name": "stdout",
     "output_type": "stream",
     "text": [
      "[0]\tdtrain-rmse:0.44652\tdtrain-RMSPE:207.68622\tdval-rmse:0.44651\tdval-RMSPE:207.05705\n",
      "[50]\tdtrain-rmse:0.00247\tdtrain-RMSPE:1.18651\tdval-rmse:0.00253\tdval-RMSPE:1.18028\n",
      "[100]\tdtrain-rmse:0.00080\tdtrain-RMSPE:0.23061\tdval-rmse:0.00104\tdval-RMSPE:0.23616\n",
      "[150]\tdtrain-rmse:0.00074\tdtrain-RMSPE:0.21634\tdval-rmse:0.00103\tdval-RMSPE:0.22967\n",
      "[200]\tdtrain-rmse:0.00069\tdtrain-RMSPE:0.20619\tdval-rmse:0.00102\tdval-RMSPE:0.22630\n",
      "[250]\tdtrain-rmse:0.00065\tdtrain-RMSPE:0.19828\tdval-rmse:0.00101\tdval-RMSPE:0.22504\n",
      "[300]\tdtrain-rmse:0.00062\tdtrain-RMSPE:0.19232\tdval-rmse:0.00101\tdval-RMSPE:0.22393\n",
      "[350]\tdtrain-rmse:0.00060\tdtrain-RMSPE:0.18536\tdval-rmse:0.00101\tdval-RMSPE:0.22327\n",
      "[400]\tdtrain-rmse:0.00057\tdtrain-RMSPE:0.17987\tdval-rmse:0.00101\tdval-RMSPE:0.22269\n",
      "[450]\tdtrain-rmse:0.00055\tdtrain-RMSPE:0.17517\tdval-rmse:0.00101\tdval-RMSPE:0.22273\n",
      "[500]\tdtrain-rmse:0.00053\tdtrain-RMSPE:0.17131\tdval-rmse:0.00101\tdval-RMSPE:0.22240\n",
      "[550]\tdtrain-rmse:0.00053\tdtrain-RMSPE:0.17131\tdval-rmse:0.00101\tdval-RMSPE:0.22240\n",
      "[591]\tdtrain-rmse:0.00053\tdtrain-RMSPE:0.17131\tdval-rmse:0.00101\tdval-RMSPE:0.22240\n"
     ]
    },
    {
     "name": "stderr",
     "output_type": "stream",
     "text": [
      "\u001b[32m[I 2021-08-29 20:41:48,907]\u001b[0m Trial 16 finished with value: 0.22240440444443163 and parameters: {'max_depth': 8, 'eta': 0.1, 'lambda': 1.2804264327070242e-07, 'gamma': 1.1359470274467495e-07, 'alpha': 4.412689558163122e-05}. Best is trial 15 with value: 0.21978263160085842.\u001b[0m\n"
     ]
    },
    {
     "name": "stdout",
     "output_type": "stream",
     "text": [
      "[0]\tdtrain-rmse:0.44652\tdtrain-RMSPE:207.68999\tdval-rmse:0.44651\tdval-RMSPE:207.06064\n",
      "[50]\tdtrain-rmse:0.00249\tdtrain-RMSPE:1.19665\tdval-rmse:0.00253\tdval-RMSPE:1.18742\n",
      "[100]\tdtrain-rmse:0.00088\tdtrain-RMSPE:0.24499\tdval-rmse:0.00105\tdval-RMSPE:0.24122\n",
      "[150]\tdtrain-rmse:0.00088\tdtrain-RMSPE:0.24283\tdval-rmse:0.00105\tdval-RMSPE:0.23913\n",
      "[200]\tdtrain-rmse:0.00088\tdtrain-RMSPE:0.24282\tdval-rmse:0.00105\tdval-RMSPE:0.23912\n",
      "[250]\tdtrain-rmse:0.00088\tdtrain-RMSPE:0.24282\tdval-rmse:0.00105\tdval-RMSPE:0.23912\n",
      "[288]\tdtrain-rmse:0.00088\tdtrain-RMSPE:0.24282\tdval-rmse:0.00105\tdval-RMSPE:0.23912\n"
     ]
    },
    {
     "name": "stderr",
     "output_type": "stream",
     "text": [
      "\u001b[32m[I 2021-08-29 20:42:03,441]\u001b[0m Trial 17 finished with value: 0.23914706240477746 and parameters: {'max_depth': 8, 'eta': 0.1, 'lambda': 1.5173418243368445e-05, 'gamma': 2.65721459389817e-05, 'alpha': 0.001569292103212074}. Best is trial 15 with value: 0.21978263160085842.\u001b[0m\n"
     ]
    },
    {
     "name": "stdout",
     "output_type": "stream",
     "text": [
      "[0]\tdtrain-rmse:0.44652\tdtrain-RMSPE:207.69055\tdval-rmse:0.44651\tdval-RMSPE:207.06122\n",
      "[50]\tdtrain-rmse:0.00258\tdtrain-RMSPE:1.26356\tdval-rmse:0.00259\tdval-RMSPE:1.25206\n",
      "[100]\tdtrain-rmse:0.00117\tdtrain-RMSPE:0.31401\tdval-rmse:0.00120\tdval-RMSPE:0.30300\n",
      "[150]\tdtrain-rmse:0.00117\tdtrain-RMSPE:0.31099\tdval-rmse:0.00120\tdval-RMSPE:0.30001\n",
      "[200]\tdtrain-rmse:0.00117\tdtrain-RMSPE:0.31097\tdval-rmse:0.00120\tdval-RMSPE:0.29999\n",
      "[250]\tdtrain-rmse:0.00117\tdtrain-RMSPE:0.31097\tdval-rmse:0.00120\tdval-RMSPE:0.29999\n",
      "[300]\tdtrain-rmse:0.00117\tdtrain-RMSPE:0.31097\tdval-rmse:0.00120\tdval-RMSPE:0.29999\n",
      "[301]\tdtrain-rmse:0.00117\tdtrain-RMSPE:0.31097\tdval-rmse:0.00120\tdval-RMSPE:0.29999\n"
     ]
    },
    {
     "name": "stderr",
     "output_type": "stream",
     "text": [
      "\u001b[32m[I 2021-08-29 20:42:12,661]\u001b[0m Trial 18 finished with value: 0.300003287514516 and parameters: {'max_depth': 6, 'eta': 0.1, 'lambda': 1.5285671963866586e-05, 'gamma': 0.0020051689471820276, 'alpha': 0.0070785920588399545}. Best is trial 15 with value: 0.21978263160085842.\u001b[0m\n"
     ]
    },
    {
     "name": "stdout",
     "output_type": "stream",
     "text": [
      "[0]\tdtrain-rmse:0.44652\tdtrain-RMSPE:207.68634\tdval-rmse:0.44651\tdval-RMSPE:207.05710\n",
      "[50]\tdtrain-rmse:0.00247\tdtrain-RMSPE:1.18666\tdval-rmse:0.00253\tdval-RMSPE:1.17996\n",
      "[100]\tdtrain-rmse:0.00080\tdtrain-RMSPE:0.23099\tdval-rmse:0.00104\tdval-RMSPE:0.23643\n",
      "[150]\tdtrain-rmse:0.00074\tdtrain-RMSPE:0.21572\tdval-rmse:0.00103\tdval-RMSPE:0.22936\n",
      "[200]\tdtrain-rmse:0.00069\tdtrain-RMSPE:0.20651\tdval-rmse:0.00102\tdval-RMSPE:0.22601\n",
      "[250]\tdtrain-rmse:0.00065\tdtrain-RMSPE:0.19924\tdval-rmse:0.00102\tdval-RMSPE:0.22434\n",
      "[300]\tdtrain-rmse:0.00062\tdtrain-RMSPE:0.19258\tdval-rmse:0.00101\tdval-RMSPE:0.22361\n",
      "[350]\tdtrain-rmse:0.00060\tdtrain-RMSPE:0.18664\tdval-rmse:0.00101\tdval-RMSPE:0.22346\n",
      "[400]\tdtrain-rmse:0.00057\tdtrain-RMSPE:0.18116\tdval-rmse:0.00101\tdval-RMSPE:0.22303\n",
      "[450]\tdtrain-rmse:0.00055\tdtrain-RMSPE:0.17553\tdval-rmse:0.00101\tdval-RMSPE:0.22246\n",
      "[500]\tdtrain-rmse:0.00054\tdtrain-RMSPE:0.17327\tdval-rmse:0.00101\tdval-RMSPE:0.22230\n",
      "[550]\tdtrain-rmse:0.00054\tdtrain-RMSPE:0.17327\tdval-rmse:0.00101\tdval-RMSPE:0.22230\n",
      "[574]\tdtrain-rmse:0.00054\tdtrain-RMSPE:0.17327\tdval-rmse:0.00101\tdval-RMSPE:0.22230\n"
     ]
    },
    {
     "name": "stderr",
     "output_type": "stream",
     "text": [
      "\u001b[32m[I 2021-08-29 20:43:04,014]\u001b[0m Trial 19 finished with value: 0.22230438463854596 and parameters: {'max_depth': 8, 'eta': 0.1, 'lambda': 2.1854518924447732e-07, 'gamma': 9.579059200598497e-08, 'alpha': 4.131776624084907e-06}. Best is trial 15 with value: 0.21978263160085842.\u001b[0m\n"
     ]
    },
    {
     "name": "stdout",
     "output_type": "stream",
     "text": [
      "[0]\tdtrain-rmse:0.44652\tdtrain-RMSPE:207.68724\tdval-rmse:0.44651\tdval-RMSPE:207.05798\n",
      "[50]\tdtrain-rmse:0.00252\tdtrain-RMSPE:1.19865\tdval-rmse:0.00254\tdval-RMSPE:1.18861\n",
      "[100]\tdtrain-rmse:0.00095\tdtrain-RMSPE:0.25127\tdval-rmse:0.00107\tdval-RMSPE:0.24425\n",
      "[150]\tdtrain-rmse:0.00090\tdtrain-RMSPE:0.24135\tdval-rmse:0.00105\tdval-RMSPE:0.23705\n",
      "[200]\tdtrain-rmse:0.00086\tdtrain-RMSPE:0.23480\tdval-rmse:0.00104\tdval-RMSPE:0.23306\n",
      "[250]\tdtrain-rmse:0.00083\tdtrain-RMSPE:0.22980\tdval-rmse:0.00103\tdval-RMSPE:0.23040\n",
      "[300]\tdtrain-rmse:0.00081\tdtrain-RMSPE:0.22549\tdval-rmse:0.00102\tdval-RMSPE:0.22835\n",
      "[350]\tdtrain-rmse:0.00078\tdtrain-RMSPE:0.22133\tdval-rmse:0.00102\tdval-RMSPE:0.22680\n",
      "[400]\tdtrain-rmse:0.00076\tdtrain-RMSPE:0.21711\tdval-rmse:0.00102\tdval-RMSPE:0.22541\n",
      "[450]\tdtrain-rmse:0.00075\tdtrain-RMSPE:0.21372\tdval-rmse:0.00101\tdval-RMSPE:0.22443\n",
      "[500]\tdtrain-rmse:0.00073\tdtrain-RMSPE:0.21074\tdval-rmse:0.00101\tdval-RMSPE:0.22386\n",
      "[550]\tdtrain-rmse:0.00071\tdtrain-RMSPE:0.20779\tdval-rmse:0.00101\tdval-RMSPE:0.22291\n",
      "[600]\tdtrain-rmse:0.00070\tdtrain-RMSPE:0.20541\tdval-rmse:0.00101\tdval-RMSPE:0.22247\n",
      "[650]\tdtrain-rmse:0.00069\tdtrain-RMSPE:0.20230\tdval-rmse:0.00101\tdval-RMSPE:0.22164\n",
      "[700]\tdtrain-rmse:0.00067\tdtrain-RMSPE:0.19985\tdval-rmse:0.00101\tdval-RMSPE:0.22126\n",
      "[750]\tdtrain-rmse:0.00066\tdtrain-RMSPE:0.19784\tdval-rmse:0.00101\tdval-RMSPE:0.22089\n",
      "[800]\tdtrain-rmse:0.00065\tdtrain-RMSPE:0.19537\tdval-rmse:0.00100\tdval-RMSPE:0.22039\n",
      "[850]\tdtrain-rmse:0.00064\tdtrain-RMSPE:0.19294\tdval-rmse:0.00100\tdval-RMSPE:0.22035\n",
      "[900]\tdtrain-rmse:0.00063\tdtrain-RMSPE:0.19113\tdval-rmse:0.00100\tdval-RMSPE:0.22018\n",
      "[950]\tdtrain-rmse:0.00062\tdtrain-RMSPE:0.18937\tdval-rmse:0.00100\tdval-RMSPE:0.22015\n",
      "[999]\tdtrain-rmse:0.00061\tdtrain-RMSPE:0.18743\tdval-rmse:0.00100\tdval-RMSPE:0.22013\n"
     ]
    },
    {
     "name": "stderr",
     "output_type": "stream",
     "text": [
      "\u001b[32m[I 2021-08-29 20:43:55,842]\u001b[0m Trial 20 finished with value: 0.22015777392089703 and parameters: {'max_depth': 6, 'eta': 0.1, 'lambda': 7.779669937443602e-08, 'gamma': 1.0161345608084579e-07, 'alpha': 0.0001468608251323866}. Best is trial 15 with value: 0.21978263160085842.\u001b[0m\n"
     ]
    },
    {
     "name": "stdout",
     "output_type": "stream",
     "text": [
      "[0]\tdtrain-rmse:0.44652\tdtrain-RMSPE:207.68680\tdval-rmse:0.44651\tdval-RMSPE:207.05747\n",
      "[50]\tdtrain-rmse:0.00252\tdtrain-RMSPE:1.19937\tdval-rmse:0.00254\tdval-RMSPE:1.18980\n",
      "[100]\tdtrain-rmse:0.00094\tdtrain-RMSPE:0.25026\tdval-rmse:0.00107\tdval-RMSPE:0.24527\n",
      "[150]\tdtrain-rmse:0.00090\tdtrain-RMSPE:0.24212\tdval-rmse:0.00105\tdval-RMSPE:0.23884\n",
      "[200]\tdtrain-rmse:0.00086\tdtrain-RMSPE:0.23526\tdval-rmse:0.00104\tdval-RMSPE:0.23463\n",
      "[250]\tdtrain-rmse:0.00083\tdtrain-RMSPE:0.22905\tdval-rmse:0.00103\tdval-RMSPE:0.23162\n",
      "[300]\tdtrain-rmse:0.00080\tdtrain-RMSPE:0.22424\tdval-rmse:0.00103\tdval-RMSPE:0.22951\n",
      "[350]\tdtrain-rmse:0.00078\tdtrain-RMSPE:0.22002\tdval-rmse:0.00102\tdval-RMSPE:0.22754\n",
      "[400]\tdtrain-rmse:0.00076\tdtrain-RMSPE:0.21629\tdval-rmse:0.00102\tdval-RMSPE:0.22633\n",
      "[450]\tdtrain-rmse:0.00074\tdtrain-RMSPE:0.21398\tdval-rmse:0.00102\tdval-RMSPE:0.22563\n",
      "[500]\tdtrain-rmse:0.00073\tdtrain-RMSPE:0.21100\tdval-rmse:0.00101\tdval-RMSPE:0.22499\n",
      "[550]\tdtrain-rmse:0.00071\tdtrain-RMSPE:0.20765\tdval-rmse:0.00101\tdval-RMSPE:0.22429\n",
      "[600]\tdtrain-rmse:0.00070\tdtrain-RMSPE:0.20514\tdval-rmse:0.00101\tdval-RMSPE:0.22362\n",
      "[650]\tdtrain-rmse:0.00069\tdtrain-RMSPE:0.20181\tdval-rmse:0.00101\tdval-RMSPE:0.22308\n",
      "[700]\tdtrain-rmse:0.00067\tdtrain-RMSPE:0.19929\tdval-rmse:0.00101\tdval-RMSPE:0.22273\n",
      "[750]\tdtrain-rmse:0.00066\tdtrain-RMSPE:0.19642\tdval-rmse:0.00101\tdval-RMSPE:0.22253\n",
      "[800]\tdtrain-rmse:0.00065\tdtrain-RMSPE:0.19417\tdval-rmse:0.00101\tdval-RMSPE:0.22231\n",
      "[850]\tdtrain-rmse:0.00064\tdtrain-RMSPE:0.19253\tdval-rmse:0.00101\tdval-RMSPE:0.22212\n",
      "[900]\tdtrain-rmse:0.00063\tdtrain-RMSPE:0.19099\tdval-rmse:0.00101\tdval-RMSPE:0.22205\n",
      "[950]\tdtrain-rmse:0.00062\tdtrain-RMSPE:0.18929\tdval-rmse:0.00101\tdval-RMSPE:0.22176\n",
      "[999]\tdtrain-rmse:0.00061\tdtrain-RMSPE:0.18724\tdval-rmse:0.00101\tdval-RMSPE:0.22156\n"
     ]
    },
    {
     "name": "stderr",
     "output_type": "stream",
     "text": [
      "\u001b[32m[I 2021-08-29 20:44:48,019]\u001b[0m Trial 21 finished with value: 0.2215904749034146 and parameters: {'max_depth': 6, 'eta': 0.1, 'lambda': 5.949796178073321e-08, 'gamma': 2.020290736564811e-07, 'alpha': 0.00016553463844197323}. Best is trial 15 with value: 0.21978263160085842.\u001b[0m\n"
     ]
    },
    {
     "name": "stdout",
     "output_type": "stream",
     "text": [
      "[0]\tdtrain-rmse:0.44652\tdtrain-RMSPE:207.68739\tdval-rmse:0.44651\tdval-RMSPE:207.05809\n",
      "[50]\tdtrain-rmse:0.00249\tdtrain-RMSPE:1.19442\tdval-rmse:0.00253\tdval-RMSPE:1.18542\n",
      "[100]\tdtrain-rmse:0.00088\tdtrain-RMSPE:0.24237\tdval-rmse:0.00105\tdval-RMSPE:0.24013\n",
      "[150]\tdtrain-rmse:0.00082\tdtrain-RMSPE:0.23014\tdval-rmse:0.00103\tdval-RMSPE:0.23246\n",
      "[200]\tdtrain-rmse:0.00078\tdtrain-RMSPE:0.22184\tdval-rmse:0.00102\tdval-RMSPE:0.22956\n",
      "[250]\tdtrain-rmse:0.00074\tdtrain-RMSPE:0.21491\tdval-rmse:0.00102\tdval-RMSPE:0.22700\n",
      "[300]\tdtrain-rmse:0.00071\tdtrain-RMSPE:0.20951\tdval-rmse:0.00101\tdval-RMSPE:0.22555\n",
      "[350]\tdtrain-rmse:0.00069\tdtrain-RMSPE:0.20463\tdval-rmse:0.00101\tdval-RMSPE:0.22437\n",
      "[400]\tdtrain-rmse:0.00067\tdtrain-RMSPE:0.20003\tdval-rmse:0.00101\tdval-RMSPE:0.22296\n",
      "[450]\tdtrain-rmse:0.00065\tdtrain-RMSPE:0.19525\tdval-rmse:0.00101\tdval-RMSPE:0.22163\n",
      "[500]\tdtrain-rmse:0.00063\tdtrain-RMSPE:0.19157\tdval-rmse:0.00101\tdval-RMSPE:0.22121\n",
      "[550]\tdtrain-rmse:0.00061\tdtrain-RMSPE:0.18832\tdval-rmse:0.00100\tdval-RMSPE:0.22067\n",
      "[600]\tdtrain-rmse:0.00060\tdtrain-RMSPE:0.18483\tdval-rmse:0.00100\tdval-RMSPE:0.22001\n",
      "[650]\tdtrain-rmse:0.00058\tdtrain-RMSPE:0.18152\tdval-rmse:0.00100\tdval-RMSPE:0.21961\n",
      "[700]\tdtrain-rmse:0.00057\tdtrain-RMSPE:0.17969\tdval-rmse:0.00100\tdval-RMSPE:0.21942\n",
      "[750]\tdtrain-rmse:0.00057\tdtrain-RMSPE:0.17969\tdval-rmse:0.00100\tdval-RMSPE:0.21942\n",
      "[785]\tdtrain-rmse:0.00057\tdtrain-RMSPE:0.17969\tdval-rmse:0.00100\tdval-RMSPE:0.21942\n"
     ]
    },
    {
     "name": "stderr",
     "output_type": "stream",
     "text": [
      "\u001b[32m[I 2021-08-29 20:45:39,902]\u001b[0m Trial 22 finished with value: 0.21943429754561664 and parameters: {'max_depth': 7, 'eta': 0.1, 'lambda': 7.953102291329512e-08, 'gamma': 4.106184771087026e-08, 'alpha': 0.0002719166413580163}. Best is trial 22 with value: 0.21943429754561664.\u001b[0m\n"
     ]
    },
    {
     "name": "stdout",
     "output_type": "stream",
     "text": [
      "[0]\tdtrain-rmse:0.44652\tdtrain-RMSPE:207.68587\tdval-rmse:0.44651\tdval-RMSPE:207.05666\n",
      "[50]\tdtrain-rmse:0.00247\tdtrain-RMSPE:1.18558\tdval-rmse:0.00253\tdval-RMSPE:1.17951\n",
      "[100]\tdtrain-rmse:0.00080\tdtrain-RMSPE:0.23014\tdval-rmse:0.00104\tdval-RMSPE:0.23572\n",
      "[150]\tdtrain-rmse:0.00073\tdtrain-RMSPE:0.21539\tdval-rmse:0.00102\tdval-RMSPE:0.22878\n",
      "[200]\tdtrain-rmse:0.00069\tdtrain-RMSPE:0.20442\tdval-rmse:0.00102\tdval-RMSPE:0.22627\n",
      "[250]\tdtrain-rmse:0.00065\tdtrain-RMSPE:0.19738\tdval-rmse:0.00101\tdval-RMSPE:0.22545\n",
      "[300]\tdtrain-rmse:0.00062\tdtrain-RMSPE:0.19012\tdval-rmse:0.00101\tdval-RMSPE:0.22396\n",
      "[350]\tdtrain-rmse:0.00059\tdtrain-RMSPE:0.18377\tdval-rmse:0.00101\tdval-RMSPE:0.22364\n",
      "[400]\tdtrain-rmse:0.00057\tdtrain-RMSPE:0.17821\tdval-rmse:0.00101\tdval-RMSPE:0.22291\n",
      "[450]\tdtrain-rmse:0.00055\tdtrain-RMSPE:0.17329\tdval-rmse:0.00100\tdval-RMSPE:0.22236\n",
      "[500]\tdtrain-rmse:0.00054\tdtrain-RMSPE:0.17148\tdval-rmse:0.00100\tdval-RMSPE:0.22237\n",
      "[550]\tdtrain-rmse:0.00054\tdtrain-RMSPE:0.17148\tdval-rmse:0.00100\tdval-RMSPE:0.22237\n",
      "[568]\tdtrain-rmse:0.00054\tdtrain-RMSPE:0.17148\tdval-rmse:0.00100\tdval-RMSPE:0.22237\n"
     ]
    },
    {
     "name": "stderr",
     "output_type": "stream",
     "text": [
      "\u001b[32m[I 2021-08-29 20:46:31,228]\u001b[0m Trial 23 finished with value: 0.2223551215747528 and parameters: {'max_depth': 8, 'eta': 0.1, 'lambda': 1.3734398699018207e-05, 'gamma': 1.0283193095751811e-08, 'alpha': 1.5499138626780965e-05}. Best is trial 22 with value: 0.21943429754561664.\u001b[0m\n"
     ]
    },
    {
     "name": "stdout",
     "output_type": "stream",
     "text": [
      "[0]\tdtrain-rmse:0.44652\tdtrain-RMSPE:207.68712\tdval-rmse:0.44651\tdval-RMSPE:207.05778\n",
      "[50]\tdtrain-rmse:0.00246\tdtrain-RMSPE:1.18739\tdval-rmse:0.00253\tdval-RMSPE:1.18081\n",
      "[100]\tdtrain-rmse:0.00074\tdtrain-RMSPE:0.22401\tdval-rmse:0.00104\tdval-RMSPE:0.23537\n",
      "[150]\tdtrain-rmse:0.00066\tdtrain-RMSPE:0.20263\tdval-rmse:0.00102\tdval-RMSPE:0.22705\n",
      "[200]\tdtrain-rmse:0.00061\tdtrain-RMSPE:0.19056\tdval-rmse:0.00102\tdval-RMSPE:0.22378\n",
      "[250]\tdtrain-rmse:0.00057\tdtrain-RMSPE:0.18135\tdval-rmse:0.00101\tdval-RMSPE:0.22254\n",
      "[300]\tdtrain-rmse:0.00053\tdtrain-RMSPE:0.17339\tdval-rmse:0.00101\tdval-RMSPE:0.22138\n",
      "[350]\tdtrain-rmse:0.00050\tdtrain-RMSPE:0.16660\tdval-rmse:0.00101\tdval-RMSPE:0.22061\n",
      "[400]\tdtrain-rmse:0.00050\tdtrain-RMSPE:0.16557\tdval-rmse:0.00101\tdval-RMSPE:0.22055\n",
      "[450]\tdtrain-rmse:0.00050\tdtrain-RMSPE:0.16557\tdval-rmse:0.00101\tdval-RMSPE:0.22055\n",
      "[458]\tdtrain-rmse:0.00050\tdtrain-RMSPE:0.16557\tdval-rmse:0.00101\tdval-RMSPE:0.22055\n"
     ]
    },
    {
     "name": "stderr",
     "output_type": "stream",
     "text": [
      "\u001b[32m[I 2021-08-29 20:47:30,044]\u001b[0m Trial 24 finished with value: 0.22056448840618342 and parameters: {'max_depth': 9, 'eta': 0.1, 'lambda': 1.0365347135997491e-08, 'gamma': 3.955877784952266e-08, 'alpha': 0.0005411770330194836}. Best is trial 22 with value: 0.21943429754561664.\u001b[0m\n"
     ]
    },
    {
     "name": "stdout",
     "output_type": "stream",
     "text": [
      "[0]\tdtrain-rmse:0.44652\tdtrain-RMSPE:207.69051\tdval-rmse:0.44651\tdval-RMSPE:207.06116\n",
      "[50]\tdtrain-rmse:0.00251\tdtrain-RMSPE:1.20362\tdval-rmse:0.00254\tdval-RMSPE:1.19383\n",
      "[100]\tdtrain-rmse:0.00091\tdtrain-RMSPE:0.24845\tdval-rmse:0.00106\tdval-RMSPE:0.24364\n",
      "[150]\tdtrain-rmse:0.00085\tdtrain-RMSPE:0.23555\tdval-rmse:0.00104\tdval-RMSPE:0.23486\n",
      "[200]\tdtrain-rmse:0.00082\tdtrain-RMSPE:0.23156\tdval-rmse:0.00103\tdval-RMSPE:0.23229\n",
      "[250]\tdtrain-rmse:0.00082\tdtrain-RMSPE:0.23156\tdval-rmse:0.00103\tdval-RMSPE:0.23230\n",
      "[280]\tdtrain-rmse:0.00082\tdtrain-RMSPE:0.23156\tdval-rmse:0.00103\tdval-RMSPE:0.23230\n"
     ]
    },
    {
     "name": "stderr",
     "output_type": "stream",
     "text": [
      "\u001b[32m[I 2021-08-29 20:47:46,918]\u001b[0m Trial 25 finished with value: 0.2322708742815247 and parameters: {'max_depth': 7, 'eta': 0.1, 'lambda': 3.794580842237217e-07, 'gamma': 1.1528815540622426e-05, 'alpha': 0.004205085042025488}. Best is trial 22 with value: 0.21943429754561664.\u001b[0m\n"
     ]
    },
    {
     "name": "stdout",
     "output_type": "stream",
     "text": [
      "[0]\tdtrain-rmse:0.44652\tdtrain-RMSPE:207.68610\tdval-rmse:0.44651\tdval-RMSPE:207.05684\n",
      "[50]\tdtrain-rmse:0.00247\tdtrain-RMSPE:1.18488\tdval-rmse:0.00253\tdval-RMSPE:1.17851\n",
      "[100]\tdtrain-rmse:0.00079\tdtrain-RMSPE:0.22972\tdval-rmse:0.00104\tdval-RMSPE:0.23567\n",
      "[150]\tdtrain-rmse:0.00073\tdtrain-RMSPE:0.21570\tdval-rmse:0.00103\tdval-RMSPE:0.22899\n",
      "[200]\tdtrain-rmse:0.00069\tdtrain-RMSPE:0.20721\tdval-rmse:0.00102\tdval-RMSPE:0.22580\n",
      "[250]\tdtrain-rmse:0.00065\tdtrain-RMSPE:0.19853\tdval-rmse:0.00101\tdval-RMSPE:0.22433\n",
      "[300]\tdtrain-rmse:0.00062\tdtrain-RMSPE:0.19136\tdval-rmse:0.00101\tdval-RMSPE:0.22251\n",
      "[350]\tdtrain-rmse:0.00059\tdtrain-RMSPE:0.18423\tdval-rmse:0.00101\tdval-RMSPE:0.22161\n",
      "[400]\tdtrain-rmse:0.00057\tdtrain-RMSPE:0.17927\tdval-rmse:0.00101\tdval-RMSPE:0.22108\n",
      "[450]\tdtrain-rmse:0.00055\tdtrain-RMSPE:0.17434\tdval-rmse:0.00101\tdval-RMSPE:0.22089\n",
      "[500]\tdtrain-rmse:0.00053\tdtrain-RMSPE:0.17167\tdval-rmse:0.00101\tdval-RMSPE:0.22100\n",
      "[550]\tdtrain-rmse:0.00053\tdtrain-RMSPE:0.17167\tdval-rmse:0.00101\tdval-RMSPE:0.22100\n",
      "[558]\tdtrain-rmse:0.00053\tdtrain-RMSPE:0.17167\tdval-rmse:0.00101\tdval-RMSPE:0.22100\n"
     ]
    },
    {
     "name": "stderr",
     "output_type": "stream",
     "text": [
      "\u001b[32m[I 2021-08-29 20:48:39,211]\u001b[0m Trial 26 finished with value: 0.22101793893873098 and parameters: {'max_depth': 8, 'eta': 0.1, 'lambda': 4.008750608132643e-08, 'gamma': 4.573429358906845e-07, 'alpha': 8.442658875813281e-07}. Best is trial 22 with value: 0.21943429754561664.\u001b[0m\n"
     ]
    },
    {
     "name": "stdout",
     "output_type": "stream",
     "text": [
      "[0]\tdtrain-rmse:0.44652\tdtrain-RMSPE:207.68663\tdval-rmse:0.44651\tdval-RMSPE:207.05733\n",
      "[50]\tdtrain-rmse:0.00249\tdtrain-RMSPE:1.19177\tdval-rmse:0.00253\tdval-RMSPE:1.18337\n",
      "[100]\tdtrain-rmse:0.00087\tdtrain-RMSPE:0.24123\tdval-rmse:0.00105\tdval-RMSPE:0.23953\n",
      "[150]\tdtrain-rmse:0.00082\tdtrain-RMSPE:0.22899\tdval-rmse:0.00104\tdval-RMSPE:0.23235\n",
      "[200]\tdtrain-rmse:0.00078\tdtrain-RMSPE:0.22177\tdval-rmse:0.00103\tdval-RMSPE:0.22931\n",
      "[250]\tdtrain-rmse:0.00074\tdtrain-RMSPE:0.21466\tdval-rmse:0.00102\tdval-RMSPE:0.22669\n",
      "[300]\tdtrain-rmse:0.00072\tdtrain-RMSPE:0.20935\tdval-rmse:0.00102\tdval-RMSPE:0.22468\n",
      "[350]\tdtrain-rmse:0.00069\tdtrain-RMSPE:0.20452\tdval-rmse:0.00102\tdval-RMSPE:0.22350\n",
      "[400]\tdtrain-rmse:0.00067\tdtrain-RMSPE:0.19947\tdval-rmse:0.00101\tdval-RMSPE:0.22256\n",
      "[450]\tdtrain-rmse:0.00065\tdtrain-RMSPE:0.19568\tdval-rmse:0.00101\tdval-RMSPE:0.22198\n",
      "[500]\tdtrain-rmse:0.00063\tdtrain-RMSPE:0.19170\tdval-rmse:0.00101\tdval-RMSPE:0.22157\n",
      "[550]\tdtrain-rmse:0.00061\tdtrain-RMSPE:0.18858\tdval-rmse:0.00101\tdval-RMSPE:0.22086\n",
      "[600]\tdtrain-rmse:0.00060\tdtrain-RMSPE:0.18556\tdval-rmse:0.00101\tdval-RMSPE:0.22043\n",
      "[650]\tdtrain-rmse:0.00058\tdtrain-RMSPE:0.18292\tdval-rmse:0.00101\tdval-RMSPE:0.22024\n",
      "[700]\tdtrain-rmse:0.00057\tdtrain-RMSPE:0.17977\tdval-rmse:0.00101\tdval-RMSPE:0.21984\n",
      "[750]\tdtrain-rmse:0.00057\tdtrain-RMSPE:0.17938\tdval-rmse:0.00101\tdval-RMSPE:0.21977\n",
      "[800]\tdtrain-rmse:0.00057\tdtrain-RMSPE:0.17938\tdval-rmse:0.00101\tdval-RMSPE:0.21977\n",
      "[809]\tdtrain-rmse:0.00057\tdtrain-RMSPE:0.17938\tdval-rmse:0.00101\tdval-RMSPE:0.21977\n"
     ]
    },
    {
     "name": "stderr",
     "output_type": "stream",
     "text": [
      "\u001b[32m[I 2021-08-29 20:49:31,915]\u001b[0m Trial 27 finished with value: 0.2197669204730602 and parameters: {'max_depth': 7, 'eta': 0.1, 'lambda': 5.823124794128584e-05, 'gamma': 4.116380862959143e-08, 'alpha': 4.0815790935546395e-05}. Best is trial 22 with value: 0.21943429754561664.\u001b[0m\n"
     ]
    },
    {
     "name": "stdout",
     "output_type": "stream",
     "text": [
      "[0]\tdtrain-rmse:0.44652\tdtrain-RMSPE:207.69170\tdval-rmse:0.44651\tdval-RMSPE:207.06239\n",
      "[50]\tdtrain-rmse:0.00264\tdtrain-RMSPE:1.36237\tdval-rmse:0.00264\tdval-RMSPE:1.35092\n",
      "[100]\tdtrain-rmse:0.00129\tdtrain-RMSPE:0.39343\tdval-rmse:0.00131\tdval-RMSPE:0.38331\n",
      "[150]\tdtrain-rmse:0.00129\tdtrain-RMSPE:0.38967\tdval-rmse:0.00131\tdval-RMSPE:0.37956\n",
      "[200]\tdtrain-rmse:0.00129\tdtrain-RMSPE:0.38965\tdval-rmse:0.00131\tdval-RMSPE:0.37954\n",
      "[250]\tdtrain-rmse:0.00129\tdtrain-RMSPE:0.38965\tdval-rmse:0.00131\tdval-RMSPE:0.37954\n",
      "[297]\tdtrain-rmse:0.00129\tdtrain-RMSPE:0.38965\tdval-rmse:0.00131\tdval-RMSPE:0.37954\n"
     ]
    },
    {
     "name": "stderr",
     "output_type": "stream",
     "text": [
      "\u001b[32m[I 2021-08-29 20:49:40,671]\u001b[0m Trial 28 finished with value: 0.37960717982553055 and parameters: {'max_depth': 9, 'eta': 0.1, 'lambda': 5.1982849200567875e-05, 'gamma': 0.01462841259286107, 'alpha': 1.7625462580359035e-07}. Best is trial 22 with value: 0.21943429754561664.\u001b[0m\n"
     ]
    },
    {
     "name": "stdout",
     "output_type": "stream",
     "text": [
      "[0]\tdtrain-rmse:0.44652\tdtrain-RMSPE:207.70296\tdval-rmse:0.44651\tdval-RMSPE:207.07355\n",
      "[50]\tdtrain-rmse:0.00257\tdtrain-RMSPE:1.25059\tdval-rmse:0.00258\tdval-RMSPE:1.23985\n",
      "[100]\tdtrain-rmse:0.00099\tdtrain-RMSPE:0.25760\tdval-rmse:0.00108\tdval-RMSPE:0.25222\n",
      "[150]\tdtrain-rmse:0.00092\tdtrain-RMSPE:0.24104\tdval-rmse:0.00105\tdval-RMSPE:0.23826\n",
      "[200]\tdtrain-rmse:0.00088\tdtrain-RMSPE:0.23241\tdval-rmse:0.00103\tdval-RMSPE:0.23166\n",
      "[250]\tdtrain-rmse:0.00085\tdtrain-RMSPE:0.22626\tdval-rmse:0.00102\tdval-RMSPE:0.22716\n",
      "[300]\tdtrain-rmse:0.00083\tdtrain-RMSPE:0.22172\tdval-rmse:0.00101\tdval-RMSPE:0.22416\n",
      "[350]\tdtrain-rmse:0.00082\tdtrain-RMSPE:0.21873\tdval-rmse:0.00101\tdval-RMSPE:0.22275\n",
      "[400]\tdtrain-rmse:0.00081\tdtrain-RMSPE:0.21658\tdval-rmse:0.00100\tdval-RMSPE:0.22169\n",
      "[450]\tdtrain-rmse:0.00081\tdtrain-RMSPE:0.21658\tdval-rmse:0.00100\tdval-RMSPE:0.22169\n",
      "[488]\tdtrain-rmse:0.00081\tdtrain-RMSPE:0.21658\tdval-rmse:0.00100\tdval-RMSPE:0.22169\n"
     ]
    },
    {
     "name": "stderr",
     "output_type": "stream",
     "text": [
      "\u001b[32m[I 2021-08-29 20:50:23,009]\u001b[0m Trial 29 finished with value: 0.22167203173166888 and parameters: {'max_depth': 9, 'eta': 0.1, 'lambda': 5.888064003900189e-05, 'gamma': 4.7286979678797125e-08, 'alpha': 0.12546383885666554}. Best is trial 22 with value: 0.21943429754561664.\u001b[0m\n"
     ]
    },
    {
     "name": "stdout",
     "output_type": "stream",
     "text": [
      "[0]\tdtrain-rmse:0.44652\tdtrain-RMSPE:207.68803\tdval-rmse:0.44651\tdval-RMSPE:207.05862\n",
      "[50]\tdtrain-rmse:0.00255\tdtrain-RMSPE:1.22012\tdval-rmse:0.00256\tdval-RMSPE:1.20934\n",
      "[100]\tdtrain-rmse:0.00106\tdtrain-RMSPE:0.26640\tdval-rmse:0.00112\tdval-RMSPE:0.25699\n",
      "[150]\tdtrain-rmse:0.00102\tdtrain-RMSPE:0.25909\tdval-rmse:0.00110\tdval-RMSPE:0.25018\n",
      "[200]\tdtrain-rmse:0.00100\tdtrain-RMSPE:0.25554\tdval-rmse:0.00108\tdval-RMSPE:0.24691\n",
      "[250]\tdtrain-rmse:0.00098\tdtrain-RMSPE:0.25245\tdval-rmse:0.00107\tdval-RMSPE:0.24398\n",
      "[300]\tdtrain-rmse:0.00096\tdtrain-RMSPE:0.24899\tdval-rmse:0.00106\tdval-RMSPE:0.24169\n",
      "[350]\tdtrain-rmse:0.00094\tdtrain-RMSPE:0.24652\tdval-rmse:0.00105\tdval-RMSPE:0.23957\n",
      "[400]\tdtrain-rmse:0.00093\tdtrain-RMSPE:0.24390\tdval-rmse:0.00105\tdval-RMSPE:0.23831\n",
      "[450]\tdtrain-rmse:0.00092\tdtrain-RMSPE:0.24216\tdval-rmse:0.00104\tdval-RMSPE:0.23689\n",
      "[500]\tdtrain-rmse:0.00091\tdtrain-RMSPE:0.23972\tdval-rmse:0.00104\tdval-RMSPE:0.23532\n",
      "[550]\tdtrain-rmse:0.00090\tdtrain-RMSPE:0.23794\tdval-rmse:0.00104\tdval-RMSPE:0.23441\n",
      "[600]\tdtrain-rmse:0.00089\tdtrain-RMSPE:0.23616\tdval-rmse:0.00103\tdval-RMSPE:0.23300\n",
      "[650]\tdtrain-rmse:0.00088\tdtrain-RMSPE:0.23433\tdval-rmse:0.00103\tdval-RMSPE:0.23197\n",
      "[700]\tdtrain-rmse:0.00087\tdtrain-RMSPE:0.23294\tdval-rmse:0.00103\tdval-RMSPE:0.23133\n",
      "[750]\tdtrain-rmse:0.00086\tdtrain-RMSPE:0.23069\tdval-rmse:0.00103\tdval-RMSPE:0.23034\n",
      "[800]\tdtrain-rmse:0.00085\tdtrain-RMSPE:0.22956\tdval-rmse:0.00103\tdval-RMSPE:0.22979\n",
      "[850]\tdtrain-rmse:0.00085\tdtrain-RMSPE:0.22879\tdval-rmse:0.00103\tdval-RMSPE:0.22960\n",
      "[900]\tdtrain-rmse:0.00084\tdtrain-RMSPE:0.22751\tdval-rmse:0.00102\tdval-RMSPE:0.22891\n",
      "[950]\tdtrain-rmse:0.00083\tdtrain-RMSPE:0.22554\tdval-rmse:0.00102\tdval-RMSPE:0.22810\n",
      "[999]\tdtrain-rmse:0.00083\tdtrain-RMSPE:0.22451\tdval-rmse:0.00102\tdval-RMSPE:0.22772\n"
     ]
    },
    {
     "name": "stderr",
     "output_type": "stream",
     "text": [
      "\u001b[32m[I 2021-08-29 20:50:57,653]\u001b[0m Trial 30 finished with value: 0.22770056124905763 and parameters: {'max_depth': 4, 'eta': 0.1, 'lambda': 3.4128143709888356e-06, 'gamma': 2.61666699555717e-08, 'alpha': 2.265154154592294e-05}. Best is trial 22 with value: 0.21943429754561664.\u001b[0m\n"
     ]
    },
    {
     "name": "stdout",
     "output_type": "stream",
     "text": [
      "[0]\tdtrain-rmse:0.44652\tdtrain-RMSPE:207.68697\tdval-rmse:0.44651\tdval-RMSPE:207.05772\n",
      "[50]\tdtrain-rmse:0.00249\tdtrain-RMSPE:1.19266\tdval-rmse:0.00253\tdval-RMSPE:1.18421\n",
      "[100]\tdtrain-rmse:0.00088\tdtrain-RMSPE:0.24178\tdval-rmse:0.00105\tdval-RMSPE:0.24022\n",
      "[150]\tdtrain-rmse:0.00082\tdtrain-RMSPE:0.22977\tdval-rmse:0.00104\tdval-RMSPE:0.23278\n",
      "[200]\tdtrain-rmse:0.00078\tdtrain-RMSPE:0.22119\tdval-rmse:0.00103\tdval-RMSPE:0.22949\n",
      "[250]\tdtrain-rmse:0.00074\tdtrain-RMSPE:0.21408\tdval-rmse:0.00102\tdval-RMSPE:0.22734\n",
      "[300]\tdtrain-rmse:0.00071\tdtrain-RMSPE:0.20890\tdval-rmse:0.00102\tdval-RMSPE:0.22593\n",
      "[350]\tdtrain-rmse:0.00069\tdtrain-RMSPE:0.20429\tdval-rmse:0.00102\tdval-RMSPE:0.22425\n",
      "[400]\tdtrain-rmse:0.00067\tdtrain-RMSPE:0.19955\tdval-rmse:0.00101\tdval-RMSPE:0.22299\n",
      "[450]\tdtrain-rmse:0.00065\tdtrain-RMSPE:0.19501\tdval-rmse:0.00101\tdval-RMSPE:0.22218\n",
      "[500]\tdtrain-rmse:0.00063\tdtrain-RMSPE:0.19093\tdval-rmse:0.00101\tdval-RMSPE:0.22156\n",
      "[550]\tdtrain-rmse:0.00061\tdtrain-RMSPE:0.18710\tdval-rmse:0.00101\tdval-RMSPE:0.22154\n",
      "[600]\tdtrain-rmse:0.00060\tdtrain-RMSPE:0.18392\tdval-rmse:0.00101\tdval-RMSPE:0.22117\n",
      "[650]\tdtrain-rmse:0.00058\tdtrain-RMSPE:0.18047\tdval-rmse:0.00101\tdval-RMSPE:0.22116\n",
      "[700]\tdtrain-rmse:0.00057\tdtrain-RMSPE:0.17817\tdval-rmse:0.00101\tdval-RMSPE:0.22086\n",
      "[750]\tdtrain-rmse:0.00057\tdtrain-RMSPE:0.17817\tdval-rmse:0.00101\tdval-RMSPE:0.22086\n",
      "[788]\tdtrain-rmse:0.00057\tdtrain-RMSPE:0.17817\tdval-rmse:0.00101\tdval-RMSPE:0.22086\n"
     ]
    },
    {
     "name": "stderr",
     "output_type": "stream",
     "text": [
      "\u001b[32m[I 2021-08-29 20:51:49,624]\u001b[0m Trial 31 finished with value: 0.22088115058606403 and parameters: {'max_depth': 7, 'eta': 0.1, 'lambda': 0.0011737480964369906, 'gamma': 2.6311532600137085e-07, 'alpha': 7.378524432491855e-05}. Best is trial 22 with value: 0.21943429754561664.\u001b[0m\n"
     ]
    },
    {
     "name": "stdout",
     "output_type": "stream",
     "text": [
      "[0]\tdtrain-rmse:0.44652\tdtrain-RMSPE:207.68709\tdval-rmse:0.44651\tdval-RMSPE:207.05780\n",
      "[50]\tdtrain-rmse:0.00249\tdtrain-RMSPE:1.19474\tdval-rmse:0.00253\tdval-RMSPE:1.18572\n",
      "[100]\tdtrain-rmse:0.00088\tdtrain-RMSPE:0.24384\tdval-rmse:0.00105\tdval-RMSPE:0.24035\n",
      "[150]\tdtrain-rmse:0.00082\tdtrain-RMSPE:0.23033\tdval-rmse:0.00103\tdval-RMSPE:0.23303\n",
      "[200]\tdtrain-rmse:0.00078\tdtrain-RMSPE:0.22209\tdval-rmse:0.00103\tdval-RMSPE:0.22986\n",
      "[250]\tdtrain-rmse:0.00075\tdtrain-RMSPE:0.21552\tdval-rmse:0.00102\tdval-RMSPE:0.22720\n",
      "[300]\tdtrain-rmse:0.00072\tdtrain-RMSPE:0.20919\tdval-rmse:0.00102\tdval-RMSPE:0.22497\n",
      "[350]\tdtrain-rmse:0.00069\tdtrain-RMSPE:0.20305\tdval-rmse:0.00101\tdval-RMSPE:0.22324\n",
      "[400]\tdtrain-rmse:0.00067\tdtrain-RMSPE:0.19822\tdval-rmse:0.00101\tdval-RMSPE:0.22232\n",
      "[450]\tdtrain-rmse:0.00065\tdtrain-RMSPE:0.19452\tdval-rmse:0.00101\tdval-RMSPE:0.22150\n",
      "[500]\tdtrain-rmse:0.00063\tdtrain-RMSPE:0.19066\tdval-rmse:0.00101\tdval-RMSPE:0.22076\n",
      "[550]\tdtrain-rmse:0.00061\tdtrain-RMSPE:0.18754\tdval-rmse:0.00101\tdval-RMSPE:0.22015\n",
      "[600]\tdtrain-rmse:0.00060\tdtrain-RMSPE:0.18371\tdval-rmse:0.00101\tdval-RMSPE:0.21988\n",
      "[650]\tdtrain-rmse:0.00058\tdtrain-RMSPE:0.18056\tdval-rmse:0.00101\tdval-RMSPE:0.21967\n",
      "[700]\tdtrain-rmse:0.00057\tdtrain-RMSPE:0.17870\tdval-rmse:0.00101\tdval-RMSPE:0.21946\n",
      "[750]\tdtrain-rmse:0.00057\tdtrain-RMSPE:0.17870\tdval-rmse:0.00101\tdval-RMSPE:0.21946\n",
      "[782]\tdtrain-rmse:0.00057\tdtrain-RMSPE:0.17870\tdval-rmse:0.00101\tdval-RMSPE:0.21946\n"
     ]
    },
    {
     "name": "stderr",
     "output_type": "stream",
     "text": [
      "\u001b[32m[I 2021-08-29 20:52:41,598]\u001b[0m Trial 32 finished with value: 0.21941428146941822 and parameters: {'max_depth': 7, 'eta': 0.1, 'lambda': 6.629332060891143e-07, 'gamma': 5.444202231525707e-08, 'alpha': 0.0005266981244024736}. Best is trial 32 with value: 0.21941428146941822.\u001b[0m\n"
     ]
    },
    {
     "name": "stdout",
     "output_type": "stream",
     "text": [
      "[0]\tdtrain-rmse:0.44652\tdtrain-RMSPE:207.68720\tdval-rmse:0.44651\tdval-RMSPE:207.05785\n",
      "[50]\tdtrain-rmse:0.00251\tdtrain-RMSPE:1.19895\tdval-rmse:0.00254\tdval-RMSPE:1.18938\n",
      "[100]\tdtrain-rmse:0.00094\tdtrain-RMSPE:0.25133\tdval-rmse:0.00107\tdval-RMSPE:0.24546\n",
      "[150]\tdtrain-rmse:0.00089\tdtrain-RMSPE:0.24098\tdval-rmse:0.00105\tdval-RMSPE:0.23703\n",
      "[200]\tdtrain-rmse:0.00086\tdtrain-RMSPE:0.23466\tdval-rmse:0.00104\tdval-RMSPE:0.23437\n",
      "[250]\tdtrain-rmse:0.00083\tdtrain-RMSPE:0.22955\tdval-rmse:0.00103\tdval-RMSPE:0.23169\n",
      "[300]\tdtrain-rmse:0.00080\tdtrain-RMSPE:0.22488\tdval-rmse:0.00102\tdval-RMSPE:0.22945\n",
      "[350]\tdtrain-rmse:0.00078\tdtrain-RMSPE:0.22028\tdval-rmse:0.00102\tdval-RMSPE:0.22743\n",
      "[400]\tdtrain-rmse:0.00076\tdtrain-RMSPE:0.21577\tdval-rmse:0.00102\tdval-RMSPE:0.22546\n",
      "[450]\tdtrain-rmse:0.00074\tdtrain-RMSPE:0.21282\tdval-rmse:0.00101\tdval-RMSPE:0.22423\n",
      "[500]\tdtrain-rmse:0.00073\tdtrain-RMSPE:0.20951\tdval-rmse:0.00101\tdval-RMSPE:0.22305\n",
      "[550]\tdtrain-rmse:0.00071\tdtrain-RMSPE:0.20717\tdval-rmse:0.00101\tdval-RMSPE:0.22220\n",
      "[600]\tdtrain-rmse:0.00070\tdtrain-RMSPE:0.20333\tdval-rmse:0.00101\tdval-RMSPE:0.22176\n",
      "[650]\tdtrain-rmse:0.00068\tdtrain-RMSPE:0.20112\tdval-rmse:0.00101\tdval-RMSPE:0.22149\n",
      "[700]\tdtrain-rmse:0.00067\tdtrain-RMSPE:0.19782\tdval-rmse:0.00101\tdval-RMSPE:0.22065\n",
      "[750]\tdtrain-rmse:0.00066\tdtrain-RMSPE:0.19557\tdval-rmse:0.00100\tdval-RMSPE:0.21995\n",
      "[800]\tdtrain-rmse:0.00065\tdtrain-RMSPE:0.19350\tdval-rmse:0.00100\tdval-RMSPE:0.21984\n",
      "[850]\tdtrain-rmse:0.00064\tdtrain-RMSPE:0.19138\tdval-rmse:0.00100\tdval-RMSPE:0.21977\n",
      "[900]\tdtrain-rmse:0.00063\tdtrain-RMSPE:0.18908\tdval-rmse:0.00100\tdval-RMSPE:0.21953\n",
      "[950]\tdtrain-rmse:0.00062\tdtrain-RMSPE:0.18709\tdval-rmse:0.00100\tdval-RMSPE:0.21924\n",
      "[999]\tdtrain-rmse:0.00061\tdtrain-RMSPE:0.18546\tdval-rmse:0.00100\tdval-RMSPE:0.21893\n"
     ]
    },
    {
     "name": "stderr",
     "output_type": "stream",
     "text": [
      "\u001b[32m[I 2021-08-29 20:53:34,364]\u001b[0m Trial 33 finished with value: 0.21892822464711514 and parameters: {'max_depth': 6, 'eta': 0.1, 'lambda': 7.799811347573406e-07, 'gamma': 5.885253472981325e-08, 'alpha': 0.0005388136430428091}. Best is trial 33 with value: 0.21892822464711514.\u001b[0m\n"
     ]
    },
    {
     "name": "stdout",
     "output_type": "stream",
     "text": [
      "[0]\tdtrain-rmse:0.44652\tdtrain-RMSPE:207.68761\tdval-rmse:0.44651\tdval-RMSPE:207.05829\n",
      "[50]\tdtrain-rmse:0.00254\tdtrain-RMSPE:1.20762\tdval-rmse:0.00255\tdval-RMSPE:1.19732\n",
      "[100]\tdtrain-rmse:0.00100\tdtrain-RMSPE:0.25948\tdval-rmse:0.00109\tdval-RMSPE:0.25073\n",
      "[150]\tdtrain-rmse:0.00096\tdtrain-RMSPE:0.25004\tdval-rmse:0.00107\tdval-RMSPE:0.24347\n",
      "[200]\tdtrain-rmse:0.00093\tdtrain-RMSPE:0.24455\tdval-rmse:0.00106\tdval-RMSPE:0.23911\n",
      "[250]\tdtrain-rmse:0.00091\tdtrain-RMSPE:0.23998\tdval-rmse:0.00105\tdval-RMSPE:0.23650\n",
      "[300]\tdtrain-rmse:0.00088\tdtrain-RMSPE:0.23630\tdval-rmse:0.00104\tdval-RMSPE:0.23391\n",
      "[350]\tdtrain-rmse:0.00086\tdtrain-RMSPE:0.23216\tdval-rmse:0.00103\tdval-RMSPE:0.23155\n",
      "[400]\tdtrain-rmse:0.00085\tdtrain-RMSPE:0.22962\tdval-rmse:0.00103\tdval-RMSPE:0.22997\n",
      "[450]\tdtrain-rmse:0.00083\tdtrain-RMSPE:0.22688\tdval-rmse:0.00103\tdval-RMSPE:0.22834\n",
      "[500]\tdtrain-rmse:0.00082\tdtrain-RMSPE:0.22427\tdval-rmse:0.00102\tdval-RMSPE:0.22710\n",
      "[550]\tdtrain-rmse:0.00080\tdtrain-RMSPE:0.22178\tdval-rmse:0.00102\tdval-RMSPE:0.22567\n",
      "[600]\tdtrain-rmse:0.00079\tdtrain-RMSPE:0.21984\tdval-rmse:0.00102\tdval-RMSPE:0.22482\n",
      "[650]\tdtrain-rmse:0.00078\tdtrain-RMSPE:0.21727\tdval-rmse:0.00102\tdval-RMSPE:0.22390\n",
      "[700]\tdtrain-rmse:0.00077\tdtrain-RMSPE:0.21516\tdval-rmse:0.00101\tdval-RMSPE:0.22360\n",
      "[750]\tdtrain-rmse:0.00076\tdtrain-RMSPE:0.21291\tdval-rmse:0.00101\tdval-RMSPE:0.22284\n",
      "[800]\tdtrain-rmse:0.00075\tdtrain-RMSPE:0.21166\tdval-rmse:0.00101\tdval-RMSPE:0.22245\n",
      "[850]\tdtrain-rmse:0.00074\tdtrain-RMSPE:0.20954\tdval-rmse:0.00101\tdval-RMSPE:0.22210\n",
      "[900]\tdtrain-rmse:0.00073\tdtrain-RMSPE:0.20810\tdval-rmse:0.00101\tdval-RMSPE:0.22148\n",
      "[950]\tdtrain-rmse:0.00073\tdtrain-RMSPE:0.20671\tdval-rmse:0.00101\tdval-RMSPE:0.22126\n",
      "[999]\tdtrain-rmse:0.00072\tdtrain-RMSPE:0.20544\tdval-rmse:0.00101\tdval-RMSPE:0.22102\n"
     ]
    },
    {
     "name": "stderr",
     "output_type": "stream",
     "text": [
      "\u001b[32m[I 2021-08-29 20:54:15,958]\u001b[0m Trial 34 finished with value: 0.2209747708017321 and parameters: {'max_depth': 5, 'eta': 0.1, 'lambda': 1.3016363201960335e-06, 'gamma': 4.088533644928072e-08, 'alpha': 0.0005713647426984742}. Best is trial 33 with value: 0.21892822464711514.\u001b[0m\n"
     ]
    },
    {
     "name": "stdout",
     "output_type": "stream",
     "text": [
      "[0]\tdtrain-rmse:0.44652\tdtrain-RMSPE:207.68776\tdval-rmse:0.44651\tdval-RMSPE:207.05856\n",
      "[50]\tdtrain-rmse:0.00252\tdtrain-RMSPE:1.20008\tdval-rmse:0.00254\tdval-RMSPE:1.19040\n",
      "[100]\tdtrain-rmse:0.00095\tdtrain-RMSPE:0.25116\tdval-rmse:0.00107\tdval-RMSPE:0.24533\n",
      "[150]\tdtrain-rmse:0.00090\tdtrain-RMSPE:0.24108\tdval-rmse:0.00105\tdval-RMSPE:0.23749\n",
      "[200]\tdtrain-rmse:0.00086\tdtrain-RMSPE:0.23470\tdval-rmse:0.00104\tdval-RMSPE:0.23367\n",
      "[250]\tdtrain-rmse:0.00083\tdtrain-RMSPE:0.22979\tdval-rmse:0.00103\tdval-RMSPE:0.23117\n",
      "[300]\tdtrain-rmse:0.00081\tdtrain-RMSPE:0.22558\tdval-rmse:0.00103\tdval-RMSPE:0.22880\n",
      "[350]\tdtrain-rmse:0.00078\tdtrain-RMSPE:0.22123\tdval-rmse:0.00102\tdval-RMSPE:0.22681\n",
      "[400]\tdtrain-rmse:0.00078\tdtrain-RMSPE:0.22042\tdval-rmse:0.00102\tdval-RMSPE:0.22670\n",
      "[450]\tdtrain-rmse:0.00078\tdtrain-RMSPE:0.22042\tdval-rmse:0.00102\tdval-RMSPE:0.22670\n",
      "[456]\tdtrain-rmse:0.00078\tdtrain-RMSPE:0.22042\tdval-rmse:0.00102\tdval-RMSPE:0.22670\n"
     ]
    },
    {
     "name": "stderr",
     "output_type": "stream",
     "text": [
      "\u001b[32m[I 2021-08-29 20:54:38,938]\u001b[0m Trial 35 finished with value: 0.22673234025276512 and parameters: {'max_depth': 6, 'eta': 0.1, 'lambda': 7.722527480933201e-07, 'gamma': 5.747274494998976e-06, 'alpha': 0.0002762584312056344}. Best is trial 33 with value: 0.21892822464711514.\u001b[0m\n"
     ]
    },
    {
     "name": "stdout",
     "output_type": "stream",
     "text": [
      "[0]\tdtrain-rmse:0.44652\tdtrain-RMSPE:207.69253\tdval-rmse:0.44651\tdval-RMSPE:207.06314\n",
      "[50]\tdtrain-rmse:0.00255\tdtrain-RMSPE:1.22298\tdval-rmse:0.00256\tdval-RMSPE:1.21188\n",
      "[100]\tdtrain-rmse:0.00103\tdtrain-RMSPE:0.26287\tdval-rmse:0.00110\tdval-RMSPE:0.25392\n",
      "[150]\tdtrain-rmse:0.00099\tdtrain-RMSPE:0.25310\tdval-rmse:0.00107\tdval-RMSPE:0.24537\n",
      "[200]\tdtrain-rmse:0.00096\tdtrain-RMSPE:0.24696\tdval-rmse:0.00105\tdval-RMSPE:0.24061\n",
      "[250]\tdtrain-rmse:0.00094\tdtrain-RMSPE:0.24215\tdval-rmse:0.00104\tdval-RMSPE:0.23670\n",
      "[300]\tdtrain-rmse:0.00092\tdtrain-RMSPE:0.23767\tdval-rmse:0.00103\tdval-RMSPE:0.23353\n",
      "[350]\tdtrain-rmse:0.00090\tdtrain-RMSPE:0.23425\tdval-rmse:0.00103\tdval-RMSPE:0.23098\n",
      "[400]\tdtrain-rmse:0.00088\tdtrain-RMSPE:0.23186\tdval-rmse:0.00102\tdval-RMSPE:0.22921\n",
      "[450]\tdtrain-rmse:0.00087\tdtrain-RMSPE:0.22861\tdval-rmse:0.00102\tdval-RMSPE:0.22742\n",
      "[500]\tdtrain-rmse:0.00085\tdtrain-RMSPE:0.22625\tdval-rmse:0.00102\tdval-RMSPE:0.22587\n",
      "[550]\tdtrain-rmse:0.00084\tdtrain-RMSPE:0.22421\tdval-rmse:0.00101\tdval-RMSPE:0.22439\n",
      "[600]\tdtrain-rmse:0.00083\tdtrain-RMSPE:0.22225\tdval-rmse:0.00101\tdval-RMSPE:0.22326\n",
      "[650]\tdtrain-rmse:0.00082\tdtrain-RMSPE:0.22020\tdval-rmse:0.00101\tdval-RMSPE:0.22221\n",
      "[700]\tdtrain-rmse:0.00081\tdtrain-RMSPE:0.21876\tdval-rmse:0.00101\tdval-RMSPE:0.22161\n",
      "[750]\tdtrain-rmse:0.00081\tdtrain-RMSPE:0.21728\tdval-rmse:0.00100\tdval-RMSPE:0.22076\n",
      "[800]\tdtrain-rmse:0.00080\tdtrain-RMSPE:0.21598\tdval-rmse:0.00100\tdval-RMSPE:0.22023\n",
      "[850]\tdtrain-rmse:0.00079\tdtrain-RMSPE:0.21449\tdval-rmse:0.00100\tdval-RMSPE:0.21965\n",
      "[900]\tdtrain-rmse:0.00078\tdtrain-RMSPE:0.21341\tdval-rmse:0.00100\tdval-RMSPE:0.21926\n",
      "[950]\tdtrain-rmse:0.00077\tdtrain-RMSPE:0.21217\tdval-rmse:0.00100\tdval-RMSPE:0.21881\n",
      "[999]\tdtrain-rmse:0.00077\tdtrain-RMSPE:0.21081\tdval-rmse:0.00100\tdval-RMSPE:0.21852\n"
     ]
    },
    {
     "name": "stderr",
     "output_type": "stream",
     "text": [
      "\u001b[32m[I 2021-08-29 20:55:21,802]\u001b[0m Trial 36 finished with value: 0.21853470111089732 and parameters: {'max_depth': 5, 'eta': 0.1, 'lambda': 2.8811547673777164e-07, 'gamma': 1.1614992424931824e-06, 'alpha': 0.02440655576987754}. Best is trial 36 with value: 0.21853470111089732.\u001b[0m\n"
     ]
    },
    {
     "name": "stdout",
     "output_type": "stream",
     "text": [
      "[0]\tdtrain-rmse:0.34729\tdtrain-RMSPE:161.60715\tdval-rmse:0.34728\tdval-RMSPE:161.11623\n",
      "[50]\tdtrain-rmse:0.00105\tdtrain-RMSPE:0.26791\tdval-rmse:0.00111\tdval-RMSPE:0.25788\n",
      "[100]\tdtrain-rmse:0.00103\tdtrain-RMSPE:0.26274\tdval-rmse:0.00110\tdval-RMSPE:0.25357\n",
      "[150]\tdtrain-rmse:0.00103\tdtrain-RMSPE:0.26274\tdval-rmse:0.00110\tdval-RMSPE:0.25357\n",
      "[163]\tdtrain-rmse:0.00103\tdtrain-RMSPE:0.26274\tdval-rmse:0.00110\tdval-RMSPE:0.25357\n"
     ]
    },
    {
     "name": "stderr",
     "output_type": "stream",
     "text": [
      "\u001b[32m[I 2021-08-29 20:55:28,994]\u001b[0m Trial 37 finished with value: 0.2535527173095801 and parameters: {'max_depth': 4, 'eta': 0.3, 'lambda': 2.0794837200935548e-07, 'gamma': 5.935138141939206e-05, 'alpha': 0.031003572966843758}. Best is trial 36 with value: 0.21853470111089732.\u001b[0m\n"
     ]
    },
    {
     "name": "stdout",
     "output_type": "stream",
     "text": [
      "[0]\tdtrain-rmse:0.44652\tdtrain-RMSPE:207.77010\tdval-rmse:0.44651\tdval-RMSPE:207.14059\n",
      "[50]\tdtrain-rmse:0.00344\tdtrain-RMSPE:1.98622\tdval-rmse:0.00345\tdval-RMSPE:1.97450\n",
      "[100]\tdtrain-rmse:0.00255\tdtrain-RMSPE:0.99910\tdval-rmse:0.00257\tdval-RMSPE:0.99013\n",
      "[150]\tdtrain-rmse:0.00255\tdtrain-RMSPE:0.99440\tdval-rmse:0.00257\tdval-RMSPE:0.98545\n",
      "[200]\tdtrain-rmse:0.00255\tdtrain-RMSPE:0.99438\tdval-rmse:0.00257\tdval-RMSPE:0.98542\n",
      "[250]\tdtrain-rmse:0.00255\tdtrain-RMSPE:0.99438\tdval-rmse:0.00257\tdval-RMSPE:0.98542\n",
      "[283]\tdtrain-rmse:0.00255\tdtrain-RMSPE:0.99438\tdval-rmse:0.00257\tdval-RMSPE:0.98542\n"
     ]
    },
    {
     "name": "stderr",
     "output_type": "stream",
     "text": [
      "\u001b[32m[I 2021-08-29 20:55:37,254]\u001b[0m Trial 38 finished with value: 0.9854975171216335 and parameters: {'max_depth': 5, 'eta': 0.1, 'lambda': 3.0017161435424347e-07, 'gamma': 0.9663193883777752, 'alpha': 0.637253628123053}. Best is trial 36 with value: 0.21853470111089732.\u001b[0m\n"
     ]
    },
    {
     "name": "stdout",
     "output_type": "stream",
     "text": [
      "[0]\tdtrain-rmse:0.34729\tdtrain-RMSPE:161.58078\tdval-rmse:0.34728\tdval-RMSPE:161.08972\n",
      "[50]\tdtrain-rmse:0.00099\tdtrain-RMSPE:0.25576\tdval-rmse:0.00109\tdval-RMSPE:0.24764\n",
      "[100]\tdtrain-rmse:0.00091\tdtrain-RMSPE:0.24115\tdval-rmse:0.00106\tdval-RMSPE:0.23599\n",
      "[150]\tdtrain-rmse:0.00086\tdtrain-RMSPE:0.23072\tdval-rmse:0.00104\tdval-RMSPE:0.22984\n",
      "[200]\tdtrain-rmse:0.00082\tdtrain-RMSPE:0.22472\tdval-rmse:0.00103\tdval-RMSPE:0.22640\n",
      "[250]\tdtrain-rmse:0.00080\tdtrain-RMSPE:0.21903\tdval-rmse:0.00103\tdval-RMSPE:0.22403\n",
      "[300]\tdtrain-rmse:0.00077\tdtrain-RMSPE:0.21512\tdval-rmse:0.00103\tdval-RMSPE:0.22253\n",
      "[350]\tdtrain-rmse:0.00075\tdtrain-RMSPE:0.21118\tdval-rmse:0.00103\tdval-RMSPE:0.22619\n",
      "[400]\tdtrain-rmse:0.00072\tdtrain-RMSPE:0.20749\tdval-rmse:0.00103\tdval-RMSPE:0.22567\n",
      "[424]\tdtrain-rmse:0.00072\tdtrain-RMSPE:0.20634\tdval-rmse:0.00103\tdval-RMSPE:0.22536\n"
     ]
    },
    {
     "name": "stderr",
     "output_type": "stream",
     "text": [
      "\u001b[32m[I 2021-08-29 20:55:57,212]\u001b[0m Trial 39 finished with value: 0.22536884350528122 and parameters: {'max_depth': 5, 'eta': 0.3, 'lambda': 4.7063639232647576e-08, 'gamma': 1.6280482550686543e-06, 'alpha': 0.008734827549649682}. Best is trial 36 with value: 0.21853470111089732.\u001b[0m\n"
     ]
    },
    {
     "name": "stdout",
     "output_type": "stream",
     "text": [
      "[0]\tdtrain-rmse:0.44652\tdtrain-RMSPE:207.70311\tdval-rmse:0.44651\tdval-RMSPE:207.07370\n",
      "[50]\tdtrain-rmse:0.00257\tdtrain-RMSPE:1.24323\tdval-rmse:0.00258\tdval-RMSPE:1.23164\n",
      "[100]\tdtrain-rmse:0.00105\tdtrain-RMSPE:0.26867\tdval-rmse:0.00111\tdval-RMSPE:0.25866\n",
      "[150]\tdtrain-rmse:0.00102\tdtrain-RMSPE:0.25684\tdval-rmse:0.00108\tdval-RMSPE:0.24822\n",
      "[200]\tdtrain-rmse:0.00099\tdtrain-RMSPE:0.25063\tdval-rmse:0.00107\tdval-RMSPE:0.24265\n",
      "[250]\tdtrain-rmse:0.00097\tdtrain-RMSPE:0.24681\tdval-rmse:0.00105\tdval-RMSPE:0.23891\n",
      "[300]\tdtrain-rmse:0.00095\tdtrain-RMSPE:0.24286\tdval-rmse:0.00104\tdval-RMSPE:0.23593\n",
      "[350]\tdtrain-rmse:0.00093\tdtrain-RMSPE:0.24001\tdval-rmse:0.00103\tdval-RMSPE:0.23357\n",
      "[400]\tdtrain-rmse:0.00092\tdtrain-RMSPE:0.23684\tdval-rmse:0.00103\tdval-RMSPE:0.23106\n",
      "[450]\tdtrain-rmse:0.00091\tdtrain-RMSPE:0.23395\tdval-rmse:0.00102\tdval-RMSPE:0.22905\n",
      "[500]\tdtrain-rmse:0.00090\tdtrain-RMSPE:0.23124\tdval-rmse:0.00102\tdval-RMSPE:0.22704\n",
      "[550]\tdtrain-rmse:0.00089\tdtrain-RMSPE:0.22875\tdval-rmse:0.00102\tdval-RMSPE:0.22584\n",
      "[600]\tdtrain-rmse:0.00088\tdtrain-RMSPE:0.22663\tdval-rmse:0.00101\tdval-RMSPE:0.22465\n",
      "[650]\tdtrain-rmse:0.00087\tdtrain-RMSPE:0.22548\tdval-rmse:0.00101\tdval-RMSPE:0.22397\n",
      "[700]\tdtrain-rmse:0.00087\tdtrain-RMSPE:0.22366\tdval-rmse:0.00101\tdval-RMSPE:0.22290\n",
      "[750]\tdtrain-rmse:0.00086\tdtrain-RMSPE:0.22267\tdval-rmse:0.00101\tdval-RMSPE:0.22230\n",
      "[800]\tdtrain-rmse:0.00085\tdtrain-RMSPE:0.22147\tdval-rmse:0.00101\tdval-RMSPE:0.22149\n",
      "[850]\tdtrain-rmse:0.00085\tdtrain-RMSPE:0.22036\tdval-rmse:0.00100\tdval-RMSPE:0.22101\n",
      "[900]\tdtrain-rmse:0.00084\tdtrain-RMSPE:0.21900\tdval-rmse:0.00100\tdval-RMSPE:0.22014\n",
      "[950]\tdtrain-rmse:0.00084\tdtrain-RMSPE:0.21815\tdval-rmse:0.00100\tdval-RMSPE:0.21961\n",
      "[999]\tdtrain-rmse:0.00084\tdtrain-RMSPE:0.21816\tdval-rmse:0.00100\tdval-RMSPE:0.21961\n"
     ]
    },
    {
     "name": "stderr",
     "output_type": "stream",
     "text": [
      "\u001b[32m[I 2021-08-29 20:56:40,193]\u001b[0m Trial 40 finished with value: 0.21957027430100062 and parameters: {'max_depth': 5, 'eta': 0.1, 'lambda': 6.402355413294202e-07, 'gamma': 3.9190704402711516e-07, 'alpha': 0.07947751576648078}. Best is trial 36 with value: 0.21853470111089732.\u001b[0m\n"
     ]
    },
    {
     "name": "stdout",
     "output_type": "stream",
     "text": [
      "[0]\tdtrain-rmse:0.44652\tdtrain-RMSPE:207.70380\tdval-rmse:0.44651\tdval-RMSPE:207.07443\n",
      "[50]\tdtrain-rmse:0.00256\tdtrain-RMSPE:1.23277\tdval-rmse:0.00257\tdval-RMSPE:1.22178\n",
      "[100]\tdtrain-rmse:0.00105\tdtrain-RMSPE:0.26631\tdval-rmse:0.00111\tdval-RMSPE:0.25736\n",
      "[150]\tdtrain-rmse:0.00101\tdtrain-RMSPE:0.25501\tdval-rmse:0.00108\tdval-RMSPE:0.24759\n",
      "[200]\tdtrain-rmse:0.00097\tdtrain-RMSPE:0.24873\tdval-rmse:0.00106\tdval-RMSPE:0.24246\n",
      "[250]\tdtrain-rmse:0.00096\tdtrain-RMSPE:0.24406\tdval-rmse:0.00105\tdval-RMSPE:0.23841\n",
      "[300]\tdtrain-rmse:0.00094\tdtrain-RMSPE:0.23977\tdval-rmse:0.00104\tdval-RMSPE:0.23523\n",
      "[350]\tdtrain-rmse:0.00092\tdtrain-RMSPE:0.23624\tdval-rmse:0.00103\tdval-RMSPE:0.23257\n",
      "[400]\tdtrain-rmse:0.00091\tdtrain-RMSPE:0.23349\tdval-rmse:0.00103\tdval-RMSPE:0.23032\n",
      "[450]\tdtrain-rmse:0.00090\tdtrain-RMSPE:0.23110\tdval-rmse:0.00102\tdval-RMSPE:0.22858\n",
      "[500]\tdtrain-rmse:0.00089\tdtrain-RMSPE:0.22861\tdval-rmse:0.00102\tdval-RMSPE:0.22706\n",
      "[550]\tdtrain-rmse:0.00088\tdtrain-RMSPE:0.22639\tdval-rmse:0.00101\tdval-RMSPE:0.22531\n",
      "[600]\tdtrain-rmse:0.00087\tdtrain-RMSPE:0.22507\tdval-rmse:0.00101\tdval-RMSPE:0.22438\n",
      "[650]\tdtrain-rmse:0.00086\tdtrain-RMSPE:0.22295\tdval-rmse:0.00101\tdval-RMSPE:0.22300\n",
      "[700]\tdtrain-rmse:0.00085\tdtrain-RMSPE:0.22108\tdval-rmse:0.00101\tdval-RMSPE:0.22208\n",
      "[750]\tdtrain-rmse:0.00084\tdtrain-RMSPE:0.21978\tdval-rmse:0.00101\tdval-RMSPE:0.22143\n",
      "[800]\tdtrain-rmse:0.00083\tdtrain-RMSPE:0.21875\tdval-rmse:0.00100\tdval-RMSPE:0.22106\n",
      "[850]\tdtrain-rmse:0.00083\tdtrain-RMSPE:0.21751\tdval-rmse:0.00100\tdval-RMSPE:0.22064\n",
      "[900]\tdtrain-rmse:0.00082\tdtrain-RMSPE:0.21606\tdval-rmse:0.00100\tdval-RMSPE:0.22006\n",
      "[950]\tdtrain-rmse:0.00082\tdtrain-RMSPE:0.21446\tdval-rmse:0.00100\tdval-RMSPE:0.21943\n",
      "[999]\tdtrain-rmse:0.00081\tdtrain-RMSPE:0.21366\tdval-rmse:0.00100\tdval-RMSPE:0.21916\n"
     ]
    },
    {
     "name": "stderr",
     "output_type": "stream",
     "text": [
      "\u001b[32m[I 2021-08-29 20:57:23,930]\u001b[0m Trial 41 finished with value: 0.2191259508212008 and parameters: {'max_depth': 5, 'eta': 0.1, 'lambda': 5.67475766659798e-07, 'gamma': 2.5574519418341824e-07, 'alpha': 0.05620781788058654}. Best is trial 36 with value: 0.21853470111089732.\u001b[0m\n"
     ]
    },
    {
     "name": "stdout",
     "output_type": "stream",
     "text": [
      "[0]\tdtrain-rmse:0.44652\tdtrain-RMSPE:207.69270\tdval-rmse:0.44651\tdval-RMSPE:207.06332\n",
      "[50]\tdtrain-rmse:0.00256\tdtrain-RMSPE:1.22657\tdval-rmse:0.00257\tdval-RMSPE:1.21526\n",
      "[100]\tdtrain-rmse:0.00107\tdtrain-RMSPE:0.26840\tdval-rmse:0.00112\tdval-RMSPE:0.25861\n",
      "[150]\tdtrain-rmse:0.00103\tdtrain-RMSPE:0.25973\tdval-rmse:0.00109\tdval-RMSPE:0.25085\n",
      "[200]\tdtrain-rmse:0.00101\tdtrain-RMSPE:0.25464\tdval-rmse:0.00108\tdval-RMSPE:0.24686\n",
      "[250]\tdtrain-rmse:0.00099\tdtrain-RMSPE:0.25104\tdval-rmse:0.00106\tdval-RMSPE:0.24350\n",
      "[300]\tdtrain-rmse:0.00097\tdtrain-RMSPE:0.24774\tdval-rmse:0.00105\tdval-RMSPE:0.24071\n",
      "[350]\tdtrain-rmse:0.00096\tdtrain-RMSPE:0.24471\tdval-rmse:0.00105\tdval-RMSPE:0.23828\n",
      "[400]\tdtrain-rmse:0.00094\tdtrain-RMSPE:0.24205\tdval-rmse:0.00104\tdval-RMSPE:0.23653\n",
      "[450]\tdtrain-rmse:0.00093\tdtrain-RMSPE:0.23982\tdval-rmse:0.00104\tdval-RMSPE:0.23488\n",
      "[500]\tdtrain-rmse:0.00092\tdtrain-RMSPE:0.23773\tdval-rmse:0.00103\tdval-RMSPE:0.23329\n",
      "[550]\tdtrain-rmse:0.00091\tdtrain-RMSPE:0.23608\tdval-rmse:0.00103\tdval-RMSPE:0.23192\n",
      "[600]\tdtrain-rmse:0.00090\tdtrain-RMSPE:0.23397\tdval-rmse:0.00103\tdval-RMSPE:0.23044\n",
      "[650]\tdtrain-rmse:0.00090\tdtrain-RMSPE:0.23228\tdval-rmse:0.00102\tdval-RMSPE:0.22923\n",
      "[700]\tdtrain-rmse:0.00089\tdtrain-RMSPE:0.23153\tdval-rmse:0.00102\tdval-RMSPE:0.22877\n",
      "[750]\tdtrain-rmse:0.00088\tdtrain-RMSPE:0.22933\tdval-rmse:0.00102\tdval-RMSPE:0.22753\n",
      "[800]\tdtrain-rmse:0.00088\tdtrain-RMSPE:0.22803\tdval-rmse:0.00102\tdval-RMSPE:0.22677\n",
      "[850]\tdtrain-rmse:0.00087\tdtrain-RMSPE:0.22722\tdval-rmse:0.00101\tdval-RMSPE:0.22630\n",
      "[900]\tdtrain-rmse:0.00086\tdtrain-RMSPE:0.22619\tdval-rmse:0.00101\tdval-RMSPE:0.22545\n",
      "[950]\tdtrain-rmse:0.00085\tdtrain-RMSPE:0.22499\tdval-rmse:0.00101\tdval-RMSPE:0.22481\n",
      "[999]\tdtrain-rmse:0.00085\tdtrain-RMSPE:0.22364\tdval-rmse:0.00101\tdval-RMSPE:0.22417\n"
     ]
    },
    {
     "name": "stderr",
     "output_type": "stream",
     "text": [
      "\u001b[32m[I 2021-08-29 20:57:59,497]\u001b[0m Trial 42 finished with value: 0.22424119572896567 and parameters: {'max_depth': 4, 'eta': 0.1, 'lambda': 1.4757729754552726e-06, 'gamma': 1.983834848391619e-07, 'alpha': 0.01799233798893163}. Best is trial 36 with value: 0.21853470111089732.\u001b[0m\n"
     ]
    },
    {
     "name": "stdout",
     "output_type": "stream",
     "text": [
      "[0]\tdtrain-rmse:0.44652\tdtrain-RMSPE:207.70239\tdval-rmse:0.44651\tdval-RMSPE:207.07300\n",
      "[50]\tdtrain-rmse:0.00257\tdtrain-RMSPE:1.25466\tdval-rmse:0.00258\tdval-RMSPE:1.24409\n",
      "[100]\tdtrain-rmse:0.00105\tdtrain-RMSPE:0.26808\tdval-rmse:0.00111\tdval-RMSPE:0.25986\n",
      "[150]\tdtrain-rmse:0.00100\tdtrain-RMSPE:0.25472\tdval-rmse:0.00108\tdval-RMSPE:0.24789\n",
      "[200]\tdtrain-rmse:0.00097\tdtrain-RMSPE:0.24787\tdval-rmse:0.00106\tdval-RMSPE:0.24180\n",
      "[250]\tdtrain-rmse:0.00095\tdtrain-RMSPE:0.24256\tdval-rmse:0.00104\tdval-RMSPE:0.23738\n",
      "[300]\tdtrain-rmse:0.00093\tdtrain-RMSPE:0.23757\tdval-rmse:0.00103\tdval-RMSPE:0.23276\n",
      "[350]\tdtrain-rmse:0.00092\tdtrain-RMSPE:0.23433\tdval-rmse:0.00103\tdval-RMSPE:0.23040\n",
      "[400]\tdtrain-rmse:0.00091\tdtrain-RMSPE:0.23160\tdval-rmse:0.00102\tdval-RMSPE:0.22829\n",
      "[450]\tdtrain-rmse:0.00090\tdtrain-RMSPE:0.22904\tdval-rmse:0.00102\tdval-RMSPE:0.22637\n",
      "[500]\tdtrain-rmse:0.00089\tdtrain-RMSPE:0.22647\tdval-rmse:0.00101\tdval-RMSPE:0.22434\n",
      "[550]\tdtrain-rmse:0.00088\tdtrain-RMSPE:0.22507\tdval-rmse:0.00101\tdval-RMSPE:0.22347\n",
      "[600]\tdtrain-rmse:0.00087\tdtrain-RMSPE:0.22364\tdval-rmse:0.00101\tdval-RMSPE:0.22259\n",
      "[650]\tdtrain-rmse:0.00087\tdtrain-RMSPE:0.22364\tdval-rmse:0.00101\tdval-RMSPE:0.22259\n",
      "[691]\tdtrain-rmse:0.00087\tdtrain-RMSPE:0.22364\tdval-rmse:0.00101\tdval-RMSPE:0.22259\n"
     ]
    },
    {
     "name": "stderr",
     "output_type": "stream",
     "text": [
      "\u001b[32m[I 2021-08-29 20:58:35,010]\u001b[0m Trial 43 finished with value: 0.22262434583826868 and parameters: {'max_depth': 6, 'eta': 0.1, 'lambda': 0.05142052053309223, 'gamma': 1.3161343613153553e-08, 'alpha': 0.1486812071142999}. Best is trial 36 with value: 0.21853470111089732.\u001b[0m\n"
     ]
    },
    {
     "name": "stdout",
     "output_type": "stream",
     "text": [
      "[0]\tdtrain-rmse:0.44652\tdtrain-RMSPE:207.70126\tdval-rmse:0.44651\tdval-RMSPE:207.07191\n",
      "[50]\tdtrain-rmse:0.00256\tdtrain-RMSPE:1.22982\tdval-rmse:0.00257\tdval-RMSPE:1.21821\n",
      "[100]\tdtrain-rmse:0.00104\tdtrain-RMSPE:0.26645\tdval-rmse:0.00111\tdval-RMSPE:0.25637\n",
      "[150]\tdtrain-rmse:0.00100\tdtrain-RMSPE:0.25549\tdval-rmse:0.00108\tdval-RMSPE:0.24673\n",
      "[200]\tdtrain-rmse:0.00097\tdtrain-RMSPE:0.24949\tdval-rmse:0.00106\tdval-RMSPE:0.24152\n",
      "[250]\tdtrain-rmse:0.00095\tdtrain-RMSPE:0.24411\tdval-rmse:0.00105\tdval-RMSPE:0.23722\n",
      "[300]\tdtrain-rmse:0.00093\tdtrain-RMSPE:0.23958\tdval-rmse:0.00104\tdval-RMSPE:0.23388\n",
      "[350]\tdtrain-rmse:0.00091\tdtrain-RMSPE:0.23554\tdval-rmse:0.00103\tdval-RMSPE:0.23101\n",
      "[400]\tdtrain-rmse:0.00090\tdtrain-RMSPE:0.23289\tdval-rmse:0.00102\tdval-RMSPE:0.22933\n",
      "[450]\tdtrain-rmse:0.00088\tdtrain-RMSPE:0.22989\tdval-rmse:0.00102\tdval-RMSPE:0.22744\n",
      "[500]\tdtrain-rmse:0.00087\tdtrain-RMSPE:0.22746\tdval-rmse:0.00102\tdval-RMSPE:0.22587\n",
      "[550]\tdtrain-rmse:0.00086\tdtrain-RMSPE:0.22568\tdval-rmse:0.00101\tdval-RMSPE:0.22479\n",
      "[600]\tdtrain-rmse:0.00085\tdtrain-RMSPE:0.22414\tdval-rmse:0.00101\tdval-RMSPE:0.22394\n",
      "[650]\tdtrain-rmse:0.00084\tdtrain-RMSPE:0.22220\tdval-rmse:0.00101\tdval-RMSPE:0.22280\n",
      "[700]\tdtrain-rmse:0.00083\tdtrain-RMSPE:0.22057\tdval-rmse:0.00101\tdval-RMSPE:0.22204\n",
      "[750]\tdtrain-rmse:0.00082\tdtrain-RMSPE:0.21920\tdval-rmse:0.00100\tdval-RMSPE:0.22143\n",
      "[800]\tdtrain-rmse:0.00082\tdtrain-RMSPE:0.21761\tdval-rmse:0.00100\tdval-RMSPE:0.22056\n",
      "[850]\tdtrain-rmse:0.00081\tdtrain-RMSPE:0.21611\tdval-rmse:0.00100\tdval-RMSPE:0.21989\n",
      "[900]\tdtrain-rmse:0.00080\tdtrain-RMSPE:0.21514\tdval-rmse:0.00100\tdval-RMSPE:0.21954\n",
      "[950]\tdtrain-rmse:0.00080\tdtrain-RMSPE:0.21420\tdval-rmse:0.00100\tdval-RMSPE:0.21920\n",
      "[999]\tdtrain-rmse:0.00079\tdtrain-RMSPE:0.21312\tdval-rmse:0.00100\tdval-RMSPE:0.21869\n"
     ]
    },
    {
     "name": "stderr",
     "output_type": "stream",
     "text": [
      "\u001b[32m[I 2021-08-29 20:59:18,269]\u001b[0m Trial 44 finished with value: 0.21865076599030386 and parameters: {'max_depth': 5, 'eta': 0.1, 'lambda': 1.333289209595081e-07, 'gamma': 1.259002897790115e-06, 'alpha': 0.03898779626034587}. Best is trial 36 with value: 0.21853470111089732.\u001b[0m\n"
     ]
    },
    {
     "name": "stdout",
     "output_type": "stream",
     "text": [
      "[0]\tdtrain-rmse:0.34729\tdtrain-RMSPE:161.60442\tdval-rmse:0.34728\tdval-RMSPE:161.11345\n",
      "[50]\tdtrain-rmse:0.00101\tdtrain-RMSPE:0.25998\tdval-rmse:0.00109\tdval-RMSPE:0.25078\n",
      "[100]\tdtrain-rmse:0.00093\tdtrain-RMSPE:0.24213\tdval-rmse:0.00105\tdval-RMSPE:0.23725\n",
      "[150]\tdtrain-rmse:0.00089\tdtrain-RMSPE:0.23102\tdval-rmse:0.00103\tdval-RMSPE:0.22924\n",
      "[200]\tdtrain-rmse:0.00086\tdtrain-RMSPE:0.22432\tdval-rmse:0.00103\tdval-RMSPE:0.22492\n",
      "[250]\tdtrain-rmse:0.00083\tdtrain-RMSPE:0.22003\tdval-rmse:0.00102\tdval-RMSPE:0.22362\n",
      "[300]\tdtrain-rmse:0.00081\tdtrain-RMSPE:0.21623\tdval-rmse:0.00102\tdval-RMSPE:0.22236\n",
      "[350]\tdtrain-rmse:0.00079\tdtrain-RMSPE:0.21322\tdval-rmse:0.00102\tdval-RMSPE:0.22115\n",
      "[400]\tdtrain-rmse:0.00077\tdtrain-RMSPE:0.20978\tdval-rmse:0.00102\tdval-RMSPE:0.22002\n",
      "[450]\tdtrain-rmse:0.00075\tdtrain-RMSPE:0.20736\tdval-rmse:0.00102\tdval-RMSPE:0.21930\n",
      "[500]\tdtrain-rmse:0.00074\tdtrain-RMSPE:0.20492\tdval-rmse:0.00102\tdval-RMSPE:0.21901\n",
      "[550]\tdtrain-rmse:0.00073\tdtrain-RMSPE:0.20356\tdval-rmse:0.00102\tdval-RMSPE:0.21891\n",
      "[600]\tdtrain-rmse:0.00073\tdtrain-RMSPE:0.20356\tdval-rmse:0.00102\tdval-RMSPE:0.21891\n",
      "[620]\tdtrain-rmse:0.00073\tdtrain-RMSPE:0.20356\tdval-rmse:0.00102\tdval-RMSPE:0.21891\n"
     ]
    },
    {
     "name": "stderr",
     "output_type": "stream",
     "text": [
      "\u001b[32m[I 2021-08-29 20:59:44,199]\u001b[0m Trial 45 finished with value: 0.2189119603968089 and parameters: {'max_depth': 5, 'eta': 0.3, 'lambda': 4.751518622037727e-07, 'gamma': 9.042379807916261e-07, 'alpha': 0.035289342175276614}. Best is trial 36 with value: 0.21853470111089732.\u001b[0m\n"
     ]
    },
    {
     "name": "stdout",
     "output_type": "stream",
     "text": [
      "[0]\tdtrain-rmse:0.34729\tdtrain-RMSPE:161.61362\tdval-rmse:0.34728\tdval-RMSPE:161.12256\n",
      "[50]\tdtrain-rmse:0.00106\tdtrain-RMSPE:0.26579\tdval-rmse:0.00112\tdval-RMSPE:0.25713\n",
      "[100]\tdtrain-rmse:0.00100\tdtrain-RMSPE:0.25265\tdval-rmse:0.00107\tdval-RMSPE:0.24511\n",
      "[150]\tdtrain-rmse:0.00096\tdtrain-RMSPE:0.24371\tdval-rmse:0.00105\tdval-RMSPE:0.23766\n",
      "[200]\tdtrain-rmse:0.00093\tdtrain-RMSPE:0.23749\tdval-rmse:0.00104\tdval-RMSPE:0.23305\n",
      "[250]\tdtrain-rmse:0.00091\tdtrain-RMSPE:0.23324\tdval-rmse:0.00103\tdval-RMSPE:0.22990\n",
      "[300]\tdtrain-rmse:0.00089\tdtrain-RMSPE:0.22914\tdval-rmse:0.00102\tdval-RMSPE:0.22689\n",
      "[350]\tdtrain-rmse:0.00088\tdtrain-RMSPE:0.22665\tdval-rmse:0.00102\tdval-RMSPE:0.22549\n",
      "[400]\tdtrain-rmse:0.00086\tdtrain-RMSPE:0.22360\tdval-rmse:0.00102\tdval-RMSPE:0.22358\n",
      "[450]\tdtrain-rmse:0.00085\tdtrain-RMSPE:0.22152\tdval-rmse:0.00102\tdval-RMSPE:0.22239\n",
      "[500]\tdtrain-rmse:0.00084\tdtrain-RMSPE:0.21938\tdval-rmse:0.00102\tdval-RMSPE:0.22120\n",
      "[550]\tdtrain-rmse:0.00083\tdtrain-RMSPE:0.21738\tdval-rmse:0.00102\tdval-RMSPE:0.22049\n",
      "[600]\tdtrain-rmse:0.00082\tdtrain-RMSPE:0.21582\tdval-rmse:0.00102\tdval-RMSPE:0.22039\n",
      "[650]\tdtrain-rmse:0.00081\tdtrain-RMSPE:0.21424\tdval-rmse:0.00101\tdval-RMSPE:0.21965\n",
      "[700]\tdtrain-rmse:0.00080\tdtrain-RMSPE:0.21299\tdval-rmse:0.00101\tdval-RMSPE:0.21948\n",
      "[750]\tdtrain-rmse:0.00079\tdtrain-RMSPE:0.21224\tdval-rmse:0.00101\tdval-RMSPE:0.21928\n",
      "[800]\tdtrain-rmse:0.00078\tdtrain-RMSPE:0.21122\tdval-rmse:0.00101\tdval-RMSPE:0.21897\n",
      "[850]\tdtrain-rmse:0.00078\tdtrain-RMSPE:0.21122\tdval-rmse:0.00101\tdval-RMSPE:0.21897\n",
      "[895]\tdtrain-rmse:0.00078\tdtrain-RMSPE:0.21122\tdval-rmse:0.00101\tdval-RMSPE:0.21897\n"
     ]
    },
    {
     "name": "stderr",
     "output_type": "stream",
     "text": [
      "\u001b[32m[I 2021-08-29 21:00:15,131]\u001b[0m Trial 46 finished with value: 0.21900011811107967 and parameters: {'max_depth': 4, 'eta': 0.3, 'lambda': 2.8820150395230812e-08, 'gamma': 9.252077543683266e-07, 'alpha': 0.0434711493430975}. Best is trial 36 with value: 0.21853470111089732.\u001b[0m\n"
     ]
    },
    {
     "name": "stdout",
     "output_type": "stream",
     "text": [
      "[0]\tdtrain-rmse:0.34730\tdtrain-RMSPE:161.69580\tdval-rmse:0.34729\tdval-RMSPE:161.20474\n",
      "[50]\tdtrain-rmse:0.00118\tdtrain-RMSPE:0.28550\tdval-rmse:0.00121\tdval-RMSPE:0.27837\n",
      "[100]\tdtrain-rmse:0.00113\tdtrain-RMSPE:0.27666\tdval-rmse:0.00117\tdval-RMSPE:0.26817\n",
      "[150]\tdtrain-rmse:0.00111\tdtrain-RMSPE:0.27168\tdval-rmse:0.00115\tdval-RMSPE:0.26335\n",
      "[200]\tdtrain-rmse:0.00109\tdtrain-RMSPE:0.26759\tdval-rmse:0.00113\tdval-RMSPE:0.25951\n",
      "[250]\tdtrain-rmse:0.00108\tdtrain-RMSPE:0.26459\tdval-rmse:0.00112\tdval-RMSPE:0.25627\n",
      "[300]\tdtrain-rmse:0.00107\tdtrain-RMSPE:0.26206\tdval-rmse:0.00111\tdval-RMSPE:0.25364\n",
      "[350]\tdtrain-rmse:0.00106\tdtrain-RMSPE:0.26051\tdval-rmse:0.00110\tdval-RMSPE:0.25241\n",
      "[400]\tdtrain-rmse:0.00106\tdtrain-RMSPE:0.25825\tdval-rmse:0.00110\tdval-RMSPE:0.25052\n",
      "[450]\tdtrain-rmse:0.00105\tdtrain-RMSPE:0.25670\tdval-rmse:0.00109\tdval-RMSPE:0.24898\n",
      "[500]\tdtrain-rmse:0.00105\tdtrain-RMSPE:0.25564\tdval-rmse:0.00109\tdval-RMSPE:0.24771\n",
      "[550]\tdtrain-rmse:0.00104\tdtrain-RMSPE:0.25513\tdval-rmse:0.00109\tdval-RMSPE:0.24712\n",
      "[600]\tdtrain-rmse:0.00104\tdtrain-RMSPE:0.25513\tdval-rmse:0.00109\tdval-RMSPE:0.24712\n",
      "[613]\tdtrain-rmse:0.00104\tdtrain-RMSPE:0.25513\tdval-rmse:0.00109\tdval-RMSPE:0.24712\n"
     ]
    },
    {
     "name": "stderr",
     "output_type": "stream",
     "text": [
      "\u001b[32m[I 2021-08-29 21:00:31,992]\u001b[0m Trial 47 finished with value: 0.24712962292301516 and parameters: {'max_depth': 2, 'eta': 0.3, 'lambda': 2.087844186665888e-08, 'gamma': 4.570269730931268e-06, 'alpha': 0.368407830449171}. Best is trial 36 with value: 0.21853470111089732.\u001b[0m\n"
     ]
    },
    {
     "name": "stdout",
     "output_type": "stream",
     "text": [
      "[0]\tdtrain-rmse:0.34729\tdtrain-RMSPE:161.60774\tdval-rmse:0.34728\tdval-RMSPE:161.11675\n",
      "[50]\tdtrain-rmse:0.00110\tdtrain-RMSPE:0.27253\tdval-rmse:0.00114\tdval-RMSPE:0.26256\n",
      "[100]\tdtrain-rmse:0.00105\tdtrain-RMSPE:0.26332\tdval-rmse:0.00110\tdval-RMSPE:0.25438\n",
      "[150]\tdtrain-rmse:0.00102\tdtrain-RMSPE:0.25497\tdval-rmse:0.00108\tdval-RMSPE:0.24766\n",
      "[200]\tdtrain-rmse:0.00100\tdtrain-RMSPE:0.25055\tdval-rmse:0.00106\tdval-RMSPE:0.24376\n",
      "[250]\tdtrain-rmse:0.00098\tdtrain-RMSPE:0.24597\tdval-rmse:0.00105\tdval-RMSPE:0.24022\n",
      "[300]\tdtrain-rmse:0.00096\tdtrain-RMSPE:0.24268\tdval-rmse:0.00104\tdval-RMSPE:0.23708\n",
      "[350]\tdtrain-rmse:0.00095\tdtrain-RMSPE:0.23974\tdval-rmse:0.00104\tdval-RMSPE:0.23484\n",
      "[400]\tdtrain-rmse:0.00094\tdtrain-RMSPE:0.23711\tdval-rmse:0.00103\tdval-RMSPE:0.23257\n",
      "[450]\tdtrain-rmse:0.00093\tdtrain-RMSPE:0.23427\tdval-rmse:0.00103\tdval-RMSPE:0.23069\n",
      "[500]\tdtrain-rmse:0.00092\tdtrain-RMSPE:0.23244\tdval-rmse:0.00102\tdval-RMSPE:0.22923\n",
      "[550]\tdtrain-rmse:0.00091\tdtrain-RMSPE:0.23132\tdval-rmse:0.00102\tdval-RMSPE:0.22840\n",
      "[600]\tdtrain-rmse:0.00090\tdtrain-RMSPE:0.22918\tdval-rmse:0.00102\tdval-RMSPE:0.22695\n",
      "[650]\tdtrain-rmse:0.00089\tdtrain-RMSPE:0.22793\tdval-rmse:0.00102\tdval-RMSPE:0.22627\n",
      "[700]\tdtrain-rmse:0.00089\tdtrain-RMSPE:0.22710\tdval-rmse:0.00102\tdval-RMSPE:0.22571\n",
      "[750]\tdtrain-rmse:0.00088\tdtrain-RMSPE:0.22519\tdval-rmse:0.00102\tdval-RMSPE:0.22477\n",
      "[800]\tdtrain-rmse:0.00088\tdtrain-RMSPE:0.22460\tdval-rmse:0.00101\tdval-RMSPE:0.22426\n",
      "[850]\tdtrain-rmse:0.00087\tdtrain-RMSPE:0.22315\tdval-rmse:0.00101\tdval-RMSPE:0.22388\n",
      "[900]\tdtrain-rmse:0.00086\tdtrain-RMSPE:0.22225\tdval-rmse:0.00101\tdval-RMSPE:0.22320\n",
      "[950]\tdtrain-rmse:0.00086\tdtrain-RMSPE:0.22087\tdval-rmse:0.00101\tdval-RMSPE:0.22288\n",
      "[999]\tdtrain-rmse:0.00085\tdtrain-RMSPE:0.22049\tdval-rmse:0.00101\tdval-RMSPE:0.22259\n"
     ]
    },
    {
     "name": "stderr",
     "output_type": "stream",
     "text": [
      "\u001b[32m[I 2021-08-29 21:01:02,048]\u001b[0m Trial 48 finished with value: 0.22259713715629226 and parameters: {'max_depth': 3, 'eta': 0.3, 'lambda': 1.6541176540826244e-07, 'gamma': 9.530694127610853e-07, 'alpha': 0.034830015784567146}. Best is trial 36 with value: 0.21853470111089732.\u001b[0m\n"
     ]
    },
    {
     "name": "stdout",
     "output_type": "stream",
     "text": [
      "[0]\tdtrain-rmse:0.34730\tdtrain-RMSPE:161.69612\tdval-rmse:0.34729\tdval-RMSPE:161.20503\n",
      "[50]\tdtrain-rmse:0.00113\tdtrain-RMSPE:0.27553\tdval-rmse:0.00116\tdval-RMSPE:0.26792\n",
      "[100]\tdtrain-rmse:0.00110\tdtrain-RMSPE:0.26877\tdval-rmse:0.00114\tdval-RMSPE:0.26132\n",
      "[150]\tdtrain-rmse:0.00110\tdtrain-RMSPE:0.26877\tdval-rmse:0.00114\tdval-RMSPE:0.26132\n",
      "[173]\tdtrain-rmse:0.00110\tdtrain-RMSPE:0.26877\tdval-rmse:0.00114\tdval-RMSPE:0.26132\n"
     ]
    },
    {
     "name": "stderr",
     "output_type": "stream",
     "text": [
      "\u001b[32m[I 2021-08-29 21:01:09,676]\u001b[0m Trial 49 finished with value: 0.2613131136841032 and parameters: {'max_depth': 4, 'eta': 0.3, 'lambda': 2.8702594879720033e-08, 'gamma': 2.051282472730783e-05, 'alpha': 0.9174543514504551}. Best is trial 36 with value: 0.21853470111089732.\u001b[0m\n"
     ]
    },
    {
     "name": "stdout",
     "output_type": "stream",
     "text": [
      "[0]\tdtrain-rmse:0.34729\tdtrain-RMSPE:161.61649\tdval-rmse:0.34728\tdval-RMSPE:161.12546\n",
      "[50]\tdtrain-rmse:0.00119\tdtrain-RMSPE:0.29122\tdval-rmse:0.00122\tdval-RMSPE:0.28067\n",
      "[100]\tdtrain-rmse:0.00119\tdtrain-RMSPE:0.29122\tdval-rmse:0.00122\tdval-RMSPE:0.28067\n",
      "[150]\tdtrain-rmse:0.00119\tdtrain-RMSPE:0.29122\tdval-rmse:0.00122\tdval-RMSPE:0.28067\n",
      "[155]\tdtrain-rmse:0.00119\tdtrain-RMSPE:0.29122\tdval-rmse:0.00122\tdval-RMSPE:0.28067\n"
     ]
    },
    {
     "name": "stderr",
     "output_type": "stream",
     "text": [
      "\u001b[32m[I 2021-08-29 21:01:16,003]\u001b[0m Trial 50 finished with value: 0.2806659594715122 and parameters: {'max_depth': 3, 'eta': 0.3, 'lambda': 7.863256602026749e-06, 'gamma': 0.0006031397658221194, 'alpha': 0.20178425621884782}. Best is trial 36 with value: 0.21853470111089732.\u001b[0m\n"
     ]
    },
    {
     "name": "stdout",
     "output_type": "stream",
     "text": [
      "[0]\tdtrain-rmse:0.34729\tdtrain-RMSPE:161.60822\tdval-rmse:0.34728\tdval-RMSPE:161.11725\n",
      "[50]\tdtrain-rmse:0.00102\tdtrain-RMSPE:0.25796\tdval-rmse:0.00109\tdval-RMSPE:0.25056\n",
      "[100]\tdtrain-rmse:0.00095\tdtrain-RMSPE:0.24314\tdval-rmse:0.00105\tdval-RMSPE:0.23784\n",
      "[150]\tdtrain-rmse:0.00091\tdtrain-RMSPE:0.23415\tdval-rmse:0.00103\tdval-RMSPE:0.23043\n",
      "[200]\tdtrain-rmse:0.00088\tdtrain-RMSPE:0.22794\tdval-rmse:0.00102\tdval-RMSPE:0.22626\n",
      "[250]\tdtrain-rmse:0.00085\tdtrain-RMSPE:0.22355\tdval-rmse:0.00102\tdval-RMSPE:0.22371\n",
      "[300]\tdtrain-rmse:0.00083\tdtrain-RMSPE:0.21914\tdval-rmse:0.00102\tdval-RMSPE:0.22194\n",
      "[350]\tdtrain-rmse:0.00081\tdtrain-RMSPE:0.21612\tdval-rmse:0.00101\tdval-RMSPE:0.22066\n",
      "[400]\tdtrain-rmse:0.00080\tdtrain-RMSPE:0.21355\tdval-rmse:0.00101\tdval-RMSPE:0.21957\n",
      "[450]\tdtrain-rmse:0.00078\tdtrain-RMSPE:0.21133\tdval-rmse:0.00101\tdval-RMSPE:0.21882\n",
      "[500]\tdtrain-rmse:0.00078\tdtrain-RMSPE:0.21149\tdval-rmse:0.00101\tdval-RMSPE:0.21891\n",
      "[550]\tdtrain-rmse:0.00078\tdtrain-RMSPE:0.21149\tdval-rmse:0.00101\tdval-RMSPE:0.21891\n"
     ]
    },
    {
     "name": "stderr",
     "output_type": "stream",
     "text": [
      "\u001b[32m[I 2021-08-29 21:01:39,287]\u001b[0m Trial 51 finished with value: 0.21892174766834963 and parameters: {'max_depth': 5, 'eta': 0.3, 'lambda': 3.434015522218091e-07, 'gamma': 1.0508552476540049e-06, 'alpha': 0.05853018910280374}. Best is trial 36 with value: 0.21853470111089732.\u001b[0m\n"
     ]
    },
    {
     "name": "stdout",
     "output_type": "stream",
     "text": [
      "[0]\tdtrain-rmse:0.34729\tdtrain-RMSPE:161.58174\tdval-rmse:0.34728\tdval-RMSPE:161.09065\n",
      "[50]\tdtrain-rmse:0.00100\tdtrain-RMSPE:0.25659\tdval-rmse:0.00108\tdval-RMSPE:0.24961\n",
      "[100]\tdtrain-rmse:0.00092\tdtrain-RMSPE:0.24212\tdval-rmse:0.00105\tdval-RMSPE:0.23833\n",
      "[150]\tdtrain-rmse:0.00087\tdtrain-RMSPE:0.23134\tdval-rmse:0.00103\tdval-RMSPE:0.23090\n",
      "[200]\tdtrain-rmse:0.00084\tdtrain-RMSPE:0.22524\tdval-rmse:0.00103\tdval-RMSPE:0.22761\n",
      "[250]\tdtrain-rmse:0.00080\tdtrain-RMSPE:0.22074\tdval-rmse:0.00102\tdval-RMSPE:0.22520\n",
      "[300]\tdtrain-rmse:0.00078\tdtrain-RMSPE:0.21619\tdval-rmse:0.00102\tdval-RMSPE:0.22333\n",
      "[350]\tdtrain-rmse:0.00076\tdtrain-RMSPE:0.21205\tdval-rmse:0.00102\tdval-RMSPE:0.22267\n",
      "[400]\tdtrain-rmse:0.00074\tdtrain-RMSPE:0.20856\tdval-rmse:0.00102\tdval-RMSPE:0.22134\n",
      "[450]\tdtrain-rmse:0.00072\tdtrain-RMSPE:0.20589\tdval-rmse:0.00102\tdval-RMSPE:0.22088\n",
      "[500]\tdtrain-rmse:0.00071\tdtrain-RMSPE:0.20282\tdval-rmse:0.00102\tdval-RMSPE:0.22053\n",
      "[550]\tdtrain-rmse:0.00069\tdtrain-RMSPE:0.20060\tdval-rmse:0.00102\tdval-RMSPE:0.22031\n",
      "[600]\tdtrain-rmse:0.00068\tdtrain-RMSPE:0.19792\tdval-rmse:0.00102\tdval-RMSPE:0.22033\n",
      "[646]\tdtrain-rmse:0.00068\tdtrain-RMSPE:0.19793\tdval-rmse:0.00102\tdval-RMSPE:0.22033\n"
     ]
    },
    {
     "name": "stderr",
     "output_type": "stream",
     "text": [
      "\u001b[32m[I 2021-08-29 21:02:06,785]\u001b[0m Trial 52 finished with value: 0.22031586810241857 and parameters: {'max_depth': 5, 'eta': 0.3, 'lambda': 1.0784105315123047e-07, 'gamma': 1.0408778667842126e-06, 'alpha': 0.015416938591123915}. Best is trial 36 with value: 0.21853470111089732.\u001b[0m\n"
     ]
    },
    {
     "name": "stdout",
     "output_type": "stream",
     "text": [
      "[0]\tdtrain-rmse:0.34729\tdtrain-RMSPE:161.61500\tdval-rmse:0.34728\tdval-RMSPE:161.12390\n",
      "[50]\tdtrain-rmse:0.00107\tdtrain-RMSPE:0.26930\tdval-rmse:0.00113\tdval-RMSPE:0.25970\n",
      "[100]\tdtrain-rmse:0.00101\tdtrain-RMSPE:0.25371\tdval-rmse:0.00108\tdval-RMSPE:0.24613\n",
      "[150]\tdtrain-rmse:0.00097\tdtrain-RMSPE:0.24503\tdval-rmse:0.00106\tdval-RMSPE:0.23902\n",
      "[200]\tdtrain-rmse:0.00095\tdtrain-RMSPE:0.23926\tdval-rmse:0.00104\tdval-RMSPE:0.23429\n",
      "[250]\tdtrain-rmse:0.00093\tdtrain-RMSPE:0.23454\tdval-rmse:0.00103\tdval-RMSPE:0.23025\n",
      "[300]\tdtrain-rmse:0.00092\tdtrain-RMSPE:0.23129\tdval-rmse:0.00103\tdval-RMSPE:0.22769\n",
      "[350]\tdtrain-rmse:0.00090\tdtrain-RMSPE:0.22862\tdval-rmse:0.00102\tdval-RMSPE:0.22577\n",
      "[400]\tdtrain-rmse:0.00089\tdtrain-RMSPE:0.22645\tdval-rmse:0.00102\tdval-RMSPE:0.22454\n",
      "[450]\tdtrain-rmse:0.00089\tdtrain-RMSPE:0.22645\tdval-rmse:0.00102\tdval-RMSPE:0.22454\n",
      "[492]\tdtrain-rmse:0.00089\tdtrain-RMSPE:0.22645\tdval-rmse:0.00102\tdval-RMSPE:0.22454\n"
     ]
    },
    {
     "name": "stderr",
     "output_type": "stream",
     "text": [
      "\u001b[32m[I 2021-08-29 21:02:24,823]\u001b[0m Trial 53 finished with value: 0.2245020691876466 and parameters: {'max_depth': 4, 'eta': 0.3, 'lambda': 1.8435648701823923e-06, 'gamma': 2.2756098198058528e-06, 'alpha': 0.08800371171263627}. Best is trial 36 with value: 0.21853470111089732.\u001b[0m\n"
     ]
    },
    {
     "name": "stdout",
     "output_type": "stream",
     "text": [
      "[0]\tdtrain-rmse:0.34729\tdtrain-RMSPE:161.57130\tdval-rmse:0.34728\tdval-RMSPE:161.08066\n",
      "[50]\tdtrain-rmse:0.00099\tdtrain-RMSPE:0.25581\tdval-rmse:0.00110\tdval-RMSPE:0.24946\n",
      "[100]\tdtrain-rmse:0.00090\tdtrain-RMSPE:0.23954\tdval-rmse:0.00106\tdval-RMSPE:0.23710\n",
      "[150]\tdtrain-rmse:0.00085\tdtrain-RMSPE:0.23034\tdval-rmse:0.00105\tdval-RMSPE:0.23259\n",
      "[200]\tdtrain-rmse:0.00082\tdtrain-RMSPE:0.22242\tdval-rmse:0.00104\tdval-RMSPE:0.22805\n",
      "[250]\tdtrain-rmse:0.00078\tdtrain-RMSPE:0.21630\tdval-rmse:0.00104\tdval-RMSPE:0.22576\n",
      "[300]\tdtrain-rmse:0.00076\tdtrain-RMSPE:0.21246\tdval-rmse:0.00104\tdval-RMSPE:0.22502\n",
      "[350]\tdtrain-rmse:0.00076\tdtrain-RMSPE:0.21193\tdval-rmse:0.00104\tdval-RMSPE:0.22494\n",
      "[400]\tdtrain-rmse:0.00076\tdtrain-RMSPE:0.21193\tdval-rmse:0.00104\tdval-RMSPE:0.22494\n",
      "[402]\tdtrain-rmse:0.00076\tdtrain-RMSPE:0.21193\tdval-rmse:0.00104\tdval-RMSPE:0.22494\n"
     ]
    },
    {
     "name": "stderr",
     "output_type": "stream",
     "text": [
      "\u001b[32m[I 2021-08-29 21:02:41,760]\u001b[0m Trial 54 finished with value: 0.22494367329721715 and parameters: {'max_depth': 5, 'eta': 0.3, 'lambda': 3.449912503293958e-07, 'gamma': 3.3134547408574513e-06, 'alpha': 0.004137365266638734}. Best is trial 36 with value: 0.21853470111089732.\u001b[0m\n"
     ]
    },
    {
     "name": "stdout",
     "output_type": "stream",
     "text": [
      "[0]\tdtrain-rmse:0.34730\tdtrain-RMSPE:161.70152\tdval-rmse:0.34729\tdval-RMSPE:161.21045\n",
      "[50]\tdtrain-rmse:0.00104\tdtrain-RMSPE:0.26210\tdval-rmse:0.00110\tdval-RMSPE:0.25533\n",
      "[100]\tdtrain-rmse:0.00101\tdtrain-RMSPE:0.25330\tdval-rmse:0.00107\tdval-RMSPE:0.24738\n",
      "[150]\tdtrain-rmse:0.00101\tdtrain-RMSPE:0.25330\tdval-rmse:0.00107\tdval-RMSPE:0.24738\n",
      "[176]\tdtrain-rmse:0.00101\tdtrain-RMSPE:0.25330\tdval-rmse:0.00107\tdval-RMSPE:0.24738\n"
     ]
    },
    {
     "name": "stderr",
     "output_type": "stream",
     "text": [
      "\u001b[32m[I 2021-08-29 21:02:50,322]\u001b[0m Trial 55 finished with value: 0.24738819009225013 and parameters: {'max_depth': 6, 'eta': 0.3, 'lambda': 1.427686556242435e-07, 'gamma': 1.4263155239098552e-05, 'alpha': 0.33753198789069727}. Best is trial 36 with value: 0.21853470111089732.\u001b[0m\n"
     ]
    },
    {
     "name": "stdout",
     "output_type": "stream",
     "text": [
      "[0]\tdtrain-rmse:0.34729\tdtrain-RMSPE:161.58049\tdval-rmse:0.34728\tdval-RMSPE:161.08946\n",
      "[50]\tdtrain-rmse:0.00105\tdtrain-RMSPE:0.26410\tdval-rmse:0.00111\tdval-RMSPE:0.25450\n",
      "[100]\tdtrain-rmse:0.00099\tdtrain-RMSPE:0.25161\tdval-rmse:0.00107\tdval-RMSPE:0.24430\n",
      "[150]\tdtrain-rmse:0.00095\tdtrain-RMSPE:0.24358\tdval-rmse:0.00105\tdval-RMSPE:0.23786\n",
      "[200]\tdtrain-rmse:0.00092\tdtrain-RMSPE:0.23831\tdval-rmse:0.00104\tdval-RMSPE:0.23366\n",
      "[250]\tdtrain-rmse:0.00090\tdtrain-RMSPE:0.23338\tdval-rmse:0.00103\tdval-RMSPE:0.23010\n",
      "[300]\tdtrain-rmse:0.00088\tdtrain-RMSPE:0.23042\tdval-rmse:0.00103\tdval-RMSPE:0.22799\n",
      "[350]\tdtrain-rmse:0.00086\tdtrain-RMSPE:0.22581\tdval-rmse:0.00102\tdval-RMSPE:0.22601\n",
      "[400]\tdtrain-rmse:0.00085\tdtrain-RMSPE:0.22422\tdval-rmse:0.00102\tdval-RMSPE:0.22549\n",
      "[450]\tdtrain-rmse:0.00083\tdtrain-RMSPE:0.22153\tdval-rmse:0.00102\tdval-RMSPE:0.22376\n",
      "[500]\tdtrain-rmse:0.00082\tdtrain-RMSPE:0.21997\tdval-rmse:0.00102\tdval-RMSPE:0.22322\n",
      "[550]\tdtrain-rmse:0.00081\tdtrain-RMSPE:0.21735\tdval-rmse:0.00102\tdval-RMSPE:0.22253\n",
      "[600]\tdtrain-rmse:0.00080\tdtrain-RMSPE:0.21598\tdval-rmse:0.00102\tdval-RMSPE:0.22176\n",
      "[650]\tdtrain-rmse:0.00079\tdtrain-RMSPE:0.21444\tdval-rmse:0.00102\tdval-RMSPE:0.22140\n",
      "[700]\tdtrain-rmse:0.00078\tdtrain-RMSPE:0.21251\tdval-rmse:0.00102\tdval-RMSPE:0.22069\n",
      "[750]\tdtrain-rmse:0.00077\tdtrain-RMSPE:0.21157\tdval-rmse:0.00102\tdval-RMSPE:0.22073\n",
      "[800]\tdtrain-rmse:0.00076\tdtrain-RMSPE:0.20998\tdval-rmse:0.00102\tdval-RMSPE:0.22027\n",
      "[850]\tdtrain-rmse:0.00075\tdtrain-RMSPE:0.20855\tdval-rmse:0.00102\tdval-RMSPE:0.22000\n",
      "[900]\tdtrain-rmse:0.00074\tdtrain-RMSPE:0.20743\tdval-rmse:0.00102\tdval-RMSPE:0.21993\n",
      "[950]\tdtrain-rmse:0.00074\tdtrain-RMSPE:0.20736\tdval-rmse:0.00102\tdval-RMSPE:0.21994\n",
      "[968]\tdtrain-rmse:0.00074\tdtrain-RMSPE:0.20736\tdval-rmse:0.00102\tdval-RMSPE:0.21994\n"
     ]
    },
    {
     "name": "stderr",
     "output_type": "stream",
     "text": [
      "\u001b[32m[I 2021-08-29 21:03:23,747]\u001b[0m Trial 56 finished with value: 0.21990924872055945 and parameters: {'max_depth': 4, 'eta': 0.3, 'lambda': 2.237083748125845e-08, 'gamma': 6.740875905643951e-07, 'alpha': 0.022854599055387555}. Best is trial 36 with value: 0.21853470111089732.\u001b[0m\n"
     ]
    },
    {
     "name": "stdout",
     "output_type": "stream",
     "text": [
      "[0]\tdtrain-rmse:0.34729\tdtrain-RMSPE:161.61140\tdval-rmse:0.34728\tdval-RMSPE:161.12044\n",
      "[50]\tdtrain-rmse:0.00102\tdtrain-RMSPE:0.25922\tdval-rmse:0.00109\tdval-RMSPE:0.25089\n",
      "[100]\tdtrain-rmse:0.00098\tdtrain-RMSPE:0.25380\tdval-rmse:0.00107\tdval-RMSPE:0.24537\n",
      "[150]\tdtrain-rmse:0.00098\tdtrain-RMSPE:0.25380\tdval-rmse:0.00107\tdval-RMSPE:0.24537\n",
      "[171]\tdtrain-rmse:0.00098\tdtrain-RMSPE:0.25380\tdval-rmse:0.00107\tdval-RMSPE:0.24537\n"
     ]
    },
    {
     "name": "stderr",
     "output_type": "stream",
     "text": [
      "\u001b[32m[I 2021-08-29 21:03:31,574]\u001b[0m Trial 57 finished with value: 0.24536975715622947 and parameters: {'max_depth': 5, 'eta': 0.3, 'lambda': 7.688767183550998e-08, 'gamma': 3.591587371815424e-05, 'alpha': 0.0417376519534095}. Best is trial 36 with value: 0.21853470111089732.\u001b[0m\n"
     ]
    },
    {
     "name": "stdout",
     "output_type": "stream",
     "text": [
      "[0]\tdtrain-rmse:0.34729\tdtrain-RMSPE:161.57315\tdval-rmse:0.34728\tdval-RMSPE:161.08234\n",
      "[50]\tdtrain-rmse:0.00107\tdtrain-RMSPE:0.26974\tdval-rmse:0.00112\tdval-RMSPE:0.25879\n",
      "[100]\tdtrain-rmse:0.00107\tdtrain-RMSPE:0.26974\tdval-rmse:0.00112\tdval-RMSPE:0.25879\n",
      "[150]\tdtrain-rmse:0.00107\tdtrain-RMSPE:0.26974\tdval-rmse:0.00112\tdval-RMSPE:0.25879\n",
      "[152]\tdtrain-rmse:0.00107\tdtrain-RMSPE:0.26974\tdval-rmse:0.00112\tdval-RMSPE:0.25879\n"
     ]
    },
    {
     "name": "stderr",
     "output_type": "stream",
     "text": [
      "\u001b[32m[I 2021-08-29 21:03:38,169]\u001b[0m Trial 58 finished with value: 0.2587868723790999 and parameters: {'max_depth': 6, 'eta': 0.3, 'lambda': 2.405656082003491e-06, 'gamma': 0.00017178756726405088, 'alpha': 0.0030956009612409926}. Best is trial 36 with value: 0.21853470111089732.\u001b[0m\n"
     ]
    },
    {
     "name": "stdout",
     "output_type": "stream",
     "text": [
      "[0]\tdtrain-rmse:0.34729\tdtrain-RMSPE:161.58174\tdval-rmse:0.34728\tdval-RMSPE:161.09064\n",
      "[50]\tdtrain-rmse:0.00109\tdtrain-RMSPE:0.27111\tdval-rmse:0.00114\tdval-RMSPE:0.26119\n",
      "[100]\tdtrain-rmse:0.00104\tdtrain-RMSPE:0.26175\tdval-rmse:0.00111\tdval-RMSPE:0.25271\n",
      "[150]\tdtrain-rmse:0.00101\tdtrain-RMSPE:0.25468\tdval-rmse:0.00108\tdval-RMSPE:0.24727\n",
      "[200]\tdtrain-rmse:0.00098\tdtrain-RMSPE:0.25035\tdval-rmse:0.00107\tdval-RMSPE:0.24385\n",
      "[250]\tdtrain-rmse:0.00097\tdtrain-RMSPE:0.24686\tdval-rmse:0.00106\tdval-RMSPE:0.24059\n",
      "[300]\tdtrain-rmse:0.00095\tdtrain-RMSPE:0.24321\tdval-rmse:0.00105\tdval-RMSPE:0.23707\n",
      "[350]\tdtrain-rmse:0.00094\tdtrain-RMSPE:0.24108\tdval-rmse:0.00104\tdval-RMSPE:0.23467\n",
      "[400]\tdtrain-rmse:0.00092\tdtrain-RMSPE:0.23798\tdval-rmse:0.00104\tdval-RMSPE:0.23209\n",
      "[450]\tdtrain-rmse:0.00091\tdtrain-RMSPE:0.23606\tdval-rmse:0.00104\tdval-RMSPE:0.23061\n",
      "[500]\tdtrain-rmse:0.00090\tdtrain-RMSPE:0.23426\tdval-rmse:0.00103\tdval-RMSPE:0.22914\n",
      "[550]\tdtrain-rmse:0.00089\tdtrain-RMSPE:0.23278\tdval-rmse:0.00103\tdval-RMSPE:0.22864\n",
      "[600]\tdtrain-rmse:0.00088\tdtrain-RMSPE:0.23063\tdval-rmse:0.00103\tdval-RMSPE:0.22749\n",
      "[650]\tdtrain-rmse:0.00087\tdtrain-RMSPE:0.22899\tdval-rmse:0.00103\tdval-RMSPE:0.22656\n",
      "[700]\tdtrain-rmse:0.00087\tdtrain-RMSPE:0.22662\tdval-rmse:0.00103\tdval-RMSPE:0.22545\n",
      "[750]\tdtrain-rmse:0.00086\tdtrain-RMSPE:0.22508\tdval-rmse:0.00102\tdval-RMSPE:0.22455\n",
      "[800]\tdtrain-rmse:0.00085\tdtrain-RMSPE:0.22433\tdval-rmse:0.00102\tdval-RMSPE:0.22392\n",
      "[850]\tdtrain-rmse:0.00085\tdtrain-RMSPE:0.22299\tdval-rmse:0.00102\tdval-RMSPE:0.22362\n",
      "[900]\tdtrain-rmse:0.00084\tdtrain-RMSPE:0.22256\tdval-rmse:0.00102\tdval-RMSPE:0.22335\n",
      "[950]\tdtrain-rmse:0.00083\tdtrain-RMSPE:0.22127\tdval-rmse:0.00102\tdval-RMSPE:0.22275\n",
      "[999]\tdtrain-rmse:0.00083\tdtrain-RMSPE:0.22051\tdval-rmse:0.00102\tdval-RMSPE:0.22276\n"
     ]
    },
    {
     "name": "stderr",
     "output_type": "stream",
     "text": [
      "\u001b[32m[I 2021-08-29 21:04:07,647]\u001b[0m Trial 59 finished with value: 0.22283080736543665 and parameters: {'max_depth': 3, 'eta': 0.3, 'lambda': 4.565156586449934e-08, 'gamma': 1.3364129164470397e-06, 'alpha': 0.007642429230923624}. Best is trial 36 with value: 0.21853470111089732.\u001b[0m\n"
     ]
    },
    {
     "name": "stdout",
     "output_type": "stream",
     "text": [
      "[0]\tdtrain-rmse:0.34729\tdtrain-RMSPE:161.58272\tdval-rmse:0.34728\tdval-RMSPE:161.09163\n",
      "[50]\tdtrain-rmse:0.00104\tdtrain-RMSPE:0.26221\tdval-rmse:0.00111\tdval-RMSPE:0.25402\n",
      "[100]\tdtrain-rmse:0.00098\tdtrain-RMSPE:0.25090\tdval-rmse:0.00107\tdval-RMSPE:0.24434\n",
      "[150]\tdtrain-rmse:0.00094\tdtrain-RMSPE:0.24071\tdval-rmse:0.00105\tdval-RMSPE:0.23745\n",
      "[200]\tdtrain-rmse:0.00091\tdtrain-RMSPE:0.23633\tdval-rmse:0.00104\tdval-RMSPE:0.23362\n",
      "[250]\tdtrain-rmse:0.00089\tdtrain-RMSPE:0.23142\tdval-rmse:0.00103\tdval-RMSPE:0.22950\n",
      "[300]\tdtrain-rmse:0.00089\tdtrain-RMSPE:0.23046\tdval-rmse:0.00103\tdval-RMSPE:0.22906\n",
      "[350]\tdtrain-rmse:0.00089\tdtrain-RMSPE:0.23046\tdval-rmse:0.00103\tdval-RMSPE:0.22906\n",
      "[356]\tdtrain-rmse:0.00089\tdtrain-RMSPE:0.23046\tdval-rmse:0.00103\tdval-RMSPE:0.22906\n"
     ]
    },
    {
     "name": "stderr",
     "output_type": "stream",
     "text": [
      "\u001b[32m[I 2021-08-29 21:04:21,019]\u001b[0m Trial 60 finished with value: 0.22906343522521297 and parameters: {'max_depth': 4, 'eta': 0.3, 'lambda': 8.50270001789705e-06, 'gamma': 7.60131917476254e-06, 'alpha': 0.012016933113907492}. Best is trial 36 with value: 0.21853470111089732.\u001b[0m\n"
     ]
    },
    {
     "name": "stdout",
     "output_type": "stream",
     "text": [
      "[0]\tdtrain-rmse:0.34729\tdtrain-RMSPE:161.61273\tdval-rmse:0.34728\tdval-RMSPE:161.12149\n",
      "[50]\tdtrain-rmse:0.00102\tdtrain-RMSPE:0.25942\tdval-rmse:0.00110\tdval-RMSPE:0.25222\n",
      "[100]\tdtrain-rmse:0.00095\tdtrain-RMSPE:0.24368\tdval-rmse:0.00105\tdval-RMSPE:0.23897\n",
      "[150]\tdtrain-rmse:0.00091\tdtrain-RMSPE:0.23379\tdval-rmse:0.00103\tdval-RMSPE:0.23121\n",
      "[200]\tdtrain-rmse:0.00089\tdtrain-RMSPE:0.22750\tdval-rmse:0.00102\tdval-RMSPE:0.22759\n",
      "[250]\tdtrain-rmse:0.00086\tdtrain-RMSPE:0.22242\tdval-rmse:0.00102\tdval-RMSPE:0.22455\n",
      "[300]\tdtrain-rmse:0.00085\tdtrain-RMSPE:0.21907\tdval-rmse:0.00101\tdval-RMSPE:0.22274\n",
      "[350]\tdtrain-rmse:0.00083\tdtrain-RMSPE:0.21650\tdval-rmse:0.00101\tdval-RMSPE:0.22147\n",
      "[400]\tdtrain-rmse:0.00081\tdtrain-RMSPE:0.21368\tdval-rmse:0.00101\tdval-RMSPE:0.22054\n",
      "[450]\tdtrain-rmse:0.00080\tdtrain-RMSPE:0.21205\tdval-rmse:0.00101\tdval-RMSPE:0.22007\n",
      "[500]\tdtrain-rmse:0.00080\tdtrain-RMSPE:0.21205\tdval-rmse:0.00101\tdval-RMSPE:0.22007\n",
      "[519]\tdtrain-rmse:0.00080\tdtrain-RMSPE:0.21205\tdval-rmse:0.00101\tdval-RMSPE:0.22007\n"
     ]
    },
    {
     "name": "stderr",
     "output_type": "stream",
     "text": [
      "\u001b[32m[I 2021-08-29 21:04:43,749]\u001b[0m Trial 61 finished with value: 0.2200700983273305 and parameters: {'max_depth': 5, 'eta': 0.3, 'lambda': 3.088736501070203e-07, 'gamma': 3.5002840198952294e-07, 'alpha': 0.07428274306012515}. Best is trial 36 with value: 0.21853470111089732.\u001b[0m\n"
     ]
    },
    {
     "name": "stdout",
     "output_type": "stream",
     "text": [
      "[0]\tdtrain-rmse:0.34729\tdtrain-RMSPE:161.61426\tdval-rmse:0.34728\tdval-RMSPE:161.12321\n",
      "[50]\tdtrain-rmse:0.00102\tdtrain-RMSPE:0.26012\tdval-rmse:0.00109\tdval-RMSPE:0.25052\n",
      "[100]\tdtrain-rmse:0.00094\tdtrain-RMSPE:0.24280\tdval-rmse:0.00105\tdval-RMSPE:0.23649\n",
      "[150]\tdtrain-rmse:0.00090\tdtrain-RMSPE:0.23381\tdval-rmse:0.00103\tdval-RMSPE:0.23012\n",
      "[200]\tdtrain-rmse:0.00087\tdtrain-RMSPE:0.22723\tdval-rmse:0.00103\tdval-RMSPE:0.22598\n",
      "[250]\tdtrain-rmse:0.00085\tdtrain-RMSPE:0.22288\tdval-rmse:0.00102\tdval-RMSPE:0.22381\n",
      "[300]\tdtrain-rmse:0.00083\tdtrain-RMSPE:0.21884\tdval-rmse:0.00102\tdval-RMSPE:0.22163\n",
      "[350]\tdtrain-rmse:0.00081\tdtrain-RMSPE:0.21544\tdval-rmse:0.00101\tdval-RMSPE:0.22038\n",
      "[400]\tdtrain-rmse:0.00079\tdtrain-RMSPE:0.21165\tdval-rmse:0.00101\tdval-RMSPE:0.21935\n",
      "[450]\tdtrain-rmse:0.00078\tdtrain-RMSPE:0.20988\tdval-rmse:0.00101\tdval-RMSPE:0.21901\n",
      "[500]\tdtrain-rmse:0.00077\tdtrain-RMSPE:0.20860\tdval-rmse:0.00101\tdval-RMSPE:0.21892\n",
      "[550]\tdtrain-rmse:0.00077\tdtrain-RMSPE:0.20860\tdval-rmse:0.00101\tdval-RMSPE:0.21892\n",
      "[557]\tdtrain-rmse:0.00077\tdtrain-RMSPE:0.20860\tdval-rmse:0.00101\tdval-RMSPE:0.21892\n"
     ]
    },
    {
     "name": "stderr",
     "output_type": "stream",
     "text": [
      "\u001b[32m[I 2021-08-29 21:05:07,619]\u001b[0m Trial 62 finished with value: 0.21893267224157706 and parameters: {'max_depth': 5, 'eta': 0.3, 'lambda': 5.089970365726391e-07, 'gamma': 2.178840840160973e-07, 'alpha': 0.05129646007889743}. Best is trial 36 with value: 0.21853470111089732.\u001b[0m\n"
     ]
    },
    {
     "name": "stdout",
     "output_type": "stream",
     "text": [
      "[0]\tdtrain-rmse:0.34729\tdtrain-RMSPE:161.61452\tdval-rmse:0.34728\tdval-RMSPE:161.12337\n",
      "[50]\tdtrain-rmse:0.00103\tdtrain-RMSPE:0.26116\tdval-rmse:0.00110\tdval-RMSPE:0.25429\n",
      "[100]\tdtrain-rmse:0.00096\tdtrain-RMSPE:0.24340\tdval-rmse:0.00104\tdval-RMSPE:0.23873\n",
      "[150]\tdtrain-rmse:0.00093\tdtrain-RMSPE:0.23254\tdval-rmse:0.00103\tdval-RMSPE:0.23053\n",
      "[200]\tdtrain-rmse:0.00092\tdtrain-RMSPE:0.22857\tdval-rmse:0.00102\tdval-RMSPE:0.22773\n",
      "[250]\tdtrain-rmse:0.00092\tdtrain-RMSPE:0.22857\tdval-rmse:0.00102\tdval-RMSPE:0.22773\n",
      "[295]\tdtrain-rmse:0.00092\tdtrain-RMSPE:0.22857\tdval-rmse:0.00102\tdval-RMSPE:0.22773\n"
     ]
    },
    {
     "name": "stderr",
     "output_type": "stream",
     "text": [
      "\u001b[32m[I 2021-08-29 21:05:22,877]\u001b[0m Trial 63 finished with value: 0.22772223916448872 and parameters: {'max_depth': 6, 'eta': 0.3, 'lambda': 1.2633856020353214e-06, 'gamma': 1.6129525249623103e-07, 'alpha': 0.23942037045915018}. Best is trial 36 with value: 0.21853470111089732.\u001b[0m\n"
     ]
    },
    {
     "name": "stdout",
     "output_type": "stream",
     "text": [
      "[0]\tdtrain-rmse:0.34729\tdtrain-RMSPE:161.61124\tdval-rmse:0.34728\tdval-RMSPE:161.12032\n",
      "[50]\tdtrain-rmse:0.00101\tdtrain-RMSPE:0.25679\tdval-rmse:0.00109\tdval-RMSPE:0.24967\n",
      "[100]\tdtrain-rmse:0.00093\tdtrain-RMSPE:0.24165\tdval-rmse:0.00105\tdval-RMSPE:0.23676\n",
      "[150]\tdtrain-rmse:0.00089\tdtrain-RMSPE:0.23028\tdval-rmse:0.00104\tdval-RMSPE:0.23114\n",
      "[200]\tdtrain-rmse:0.00085\tdtrain-RMSPE:0.22416\tdval-rmse:0.00103\tdval-RMSPE:0.22757\n",
      "[250]\tdtrain-rmse:0.00082\tdtrain-RMSPE:0.21843\tdval-rmse:0.00102\tdval-RMSPE:0.22495\n",
      "[300]\tdtrain-rmse:0.00080\tdtrain-RMSPE:0.21513\tdval-rmse:0.00102\tdval-RMSPE:0.22310\n",
      "[350]\tdtrain-rmse:0.00078\tdtrain-RMSPE:0.21196\tdval-rmse:0.00102\tdval-RMSPE:0.22188\n",
      "[400]\tdtrain-rmse:0.00076\tdtrain-RMSPE:0.20816\tdval-rmse:0.00102\tdval-RMSPE:0.22134\n",
      "[450]\tdtrain-rmse:0.00075\tdtrain-RMSPE:0.20509\tdval-rmse:0.00102\tdval-RMSPE:0.22022\n",
      "[500]\tdtrain-rmse:0.00073\tdtrain-RMSPE:0.20334\tdval-rmse:0.00102\tdval-RMSPE:0.21992\n",
      "[550]\tdtrain-rmse:0.00072\tdtrain-RMSPE:0.20158\tdval-rmse:0.00102\tdval-RMSPE:0.21948\n",
      "[600]\tdtrain-rmse:0.00072\tdtrain-RMSPE:0.20158\tdval-rmse:0.00102\tdval-RMSPE:0.21948\n",
      "[631]\tdtrain-rmse:0.00072\tdtrain-RMSPE:0.20158\tdval-rmse:0.00102\tdval-RMSPE:0.21948\n"
     ]
    },
    {
     "name": "stderr",
     "output_type": "stream",
     "text": [
      "\u001b[32m[I 2021-08-29 21:05:48,981]\u001b[0m Trial 64 finished with value: 0.2194536817948467 and parameters: {'max_depth': 5, 'eta': 0.3, 'lambda': 1.6434109981039336e-07, 'gamma': 7.386469434037532e-07, 'alpha': 0.028950555753423514}. Best is trial 36 with value: 0.21853470111089732.\u001b[0m\n"
     ]
    },
    {
     "name": "stdout",
     "output_type": "stream",
     "text": [
      "[0]\tdtrain-rmse:0.34729\tdtrain-RMSPE:161.61502\tdval-rmse:0.34728\tdval-RMSPE:161.12392\n",
      "[50]\tdtrain-rmse:0.00107\tdtrain-RMSPE:0.26722\tdval-rmse:0.00112\tdval-RMSPE:0.25971\n",
      "[100]\tdtrain-rmse:0.00101\tdtrain-RMSPE:0.25510\tdval-rmse:0.00108\tdval-RMSPE:0.24792\n",
      "[150]\tdtrain-rmse:0.00098\tdtrain-RMSPE:0.24580\tdval-rmse:0.00105\tdval-RMSPE:0.23999\n",
      "[200]\tdtrain-rmse:0.00096\tdtrain-RMSPE:0.24101\tdval-rmse:0.00104\tdval-RMSPE:0.23584\n",
      "[250]\tdtrain-rmse:0.00094\tdtrain-RMSPE:0.23553\tdval-rmse:0.00103\tdval-RMSPE:0.23164\n",
      "[300]\tdtrain-rmse:0.00093\tdtrain-RMSPE:0.23258\tdval-rmse:0.00102\tdval-RMSPE:0.22946\n",
      "[350]\tdtrain-rmse:0.00091\tdtrain-RMSPE:0.23035\tdval-rmse:0.00102\tdval-RMSPE:0.22735\n",
      "[400]\tdtrain-rmse:0.00090\tdtrain-RMSPE:0.22780\tdval-rmse:0.00102\tdval-RMSPE:0.22544\n",
      "[450]\tdtrain-rmse:0.00089\tdtrain-RMSPE:0.22647\tdval-rmse:0.00101\tdval-RMSPE:0.22463\n",
      "[500]\tdtrain-rmse:0.00089\tdtrain-RMSPE:0.22417\tdval-rmse:0.00101\tdval-RMSPE:0.22359\n",
      "[550]\tdtrain-rmse:0.00088\tdtrain-RMSPE:0.22267\tdval-rmse:0.00101\tdval-RMSPE:0.22320\n",
      "[600]\tdtrain-rmse:0.00088\tdtrain-RMSPE:0.22267\tdval-rmse:0.00101\tdval-RMSPE:0.22320\n",
      "[629]\tdtrain-rmse:0.00088\tdtrain-RMSPE:0.22267\tdval-rmse:0.00101\tdval-RMSPE:0.22320\n"
     ]
    },
    {
     "name": "stderr",
     "output_type": "stream",
     "text": [
      "\u001b[32m[I 2021-08-29 21:06:12,089]\u001b[0m Trial 65 finished with value: 0.22322458255716657 and parameters: {'max_depth': 4, 'eta': 0.3, 'lambda': 1.0071367398151214e-07, 'gamma': 8.487561667488306e-08, 'alpha': 0.11894617151911191}. Best is trial 36 with value: 0.21853470111089732.\u001b[0m\n"
     ]
    },
    {
     "name": "stdout",
     "output_type": "stream",
     "text": [
      "[0]\tdtrain-rmse:0.34730\tdtrain-RMSPE:161.69067\tdval-rmse:0.34729\tdval-RMSPE:161.19965\n",
      "[50]\tdtrain-rmse:0.00107\tdtrain-RMSPE:0.26534\tdval-rmse:0.00112\tdval-RMSPE:0.25819\n",
      "[100]\tdtrain-rmse:0.00101\tdtrain-RMSPE:0.25006\tdval-rmse:0.00107\tdval-RMSPE:0.24392\n",
      "[150]\tdtrain-rmse:0.00100\tdtrain-RMSPE:0.24743\tdval-rmse:0.00106\tdval-RMSPE:0.24160\n",
      "[200]\tdtrain-rmse:0.00100\tdtrain-RMSPE:0.24743\tdval-rmse:0.00106\tdval-RMSPE:0.24160\n",
      "[215]\tdtrain-rmse:0.00100\tdtrain-RMSPE:0.24743\tdval-rmse:0.00106\tdval-RMSPE:0.24160\n"
     ]
    },
    {
     "name": "stderr",
     "output_type": "stream",
     "text": [
      "\u001b[32m[I 2021-08-29 21:06:22,832]\u001b[0m Trial 66 finished with value: 0.24160595403419932 and parameters: {'max_depth': 6, 'eta': 0.3, 'lambda': 3.7657160535508435e-07, 'gamma': 2.4880878752309085e-06, 'alpha': 0.5210685119394259}. Best is trial 36 with value: 0.21853470111089732.\u001b[0m\n"
     ]
    },
    {
     "name": "stdout",
     "output_type": "stream",
     "text": [
      "[0]\tdtrain-rmse:0.34729\tdtrain-RMSPE:161.56897\tdval-rmse:0.34728\tdval-RMSPE:161.07819\n",
      "[50]\tdtrain-rmse:0.00097\tdtrain-RMSPE:0.25205\tdval-rmse:0.00109\tdval-RMSPE:0.24619\n",
      "[100]\tdtrain-rmse:0.00090\tdtrain-RMSPE:0.23873\tdval-rmse:0.00106\tdval-RMSPE:0.23708\n",
      "[150]\tdtrain-rmse:0.00085\tdtrain-RMSPE:0.23015\tdval-rmse:0.00105\tdval-RMSPE:0.23276\n",
      "[200]\tdtrain-rmse:0.00081\tdtrain-RMSPE:0.22193\tdval-rmse:0.00104\tdval-RMSPE:0.23068\n",
      "[250]\tdtrain-rmse:0.00078\tdtrain-RMSPE:0.21709\tdval-rmse:0.00104\tdval-RMSPE:0.22935\n",
      "[300]\tdtrain-rmse:0.00075\tdtrain-RMSPE:0.21048\tdval-rmse:0.00104\tdval-RMSPE:0.22754\n",
      "[350]\tdtrain-rmse:0.00073\tdtrain-RMSPE:0.20746\tdval-rmse:0.00104\tdval-RMSPE:0.22729\n",
      "[400]\tdtrain-rmse:0.00071\tdtrain-RMSPE:0.20369\tdval-rmse:0.00104\tdval-RMSPE:0.22695\n",
      "[450]\tdtrain-rmse:0.00069\tdtrain-RMSPE:0.20055\tdval-rmse:0.00104\tdval-RMSPE:0.22702\n",
      "[500]\tdtrain-rmse:0.00067\tdtrain-RMSPE:0.19644\tdval-rmse:0.00104\tdval-RMSPE:0.22642\n",
      "[550]\tdtrain-rmse:0.00066\tdtrain-RMSPE:0.19355\tdval-rmse:0.00104\tdval-RMSPE:0.22701\n",
      "[600]\tdtrain-rmse:0.00064\tdtrain-RMSPE:0.19051\tdval-rmse:0.00104\tdval-RMSPE:0.22741\n",
      "[637]\tdtrain-rmse:0.00063\tdtrain-RMSPE:0.18885\tdval-rmse:0.00104\tdval-RMSPE:0.22844\n"
     ]
    },
    {
     "name": "stderr",
     "output_type": "stream",
     "text": [
      "\u001b[32m[I 2021-08-29 21:06:50,566]\u001b[0m Trial 67 finished with value: 0.2284146454743227 and parameters: {'max_depth': 5, 'eta': 0.3, 'lambda': 1.4555520774138623e-08, 'gamma': 4.561953764859887e-07, 'alpha': 0.0012675997739398778}. Best is trial 36 with value: 0.21853470111089732.\u001b[0m\n"
     ]
    },
    {
     "name": "stdout",
     "output_type": "stream",
     "text": [
      "[0]\tdtrain-rmse:0.34730\tdtrain-RMSPE:161.61443\tdval-rmse:0.34729\tdval-RMSPE:161.12332\n",
      "[50]\tdtrain-rmse:0.00094\tdtrain-RMSPE:0.25033\tdval-rmse:0.00108\tdval-RMSPE:0.24536\n",
      "[100]\tdtrain-rmse:0.00084\tdtrain-RMSPE:0.23094\tdval-rmse:0.00105\tdval-RMSPE:0.23269\n",
      "[150]\tdtrain-rmse:0.00078\tdtrain-RMSPE:0.21826\tdval-rmse:0.00103\tdval-RMSPE:0.22607\n",
      "[200]\tdtrain-rmse:0.00073\tdtrain-RMSPE:0.21030\tdval-rmse:0.00103\tdval-RMSPE:0.22385\n",
      "[250]\tdtrain-rmse:0.00069\tdtrain-RMSPE:0.20304\tdval-rmse:0.00103\tdval-RMSPE:0.22252\n",
      "[300]\tdtrain-rmse:0.00066\tdtrain-RMSPE:0.19763\tdval-rmse:0.00103\tdval-RMSPE:0.22186\n",
      "[350]\tdtrain-rmse:0.00064\tdtrain-RMSPE:0.19195\tdval-rmse:0.00103\tdval-RMSPE:0.22138\n",
      "[400]\tdtrain-rmse:0.00061\tdtrain-RMSPE:0.18745\tdval-rmse:0.00103\tdval-RMSPE:0.22093\n",
      "[450]\tdtrain-rmse:0.00061\tdtrain-RMSPE:0.18741\tdval-rmse:0.00103\tdval-RMSPE:0.22094\n",
      "[489]\tdtrain-rmse:0.00061\tdtrain-RMSPE:0.18741\tdval-rmse:0.00103\tdval-RMSPE:0.22094\n"
     ]
    },
    {
     "name": "stderr",
     "output_type": "stream",
     "text": [
      "\u001b[32m[I 2021-08-29 21:07:15,815]\u001b[0m Trial 68 finished with value: 0.22092368303460516 and parameters: {'max_depth': 6, 'eta': 0.3, 'lambda': 0.9393149670522641, 'gamma': 1.4781451057263744e-07, 'alpha': 0.005573771724519285}. Best is trial 36 with value: 0.21853470111089732.\u001b[0m\n"
     ]
    },
    {
     "name": "stdout",
     "output_type": "stream",
     "text": [
      "[0]\tdtrain-rmse:0.34729\tdtrain-RMSPE:161.57820\tdval-rmse:0.34728\tdval-RMSPE:161.08719\n",
      "[50]\tdtrain-rmse:0.00099\tdtrain-RMSPE:0.25612\tdval-rmse:0.00109\tdval-RMSPE:0.24746\n",
      "[100]\tdtrain-rmse:0.00091\tdtrain-RMSPE:0.24181\tdval-rmse:0.00106\tdval-RMSPE:0.23677\n",
      "[150]\tdtrain-rmse:0.00086\tdtrain-RMSPE:0.23086\tdval-rmse:0.00104\tdval-RMSPE:0.22949\n",
      "[200]\tdtrain-rmse:0.00083\tdtrain-RMSPE:0.22461\tdval-rmse:0.00103\tdval-RMSPE:0.22579\n",
      "[250]\tdtrain-rmse:0.00080\tdtrain-RMSPE:0.21959\tdval-rmse:0.00103\tdval-RMSPE:0.22384\n",
      "[300]\tdtrain-rmse:0.00077\tdtrain-RMSPE:0.21547\tdval-rmse:0.00102\tdval-RMSPE:0.22254\n",
      "[350]\tdtrain-rmse:0.00075\tdtrain-RMSPE:0.21247\tdval-rmse:0.00102\tdval-RMSPE:0.22173\n",
      "[400]\tdtrain-rmse:0.00073\tdtrain-RMSPE:0.20862\tdval-rmse:0.00102\tdval-RMSPE:0.22057\n",
      "[450]\tdtrain-rmse:0.00071\tdtrain-RMSPE:0.20491\tdval-rmse:0.00102\tdval-RMSPE:0.21951\n",
      "[500]\tdtrain-rmse:0.00069\tdtrain-RMSPE:0.20092\tdval-rmse:0.00102\tdval-RMSPE:0.21904\n",
      "[550]\tdtrain-rmse:0.00068\tdtrain-RMSPE:0.19879\tdval-rmse:0.00102\tdval-RMSPE:0.21883\n",
      "[600]\tdtrain-rmse:0.00067\tdtrain-RMSPE:0.19662\tdval-rmse:0.00102\tdval-RMSPE:0.21923\n",
      "[650]\tdtrain-rmse:0.00067\tdtrain-RMSPE:0.19662\tdval-rmse:0.00102\tdval-RMSPE:0.21923\n",
      "[652]\tdtrain-rmse:0.00067\tdtrain-RMSPE:0.19662\tdval-rmse:0.00102\tdval-RMSPE:0.21923\n"
     ]
    },
    {
     "name": "stderr",
     "output_type": "stream",
     "text": [
      "\u001b[32m[I 2021-08-29 21:07:43,349]\u001b[0m Trial 69 finished with value: 0.21922577260082993 and parameters: {'max_depth': 5, 'eta': 0.3, 'lambda': 9.385590021684171e-07, 'gamma': 2.1665071605877554e-08, 'alpha': 0.011328297808706067}. Best is trial 36 with value: 0.21853470111089732.\u001b[0m\n"
     ]
    },
    {
     "name": "stdout",
     "output_type": "stream",
     "text": [
      "[0]\tdtrain-rmse:0.34729\tdtrain-RMSPE:161.56787\tdval-rmse:0.34728\tdval-RMSPE:161.07693\n",
      "[50]\tdtrain-rmse:0.00104\tdtrain-RMSPE:0.26378\tdval-rmse:0.00111\tdval-RMSPE:0.25462\n",
      "[100]\tdtrain-rmse:0.00098\tdtrain-RMSPE:0.25287\tdval-rmse:0.00108\tdval-RMSPE:0.24593\n",
      "[150]\tdtrain-rmse:0.00093\tdtrain-RMSPE:0.24494\tdval-rmse:0.00106\tdval-RMSPE:0.23978\n",
      "[200]\tdtrain-rmse:0.00090\tdtrain-RMSPE:0.23951\tdval-rmse:0.00105\tdval-RMSPE:0.23642\n",
      "[250]\tdtrain-rmse:0.00088\tdtrain-RMSPE:0.23309\tdval-rmse:0.00104\tdval-RMSPE:0.23284\n",
      "[300]\tdtrain-rmse:0.00086\tdtrain-RMSPE:0.22975\tdval-rmse:0.00104\tdval-RMSPE:0.23055\n",
      "[350]\tdtrain-rmse:0.00084\tdtrain-RMSPE:0.22570\tdval-rmse:0.00104\tdval-RMSPE:0.22919\n",
      "[400]\tdtrain-rmse:0.00082\tdtrain-RMSPE:0.22365\tdval-rmse:0.00104\tdval-RMSPE:0.22847\n",
      "[450]\tdtrain-rmse:0.00080\tdtrain-RMSPE:0.22051\tdval-rmse:0.00104\tdval-RMSPE:0.24024\n",
      "[500]\tdtrain-rmse:0.00079\tdtrain-RMSPE:0.21736\tdval-rmse:0.00104\tdval-RMSPE:0.23962\n",
      "[548]\tdtrain-rmse:0.00077\tdtrain-RMSPE:0.21559\tdval-rmse:0.00104\tdval-RMSPE:0.23894\n"
     ]
    },
    {
     "name": "stderr",
     "output_type": "stream",
     "text": [
      "\u001b[32m[I 2021-08-29 21:08:03,745]\u001b[0m Trial 70 finished with value: 0.23893605840882054 and parameters: {'max_depth': 4, 'eta': 0.3, 'lambda': 0.0002384199251254519, 'gamma': 7.42002537512903e-08, 'alpha': 1.3104246807366724e-08}. Best is trial 36 with value: 0.21853470111089732.\u001b[0m\n"
     ]
    },
    {
     "name": "stdout",
     "output_type": "stream",
     "text": [
      "[0]\tdtrain-rmse:0.44652\tdtrain-RMSPE:207.70308\tdval-rmse:0.44651\tdval-RMSPE:207.07365\n",
      "[50]\tdtrain-rmse:0.00256\tdtrain-RMSPE:1.23183\tdval-rmse:0.00257\tdval-RMSPE:1.22062\n",
      "[100]\tdtrain-rmse:0.00105\tdtrain-RMSPE:0.26585\tdval-rmse:0.00111\tdval-RMSPE:0.25651\n",
      "[150]\tdtrain-rmse:0.00100\tdtrain-RMSPE:0.25569\tdval-rmse:0.00108\tdval-RMSPE:0.24680\n",
      "[200]\tdtrain-rmse:0.00097\tdtrain-RMSPE:0.24920\tdval-rmse:0.00106\tdval-RMSPE:0.24117\n",
      "[250]\tdtrain-rmse:0.00095\tdtrain-RMSPE:0.24400\tdval-rmse:0.00105\tdval-RMSPE:0.23731\n",
      "[300]\tdtrain-rmse:0.00093\tdtrain-RMSPE:0.24001\tdval-rmse:0.00104\tdval-RMSPE:0.23428\n",
      "[350]\tdtrain-rmse:0.00092\tdtrain-RMSPE:0.23671\tdval-rmse:0.00103\tdval-RMSPE:0.23180\n",
      "[400]\tdtrain-rmse:0.00090\tdtrain-RMSPE:0.23322\tdval-rmse:0.00103\tdval-RMSPE:0.22936\n",
      "[450]\tdtrain-rmse:0.00089\tdtrain-RMSPE:0.23015\tdval-rmse:0.00102\tdval-RMSPE:0.22697\n",
      "[500]\tdtrain-rmse:0.00088\tdtrain-RMSPE:0.22820\tdval-rmse:0.00102\tdval-RMSPE:0.22588\n",
      "[550]\tdtrain-rmse:0.00087\tdtrain-RMSPE:0.22634\tdval-rmse:0.00101\tdval-RMSPE:0.22454\n",
      "[600]\tdtrain-rmse:0.00086\tdtrain-RMSPE:0.22442\tdval-rmse:0.00101\tdval-RMSPE:0.22318\n",
      "[650]\tdtrain-rmse:0.00085\tdtrain-RMSPE:0.22295\tdval-rmse:0.00101\tdval-RMSPE:0.22245\n",
      "[700]\tdtrain-rmse:0.00085\tdtrain-RMSPE:0.22098\tdval-rmse:0.00101\tdval-RMSPE:0.22152\n",
      "[750]\tdtrain-rmse:0.00084\tdtrain-RMSPE:0.21920\tdval-rmse:0.00101\tdval-RMSPE:0.22071\n",
      "[800]\tdtrain-rmse:0.00083\tdtrain-RMSPE:0.21781\tdval-rmse:0.00100\tdval-RMSPE:0.21987\n",
      "[850]\tdtrain-rmse:0.00082\tdtrain-RMSPE:0.21668\tdval-rmse:0.00100\tdval-RMSPE:0.21940\n",
      "[900]\tdtrain-rmse:0.00082\tdtrain-RMSPE:0.21597\tdval-rmse:0.00100\tdval-RMSPE:0.21898\n",
      "[950]\tdtrain-rmse:0.00081\tdtrain-RMSPE:0.21518\tdval-rmse:0.00100\tdval-RMSPE:0.21871\n",
      "[999]\tdtrain-rmse:0.00081\tdtrain-RMSPE:0.21518\tdval-rmse:0.00100\tdval-RMSPE:0.21871\n"
     ]
    },
    {
     "name": "stderr",
     "output_type": "stream",
     "text": [
      "\u001b[32m[I 2021-08-29 21:08:45,890]\u001b[0m Trial 71 finished with value: 0.21870430822086012 and parameters: {'max_depth': 5, 'eta': 0.1, 'lambda': 5.432297936372538e-07, 'gamma': 1.2813849280342725e-06, 'alpha': 0.051958686676431}. Best is trial 36 with value: 0.21853470111089732.\u001b[0m\n"
     ]
    },
    {
     "name": "stdout",
     "output_type": "stream",
     "text": [
      "[0]\tdtrain-rmse:0.44652\tdtrain-RMSPE:207.70181\tdval-rmse:0.44651\tdval-RMSPE:207.07246\n",
      "[50]\tdtrain-rmse:0.00256\tdtrain-RMSPE:1.23281\tdval-rmse:0.00257\tdval-RMSPE:1.22181\n",
      "[100]\tdtrain-rmse:0.00104\tdtrain-RMSPE:0.26577\tdval-rmse:0.00111\tdval-RMSPE:0.25638\n",
      "[150]\tdtrain-rmse:0.00100\tdtrain-RMSPE:0.25527\tdval-rmse:0.00108\tdval-RMSPE:0.24710\n",
      "[200]\tdtrain-rmse:0.00097\tdtrain-RMSPE:0.24949\tdval-rmse:0.00106\tdval-RMSPE:0.24213\n",
      "[250]\tdtrain-rmse:0.00095\tdtrain-RMSPE:0.24445\tdval-rmse:0.00105\tdval-RMSPE:0.23781\n",
      "[300]\tdtrain-rmse:0.00093\tdtrain-RMSPE:0.23974\tdval-rmse:0.00104\tdval-RMSPE:0.23406\n",
      "[350]\tdtrain-rmse:0.00092\tdtrain-RMSPE:0.23642\tdval-rmse:0.00103\tdval-RMSPE:0.23140\n",
      "[400]\tdtrain-rmse:0.00090\tdtrain-RMSPE:0.23370\tdval-rmse:0.00103\tdval-RMSPE:0.22958\n",
      "[450]\tdtrain-rmse:0.00089\tdtrain-RMSPE:0.23112\tdval-rmse:0.00102\tdval-RMSPE:0.22756\n",
      "[500]\tdtrain-rmse:0.00088\tdtrain-RMSPE:0.22855\tdval-rmse:0.00102\tdval-RMSPE:0.22591\n",
      "[550]\tdtrain-rmse:0.00087\tdtrain-RMSPE:0.22642\tdval-rmse:0.00101\tdval-RMSPE:0.22435\n",
      "[600]\tdtrain-rmse:0.00086\tdtrain-RMSPE:0.22459\tdval-rmse:0.00101\tdval-RMSPE:0.22347\n",
      "[650]\tdtrain-rmse:0.00085\tdtrain-RMSPE:0.22245\tdval-rmse:0.00101\tdval-RMSPE:0.22240\n",
      "[700]\tdtrain-rmse:0.00084\tdtrain-RMSPE:0.22143\tdval-rmse:0.00101\tdval-RMSPE:0.22183\n",
      "[750]\tdtrain-rmse:0.00083\tdtrain-RMSPE:0.22028\tdval-rmse:0.00101\tdval-RMSPE:0.22093\n",
      "[800]\tdtrain-rmse:0.00083\tdtrain-RMSPE:0.21907\tdval-rmse:0.00100\tdval-RMSPE:0.22029\n",
      "[850]\tdtrain-rmse:0.00082\tdtrain-RMSPE:0.21748\tdval-rmse:0.00100\tdval-RMSPE:0.21946\n",
      "[900]\tdtrain-rmse:0.00081\tdtrain-RMSPE:0.21644\tdval-rmse:0.00100\tdval-RMSPE:0.21901\n",
      "[950]\tdtrain-rmse:0.00081\tdtrain-RMSPE:0.21619\tdval-rmse:0.00100\tdval-RMSPE:0.21885\n",
      "[999]\tdtrain-rmse:0.00081\tdtrain-RMSPE:0.21619\tdval-rmse:0.00100\tdval-RMSPE:0.21885\n"
     ]
    },
    {
     "name": "stderr",
     "output_type": "stream",
     "text": [
      "\u001b[32m[I 2021-08-29 21:09:27,106]\u001b[0m Trial 72 finished with value: 0.21885932138527314 and parameters: {'max_depth': 5, 'eta': 0.1, 'lambda': 3.7650322853146766e-06, 'gamma': 1.4113010740378004e-06, 'alpha': 0.047483040875323394}. Best is trial 36 with value: 0.21853470111089732.\u001b[0m\n"
     ]
    },
    {
     "name": "stdout",
     "output_type": "stream",
     "text": [
      "[0]\tdtrain-rmse:0.44652\tdtrain-RMSPE:207.69253\tdval-rmse:0.44651\tdval-RMSPE:207.06314\n",
      "[50]\tdtrain-rmse:0.00255\tdtrain-RMSPE:1.22095\tdval-rmse:0.00256\tdval-RMSPE:1.21019\n",
      "[100]\tdtrain-rmse:0.00103\tdtrain-RMSPE:0.26270\tdval-rmse:0.00110\tdval-RMSPE:0.25446\n",
      "[150]\tdtrain-rmse:0.00099\tdtrain-RMSPE:0.25179\tdval-rmse:0.00107\tdval-RMSPE:0.24472\n",
      "[200]\tdtrain-rmse:0.00096\tdtrain-RMSPE:0.24630\tdval-rmse:0.00105\tdval-RMSPE:0.24006\n",
      "[250]\tdtrain-rmse:0.00093\tdtrain-RMSPE:0.24124\tdval-rmse:0.00104\tdval-RMSPE:0.23634\n",
      "[300]\tdtrain-rmse:0.00091\tdtrain-RMSPE:0.23756\tdval-rmse:0.00103\tdval-RMSPE:0.23384\n",
      "[350]\tdtrain-rmse:0.00089\tdtrain-RMSPE:0.23418\tdval-rmse:0.00103\tdval-RMSPE:0.23157\n",
      "[400]\tdtrain-rmse:0.00088\tdtrain-RMSPE:0.23091\tdval-rmse:0.00102\tdval-RMSPE:0.22931\n",
      "[450]\tdtrain-rmse:0.00086\tdtrain-RMSPE:0.22829\tdval-rmse:0.00102\tdval-RMSPE:0.22772\n",
      "[500]\tdtrain-rmse:0.00085\tdtrain-RMSPE:0.22551\tdval-rmse:0.00102\tdval-RMSPE:0.22607\n",
      "[550]\tdtrain-rmse:0.00084\tdtrain-RMSPE:0.22400\tdval-rmse:0.00101\tdval-RMSPE:0.22500\n",
      "[600]\tdtrain-rmse:0.00084\tdtrain-RMSPE:0.22400\tdval-rmse:0.00101\tdval-RMSPE:0.22500\n",
      "[639]\tdtrain-rmse:0.00084\tdtrain-RMSPE:0.22400\tdval-rmse:0.00101\tdval-RMSPE:0.22500\n"
     ]
    },
    {
     "name": "stderr",
     "output_type": "stream",
     "text": [
      "\u001b[32m[I 2021-08-29 21:09:53,459]\u001b[0m Trial 73 finished with value: 0.22499048527217866 and parameters: {'max_depth': 5, 'eta': 0.1, 'lambda': 4.0524954076557176e-06, 'gamma': 4.160309921654761e-06, 'alpha': 0.020537807504852325}. Best is trial 36 with value: 0.21853470111089732.\u001b[0m\n"
     ]
    },
    {
     "name": "stdout",
     "output_type": "stream",
     "text": [
      "[0]\tdtrain-rmse:0.44652\tdtrain-RMSPE:207.70239\tdval-rmse:0.44651\tdval-RMSPE:207.07300\n",
      "[50]\tdtrain-rmse:0.00258\tdtrain-RMSPE:1.26141\tdval-rmse:0.00259\tdval-RMSPE:1.25069\n",
      "[100]\tdtrain-rmse:0.00105\tdtrain-RMSPE:0.26826\tdval-rmse:0.00111\tdval-RMSPE:0.26034\n",
      "[150]\tdtrain-rmse:0.00101\tdtrain-RMSPE:0.25520\tdval-rmse:0.00108\tdval-RMSPE:0.24893\n",
      "[200]\tdtrain-rmse:0.00098\tdtrain-RMSPE:0.24873\tdval-rmse:0.00106\tdval-RMSPE:0.24316\n",
      "[250]\tdtrain-rmse:0.00096\tdtrain-RMSPE:0.24263\tdval-rmse:0.00104\tdval-RMSPE:0.23806\n",
      "[300]\tdtrain-rmse:0.00094\tdtrain-RMSPE:0.23903\tdval-rmse:0.00104\tdval-RMSPE:0.23518\n",
      "[350]\tdtrain-rmse:0.00093\tdtrain-RMSPE:0.23532\tdval-rmse:0.00103\tdval-RMSPE:0.23206\n",
      "[400]\tdtrain-rmse:0.00092\tdtrain-RMSPE:0.23194\tdval-rmse:0.00102\tdval-RMSPE:0.22933\n",
      "[450]\tdtrain-rmse:0.00091\tdtrain-RMSPE:0.23014\tdval-rmse:0.00102\tdval-RMSPE:0.22792\n",
      "[500]\tdtrain-rmse:0.00090\tdtrain-RMSPE:0.22870\tdval-rmse:0.00102\tdval-RMSPE:0.22680\n",
      "[550]\tdtrain-rmse:0.00090\tdtrain-RMSPE:0.22870\tdval-rmse:0.00102\tdval-RMSPE:0.22680\n",
      "[583]\tdtrain-rmse:0.00090\tdtrain-RMSPE:0.22870\tdval-rmse:0.00102\tdval-RMSPE:0.22680\n"
     ]
    },
    {
     "name": "stderr",
     "output_type": "stream",
     "text": [
      "\u001b[32m[I 2021-08-29 21:10:22,841]\u001b[0m Trial 74 finished with value: 0.22677902694067376 and parameters: {'max_depth': 6, 'eta': 0.1, 'lambda': 3.144791107619743e-05, 'gamma': 1.6987660496645983e-06, 'alpha': 0.17341696419263652}. Best is trial 36 with value: 0.21853470111089732.\u001b[0m\n"
     ]
    },
    {
     "name": "stdout",
     "output_type": "stream",
     "text": [
      "[0]\tdtrain-rmse:0.44652\tdtrain-RMSPE:207.68835\tdval-rmse:0.44651\tdval-RMSPE:207.05905\n",
      "[50]\tdtrain-rmse:0.00254\tdtrain-RMSPE:1.20815\tdval-rmse:0.00255\tdval-RMSPE:1.19785\n",
      "[100]\tdtrain-rmse:0.00100\tdtrain-RMSPE:0.25921\tdval-rmse:0.00109\tdval-RMSPE:0.25072\n",
      "[150]\tdtrain-rmse:0.00096\tdtrain-RMSPE:0.25028\tdval-rmse:0.00107\tdval-RMSPE:0.24324\n",
      "[200]\tdtrain-rmse:0.00093\tdtrain-RMSPE:0.24392\tdval-rmse:0.00105\tdval-RMSPE:0.23875\n",
      "[250]\tdtrain-rmse:0.00091\tdtrain-RMSPE:0.23937\tdval-rmse:0.00104\tdval-RMSPE:0.23597\n",
      "[300]\tdtrain-rmse:0.00089\tdtrain-RMSPE:0.23611\tdval-rmse:0.00104\tdval-RMSPE:0.23376\n",
      "[350]\tdtrain-rmse:0.00087\tdtrain-RMSPE:0.23241\tdval-rmse:0.00103\tdval-RMSPE:0.23156\n",
      "[400]\tdtrain-rmse:0.00085\tdtrain-RMSPE:0.22914\tdval-rmse:0.00103\tdval-RMSPE:0.22964\n",
      "[450]\tdtrain-rmse:0.00084\tdtrain-RMSPE:0.22641\tdval-rmse:0.00102\tdval-RMSPE:0.22841\n",
      "[500]\tdtrain-rmse:0.00082\tdtrain-RMSPE:0.22311\tdval-rmse:0.00102\tdval-RMSPE:0.22755\n",
      "[550]\tdtrain-rmse:0.00081\tdtrain-RMSPE:0.22128\tdval-rmse:0.00102\tdval-RMSPE:0.22678\n",
      "[600]\tdtrain-rmse:0.00080\tdtrain-RMSPE:0.21934\tdval-rmse:0.00101\tdval-RMSPE:0.22575\n",
      "[650]\tdtrain-rmse:0.00078\tdtrain-RMSPE:0.21720\tdval-rmse:0.00101\tdval-RMSPE:0.22534\n",
      "[700]\tdtrain-rmse:0.00077\tdtrain-RMSPE:0.21525\tdval-rmse:0.00101\tdval-RMSPE:0.22522\n",
      "[750]\tdtrain-rmse:0.00076\tdtrain-RMSPE:0.21300\tdval-rmse:0.00101\tdval-RMSPE:0.22463\n",
      "[800]\tdtrain-rmse:0.00076\tdtrain-RMSPE:0.21140\tdval-rmse:0.00101\tdval-RMSPE:0.22389\n",
      "[850]\tdtrain-rmse:0.00075\tdtrain-RMSPE:0.20996\tdval-rmse:0.00101\tdval-RMSPE:0.22345\n",
      "[900]\tdtrain-rmse:0.00074\tdtrain-RMSPE:0.20784\tdval-rmse:0.00101\tdval-RMSPE:0.22281\n",
      "[950]\tdtrain-rmse:0.00073\tdtrain-RMSPE:0.20680\tdval-rmse:0.00101\tdval-RMSPE:0.22304\n",
      "[999]\tdtrain-rmse:0.00072\tdtrain-RMSPE:0.20540\tdval-rmse:0.00101\tdval-RMSPE:0.22264\n"
     ]
    },
    {
     "name": "stderr",
     "output_type": "stream",
     "text": [
      "\u001b[32m[I 2021-08-29 21:11:04,970]\u001b[0m Trial 75 finished with value: 0.22264938087563757 and parameters: {'max_depth': 5, 'eta': 0.1, 'lambda': 2.517736212896318e-06, 'gamma': 5.478519963728102e-07, 'alpha': 0.0022549684141125953}. Best is trial 36 with value: 0.21853470111089732.\u001b[0m\n"
     ]
    },
    {
     "name": "stdout",
     "output_type": "stream",
     "text": [
      "[0]\tdtrain-rmse:0.44652\tdtrain-RMSPE:207.68678\tdval-rmse:0.44651\tdval-RMSPE:207.05749\n",
      "[50]\tdtrain-rmse:0.00252\tdtrain-RMSPE:1.19690\tdval-rmse:0.00254\tdval-RMSPE:1.18736\n",
      "[100]\tdtrain-rmse:0.00094\tdtrain-RMSPE:0.25133\tdval-rmse:0.00107\tdval-RMSPE:0.24527\n",
      "[150]\tdtrain-rmse:0.00089\tdtrain-RMSPE:0.24219\tdval-rmse:0.00105\tdval-RMSPE:0.23793\n",
      "[200]\tdtrain-rmse:0.00086\tdtrain-RMSPE:0.23599\tdval-rmse:0.00104\tdval-RMSPE:0.23418\n",
      "[250]\tdtrain-rmse:0.00083\tdtrain-RMSPE:0.23068\tdval-rmse:0.00103\tdval-RMSPE:0.23161\n",
      "[300]\tdtrain-rmse:0.00082\tdtrain-RMSPE:0.22890\tdval-rmse:0.00103\tdval-RMSPE:0.23061\n",
      "[350]\tdtrain-rmse:0.00082\tdtrain-RMSPE:0.22890\tdval-rmse:0.00103\tdval-RMSPE:0.23061\n",
      "[367]\tdtrain-rmse:0.00082\tdtrain-RMSPE:0.22890\tdval-rmse:0.00103\tdval-RMSPE:0.23061\n"
     ]
    },
    {
     "name": "stderr",
     "output_type": "stream",
     "text": [
      "\u001b[32m[I 2021-08-29 21:11:23,424]\u001b[0m Trial 76 finished with value: 0.23059285617090913 and parameters: {'max_depth': 6, 'eta': 0.1, 'lambda': 6.488811118184641e-06, 'gamma': 8.700324278365317e-06, 'alpha': 4.688164495812934e-08}. Best is trial 36 with value: 0.21853470111089732.\u001b[0m\n"
     ]
    },
    {
     "name": "stdout",
     "output_type": "stream",
     "text": [
      "[0]\tdtrain-rmse:0.44652\tdtrain-RMSPE:207.70433\tdval-rmse:0.44651\tdval-RMSPE:207.07495\n",
      "[50]\tdtrain-rmse:0.00257\tdtrain-RMSPE:1.24203\tdval-rmse:0.00258\tdval-RMSPE:1.23054\n",
      "[100]\tdtrain-rmse:0.00106\tdtrain-RMSPE:0.26661\tdval-rmse:0.00112\tdval-RMSPE:0.25712\n",
      "[150]\tdtrain-rmse:0.00102\tdtrain-RMSPE:0.25616\tdval-rmse:0.00109\tdval-RMSPE:0.24786\n",
      "[200]\tdtrain-rmse:0.00098\tdtrain-RMSPE:0.24908\tdval-rmse:0.00106\tdval-RMSPE:0.24191\n",
      "[250]\tdtrain-rmse:0.00096\tdtrain-RMSPE:0.24534\tdval-rmse:0.00105\tdval-RMSPE:0.23891\n",
      "[300]\tdtrain-rmse:0.00095\tdtrain-RMSPE:0.24061\tdval-rmse:0.00104\tdval-RMSPE:0.23534\n",
      "[350]\tdtrain-rmse:0.00093\tdtrain-RMSPE:0.23650\tdval-rmse:0.00103\tdval-RMSPE:0.23194\n",
      "[400]\tdtrain-rmse:0.00092\tdtrain-RMSPE:0.23391\tdval-rmse:0.00103\tdval-RMSPE:0.23000\n",
      "[450]\tdtrain-rmse:0.00091\tdtrain-RMSPE:0.23178\tdval-rmse:0.00102\tdval-RMSPE:0.22848\n",
      "[500]\tdtrain-rmse:0.00090\tdtrain-RMSPE:0.22954\tdval-rmse:0.00102\tdval-RMSPE:0.22686\n",
      "[550]\tdtrain-rmse:0.00089\tdtrain-RMSPE:0.22733\tdval-rmse:0.00102\tdval-RMSPE:0.22511\n",
      "[600]\tdtrain-rmse:0.00088\tdtrain-RMSPE:0.22584\tdval-rmse:0.00101\tdval-RMSPE:0.22439\n",
      "[650]\tdtrain-rmse:0.00087\tdtrain-RMSPE:0.22415\tdval-rmse:0.00101\tdval-RMSPE:0.22327\n",
      "[700]\tdtrain-rmse:0.00086\tdtrain-RMSPE:0.22263\tdval-rmse:0.00101\tdval-RMSPE:0.22242\n",
      "[750]\tdtrain-rmse:0.00086\tdtrain-RMSPE:0.22155\tdval-rmse:0.00101\tdval-RMSPE:0.22172\n",
      "[800]\tdtrain-rmse:0.00085\tdtrain-RMSPE:0.22012\tdval-rmse:0.00100\tdval-RMSPE:0.22099\n",
      "[850]\tdtrain-rmse:0.00084\tdtrain-RMSPE:0.21902\tdval-rmse:0.00100\tdval-RMSPE:0.22034\n",
      "[900]\tdtrain-rmse:0.00084\tdtrain-RMSPE:0.21793\tdval-rmse:0.00100\tdval-RMSPE:0.21981\n",
      "[950]\tdtrain-rmse:0.00083\tdtrain-RMSPE:0.21683\tdval-rmse:0.00100\tdval-RMSPE:0.21937\n",
      "[999]\tdtrain-rmse:0.00083\tdtrain-RMSPE:0.21676\tdval-rmse:0.00100\tdval-RMSPE:0.21933\n"
     ]
    },
    {
     "name": "stderr",
     "output_type": "stream",
     "text": [
      "\u001b[32m[I 2021-08-29 21:12:06,139]\u001b[0m Trial 77 finished with value: 0.2193209103130034 and parameters: {'max_depth': 5, 'eta': 0.1, 'lambda': 5.120327485826731e-07, 'gamma': 2.4758690203596957e-07, 'alpha': 0.07626177243368978}. Best is trial 36 with value: 0.21853470111089732.\u001b[0m\n"
     ]
    },
    {
     "name": "stdout",
     "output_type": "stream",
     "text": [
      "[0]\tdtrain-rmse:0.44652\tdtrain-RMSPE:207.70309\tdval-rmse:0.44651\tdval-RMSPE:207.07370\n",
      "[50]\tdtrain-rmse:0.00256\tdtrain-RMSPE:1.23362\tdval-rmse:0.00257\tdval-RMSPE:1.22228\n",
      "[100]\tdtrain-rmse:0.00102\tdtrain-RMSPE:0.26316\tdval-rmse:0.00110\tdval-RMSPE:0.25378\n",
      "[150]\tdtrain-rmse:0.00096\tdtrain-RMSPE:0.24985\tdval-rmse:0.00106\tdval-RMSPE:0.24283\n",
      "[200]\tdtrain-rmse:0.00093\tdtrain-RMSPE:0.24154\tdval-rmse:0.00105\tdval-RMSPE:0.23651\n",
      "[250]\tdtrain-rmse:0.00090\tdtrain-RMSPE:0.23630\tdval-rmse:0.00103\tdval-RMSPE:0.23279\n",
      "[300]\tdtrain-rmse:0.00088\tdtrain-RMSPE:0.23087\tdval-rmse:0.00103\tdval-RMSPE:0.22928\n",
      "[350]\tdtrain-rmse:0.00087\tdtrain-RMSPE:0.22724\tdval-rmse:0.00102\tdval-RMSPE:0.22689\n",
      "[400]\tdtrain-rmse:0.00085\tdtrain-RMSPE:0.22388\tdval-rmse:0.00101\tdval-RMSPE:0.22454\n",
      "[450]\tdtrain-rmse:0.00084\tdtrain-RMSPE:0.22121\tdval-rmse:0.00101\tdval-RMSPE:0.22315\n",
      "[500]\tdtrain-rmse:0.00082\tdtrain-RMSPE:0.21852\tdval-rmse:0.00101\tdval-RMSPE:0.22179\n",
      "[550]\tdtrain-rmse:0.00081\tdtrain-RMSPE:0.21645\tdval-rmse:0.00101\tdval-RMSPE:0.22093\n",
      "[600]\tdtrain-rmse:0.00080\tdtrain-RMSPE:0.21451\tdval-rmse:0.00100\tdval-RMSPE:0.22016\n",
      "[650]\tdtrain-rmse:0.00079\tdtrain-RMSPE:0.21247\tdval-rmse:0.00100\tdval-RMSPE:0.21920\n",
      "[700]\tdtrain-rmse:0.00079\tdtrain-RMSPE:0.21147\tdval-rmse:0.00100\tdval-RMSPE:0.21877\n",
      "[750]\tdtrain-rmse:0.00079\tdtrain-RMSPE:0.21147\tdval-rmse:0.00100\tdval-RMSPE:0.21877\n",
      "[777]\tdtrain-rmse:0.00079\tdtrain-RMSPE:0.21147\tdval-rmse:0.00100\tdval-RMSPE:0.21877\n"
     ]
    },
    {
     "name": "stderr",
     "output_type": "stream",
     "text": [
      "\u001b[32m[I 2021-08-29 21:12:46,367]\u001b[0m Trial 78 finished with value: 0.2187675730190617 and parameters: {'max_depth': 6, 'eta': 0.1, 'lambda': 9.812412680338904e-07, 'gamma': 1.2853295501307186e-06, 'alpha': 0.05505159390538935}. Best is trial 36 with value: 0.21853470111089732.\u001b[0m\n"
     ]
    },
    {
     "name": "stdout",
     "output_type": "stream",
     "text": [
      "[0]\tdtrain-rmse:0.44652\tdtrain-RMSPE:207.70312\tdval-rmse:0.44651\tdval-RMSPE:207.07369\n",
      "[50]\tdtrain-rmse:0.00265\tdtrain-RMSPE:1.37893\tdval-rmse:0.00265\tdval-RMSPE:1.36771\n",
      "[100]\tdtrain-rmse:0.00131\tdtrain-RMSPE:0.40885\tdval-rmse:0.00133\tdval-RMSPE:0.39911\n",
      "[150]\tdtrain-rmse:0.00131\tdtrain-RMSPE:0.40505\tdval-rmse:0.00133\tdval-RMSPE:0.39533\n",
      "[200]\tdtrain-rmse:0.00131\tdtrain-RMSPE:0.40503\tdval-rmse:0.00133\tdval-RMSPE:0.39531\n",
      "[250]\tdtrain-rmse:0.00131\tdtrain-RMSPE:0.40503\tdval-rmse:0.00133\tdval-RMSPE:0.39531\n",
      "[300]\tdtrain-rmse:0.00131\tdtrain-RMSPE:0.40503\tdval-rmse:0.00133\tdval-RMSPE:0.39531\n",
      "[308]\tdtrain-rmse:0.00131\tdtrain-RMSPE:0.40503\tdval-rmse:0.00133\tdval-RMSPE:0.39531\n"
     ]
    },
    {
     "name": "stderr",
     "output_type": "stream",
     "text": [
      "\u001b[32m[I 2021-08-29 21:12:55,293]\u001b[0m Trial 79 finished with value: 0.3953572562485888 and parameters: {'max_depth': 6, 'eta': 0.1, 'lambda': 2.148160772778276e-07, 'gamma': 0.0160339061062271, 'alpha': 0.10577933810098275}. Best is trial 36 with value: 0.21853470111089732.\u001b[0m\n"
     ]
    },
    {
     "name": "stdout",
     "output_type": "stream",
     "text": [
      "[0]\tdtrain-rmse:0.44652\tdtrain-RMSPE:207.73080\tdval-rmse:0.44651\tdval-RMSPE:207.10146\n",
      "[50]\tdtrain-rmse:0.00260\tdtrain-RMSPE:1.29872\tdval-rmse:0.00260\tdval-RMSPE:1.28744\n",
      "[100]\tdtrain-rmse:0.00109\tdtrain-RMSPE:0.27467\tdval-rmse:0.00113\tdval-RMSPE:0.26545\n",
      "[150]\tdtrain-rmse:0.00105\tdtrain-RMSPE:0.26176\tdval-rmse:0.00110\tdval-RMSPE:0.25316\n",
      "[200]\tdtrain-rmse:0.00103\tdtrain-RMSPE:0.25554\tdval-rmse:0.00108\tdval-RMSPE:0.24731\n",
      "[250]\tdtrain-rmse:0.00101\tdtrain-RMSPE:0.25152\tdval-rmse:0.00107\tdval-RMSPE:0.24383\n",
      "[300]\tdtrain-rmse:0.00100\tdtrain-RMSPE:0.24805\tdval-rmse:0.00106\tdval-RMSPE:0.24072\n",
      "[350]\tdtrain-rmse:0.00099\tdtrain-RMSPE:0.24527\tdval-rmse:0.00105\tdval-RMSPE:0.23823\n",
      "[400]\tdtrain-rmse:0.00098\tdtrain-RMSPE:0.24494\tdval-rmse:0.00105\tdval-RMSPE:0.23797\n",
      "[450]\tdtrain-rmse:0.00098\tdtrain-RMSPE:0.24494\tdval-rmse:0.00105\tdval-RMSPE:0.23797\n",
      "[454]\tdtrain-rmse:0.00098\tdtrain-RMSPE:0.24494\tdval-rmse:0.00105\tdval-RMSPE:0.23797\n"
     ]
    },
    {
     "name": "stderr",
     "output_type": "stream",
     "text": [
      "\u001b[32m[I 2021-08-29 21:13:17,538]\u001b[0m Trial 80 finished with value: 0.23795491523694065 and parameters: {'max_depth': 6, 'eta': 0.1, 'lambda': 9.682470766190223e-07, 'gamma': 1.4380639783116794e-06, 'alpha': 0.4779498903624709}. Best is trial 36 with value: 0.21853470111089732.\u001b[0m\n"
     ]
    },
    {
     "name": "stdout",
     "output_type": "stream",
     "text": [
      "[0]\tdtrain-rmse:0.44652\tdtrain-RMSPE:207.70128\tdval-rmse:0.44651\tdval-RMSPE:207.07194\n",
      "[50]\tdtrain-rmse:0.00256\tdtrain-RMSPE:1.23190\tdval-rmse:0.00257\tdval-RMSPE:1.22061\n",
      "[100]\tdtrain-rmse:0.00104\tdtrain-RMSPE:0.26457\tdval-rmse:0.00111\tdval-RMSPE:0.25587\n",
      "[150]\tdtrain-rmse:0.00100\tdtrain-RMSPE:0.25481\tdval-rmse:0.00108\tdval-RMSPE:0.24680\n",
      "[200]\tdtrain-rmse:0.00097\tdtrain-RMSPE:0.24874\tdval-rmse:0.00106\tdval-RMSPE:0.24146\n",
      "[250]\tdtrain-rmse:0.00095\tdtrain-RMSPE:0.24332\tdval-rmse:0.00105\tdval-RMSPE:0.23727\n",
      "[300]\tdtrain-rmse:0.00093\tdtrain-RMSPE:0.23902\tdval-rmse:0.00104\tdval-RMSPE:0.23388\n",
      "[350]\tdtrain-rmse:0.00092\tdtrain-RMSPE:0.23600\tdval-rmse:0.00103\tdval-RMSPE:0.23150\n",
      "[400]\tdtrain-rmse:0.00090\tdtrain-RMSPE:0.23315\tdval-rmse:0.00103\tdval-RMSPE:0.22962\n",
      "[450]\tdtrain-rmse:0.00089\tdtrain-RMSPE:0.22983\tdval-rmse:0.00102\tdval-RMSPE:0.22736\n",
      "[500]\tdtrain-rmse:0.00088\tdtrain-RMSPE:0.22769\tdval-rmse:0.00102\tdval-RMSPE:0.22615\n",
      "[550]\tdtrain-rmse:0.00087\tdtrain-RMSPE:0.22569\tdval-rmse:0.00101\tdval-RMSPE:0.22471\n",
      "[600]\tdtrain-rmse:0.00086\tdtrain-RMSPE:0.22383\tdval-rmse:0.00101\tdval-RMSPE:0.22345\n",
      "[650]\tdtrain-rmse:0.00085\tdtrain-RMSPE:0.22263\tdval-rmse:0.00101\tdval-RMSPE:0.22297\n",
      "[700]\tdtrain-rmse:0.00084\tdtrain-RMSPE:0.22137\tdval-rmse:0.00101\tdval-RMSPE:0.22218\n",
      "[750]\tdtrain-rmse:0.00084\tdtrain-RMSPE:0.22001\tdval-rmse:0.00101\tdval-RMSPE:0.22137\n",
      "[800]\tdtrain-rmse:0.00084\tdtrain-RMSPE:0.22001\tdval-rmse:0.00101\tdval-RMSPE:0.22137\n",
      "[838]\tdtrain-rmse:0.00084\tdtrain-RMSPE:0.22001\tdval-rmse:0.00101\tdval-RMSPE:0.22137\n"
     ]
    },
    {
     "name": "stderr",
     "output_type": "stream",
     "text": [
      "\u001b[32m[I 2021-08-29 21:13:51,907]\u001b[0m Trial 81 finished with value: 0.22138212151680584 and parameters: {'max_depth': 5, 'eta': 0.1, 'lambda': 5.464546273685687e-07, 'gamma': 2.141817259378339e-06, 'alpha': 0.04673067823849908}. Best is trial 36 with value: 0.21853470111089732.\u001b[0m\n"
     ]
    },
    {
     "name": "stdout",
     "output_type": "stream",
     "text": [
      "[0]\tdtrain-rmse:0.44652\tdtrain-RMSPE:207.69286\tdval-rmse:0.44651\tdval-RMSPE:207.06345\n",
      "[50]\tdtrain-rmse:0.00255\tdtrain-RMSPE:1.21986\tdval-rmse:0.00256\tdval-RMSPE:1.20860\n",
      "[100]\tdtrain-rmse:0.00103\tdtrain-RMSPE:0.26320\tdval-rmse:0.00110\tdval-RMSPE:0.25357\n",
      "[150]\tdtrain-rmse:0.00099\tdtrain-RMSPE:0.25321\tdval-rmse:0.00107\tdval-RMSPE:0.24508\n",
      "[200]\tdtrain-rmse:0.00096\tdtrain-RMSPE:0.24788\tdval-rmse:0.00106\tdval-RMSPE:0.24076\n",
      "[250]\tdtrain-rmse:0.00093\tdtrain-RMSPE:0.24219\tdval-rmse:0.00105\tdval-RMSPE:0.23675\n",
      "[300]\tdtrain-rmse:0.00091\tdtrain-RMSPE:0.23771\tdval-rmse:0.00104\tdval-RMSPE:0.23383\n",
      "[350]\tdtrain-rmse:0.00089\tdtrain-RMSPE:0.23423\tdval-rmse:0.00103\tdval-RMSPE:0.23132\n",
      "[400]\tdtrain-rmse:0.00088\tdtrain-RMSPE:0.23022\tdval-rmse:0.00102\tdval-RMSPE:0.22917\n",
      "[450]\tdtrain-rmse:0.00086\tdtrain-RMSPE:0.22753\tdval-rmse:0.00102\tdval-RMSPE:0.22728\n",
      "[500]\tdtrain-rmse:0.00085\tdtrain-RMSPE:0.22570\tdval-rmse:0.00102\tdval-RMSPE:0.22638\n",
      "[550]\tdtrain-rmse:0.00084\tdtrain-RMSPE:0.22300\tdval-rmse:0.00101\tdval-RMSPE:0.22495\n",
      "[600]\tdtrain-rmse:0.00082\tdtrain-RMSPE:0.22154\tdval-rmse:0.00101\tdval-RMSPE:0.22424\n",
      "[650]\tdtrain-rmse:0.00081\tdtrain-RMSPE:0.21937\tdval-rmse:0.00101\tdval-RMSPE:0.22306\n",
      "[700]\tdtrain-rmse:0.00081\tdtrain-RMSPE:0.21809\tdval-rmse:0.00101\tdval-RMSPE:0.22248\n",
      "[750]\tdtrain-rmse:0.00080\tdtrain-RMSPE:0.21653\tdval-rmse:0.00100\tdval-RMSPE:0.22167\n",
      "[800]\tdtrain-rmse:0.00079\tdtrain-RMSPE:0.21491\tdval-rmse:0.00100\tdval-RMSPE:0.22131\n",
      "[850]\tdtrain-rmse:0.00078\tdtrain-RMSPE:0.21363\tdval-rmse:0.00100\tdval-RMSPE:0.22092\n",
      "[900]\tdtrain-rmse:0.00077\tdtrain-RMSPE:0.21224\tdval-rmse:0.00100\tdval-RMSPE:0.22059\n",
      "[950]\tdtrain-rmse:0.00076\tdtrain-RMSPE:0.21095\tdval-rmse:0.00100\tdval-RMSPE:0.22006\n",
      "[999]\tdtrain-rmse:0.00076\tdtrain-RMSPE:0.20970\tdval-rmse:0.00100\tdval-RMSPE:0.21961\n"
     ]
    },
    {
     "name": "stderr",
     "output_type": "stream",
     "text": [
      "\u001b[32m[I 2021-08-29 21:14:34,529]\u001b[0m Trial 82 finished with value: 0.2195284711255434 and parameters: {'max_depth': 5, 'eta': 0.1, 'lambda': 1.4579719267201187e-06, 'gamma': 3.5752258258078586e-07, 'alpha': 0.01808196424336258}. Best is trial 36 with value: 0.21853470111089732.\u001b[0m\n"
     ]
    },
    {
     "name": "stdout",
     "output_type": "stream",
     "text": [
      "[0]\tdtrain-rmse:0.44652\tdtrain-RMSPE:207.70189\tdval-rmse:0.44651\tdval-RMSPE:207.07250\n",
      "[50]\tdtrain-rmse:0.00256\tdtrain-RMSPE:1.23520\tdval-rmse:0.00257\tdval-RMSPE:1.22417\n",
      "[100]\tdtrain-rmse:0.00105\tdtrain-RMSPE:0.26720\tdval-rmse:0.00111\tdval-RMSPE:0.25740\n",
      "[150]\tdtrain-rmse:0.00101\tdtrain-RMSPE:0.25545\tdval-rmse:0.00108\tdval-RMSPE:0.24704\n",
      "[200]\tdtrain-rmse:0.00097\tdtrain-RMSPE:0.24888\tdval-rmse:0.00106\tdval-RMSPE:0.24153\n",
      "[250]\tdtrain-rmse:0.00095\tdtrain-RMSPE:0.24405\tdval-rmse:0.00105\tdval-RMSPE:0.23764\n",
      "[300]\tdtrain-rmse:0.00093\tdtrain-RMSPE:0.24001\tdval-rmse:0.00104\tdval-RMSPE:0.23470\n",
      "[350]\tdtrain-rmse:0.00092\tdtrain-RMSPE:0.23667\tdval-rmse:0.00103\tdval-RMSPE:0.23204\n",
      "[400]\tdtrain-rmse:0.00090\tdtrain-RMSPE:0.23410\tdval-rmse:0.00103\tdval-RMSPE:0.23023\n",
      "[450]\tdtrain-rmse:0.00089\tdtrain-RMSPE:0.23081\tdval-rmse:0.00102\tdval-RMSPE:0.22785\n",
      "[500]\tdtrain-rmse:0.00088\tdtrain-RMSPE:0.22837\tdval-rmse:0.00102\tdval-RMSPE:0.22650\n",
      "[550]\tdtrain-rmse:0.00087\tdtrain-RMSPE:0.22637\tdval-rmse:0.00101\tdval-RMSPE:0.22498\n",
      "[600]\tdtrain-rmse:0.00087\tdtrain-RMSPE:0.22562\tdval-rmse:0.00101\tdval-RMSPE:0.22468\n",
      "[650]\tdtrain-rmse:0.00087\tdtrain-RMSPE:0.22562\tdval-rmse:0.00101\tdval-RMSPE:0.22468\n",
      "[673]\tdtrain-rmse:0.00087\tdtrain-RMSPE:0.22562\tdval-rmse:0.00101\tdval-RMSPE:0.22468\n"
     ]
    },
    {
     "name": "stderr",
     "output_type": "stream",
     "text": [
      "\u001b[32m[I 2021-08-29 21:15:02,170]\u001b[0m Trial 83 finished with value: 0.22468961068133925 and parameters: {'max_depth': 5, 'eta': 0.1, 'lambda': 2.2749390862432858e-07, 'gamma': 3.3699300211215955e-06, 'alpha': 0.05092598946431072}. Best is trial 36 with value: 0.21853470111089732.\u001b[0m\n"
     ]
    },
    {
     "name": "stdout",
     "output_type": "stream",
     "text": [
      "[0]\tdtrain-rmse:0.44652\tdtrain-RMSPE:207.70288\tdval-rmse:0.44651\tdval-RMSPE:207.07346\n",
      "[50]\tdtrain-rmse:0.00258\tdtrain-RMSPE:1.25827\tdval-rmse:0.00259\tdval-RMSPE:1.24807\n",
      "[100]\tdtrain-rmse:0.00105\tdtrain-RMSPE:0.26827\tdval-rmse:0.00111\tdval-RMSPE:0.26034\n",
      "[150]\tdtrain-rmse:0.00101\tdtrain-RMSPE:0.25585\tdval-rmse:0.00108\tdval-RMSPE:0.24867\n",
      "[200]\tdtrain-rmse:0.00098\tdtrain-RMSPE:0.24922\tdval-rmse:0.00106\tdval-RMSPE:0.24260\n",
      "[250]\tdtrain-rmse:0.00096\tdtrain-RMSPE:0.24428\tdval-rmse:0.00105\tdval-RMSPE:0.23842\n",
      "[300]\tdtrain-rmse:0.00094\tdtrain-RMSPE:0.23993\tdval-rmse:0.00104\tdval-RMSPE:0.23447\n",
      "[350]\tdtrain-rmse:0.00093\tdtrain-RMSPE:0.23617\tdval-rmse:0.00103\tdval-RMSPE:0.23151\n",
      "[400]\tdtrain-rmse:0.00092\tdtrain-RMSPE:0.23340\tdval-rmse:0.00103\tdval-RMSPE:0.22954\n",
      "[450]\tdtrain-rmse:0.00091\tdtrain-RMSPE:0.23161\tdval-rmse:0.00102\tdval-RMSPE:0.22804\n",
      "[500]\tdtrain-rmse:0.00090\tdtrain-RMSPE:0.22903\tdval-rmse:0.00102\tdval-RMSPE:0.22593\n",
      "[550]\tdtrain-rmse:0.00090\tdtrain-RMSPE:0.22711\tdval-rmse:0.00101\tdval-RMSPE:0.22464\n",
      "[600]\tdtrain-rmse:0.00089\tdtrain-RMSPE:0.22673\tdval-rmse:0.00101\tdval-RMSPE:0.22440\n",
      "[650]\tdtrain-rmse:0.00089\tdtrain-RMSPE:0.22673\tdval-rmse:0.00101\tdval-RMSPE:0.22440\n",
      "[671]\tdtrain-rmse:0.00089\tdtrain-RMSPE:0.22673\tdval-rmse:0.00101\tdval-RMSPE:0.22440\n"
     ]
    },
    {
     "name": "stderr",
     "output_type": "stream",
     "text": [
      "\u001b[32m[I 2021-08-29 21:15:36,550]\u001b[0m Trial 84 finished with value: 0.22437796309196878 and parameters: {'max_depth': 6, 'eta': 0.1, 'lambda': 2.972807216994268e-06, 'gamma': 1.373121022382616e-07, 'alpha': 0.182701508727126}. Best is trial 36 with value: 0.21853470111089732.\u001b[0m\n"
     ]
    },
    {
     "name": "stdout",
     "output_type": "stream",
     "text": [
      "[0]\tdtrain-rmse:0.44652\tdtrain-RMSPE:207.70172\tdval-rmse:0.44651\tdval-RMSPE:207.07237\n",
      "[50]\tdtrain-rmse:0.00256\tdtrain-RMSPE:1.22403\tdval-rmse:0.00257\tdval-RMSPE:1.21273\n",
      "[100]\tdtrain-rmse:0.00104\tdtrain-RMSPE:0.26497\tdval-rmse:0.00111\tdval-RMSPE:0.25571\n",
      "[150]\tdtrain-rmse:0.00100\tdtrain-RMSPE:0.25511\tdval-rmse:0.00108\tdval-RMSPE:0.24710\n",
      "[200]\tdtrain-rmse:0.00096\tdtrain-RMSPE:0.24775\tdval-rmse:0.00106\tdval-RMSPE:0.24116\n",
      "[250]\tdtrain-rmse:0.00094\tdtrain-RMSPE:0.24289\tdval-rmse:0.00105\tdval-RMSPE:0.23775\n",
      "[300]\tdtrain-rmse:0.00092\tdtrain-RMSPE:0.23849\tdval-rmse:0.00104\tdval-RMSPE:0.23459\n",
      "[350]\tdtrain-rmse:0.00090\tdtrain-RMSPE:0.23489\tdval-rmse:0.00103\tdval-RMSPE:0.23187\n",
      "[400]\tdtrain-rmse:0.00089\tdtrain-RMSPE:0.23170\tdval-rmse:0.00103\tdval-RMSPE:0.22961\n",
      "[450]\tdtrain-rmse:0.00087\tdtrain-RMSPE:0.22870\tdval-rmse:0.00102\tdval-RMSPE:0.22769\n",
      "[500]\tdtrain-rmse:0.00086\tdtrain-RMSPE:0.22566\tdval-rmse:0.00102\tdval-RMSPE:0.22642\n",
      "[550]\tdtrain-rmse:0.00085\tdtrain-RMSPE:0.22362\tdval-rmse:0.00101\tdval-RMSPE:0.22520\n",
      "[600]\tdtrain-rmse:0.00084\tdtrain-RMSPE:0.22180\tdval-rmse:0.00101\tdval-RMSPE:0.22413\n",
      "[650]\tdtrain-rmse:0.00083\tdtrain-RMSPE:0.22009\tdval-rmse:0.00101\tdval-RMSPE:0.22310\n",
      "[700]\tdtrain-rmse:0.00082\tdtrain-RMSPE:0.21859\tdval-rmse:0.00101\tdval-RMSPE:0.22236\n",
      "[750]\tdtrain-rmse:0.00081\tdtrain-RMSPE:0.21710\tdval-rmse:0.00101\tdval-RMSPE:0.22127\n",
      "[800]\tdtrain-rmse:0.00080\tdtrain-RMSPE:0.21588\tdval-rmse:0.00100\tdval-RMSPE:0.22078\n",
      "[850]\tdtrain-rmse:0.00080\tdtrain-RMSPE:0.21465\tdval-rmse:0.00100\tdval-RMSPE:0.22014\n",
      "[900]\tdtrain-rmse:0.00079\tdtrain-RMSPE:0.21308\tdval-rmse:0.00100\tdval-RMSPE:0.21965\n",
      "[950]\tdtrain-rmse:0.00078\tdtrain-RMSPE:0.21159\tdval-rmse:0.00100\tdval-RMSPE:0.21927\n",
      "[999]\tdtrain-rmse:0.00077\tdtrain-RMSPE:0.21054\tdval-rmse:0.00100\tdval-RMSPE:0.21901\n"
     ]
    },
    {
     "name": "stderr",
     "output_type": "stream",
     "text": [
      "\u001b[32m[I 2021-08-29 21:16:19,519]\u001b[0m Trial 85 finished with value: 0.21907272338899833 and parameters: {'max_depth': 5, 'eta': 0.1, 'lambda': 5.065085730011608e-07, 'gamma': 1.089808398937292e-06, 'alpha': 0.028552308219048635}. Best is trial 36 with value: 0.21853470111089732.\u001b[0m\n"
     ]
    },
    {
     "name": "stdout",
     "output_type": "stream",
     "text": [
      "[0]\tdtrain-rmse:0.44652\tdtrain-RMSPE:207.69266\tdval-rmse:0.44651\tdval-RMSPE:207.06328\n",
      "[50]\tdtrain-rmse:0.00254\tdtrain-RMSPE:1.21511\tdval-rmse:0.00255\tdval-RMSPE:1.20401\n",
      "[100]\tdtrain-rmse:0.00102\tdtrain-RMSPE:0.26115\tdval-rmse:0.00109\tdval-RMSPE:0.25271\n",
      "[150]\tdtrain-rmse:0.00098\tdtrain-RMSPE:0.25072\tdval-rmse:0.00107\tdval-RMSPE:0.24419\n",
      "[200]\tdtrain-rmse:0.00095\tdtrain-RMSPE:0.24522\tdval-rmse:0.00105\tdval-RMSPE:0.24002\n",
      "[250]\tdtrain-rmse:0.00092\tdtrain-RMSPE:0.24050\tdval-rmse:0.00104\tdval-RMSPE:0.23642\n",
      "[300]\tdtrain-rmse:0.00090\tdtrain-RMSPE:0.23642\tdval-rmse:0.00103\tdval-RMSPE:0.23342\n",
      "[350]\tdtrain-rmse:0.00088\tdtrain-RMSPE:0.23259\tdval-rmse:0.00103\tdval-RMSPE:0.23127\n",
      "[400]\tdtrain-rmse:0.00086\tdtrain-RMSPE:0.22992\tdval-rmse:0.00103\tdval-RMSPE:0.22942\n",
      "[450]\tdtrain-rmse:0.00085\tdtrain-RMSPE:0.22781\tdval-rmse:0.00102\tdval-RMSPE:0.22805\n",
      "[500]\tdtrain-rmse:0.00084\tdtrain-RMSPE:0.22423\tdval-rmse:0.00102\tdval-RMSPE:0.22616\n",
      "[550]\tdtrain-rmse:0.00082\tdtrain-RMSPE:0.22161\tdval-rmse:0.00101\tdval-RMSPE:0.22449\n",
      "[600]\tdtrain-rmse:0.00081\tdtrain-RMSPE:0.21990\tdval-rmse:0.00101\tdval-RMSPE:0.22371\n",
      "[650]\tdtrain-rmse:0.00080\tdtrain-RMSPE:0.21849\tdval-rmse:0.00101\tdval-RMSPE:0.22308\n",
      "[700]\tdtrain-rmse:0.00079\tdtrain-RMSPE:0.21646\tdval-rmse:0.00101\tdval-RMSPE:0.22250\n",
      "[750]\tdtrain-rmse:0.00078\tdtrain-RMSPE:0.21493\tdval-rmse:0.00101\tdval-RMSPE:0.22183\n",
      "[800]\tdtrain-rmse:0.00077\tdtrain-RMSPE:0.21306\tdval-rmse:0.00101\tdval-RMSPE:0.22147\n",
      "[850]\tdtrain-rmse:0.00076\tdtrain-RMSPE:0.21179\tdval-rmse:0.00100\tdval-RMSPE:0.22126\n",
      "[900]\tdtrain-rmse:0.00075\tdtrain-RMSPE:0.20965\tdval-rmse:0.00100\tdval-RMSPE:0.22044\n",
      "[950]\tdtrain-rmse:0.00075\tdtrain-RMSPE:0.20857\tdval-rmse:0.00100\tdval-RMSPE:0.22017\n",
      "[999]\tdtrain-rmse:0.00074\tdtrain-RMSPE:0.20758\tdval-rmse:0.00100\tdval-RMSPE:0.21995\n"
     ]
    },
    {
     "name": "stderr",
     "output_type": "stream",
     "text": [
      "\u001b[32m[I 2021-08-29 21:17:01,926]\u001b[0m Trial 86 finished with value: 0.2199003940184443 and parameters: {'max_depth': 5, 'eta': 0.1, 'lambda': 6.367176276883034e-08, 'gamma': 7.236800156747711e-07, 'alpha': 0.010165739025074746}. Best is trial 36 with value: 0.21853470111089732.\u001b[0m\n"
     ]
    },
    {
     "name": "stdout",
     "output_type": "stream",
     "text": [
      "[0]\tdtrain-rmse:0.44652\tdtrain-RMSPE:207.69052\tdval-rmse:0.44651\tdval-RMSPE:207.06116\n",
      "[50]\tdtrain-rmse:0.00253\tdtrain-RMSPE:1.20833\tdval-rmse:0.00255\tdval-RMSPE:1.19793\n",
      "[100]\tdtrain-rmse:0.00097\tdtrain-RMSPE:0.25541\tdval-rmse:0.00108\tdval-RMSPE:0.24827\n",
      "[150]\tdtrain-rmse:0.00091\tdtrain-RMSPE:0.24403\tdval-rmse:0.00105\tdval-RMSPE:0.23902\n",
      "[200]\tdtrain-rmse:0.00087\tdtrain-RMSPE:0.23715\tdval-rmse:0.00104\tdval-RMSPE:0.23417\n",
      "[250]\tdtrain-rmse:0.00084\tdtrain-RMSPE:0.23140\tdval-rmse:0.00103\tdval-RMSPE:0.23139\n",
      "[300]\tdtrain-rmse:0.00081\tdtrain-RMSPE:0.22579\tdval-rmse:0.00102\tdval-RMSPE:0.22838\n",
      "[350]\tdtrain-rmse:0.00079\tdtrain-RMSPE:0.22054\tdval-rmse:0.00102\tdval-RMSPE:0.22619\n",
      "[400]\tdtrain-rmse:0.00077\tdtrain-RMSPE:0.21628\tdval-rmse:0.00101\tdval-RMSPE:0.22429\n",
      "[450]\tdtrain-rmse:0.00075\tdtrain-RMSPE:0.21288\tdval-rmse:0.00101\tdval-RMSPE:0.22312\n",
      "[500]\tdtrain-rmse:0.00074\tdtrain-RMSPE:0.20994\tdval-rmse:0.00101\tdval-RMSPE:0.22202\n",
      "[550]\tdtrain-rmse:0.00072\tdtrain-RMSPE:0.20758\tdval-rmse:0.00101\tdval-RMSPE:0.22148\n",
      "[600]\tdtrain-rmse:0.00071\tdtrain-RMSPE:0.20471\tdval-rmse:0.00100\tdval-RMSPE:0.22052\n",
      "[650]\tdtrain-rmse:0.00069\tdtrain-RMSPE:0.20256\tdval-rmse:0.00100\tdval-RMSPE:0.21995\n",
      "[700]\tdtrain-rmse:0.00068\tdtrain-RMSPE:0.20044\tdval-rmse:0.00100\tdval-RMSPE:0.21946\n",
      "[750]\tdtrain-rmse:0.00067\tdtrain-RMSPE:0.19852\tdval-rmse:0.00100\tdval-RMSPE:0.21903\n",
      "[800]\tdtrain-rmse:0.00066\tdtrain-RMSPE:0.19650\tdval-rmse:0.00100\tdval-RMSPE:0.21859\n",
      "[850]\tdtrain-rmse:0.00065\tdtrain-RMSPE:0.19431\tdval-rmse:0.00100\tdval-RMSPE:0.21800\n",
      "[900]\tdtrain-rmse:0.00064\tdtrain-RMSPE:0.19245\tdval-rmse:0.00100\tdval-RMSPE:0.21758\n",
      "[950]\tdtrain-rmse:0.00063\tdtrain-RMSPE:0.19136\tdval-rmse:0.00100\tdval-RMSPE:0.21745\n",
      "[999]\tdtrain-rmse:0.00063\tdtrain-RMSPE:0.19136\tdval-rmse:0.00100\tdval-RMSPE:0.21745\n"
     ]
    },
    {
     "name": "stderr",
     "output_type": "stream",
     "text": [
      "\u001b[32m[I 2021-08-29 21:17:54,248]\u001b[0m Trial 87 finished with value: 0.21745886617707863 and parameters: {'max_depth': 6, 'eta': 0.1, 'lambda': 9.59160741064889e-07, 'gamma': 2.866033732662124e-08, 'alpha': 0.005808934269419771}. Best is trial 87 with value: 0.21745886617707863.\u001b[0m\n"
     ]
    },
    {
     "name": "stdout",
     "output_type": "stream",
     "text": [
      "[0]\tdtrain-rmse:0.44652\tdtrain-RMSPE:207.69047\tdval-rmse:0.44651\tdval-RMSPE:207.06114\n",
      "[50]\tdtrain-rmse:0.00252\tdtrain-RMSPE:1.20506\tdval-rmse:0.00255\tdval-RMSPE:1.19513\n",
      "[100]\tdtrain-rmse:0.00092\tdtrain-RMSPE:0.24932\tdval-rmse:0.00107\tdval-RMSPE:0.24456\n",
      "[150]\tdtrain-rmse:0.00085\tdtrain-RMSPE:0.23358\tdval-rmse:0.00104\tdval-RMSPE:0.23366\n",
      "[200]\tdtrain-rmse:0.00080\tdtrain-RMSPE:0.22499\tdval-rmse:0.00103\tdval-RMSPE:0.22896\n",
      "[250]\tdtrain-rmse:0.00076\tdtrain-RMSPE:0.21749\tdval-rmse:0.00102\tdval-RMSPE:0.22583\n",
      "[300]\tdtrain-rmse:0.00073\tdtrain-RMSPE:0.21130\tdval-rmse:0.00102\tdval-RMSPE:0.22320\n",
      "[350]\tdtrain-rmse:0.00071\tdtrain-RMSPE:0.20478\tdval-rmse:0.00101\tdval-RMSPE:0.22103\n",
      "[400]\tdtrain-rmse:0.00068\tdtrain-RMSPE:0.20037\tdval-rmse:0.00101\tdval-RMSPE:0.21972\n",
      "[450]\tdtrain-rmse:0.00066\tdtrain-RMSPE:0.19638\tdval-rmse:0.00101\tdval-RMSPE:0.21882\n",
      "[500]\tdtrain-rmse:0.00065\tdtrain-RMSPE:0.19294\tdval-rmse:0.00101\tdval-RMSPE:0.21802\n",
      "[550]\tdtrain-rmse:0.00063\tdtrain-RMSPE:0.18943\tdval-rmse:0.00101\tdval-RMSPE:0.21751\n",
      "[600]\tdtrain-rmse:0.00061\tdtrain-RMSPE:0.18639\tdval-rmse:0.00100\tdval-RMSPE:0.21710\n",
      "[650]\tdtrain-rmse:0.00061\tdtrain-RMSPE:0.18494\tdval-rmse:0.00100\tdval-RMSPE:0.21711\n",
      "[700]\tdtrain-rmse:0.00061\tdtrain-RMSPE:0.18494\tdval-rmse:0.00100\tdval-RMSPE:0.21711\n",
      "[713]\tdtrain-rmse:0.00061\tdtrain-RMSPE:0.18494\tdval-rmse:0.00100\tdval-RMSPE:0.21711\n"
     ]
    },
    {
     "name": "stderr",
     "output_type": "stream",
     "text": [
      "\u001b[32m[I 2021-08-29 21:18:43,687]\u001b[0m Trial 88 finished with value: 0.21709429541538675 and parameters: {'max_depth': 7, 'eta': 0.1, 'lambda': 9.622941577747808e-07, 'gamma': 2.5480725866749873e-08, 'alpha': 0.0062239208051126605}. Best is trial 88 with value: 0.21709429541538675.\u001b[0m\n"
     ]
    },
    {
     "name": "stdout",
     "output_type": "stream",
     "text": [
      "[0]\tdtrain-rmse:0.44652\tdtrain-RMSPE:207.69076\tdval-rmse:0.44651\tdval-RMSPE:207.06137\n",
      "[50]\tdtrain-rmse:0.00251\tdtrain-RMSPE:1.20266\tdval-rmse:0.00254\tdval-RMSPE:1.19273\n",
      "[100]\tdtrain-rmse:0.00091\tdtrain-RMSPE:0.24669\tdval-rmse:0.00106\tdval-RMSPE:0.24276\n",
      "[150]\tdtrain-rmse:0.00084\tdtrain-RMSPE:0.23308\tdval-rmse:0.00104\tdval-RMSPE:0.23336\n",
      "[200]\tdtrain-rmse:0.00080\tdtrain-RMSPE:0.22615\tdval-rmse:0.00103\tdval-RMSPE:0.22967\n",
      "[250]\tdtrain-rmse:0.00077\tdtrain-RMSPE:0.22140\tdval-rmse:0.00102\tdval-RMSPE:0.22770\n",
      "[300]\tdtrain-rmse:0.00077\tdtrain-RMSPE:0.22140\tdval-rmse:0.00102\tdval-RMSPE:0.22770\n",
      "[332]\tdtrain-rmse:0.00077\tdtrain-RMSPE:0.22140\tdval-rmse:0.00102\tdval-RMSPE:0.22770\n"
     ]
    },
    {
     "name": "stderr",
     "output_type": "stream",
     "text": [
      "\u001b[32m[I 2021-08-29 21:19:04,986]\u001b[0m Trial 89 finished with value: 0.22768266552771807 and parameters: {'max_depth': 7, 'eta': 0.1, 'lambda': 5.293550139997108e-06, 'gamma': 6.423484537018228e-06, 'alpha': 0.003926613662971549}. Best is trial 88 with value: 0.21709429541538675.\u001b[0m\n"
     ]
    },
    {
     "name": "stdout",
     "output_type": "stream",
     "text": [
      "[0]\tdtrain-rmse:0.44652\tdtrain-RMSPE:207.69165\tdval-rmse:0.44651\tdval-RMSPE:207.06235\n",
      "[50]\tdtrain-rmse:0.00252\tdtrain-RMSPE:1.20797\tdval-rmse:0.00255\tdval-RMSPE:1.19774\n",
      "[100]\tdtrain-rmse:0.00092\tdtrain-RMSPE:0.25011\tdval-rmse:0.00107\tdval-RMSPE:0.24492\n",
      "[150]\tdtrain-rmse:0.00085\tdtrain-RMSPE:0.23545\tdval-rmse:0.00104\tdval-RMSPE:0.23484\n",
      "[200]\tdtrain-rmse:0.00081\tdtrain-RMSPE:0.22581\tdval-rmse:0.00103\tdval-RMSPE:0.22987\n",
      "[250]\tdtrain-rmse:0.00077\tdtrain-RMSPE:0.21773\tdval-rmse:0.00102\tdval-RMSPE:0.22617\n",
      "[300]\tdtrain-rmse:0.00074\tdtrain-RMSPE:0.21192\tdval-rmse:0.00101\tdval-RMSPE:0.22357\n",
      "[350]\tdtrain-rmse:0.00071\tdtrain-RMSPE:0.20716\tdval-rmse:0.00101\tdval-RMSPE:0.22194\n",
      "[400]\tdtrain-rmse:0.00069\tdtrain-RMSPE:0.20205\tdval-rmse:0.00101\tdval-RMSPE:0.22049\n",
      "[450]\tdtrain-rmse:0.00067\tdtrain-RMSPE:0.19825\tdval-rmse:0.00101\tdval-RMSPE:0.21953\n",
      "[500]\tdtrain-rmse:0.00065\tdtrain-RMSPE:0.19531\tdval-rmse:0.00101\tdval-RMSPE:0.21902\n",
      "[550]\tdtrain-rmse:0.00064\tdtrain-RMSPE:0.19170\tdval-rmse:0.00100\tdval-RMSPE:0.21833\n",
      "[600]\tdtrain-rmse:0.00062\tdtrain-RMSPE:0.18827\tdval-rmse:0.00100\tdval-RMSPE:0.21787\n",
      "[650]\tdtrain-rmse:0.00060\tdtrain-RMSPE:0.18587\tdval-rmse:0.00100\tdval-RMSPE:0.21768\n",
      "[700]\tdtrain-rmse:0.00060\tdtrain-RMSPE:0.18491\tdval-rmse:0.00100\tdval-RMSPE:0.21751\n",
      "[750]\tdtrain-rmse:0.00060\tdtrain-RMSPE:0.18491\tdval-rmse:0.00100\tdval-RMSPE:0.21751\n",
      "[762]\tdtrain-rmse:0.00060\tdtrain-RMSPE:0.18491\tdval-rmse:0.00100\tdval-RMSPE:0.21751\n"
     ]
    },
    {
     "name": "stderr",
     "output_type": "stream",
     "text": [
      "\u001b[32m[I 2021-08-29 21:19:57,343]\u001b[0m Trial 90 finished with value: 0.21748854031204373 and parameters: {'max_depth': 7, 'eta': 0.1, 'lambda': 2.024218472852549e-06, 'gamma': 2.685687785830806e-08, 'alpha': 0.0077487915464871425}. Best is trial 88 with value: 0.21709429541538675.\u001b[0m\n"
     ]
    },
    {
     "name": "stdout",
     "output_type": "stream",
     "text": [
      "[0]\tdtrain-rmse:0.44652\tdtrain-RMSPE:207.69046\tdval-rmse:0.44651\tdval-RMSPE:207.06110\n",
      "[50]\tdtrain-rmse:0.00252\tdtrain-RMSPE:1.20527\tdval-rmse:0.00255\tdval-RMSPE:1.19510\n",
      "[100]\tdtrain-rmse:0.00092\tdtrain-RMSPE:0.24789\tdval-rmse:0.00107\tdval-RMSPE:0.24374\n",
      "[150]\tdtrain-rmse:0.00085\tdtrain-RMSPE:0.23466\tdval-rmse:0.00104\tdval-RMSPE:0.23371\n",
      "[200]\tdtrain-rmse:0.00080\tdtrain-RMSPE:0.22495\tdval-rmse:0.00103\tdval-RMSPE:0.22892\n",
      "[250]\tdtrain-rmse:0.00076\tdtrain-RMSPE:0.21807\tdval-rmse:0.00102\tdval-RMSPE:0.22573\n",
      "[300]\tdtrain-rmse:0.00073\tdtrain-RMSPE:0.21224\tdval-rmse:0.00102\tdval-RMSPE:0.22339\n",
      "[350]\tdtrain-rmse:0.00071\tdtrain-RMSPE:0.20732\tdval-rmse:0.00101\tdval-RMSPE:0.22202\n",
      "[400]\tdtrain-rmse:0.00069\tdtrain-RMSPE:0.20116\tdval-rmse:0.00101\tdval-RMSPE:0.22058\n",
      "[450]\tdtrain-rmse:0.00067\tdtrain-RMSPE:0.19703\tdval-rmse:0.00101\tdval-RMSPE:0.21941\n",
      "[500]\tdtrain-rmse:0.00065\tdtrain-RMSPE:0.19415\tdval-rmse:0.00101\tdval-RMSPE:0.21897\n",
      "[550]\tdtrain-rmse:0.00063\tdtrain-RMSPE:0.19054\tdval-rmse:0.00100\tdval-RMSPE:0.21809\n",
      "[600]\tdtrain-rmse:0.00061\tdtrain-RMSPE:0.18740\tdval-rmse:0.00100\tdval-RMSPE:0.21735\n",
      "[650]\tdtrain-rmse:0.00060\tdtrain-RMSPE:0.18461\tdval-rmse:0.00100\tdval-RMSPE:0.21682\n",
      "[700]\tdtrain-rmse:0.00060\tdtrain-RMSPE:0.18450\tdval-rmse:0.00100\tdval-RMSPE:0.21681\n",
      "[748]\tdtrain-rmse:0.00060\tdtrain-RMSPE:0.18450\tdval-rmse:0.00100\tdval-RMSPE:0.21681\n"
     ]
    },
    {
     "name": "stderr",
     "output_type": "stream",
     "text": [
      "\u001b[32m[I 2021-08-29 21:20:49,056]\u001b[0m Trial 91 finished with value: 0.21680341345875656 and parameters: {'max_depth': 7, 'eta': 0.1, 'lambda': 1.0979256871605507e-06, 'gamma': 2.3321112461277414e-08, 'alpha': 0.006405029944559645}. Best is trial 91 with value: 0.21680341345875656.\u001b[0m\n"
     ]
    },
    {
     "name": "stdout",
     "output_type": "stream",
     "text": [
      "[0]\tdtrain-rmse:0.44652\tdtrain-RMSPE:207.68835\tdval-rmse:0.44651\tdval-RMSPE:207.05910\n",
      "[50]\tdtrain-rmse:0.00251\tdtrain-RMSPE:1.19969\tdval-rmse:0.00254\tdval-RMSPE:1.19034\n",
      "[100]\tdtrain-rmse:0.00089\tdtrain-RMSPE:0.24626\tdval-rmse:0.00106\tdval-RMSPE:0.24238\n",
      "[150]\tdtrain-rmse:0.00083\tdtrain-RMSPE:0.23371\tdval-rmse:0.00104\tdval-RMSPE:0.23424\n",
      "[200]\tdtrain-rmse:0.00079\tdtrain-RMSPE:0.22401\tdval-rmse:0.00103\tdval-RMSPE:0.22987\n",
      "[250]\tdtrain-rmse:0.00075\tdtrain-RMSPE:0.21669\tdval-rmse:0.00102\tdval-RMSPE:0.22736\n",
      "[300]\tdtrain-rmse:0.00072\tdtrain-RMSPE:0.21060\tdval-rmse:0.00102\tdval-RMSPE:0.22537\n",
      "[350]\tdtrain-rmse:0.00069\tdtrain-RMSPE:0.20472\tdval-rmse:0.00101\tdval-RMSPE:0.22345\n",
      "[400]\tdtrain-rmse:0.00067\tdtrain-RMSPE:0.20053\tdval-rmse:0.00101\tdval-RMSPE:0.22246\n",
      "[450]\tdtrain-rmse:0.00065\tdtrain-RMSPE:0.19610\tdval-rmse:0.00101\tdval-RMSPE:0.22206\n",
      "[500]\tdtrain-rmse:0.00063\tdtrain-RMSPE:0.19184\tdval-rmse:0.00101\tdval-RMSPE:0.22131\n",
      "[550]\tdtrain-rmse:0.00061\tdtrain-RMSPE:0.18766\tdval-rmse:0.00101\tdval-RMSPE:0.22039\n",
      "[600]\tdtrain-rmse:0.00060\tdtrain-RMSPE:0.18399\tdval-rmse:0.00101\tdval-RMSPE:0.22013\n",
      "[650]\tdtrain-rmse:0.00058\tdtrain-RMSPE:0.18082\tdval-rmse:0.00101\tdval-RMSPE:0.21971\n",
      "[700]\tdtrain-rmse:0.00058\tdtrain-RMSPE:0.18083\tdval-rmse:0.00101\tdval-RMSPE:0.21971\n",
      "[746]\tdtrain-rmse:0.00058\tdtrain-RMSPE:0.18083\tdval-rmse:0.00101\tdval-RMSPE:0.21971\n"
     ]
    },
    {
     "name": "stderr",
     "output_type": "stream",
     "text": [
      "\u001b[32m[I 2021-08-29 21:21:39,909]\u001b[0m Trial 92 finished with value: 0.21968234683531304 and parameters: {'max_depth': 7, 'eta': 0.1, 'lambda': 1.8815864183164417e-06, 'gamma': 2.8358567776387207e-08, 'alpha': 0.0020310021454349398}. Best is trial 91 with value: 0.21680341345875656.\u001b[0m\n"
     ]
    },
    {
     "name": "stdout",
     "output_type": "stream",
     "text": [
      "[0]\tdtrain-rmse:0.44652\tdtrain-RMSPE:207.68749\tdval-rmse:0.44651\tdval-RMSPE:207.05824\n",
      "[50]\tdtrain-rmse:0.00248\tdtrain-RMSPE:1.19300\tdval-rmse:0.00253\tdval-RMSPE:1.18485\n",
      "[100]\tdtrain-rmse:0.00082\tdtrain-RMSPE:0.23620\tdval-rmse:0.00104\tdval-RMSPE:0.23784\n",
      "[150]\tdtrain-rmse:0.00075\tdtrain-RMSPE:0.21795\tdval-rmse:0.00103\tdval-RMSPE:0.22929\n",
      "[200]\tdtrain-rmse:0.00070\tdtrain-RMSPE:0.20908\tdval-rmse:0.00102\tdval-RMSPE:0.22647\n",
      "[250]\tdtrain-rmse:0.00066\tdtrain-RMSPE:0.19936\tdval-rmse:0.00101\tdval-RMSPE:0.22380\n",
      "[300]\tdtrain-rmse:0.00063\tdtrain-RMSPE:0.19235\tdval-rmse:0.00101\tdval-RMSPE:0.22222\n",
      "[350]\tdtrain-rmse:0.00060\tdtrain-RMSPE:0.18649\tdval-rmse:0.00101\tdval-RMSPE:0.22084\n",
      "[400]\tdtrain-rmse:0.00057\tdtrain-RMSPE:0.18141\tdval-rmse:0.00101\tdval-RMSPE:0.21997\n",
      "[450]\tdtrain-rmse:0.00055\tdtrain-RMSPE:0.17624\tdval-rmse:0.00101\tdval-RMSPE:0.21944\n",
      "[500]\tdtrain-rmse:0.00054\tdtrain-RMSPE:0.17329\tdval-rmse:0.00101\tdval-RMSPE:0.21915\n",
      "[550]\tdtrain-rmse:0.00054\tdtrain-RMSPE:0.17330\tdval-rmse:0.00101\tdval-RMSPE:0.21916\n",
      "[581]\tdtrain-rmse:0.00054\tdtrain-RMSPE:0.17330\tdval-rmse:0.00101\tdval-RMSPE:0.21916\n"
     ]
    },
    {
     "name": "stderr",
     "output_type": "stream",
     "text": [
      "\u001b[32m[I 2021-08-29 21:22:33,952]\u001b[0m Trial 93 finished with value: 0.21911613804313024 and parameters: {'max_depth': 8, 'eta': 0.1, 'lambda': 2.287870060537553e-05, 'gamma': 1.3364237699077518e-08, 'alpha': 0.0008486692672946386}. Best is trial 91 with value: 0.21680341345875656.\u001b[0m\n"
     ]
    },
    {
     "name": "stdout",
     "output_type": "stream",
     "text": [
      "[0]\tdtrain-rmse:0.44652\tdtrain-RMSPE:207.69051\tdval-rmse:0.44651\tdval-RMSPE:207.06116\n",
      "[50]\tdtrain-rmse:0.00252\tdtrain-RMSPE:1.20647\tdval-rmse:0.00254\tdval-RMSPE:1.19571\n",
      "[100]\tdtrain-rmse:0.00092\tdtrain-RMSPE:0.24812\tdval-rmse:0.00106\tdval-RMSPE:0.24366\n",
      "[150]\tdtrain-rmse:0.00085\tdtrain-RMSPE:0.23371\tdval-rmse:0.00104\tdval-RMSPE:0.23321\n",
      "[200]\tdtrain-rmse:0.00080\tdtrain-RMSPE:0.22401\tdval-rmse:0.00103\tdval-RMSPE:0.22875\n",
      "[250]\tdtrain-rmse:0.00076\tdtrain-RMSPE:0.21647\tdval-rmse:0.00102\tdval-RMSPE:0.22550\n",
      "[300]\tdtrain-rmse:0.00073\tdtrain-RMSPE:0.21138\tdval-rmse:0.00101\tdval-RMSPE:0.22374\n",
      "[350]\tdtrain-rmse:0.00071\tdtrain-RMSPE:0.20615\tdval-rmse:0.00101\tdval-RMSPE:0.22138\n",
      "[400]\tdtrain-rmse:0.00068\tdtrain-RMSPE:0.20157\tdval-rmse:0.00100\tdval-RMSPE:0.22015\n",
      "[450]\tdtrain-rmse:0.00066\tdtrain-RMSPE:0.19766\tdval-rmse:0.00100\tdval-RMSPE:0.21923\n",
      "[500]\tdtrain-rmse:0.00064\tdtrain-RMSPE:0.19360\tdval-rmse:0.00100\tdval-RMSPE:0.21841\n",
      "[550]\tdtrain-rmse:0.00063\tdtrain-RMSPE:0.19024\tdval-rmse:0.00100\tdval-RMSPE:0.21802\n",
      "[600]\tdtrain-rmse:0.00061\tdtrain-RMSPE:0.18763\tdval-rmse:0.00100\tdval-RMSPE:0.21753\n",
      "[650]\tdtrain-rmse:0.00060\tdtrain-RMSPE:0.18456\tdval-rmse:0.00100\tdval-RMSPE:0.21739\n",
      "[700]\tdtrain-rmse:0.00060\tdtrain-RMSPE:0.18420\tdval-rmse:0.00100\tdval-RMSPE:0.21735\n",
      "[741]\tdtrain-rmse:0.00060\tdtrain-RMSPE:0.18420\tdval-rmse:0.00100\tdval-RMSPE:0.21735\n"
     ]
    },
    {
     "name": "stderr",
     "output_type": "stream",
     "text": [
      "\u001b[32m[I 2021-08-29 21:23:25,554]\u001b[0m Trial 94 finished with value: 0.21733219384192953 and parameters: {'max_depth': 7, 'eta': 0.1, 'lambda': 9.960967901897797e-06, 'gamma': 2.7942966683120925e-08, 'alpha': 0.006281527847580407}. Best is trial 91 with value: 0.21680341345875656.\u001b[0m\n"
     ]
    },
    {
     "name": "stdout",
     "output_type": "stream",
     "text": [
      "[0]\tdtrain-rmse:0.44652\tdtrain-RMSPE:207.69060\tdval-rmse:0.44651\tdval-RMSPE:207.06125\n",
      "[50]\tdtrain-rmse:0.00252\tdtrain-RMSPE:1.20444\tdval-rmse:0.00255\tdval-RMSPE:1.19420\n",
      "[100]\tdtrain-rmse:0.00092\tdtrain-RMSPE:0.24913\tdval-rmse:0.00106\tdval-RMSPE:0.24442\n",
      "[150]\tdtrain-rmse:0.00085\tdtrain-RMSPE:0.23429\tdval-rmse:0.00104\tdval-RMSPE:0.23398\n",
      "[200]\tdtrain-rmse:0.00081\tdtrain-RMSPE:0.22468\tdval-rmse:0.00103\tdval-RMSPE:0.22908\n",
      "[250]\tdtrain-rmse:0.00077\tdtrain-RMSPE:0.21786\tdval-rmse:0.00102\tdval-RMSPE:0.22625\n",
      "[300]\tdtrain-rmse:0.00073\tdtrain-RMSPE:0.21186\tdval-rmse:0.00101\tdval-RMSPE:0.22389\n",
      "[350]\tdtrain-rmse:0.00071\tdtrain-RMSPE:0.20645\tdval-rmse:0.00101\tdval-RMSPE:0.22193\n",
      "[400]\tdtrain-rmse:0.00069\tdtrain-RMSPE:0.20184\tdval-rmse:0.00101\tdval-RMSPE:0.22075\n",
      "[450]\tdtrain-rmse:0.00067\tdtrain-RMSPE:0.19810\tdval-rmse:0.00100\tdval-RMSPE:0.21984\n",
      "[500]\tdtrain-rmse:0.00065\tdtrain-RMSPE:0.19462\tdval-rmse:0.00100\tdval-RMSPE:0.21899\n",
      "[550]\tdtrain-rmse:0.00063\tdtrain-RMSPE:0.19145\tdval-rmse:0.00100\tdval-RMSPE:0.21832\n",
      "[600]\tdtrain-rmse:0.00062\tdtrain-RMSPE:0.18825\tdval-rmse:0.00100\tdval-RMSPE:0.21766\n",
      "[650]\tdtrain-rmse:0.00060\tdtrain-RMSPE:0.18532\tdval-rmse:0.00100\tdval-RMSPE:0.21715\n",
      "[700]\tdtrain-rmse:0.00060\tdtrain-RMSPE:0.18533\tdval-rmse:0.00100\tdval-RMSPE:0.21716\n",
      "[748]\tdtrain-rmse:0.00060\tdtrain-RMSPE:0.18533\tdval-rmse:0.00100\tdval-RMSPE:0.21716\n"
     ]
    },
    {
     "name": "stderr",
     "output_type": "stream",
     "text": [
      "\u001b[32m[I 2021-08-29 21:24:16,868]\u001b[0m Trial 95 finished with value: 0.21716319327061478 and parameters: {'max_depth': 7, 'eta': 0.1, 'lambda': 0.00010890064747195835, 'gamma': 3.6591188739296623e-08, 'alpha': 0.007002498608661406}. Best is trial 91 with value: 0.21680341345875656.\u001b[0m\n"
     ]
    },
    {
     "name": "stdout",
     "output_type": "stream",
     "text": [
      "[0]\tdtrain-rmse:0.44652\tdtrain-RMSPE:207.69282\tdval-rmse:0.44651\tdval-RMSPE:207.06345\n",
      "[50]\tdtrain-rmse:0.00252\tdtrain-RMSPE:1.20429\tdval-rmse:0.00254\tdval-RMSPE:1.19416\n",
      "[100]\tdtrain-rmse:0.00092\tdtrain-RMSPE:0.24848\tdval-rmse:0.00106\tdval-RMSPE:0.24337\n",
      "[150]\tdtrain-rmse:0.00085\tdtrain-RMSPE:0.23419\tdval-rmse:0.00104\tdval-RMSPE:0.23357\n",
      "[200]\tdtrain-rmse:0.00080\tdtrain-RMSPE:0.22624\tdval-rmse:0.00103\tdval-RMSPE:0.23012\n",
      "[250]\tdtrain-rmse:0.00076\tdtrain-RMSPE:0.21818\tdval-rmse:0.00102\tdval-RMSPE:0.22709\n",
      "[300]\tdtrain-rmse:0.00073\tdtrain-RMSPE:0.21208\tdval-rmse:0.00102\tdval-RMSPE:0.22525\n",
      "[350]\tdtrain-rmse:0.00071\tdtrain-RMSPE:0.20626\tdval-rmse:0.00101\tdval-RMSPE:0.22305\n",
      "[400]\tdtrain-rmse:0.00068\tdtrain-RMSPE:0.20089\tdval-rmse:0.00101\tdval-RMSPE:0.22162\n",
      "[450]\tdtrain-rmse:0.00066\tdtrain-RMSPE:0.19683\tdval-rmse:0.00101\tdval-RMSPE:0.22064\n",
      "[500]\tdtrain-rmse:0.00064\tdtrain-RMSPE:0.19318\tdval-rmse:0.00100\tdval-RMSPE:0.22004\n",
      "[550]\tdtrain-rmse:0.00063\tdtrain-RMSPE:0.18974\tdval-rmse:0.00100\tdval-RMSPE:0.21929\n",
      "[600]\tdtrain-rmse:0.00061\tdtrain-RMSPE:0.18669\tdval-rmse:0.00100\tdval-RMSPE:0.21888\n",
      "[650]\tdtrain-rmse:0.00060\tdtrain-RMSPE:0.18478\tdval-rmse:0.00100\tdval-RMSPE:0.21877\n",
      "[700]\tdtrain-rmse:0.00060\tdtrain-RMSPE:0.18478\tdval-rmse:0.00100\tdval-RMSPE:0.21877\n",
      "[732]\tdtrain-rmse:0.00060\tdtrain-RMSPE:0.18478\tdval-rmse:0.00100\tdval-RMSPE:0.21877\n"
     ]
    },
    {
     "name": "stderr",
     "output_type": "stream",
     "text": [
      "\u001b[32m[I 2021-08-29 21:25:07,301]\u001b[0m Trial 96 finished with value: 0.21875943532225334 and parameters: {'max_depth': 7, 'eta': 0.1, 'lambda': 0.00015347662215254248, 'gamma': 3.0491040983189666e-08, 'alpha': 0.005747398863430878}. Best is trial 91 with value: 0.21680341345875656.\u001b[0m\n"
     ]
    },
    {
     "name": "stdout",
     "output_type": "stream",
     "text": [
      "[0]\tdtrain-rmse:0.44652\tdtrain-RMSPE:207.69049\tdval-rmse:0.44651\tdval-RMSPE:207.06114\n",
      "[50]\tdtrain-rmse:0.00252\tdtrain-RMSPE:1.20548\tdval-rmse:0.00255\tdval-RMSPE:1.19564\n",
      "[100]\tdtrain-rmse:0.00092\tdtrain-RMSPE:0.24748\tdval-rmse:0.00107\tdval-RMSPE:0.24446\n",
      "[150]\tdtrain-rmse:0.00085\tdtrain-RMSPE:0.23256\tdval-rmse:0.00104\tdval-RMSPE:0.23409\n",
      "[200]\tdtrain-rmse:0.00080\tdtrain-RMSPE:0.22302\tdval-rmse:0.00103\tdval-RMSPE:0.22944\n",
      "[250]\tdtrain-rmse:0.00076\tdtrain-RMSPE:0.21596\tdval-rmse:0.00102\tdval-RMSPE:0.22604\n",
      "[300]\tdtrain-rmse:0.00073\tdtrain-RMSPE:0.21014\tdval-rmse:0.00102\tdval-RMSPE:0.22397\n",
      "[350]\tdtrain-rmse:0.00071\tdtrain-RMSPE:0.20459\tdval-rmse:0.00101\tdval-RMSPE:0.22234\n",
      "[400]\tdtrain-rmse:0.00068\tdtrain-RMSPE:0.19995\tdval-rmse:0.00101\tdval-RMSPE:0.22091\n",
      "[450]\tdtrain-rmse:0.00066\tdtrain-RMSPE:0.19610\tdval-rmse:0.00101\tdval-RMSPE:0.22010\n",
      "[500]\tdtrain-rmse:0.00064\tdtrain-RMSPE:0.19295\tdval-rmse:0.00101\tdval-RMSPE:0.21942\n",
      "[550]\tdtrain-rmse:0.00063\tdtrain-RMSPE:0.18942\tdval-rmse:0.00100\tdval-RMSPE:0.21867\n",
      "[600]\tdtrain-rmse:0.00061\tdtrain-RMSPE:0.18646\tdval-rmse:0.00100\tdval-RMSPE:0.21825\n",
      "[650]\tdtrain-rmse:0.00060\tdtrain-RMSPE:0.18405\tdval-rmse:0.00100\tdval-RMSPE:0.21801\n",
      "[700]\tdtrain-rmse:0.00060\tdtrain-RMSPE:0.18406\tdval-rmse:0.00100\tdval-RMSPE:0.21801\n",
      "[738]\tdtrain-rmse:0.00060\tdtrain-RMSPE:0.18406\tdval-rmse:0.00100\tdval-RMSPE:0.21801\n"
     ]
    },
    {
     "name": "stderr",
     "output_type": "stream",
     "text": [
      "\u001b[32m[I 2021-08-29 21:25:58,040]\u001b[0m Trial 97 finished with value: 0.21800945383557338 and parameters: {'max_depth': 7, 'eta': 0.1, 'lambda': 0.00010848998888003666, 'gamma': 2.775609684934799e-08, 'alpha': 0.006030101579845936}. Best is trial 91 with value: 0.21680341345875656.\u001b[0m\n"
     ]
    },
    {
     "name": "stdout",
     "output_type": "stream",
     "text": [
      "[0]\tdtrain-rmse:0.44652\tdtrain-RMSPE:207.69064\tdval-rmse:0.44651\tdval-RMSPE:207.06130\n",
      "[50]\tdtrain-rmse:0.00250\tdtrain-RMSPE:1.19772\tdval-rmse:0.00254\tdval-RMSPE:1.18837\n",
      "[100]\tdtrain-rmse:0.00084\tdtrain-RMSPE:0.23640\tdval-rmse:0.00105\tdval-RMSPE:0.23797\n",
      "[150]\tdtrain-rmse:0.00077\tdtrain-RMSPE:0.22060\tdval-rmse:0.00103\tdval-RMSPE:0.23012\n",
      "[200]\tdtrain-rmse:0.00071\tdtrain-RMSPE:0.21010\tdval-rmse:0.00102\tdval-RMSPE:0.22664\n",
      "[250]\tdtrain-rmse:0.00067\tdtrain-RMSPE:0.20136\tdval-rmse:0.00102\tdval-RMSPE:0.22315\n",
      "[300]\tdtrain-rmse:0.00063\tdtrain-RMSPE:0.19347\tdval-rmse:0.00101\tdval-RMSPE:0.22103\n",
      "[350]\tdtrain-rmse:0.00060\tdtrain-RMSPE:0.18762\tdval-rmse:0.00101\tdval-RMSPE:0.22034\n",
      "[400]\tdtrain-rmse:0.00058\tdtrain-RMSPE:0.18164\tdval-rmse:0.00101\tdval-RMSPE:0.21962\n",
      "[450]\tdtrain-rmse:0.00055\tdtrain-RMSPE:0.17725\tdval-rmse:0.00101\tdval-RMSPE:0.21934\n",
      "[500]\tdtrain-rmse:0.00055\tdtrain-RMSPE:0.17548\tdval-rmse:0.00101\tdval-RMSPE:0.21903\n",
      "[550]\tdtrain-rmse:0.00055\tdtrain-RMSPE:0.17548\tdval-rmse:0.00101\tdval-RMSPE:0.21903\n",
      "[571]\tdtrain-rmse:0.00055\tdtrain-RMSPE:0.17548\tdval-rmse:0.00101\tdval-RMSPE:0.21903\n"
     ]
    },
    {
     "name": "stderr",
     "output_type": "stream",
     "text": [
      "\u001b[32m[I 2021-08-29 21:26:52,179]\u001b[0m Trial 98 finished with value: 0.21902760380135355 and parameters: {'max_depth': 8, 'eta': 0.1, 'lambda': 7.731160815642305e-05, 'gamma': 1.1051884632092938e-08, 'alpha': 0.002889281086259594}. Best is trial 91 with value: 0.21680341345875656.\u001b[0m\n"
     ]
    },
    {
     "name": "stdout",
     "output_type": "stream",
     "text": [
      "[0]\tdtrain-rmse:0.44652\tdtrain-RMSPE:207.69076\tdval-rmse:0.44651\tdval-RMSPE:207.06143\n",
      "[50]\tdtrain-rmse:0.00252\tdtrain-RMSPE:1.20386\tdval-rmse:0.00254\tdval-RMSPE:1.19365\n",
      "[100]\tdtrain-rmse:0.00092\tdtrain-RMSPE:0.24736\tdval-rmse:0.00106\tdval-RMSPE:0.24325\n",
      "[150]\tdtrain-rmse:0.00085\tdtrain-RMSPE:0.23431\tdval-rmse:0.00104\tdval-RMSPE:0.23432\n",
      "[200]\tdtrain-rmse:0.00080\tdtrain-RMSPE:0.22489\tdval-rmse:0.00103\tdval-RMSPE:0.22928\n",
      "[250]\tdtrain-rmse:0.00076\tdtrain-RMSPE:0.21730\tdval-rmse:0.00102\tdval-RMSPE:0.22595\n",
      "[300]\tdtrain-rmse:0.00073\tdtrain-RMSPE:0.21073\tdval-rmse:0.00101\tdval-RMSPE:0.22380\n",
      "[350]\tdtrain-rmse:0.00070\tdtrain-RMSPE:0.20606\tdval-rmse:0.00101\tdval-RMSPE:0.22197\n",
      "[400]\tdtrain-rmse:0.00068\tdtrain-RMSPE:0.20151\tdval-rmse:0.00101\tdval-RMSPE:0.22061\n",
      "[450]\tdtrain-rmse:0.00066\tdtrain-RMSPE:0.19751\tdval-rmse:0.00100\tdval-RMSPE:0.21959\n",
      "[500]\tdtrain-rmse:0.00064\tdtrain-RMSPE:0.19348\tdval-rmse:0.00100\tdval-RMSPE:0.21862\n",
      "[550]\tdtrain-rmse:0.00062\tdtrain-RMSPE:0.18961\tdval-rmse:0.00100\tdval-RMSPE:0.21795\n",
      "[600]\tdtrain-rmse:0.00061\tdtrain-RMSPE:0.18636\tdval-rmse:0.00100\tdval-RMSPE:0.21746\n",
      "[650]\tdtrain-rmse:0.00060\tdtrain-RMSPE:0.18446\tdval-rmse:0.00100\tdval-RMSPE:0.21743\n",
      "[700]\tdtrain-rmse:0.00060\tdtrain-RMSPE:0.18446\tdval-rmse:0.00100\tdval-RMSPE:0.21743\n",
      "[713]\tdtrain-rmse:0.00060\tdtrain-RMSPE:0.18446\tdval-rmse:0.00100\tdval-RMSPE:0.21743\n"
     ]
    },
    {
     "name": "stderr",
     "output_type": "stream",
     "text": [
      "\u001b[32m[I 2021-08-29 21:27:42,251]\u001b[0m Trial 99 finished with value: 0.21741674715066586 and parameters: {'max_depth': 7, 'eta': 0.1, 'lambda': 0.00010540741262364088, 'gamma': 1.7742718872263023e-08, 'alpha': 0.005286265405552988}. Best is trial 91 with value: 0.21680341345875656.\u001b[0m\n"
     ]
    },
    {
     "name": "stdout",
     "output_type": "stream",
     "text": [
      "FrozenTrial(number=91, values=[0.21680341345875656], datetime_start=datetime.datetime(2021, 8, 29, 21, 19, 57, 344339), datetime_complete=datetime.datetime(2021, 8, 29, 21, 20, 49, 55779), params={'max_depth': 7, 'eta': 0.1, 'lambda': 1.0979256871605507e-06, 'gamma': 2.3321112461277414e-08, 'alpha': 0.006405029944559645}, distributions={'max_depth': IntUniformDistribution(high=9, low=1, step=1), 'eta': CategoricalDistribution(choices=(0.3, 0.1)), 'lambda': LogUniformDistribution(high=1.0, low=1e-08), 'gamma': LogUniformDistribution(high=1.0, low=1e-08), 'alpha': LogUniformDistribution(high=1.0, low=1e-08)}, user_attrs={}, system_attrs={}, intermediate_values={}, trial_id=91, state=TrialState.COMPLETE, value=None)\n"
     ]
    }
   ],
   "source": [
    "# study = optuna.create_study(\n",
    "#     pruner=optuna.pruners.MedianPruner(n_warmup_steps=5), direction=\"minimize\"\n",
    "# )\n",
    "# study.optimize(objective, n_trials=100)\n",
    "# print(study.best_trial)"
   ]
  },
  {
   "cell_type": "code",
   "execution_count": 24,
   "metadata": {},
   "outputs": [
    {
     "name": "stdout",
     "output_type": "stream",
     "text": [
      "FrozenTrial(number=91, values=[0.21680341345875656], datetime_start=datetime.datetime(2021, 8, 29, 21, 19, 57, 344339), datetime_complete=datetime.datetime(2021, 8, 29, 21, 20, 49, 55779), params={'max_depth': 7, 'eta': 0.1, 'lambda': 1.0979256871605507e-06, 'gamma': 2.3321112461277414e-08, 'alpha': 0.006405029944559645}, distributions={'max_depth': IntUniformDistribution(high=9, low=1, step=1), 'eta': CategoricalDistribution(choices=(0.3, 0.1)), 'lambda': LogUniformDistribution(high=1.0, low=1e-08), 'gamma': LogUniformDistribution(high=1.0, low=1e-08), 'alpha': LogUniformDistribution(high=1.0, low=1e-08)}, user_attrs={}, system_attrs={}, intermediate_values={}, trial_id=91, state=TrialState.COMPLETE, value=None)\n"
     ]
    }
   ],
   "source": [
    "print(study.best_trial)"
   ]
  },
  {
   "cell_type": "code",
   "execution_count": 25,
   "metadata": {},
   "outputs": [
    {
     "data": {
      "text/plain": [
       "{'max_depth': 7,\n",
       " 'eta': 0.1,\n",
       " 'lambda': 1.0979256871605507e-06,\n",
       " 'gamma': 2.3321112461277414e-08,\n",
       " 'alpha': 0.006405029944559645}"
      ]
     },
     "execution_count": 25,
     "metadata": {},
     "output_type": "execute_result"
    }
   ],
   "source": [
    "study.best_trial.params"
   ]
  },
  {
   "cell_type": "markdown",
   "metadata": {},
   "source": [
    "#### Exp1 - Optuna Best Param"
   ]
  },
  {
   "cell_type": "code",
   "execution_count": 69,
   "metadata": {},
   "outputs": [
    {
     "name": "stdout",
     "output_type": "stream",
     "text": [
      "Training fold 1\n",
      "[23:38:30] WARNING: ../src/learner.cc:541: \n",
      "Parameters: { normalize_type, rate_drop, sample_type, skip_drop } might not be used.\n",
      "\n",
      "  This may not be accurate due to some parameters are only used in language bindings but\n",
      "  passed down to XGBoost core.  Or some parameters are not used but slip through this\n",
      "  verification. Please open an issue if you find above cases.\n",
      "\n",
      "\n",
      "[0]\tdtrain-rmse:0.34874\tdtrain-RMSPE:161.45145\tdval-rmse:0.34874\tdval-RMSPE:161.20386\n",
      "[10]\tdtrain-rmse:0.00986\tdtrain-RMSPE:4.56510\tdval-rmse:0.00988\tdval-RMSPE:4.56506\n",
      "[20]\tdtrain-rmse:0.00049\tdtrain-RMSPE:0.22687\tdval-rmse:0.00055\tdval-RMSPE:0.25314\n",
      "[30]\tdtrain-rmse:0.00038\tdtrain-RMSPE:0.17698\tdval-rmse:0.00046\tdval-RMSPE:0.21114\n",
      "[40]\tdtrain-rmse:0.00036\tdtrain-RMSPE:0.16778\tdval-rmse:0.00045\tdval-RMSPE:0.20796\n",
      "[50]\tdtrain-rmse:0.00035\tdtrain-RMSPE:0.16090\tdval-rmse:0.00045\tdval-RMSPE:0.20835\n",
      "Training fold 2\n",
      "[23:38:45] WARNING: ../src/learner.cc:541: \n",
      "Parameters: { normalize_type, rate_drop, sample_type, skip_drop } might not be used.\n",
      "\n",
      "  This may not be accurate due to some parameters are only used in language bindings but\n",
      "  passed down to XGBoost core.  Or some parameters are not used but slip through this\n",
      "  verification. Please open an issue if you find above cases.\n",
      "\n",
      "\n",
      "[0]\tdtrain-rmse:0.34874\tdtrain-RMSPE:161.40572\tdval-rmse:0.34875\tdval-RMSPE:161.38878\n",
      "[10]\tdtrain-rmse:0.00986\tdtrain-RMSPE:4.56384\tdval-rmse:0.00990\tdval-RMSPE:4.57942\n",
      "[20]\tdtrain-rmse:0.00049\tdtrain-RMSPE:0.22662\tdval-rmse:0.00061\tdval-RMSPE:0.28447\n",
      "[30]\tdtrain-rmse:0.00038\tdtrain-RMSPE:0.17522\tdval-rmse:0.00052\tdval-RMSPE:0.24200\n",
      "[40]\tdtrain-rmse:0.00036\tdtrain-RMSPE:0.16750\tdval-rmse:0.00052\tdval-RMSPE:0.24048\n",
      "[50]\tdtrain-rmse:0.00035\tdtrain-RMSPE:0.16057\tdval-rmse:0.00052\tdval-RMSPE:0.24082\n",
      "[53]\tdtrain-rmse:0.00034\tdtrain-RMSPE:0.15908\tdval-rmse:0.00052\tdval-RMSPE:0.24163\n",
      "Training fold 3\n",
      "[23:39:00] WARNING: ../src/learner.cc:541: \n",
      "Parameters: { normalize_type, rate_drop, sample_type, skip_drop } might not be used.\n",
      "\n",
      "  This may not be accurate due to some parameters are only used in language bindings but\n",
      "  passed down to XGBoost core.  Or some parameters are not used but slip through this\n",
      "  verification. Please open an issue if you find above cases.\n",
      "\n",
      "\n",
      "[0]\tdtrain-rmse:0.34874\tdtrain-RMSPE:161.20206\tdval-rmse:0.34876\tdval-RMSPE:162.20258\n",
      "[10]\tdtrain-rmse:0.00986\tdtrain-RMSPE:4.55836\tdval-rmse:0.00989\tdval-RMSPE:4.60072\n",
      "[20]\tdtrain-rmse:0.00050\tdtrain-RMSPE:0.23144\tdval-rmse:0.00060\tdval-RMSPE:0.27728\n",
      "[30]\tdtrain-rmse:0.00039\tdtrain-RMSPE:0.18142\tdval-rmse:0.00050\tdval-RMSPE:0.23324\n",
      "[40]\tdtrain-rmse:0.00037\tdtrain-RMSPE:0.17146\tdval-rmse:0.00050\tdval-RMSPE:0.23134\n",
      "[50]\tdtrain-rmse:0.00036\tdtrain-RMSPE:0.16467\tdval-rmse:0.00050\tdval-RMSPE:0.23164\n",
      "[53]\tdtrain-rmse:0.00035\tdtrain-RMSPE:0.16282\tdval-rmse:0.00050\tdval-RMSPE:0.23112\n",
      "Training fold 4\n",
      "[23:39:14] WARNING: ../src/learner.cc:541: \n",
      "Parameters: { normalize_type, rate_drop, sample_type, skip_drop } might not be used.\n",
      "\n",
      "  This may not be accurate due to some parameters are only used in language bindings but\n",
      "  passed down to XGBoost core.  Or some parameters are not used but slip through this\n",
      "  verification. Please open an issue if you find above cases.\n",
      "\n",
      "\n",
      "[0]\tdtrain-rmse:0.34874\tdtrain-RMSPE:161.48799\tdval-rmse:0.34874\tdval-RMSPE:161.05579\n",
      "[10]\tdtrain-rmse:0.00986\tdtrain-RMSPE:4.56616\tdval-rmse:0.00987\tdval-RMSPE:4.55816\n",
      "[20]\tdtrain-rmse:0.00049\tdtrain-RMSPE:0.22835\tdval-rmse:0.00054\tdval-RMSPE:0.24865\n",
      "[30]\tdtrain-rmse:0.00039\tdtrain-RMSPE:0.17897\tdval-rmse:0.00045\tdval-RMSPE:0.20654\n",
      "[40]\tdtrain-rmse:0.00037\tdtrain-RMSPE:0.17101\tdval-rmse:0.00045\tdval-RMSPE:0.20594\n",
      "[50]\tdtrain-rmse:0.00035\tdtrain-RMSPE:0.16390\tdval-rmse:0.00045\tdval-RMSPE:0.20581\n",
      "[56]\tdtrain-rmse:0.00035\tdtrain-RMSPE:0.16089\tdval-rmse:0.00044\tdval-RMSPE:0.20570\n",
      "Training fold 5\n",
      "[23:39:29] WARNING: ../src/learner.cc:541: \n",
      "Parameters: { normalize_type, rate_drop, sample_type, skip_drop } might not be used.\n",
      "\n",
      "  This may not be accurate due to some parameters are only used in language bindings but\n",
      "  passed down to XGBoost core.  Or some parameters are not used but slip through this\n",
      "  verification. Please open an issue if you find above cases.\n",
      "\n",
      "\n",
      "[0]\tdtrain-rmse:0.34874\tdtrain-RMSPE:161.46170\tdval-rmse:0.34874\tdval-RMSPE:161.16301\n",
      "[10]\tdtrain-rmse:0.00986\tdtrain-RMSPE:4.56542\tdval-rmse:0.00988\tdval-RMSPE:4.56679\n",
      "[20]\tdtrain-rmse:0.00049\tdtrain-RMSPE:0.22648\tdval-rmse:0.00056\tdval-RMSPE:0.25940\n",
      "[30]\tdtrain-rmse:0.00038\tdtrain-RMSPE:0.17638\tdval-rmse:0.00047\tdval-RMSPE:0.21658\n",
      "[40]\tdtrain-rmse:0.00036\tdtrain-RMSPE:0.16779\tdval-rmse:0.00047\tdval-RMSPE:0.21559\n",
      "[50]\tdtrain-rmse:0.00035\tdtrain-RMSPE:0.16092\tdval-rmse:0.00047\tdval-RMSPE:0.21660\n",
      "[53]\tdtrain-rmse:0.00034\tdtrain-RMSPE:0.15947\tdval-rmse:0.00047\tdval-RMSPE:0.21691\n",
      "Our out of folds RMSPE is 0.2212328521959196\n"
     ]
    }
   ],
   "source": [
    "# Traing and evaluate\n",
    "test_predictions = train_and_evaluate(train, test)\n",
    "# Save test predictions\n",
    "test['target'] = test_predictions\n",
    "test[['row_id', 'target']].to_csv('submission.csv',index = False)"
   ]
  },
  {
   "cell_type": "markdown",
   "metadata": {},
   "source": [
    "#### Exp2 - Baseline"
   ]
  },
  {
   "cell_type": "code",
   "execution_count": 84,
   "metadata": {},
   "outputs": [
    {
     "name": "stdout",
     "output_type": "stream",
     "text": [
      "Training fold 1\n",
      "[0]\tdtrain-rmse:0.48326\tdtrain-RMSPE:223.81732\tdval-rmse:0.48325\tdval-RMSPE:223.01353\n",
      "[50]\tdtrain-rmse:0.10539\tdtrain-RMSPE:48.81221\tdval-rmse:0.10539\tdval-RMSPE:48.63499\n",
      "[100]\tdtrain-rmse:0.02300\tdtrain-RMSPE:10.65103\tdval-rmse:0.02300\tdval-RMSPE:10.61182\n",
      "[150]\tdtrain-rmse:0.00504\tdtrain-RMSPE:2.33579\tdval-rmse:0.00505\tdval-RMSPE:2.32836\n",
      "[200]\tdtrain-rmse:0.00120\tdtrain-RMSPE:0.55351\tdval-rmse:0.00121\tdval-RMSPE:0.55651\n",
      "[250]\tdtrain-rmse:0.00052\tdtrain-RMSPE:0.23860\tdval-rmse:0.00054\tdval-RMSPE:0.25013\n",
      "[300]\tdtrain-rmse:0.00045\tdtrain-RMSPE:0.20862\tdval-rmse:0.00048\tdval-RMSPE:0.22321\n",
      "[350]\tdtrain-rmse:0.00044\tdtrain-RMSPE:0.20489\tdval-rmse:0.00048\tdval-RMSPE:0.22206\n",
      "[400]\tdtrain-rmse:0.00044\tdtrain-RMSPE:0.20252\tdval-rmse:0.00048\tdval-RMSPE:0.22093\n",
      "[450]\tdtrain-rmse:0.00043\tdtrain-RMSPE:0.20118\tdval-rmse:0.00048\tdval-RMSPE:0.21986\n",
      "[500]\tdtrain-rmse:0.00043\tdtrain-RMSPE:0.19985\tdval-rmse:0.00048\tdval-RMSPE:0.22028\n",
      "[550]\tdtrain-rmse:0.00043\tdtrain-RMSPE:0.19876\tdval-rmse:0.00048\tdval-RMSPE:0.22069\n",
      "[556]\tdtrain-rmse:0.00043\tdtrain-RMSPE:0.19853\tdval-rmse:0.00048\tdval-RMSPE:0.22080\n",
      "Training fold 2\n",
      "[0]\tdtrain-rmse:0.48325\tdtrain-RMSPE:223.67250\tdval-rmse:0.48326\tdval-RMSPE:223.59297\n",
      "[50]\tdtrain-rmse:0.10539\tdtrain-RMSPE:48.77999\tdval-rmse:0.10540\tdval-RMSPE:48.76723\n",
      "[100]\tdtrain-rmse:0.02300\tdtrain-RMSPE:10.64361\tdval-rmse:0.02301\tdval-RMSPE:10.64740\n",
      "[150]\tdtrain-rmse:0.00504\tdtrain-RMSPE:2.33359\tdval-rmse:0.00507\tdval-RMSPE:2.34428\n",
      "[200]\tdtrain-rmse:0.00119\tdtrain-RMSPE:0.55108\tdval-rmse:0.00124\tdval-RMSPE:0.57486\n",
      "[250]\tdtrain-rmse:0.00051\tdtrain-RMSPE:0.23570\tdval-rmse:0.00059\tdval-RMSPE:0.27427\n",
      "[300]\tdtrain-rmse:0.00045\tdtrain-RMSPE:0.20633\tdval-rmse:0.00052\tdval-RMSPE:0.23899\n",
      "[350]\tdtrain-rmse:0.00044\tdtrain-RMSPE:0.20291\tdval-rmse:0.00052\tdval-RMSPE:0.23990\n",
      "[400]\tdtrain-rmse:0.00044\tdtrain-RMSPE:0.20225\tdval-rmse:0.00053\tdval-RMSPE:0.24578\n",
      "[419]\tdtrain-rmse:0.00044\tdtrain-RMSPE:0.20128\tdval-rmse:0.00053\tdval-RMSPE:0.24465\n",
      "Training fold 3\n",
      "[0]\tdtrain-rmse:0.48325\tdtrain-RMSPE:223.40286\tdval-rmse:0.48327\tdval-RMSPE:224.66971\n",
      "[50]\tdtrain-rmse:0.10539\tdtrain-RMSPE:48.72194\tdval-rmse:0.10540\tdval-RMSPE:49.00044\n",
      "[100]\tdtrain-rmse:0.02300\tdtrain-RMSPE:10.63072\tdval-rmse:0.02301\tdval-RMSPE:10.69519\n",
      "[150]\tdtrain-rmse:0.00504\tdtrain-RMSPE:2.33064\tdval-rmse:0.00505\tdval-RMSPE:2.35015\n",
      "[200]\tdtrain-rmse:0.00125\tdtrain-RMSPE:0.57632\tdval-rmse:0.00121\tdval-RMSPE:0.56330\n",
      "[250]\tdtrain-rmse:0.00053\tdtrain-RMSPE:0.24740\tdval-rmse:0.00054\tdval-RMSPE:0.25126\n",
      "[300]\tdtrain-rmse:0.00046\tdtrain-RMSPE:0.21024\tdval-rmse:0.00048\tdval-RMSPE:0.22143\n",
      "[350]\tdtrain-rmse:0.00044\tdtrain-RMSPE:0.20484\tdval-rmse:0.00047\tdval-RMSPE:0.21855\n",
      "[400]\tdtrain-rmse:0.00044\tdtrain-RMSPE:0.20215\tdval-rmse:0.00047\tdval-RMSPE:0.21776\n",
      "[450]\tdtrain-rmse:0.00043\tdtrain-RMSPE:0.20023\tdval-rmse:0.00047\tdval-RMSPE:0.21728\n",
      "[500]\tdtrain-rmse:0.00043\tdtrain-RMSPE:0.19837\tdval-rmse:0.00047\tdval-RMSPE:0.21613\n",
      "[550]\tdtrain-rmse:0.00043\tdtrain-RMSPE:0.19679\tdval-rmse:0.00046\tdval-RMSPE:0.21451\n",
      "[600]\tdtrain-rmse:0.00042\tdtrain-RMSPE:0.19567\tdval-rmse:0.00046\tdval-RMSPE:0.21362\n",
      "[650]\tdtrain-rmse:0.00042\tdtrain-RMSPE:0.19364\tdval-rmse:0.00046\tdval-RMSPE:0.21270\n",
      "[700]\tdtrain-rmse:0.00042\tdtrain-RMSPE:0.19195\tdval-rmse:0.00046\tdval-RMSPE:0.21215\n",
      "[750]\tdtrain-rmse:0.00041\tdtrain-RMSPE:0.19056\tdval-rmse:0.00046\tdval-RMSPE:0.21172\n",
      "[800]\tdtrain-rmse:0.00041\tdtrain-RMSPE:0.18959\tdval-rmse:0.00045\tdval-RMSPE:0.21126\n",
      "[850]\tdtrain-rmse:0.00041\tdtrain-RMSPE:0.18790\tdval-rmse:0.00045\tdval-RMSPE:0.21098\n",
      "[900]\tdtrain-rmse:0.00040\tdtrain-RMSPE:0.18665\tdval-rmse:0.00045\tdval-RMSPE:0.21054\n",
      "[950]\tdtrain-rmse:0.00040\tdtrain-RMSPE:0.18555\tdval-rmse:0.00045\tdval-RMSPE:0.21038\n",
      "[999]\tdtrain-rmse:0.00040\tdtrain-RMSPE:0.18512\tdval-rmse:0.00045\tdval-RMSPE:0.21044\n",
      "Training fold 4\n",
      "[0]\tdtrain-rmse:0.48326\tdtrain-RMSPE:223.65045\tdval-rmse:0.48325\tdval-RMSPE:223.68274\n",
      "[50]\tdtrain-rmse:0.10539\tdtrain-RMSPE:48.77562\tdval-rmse:0.10540\tdval-RMSPE:48.78639\n",
      "[100]\tdtrain-rmse:0.02300\tdtrain-RMSPE:10.64261\tdval-rmse:0.02301\tdval-RMSPE:10.64980\n",
      "[150]\tdtrain-rmse:0.00504\tdtrain-RMSPE:2.33390\tdval-rmse:0.00506\tdval-RMSPE:2.34234\n",
      "[200]\tdtrain-rmse:0.00119\tdtrain-RMSPE:0.55235\tdval-rmse:0.00125\tdval-RMSPE:0.57619\n",
      "[250]\tdtrain-rmse:0.00051\tdtrain-RMSPE:0.23799\tdval-rmse:0.00061\tdval-RMSPE:0.28225\n",
      "[300]\tdtrain-rmse:0.00045\tdtrain-RMSPE:0.20866\tdval-rmse:0.00055\tdval-RMSPE:0.25550\n",
      "[350]\tdtrain-rmse:0.00051\tdtrain-RMSPE:0.23661\tdval-rmse:0.00050\tdval-RMSPE:0.23204\n",
      "[400]\tdtrain-rmse:0.00046\tdtrain-RMSPE:0.21185\tdval-rmse:0.00052\tdval-RMSPE:0.23909\n",
      "[424]\tdtrain-rmse:0.00045\tdtrain-RMSPE:0.20633\tdval-rmse:0.00052\tdval-RMSPE:0.24149\n",
      "Training fold 5\n",
      "[0]\tdtrain-rmse:0.48326\tdtrain-RMSPE:223.74054\tdval-rmse:0.48325\tdval-RMSPE:223.32155\n",
      "[50]\tdtrain-rmse:0.10539\tdtrain-RMSPE:48.79532\tdval-rmse:0.10540\tdval-RMSPE:48.70752\n",
      "[100]\tdtrain-rmse:0.02300\tdtrain-RMSPE:10.64731\tdval-rmse:0.02301\tdval-RMSPE:10.63382\n",
      "[150]\tdtrain-rmse:0.00504\tdtrain-RMSPE:2.33434\tdval-rmse:0.00506\tdval-RMSPE:2.33787\n",
      "[200]\tdtrain-rmse:0.00119\tdtrain-RMSPE:0.55152\tdval-rmse:0.00122\tdval-RMSPE:0.56490\n",
      "[250]\tdtrain-rmse:0.00051\tdtrain-RMSPE:0.23706\tdval-rmse:0.00056\tdval-RMSPE:0.26103\n",
      "[300]\tdtrain-rmse:0.00045\tdtrain-RMSPE:0.20720\tdval-rmse:0.00050\tdval-RMSPE:0.23134\n",
      "[350]\tdtrain-rmse:0.00044\tdtrain-RMSPE:0.20362\tdval-rmse:0.00049\tdval-RMSPE:0.22800\n",
      "[400]\tdtrain-rmse:0.00044\tdtrain-RMSPE:0.20162\tdval-rmse:0.00049\tdval-RMSPE:0.22780\n",
      "[450]\tdtrain-rmse:0.00043\tdtrain-RMSPE:0.20016\tdval-rmse:0.00049\tdval-RMSPE:0.22753\n",
      "[500]\tdtrain-rmse:0.00043\tdtrain-RMSPE:0.19847\tdval-rmse:0.00049\tdval-RMSPE:0.22841\n",
      "[550]\tdtrain-rmse:0.00042\tdtrain-RMSPE:0.19691\tdval-rmse:0.00049\tdval-RMSPE:0.22738\n",
      "[600]\tdtrain-rmse:0.00042\tdtrain-RMSPE:0.19537\tdval-rmse:0.00049\tdval-RMSPE:0.22505\n",
      "[650]\tdtrain-rmse:0.00042\tdtrain-RMSPE:0.19383\tdval-rmse:0.00048\tdval-RMSPE:0.22387\n",
      "[700]\tdtrain-rmse:0.00042\tdtrain-RMSPE:0.19229\tdval-rmse:0.00048\tdval-RMSPE:0.22215\n",
      "[750]\tdtrain-rmse:0.00041\tdtrain-RMSPE:0.19093\tdval-rmse:0.00048\tdval-RMSPE:0.22242\n",
      "[800]\tdtrain-rmse:0.00041\tdtrain-RMSPE:0.18968\tdval-rmse:0.00048\tdval-RMSPE:0.22198\n",
      "[826]\tdtrain-rmse:0.00041\tdtrain-RMSPE:0.18919\tdval-rmse:0.00048\tdval-RMSPE:0.22185\n",
      "Our out of folds RMSPE is 0.22823285872116755\n"
     ]
    }
   ],
   "source": [
    "# Traing and evaluate\n",
    "test_predictions = train_and_evaluate(train, test)\n",
    "# Save test predictions\n",
    "submit_df = test.copy()\n",
    "submit_df['target'] = test_predictions\n",
    "submit_df[['row_id', 'target']].to_csv('submission.csv',index = False)"
   ]
  },
  {
   "cell_type": "code",
   "execution_count": null,
   "metadata": {},
   "outputs": [],
   "source": []
  }
 ],
 "metadata": {
  "kernelspec": {
   "display_name": "volatility",
   "language": "python",
   "name": "volatility"
  },
  "language_info": {
   "codemirror_mode": {
    "name": "ipython",
    "version": 3
   },
   "file_extension": ".py",
   "mimetype": "text/x-python",
   "name": "python",
   "nbconvert_exporter": "python",
   "pygments_lexer": "ipython3",
   "version": "3.8.8"
  }
 },
 "nbformat": 4,
 "nbformat_minor": 4
}
