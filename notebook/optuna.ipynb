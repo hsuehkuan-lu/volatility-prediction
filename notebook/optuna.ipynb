{
 "cells": [
  {
   "cell_type": "code",
   "execution_count": 1,
   "id": "focal-chosen",
   "metadata": {},
   "outputs": [],
   "source": [
    "\"\"\"\n",
    "Optuna example that demonstrates a pruner for XGBoost.\n",
    "In this example, we optimize the validation accuracy of cancer detection using XGBoost.\n",
    "We optimize both the choice of booster model and their hyperparameters. Throughout\n",
    "training of models, a pruner observes intermediate results and stop unpromising trials.\n",
    "You can run this example as follows:\n",
    "    $ python xgboost_integration.py\n",
    "\"\"\"\n",
    "\n",
    "import numpy as np\n",
    "import optuna\n",
    "\n",
    "import sklearn.datasets\n",
    "import sklearn.metrics\n",
    "from sklearn.model_selection import train_test_split\n",
    "import xgboost as xgb\n",
    "\n",
    "\n",
    "# FYI: Objective functions can take additional arguments\n",
    "# (https://optuna.readthedocs.io/en/stable/faq.html#objective-func-additional-args).\n",
    "def objective(trial):\n",
    "    data, target = sklearn.datasets.load_breast_cancer(return_X_y=True)\n",
    "    train_x, valid_x, train_y, valid_y = train_test_split(data, target, test_size=0.25)\n",
    "    dtrain = xgb.DMatrix(train_x, label=train_y)\n",
    "    dvalid = xgb.DMatrix(valid_x, label=valid_y)\n",
    "\n",
    "    param = {\n",
    "        \"verbosity\": 0,\n",
    "        \"objective\": \"binary:logistic\",\n",
    "        \"eval_metric\": \"auc\",\n",
    "        \"booster\": trial.suggest_categorical(\"booster\", [\"gbtree\", \"gblinear\", \"dart\"]),\n",
    "        \"lambda\": trial.suggest_float(\"lambda\", 1e-8, 1.0, log=True),\n",
    "        \"alpha\": trial.suggest_float(\"alpha\", 1e-8, 1.0, log=True),\n",
    "    }\n",
    "\n",
    "    if param[\"booster\"] == \"gbtree\" or param[\"booster\"] == \"dart\":\n",
    "        param[\"max_depth\"] = trial.suggest_int(\"max_depth\", 1, 9)\n",
    "        param[\"eta\"] = trial.suggest_float(\"eta\", 1e-8, 1.0, log=True)\n",
    "        param[\"gamma\"] = trial.suggest_float(\"gamma\", 1e-8, 1.0, log=True)\n",
    "        param[\"grow_policy\"] = trial.suggest_categorical(\"grow_policy\", [\"depthwise\", \"lossguide\"])\n",
    "    if param[\"booster\"] == \"dart\":\n",
    "        param[\"sample_type\"] = trial.suggest_categorical(\"sample_type\", [\"uniform\", \"weighted\"])\n",
    "        param[\"normalize_type\"] = trial.suggest_categorical(\"normalize_type\", [\"tree\", \"forest\"])\n",
    "        param[\"rate_drop\"] = trial.suggest_float(\"rate_drop\", 1e-8, 1.0, log=True)\n",
    "        param[\"skip_drop\"] = trial.suggest_float(\"skip_drop\", 1e-8, 1.0, log=True)\n",
    "\n",
    "    # Add a callback for pruning.\n",
    "    pruning_callback = optuna.integration.XGBoostPruningCallback(trial, \"validation-auc\")\n",
    "    bst = xgb.train(param, dtrain, evals=[(dvalid, \"validation\")], callbacks=[pruning_callback])\n",
    "    preds = bst.predict(dvalid)\n",
    "    pred_labels = np.rint(preds)\n",
    "    accuracy = sklearn.metrics.accuracy_score(valid_y, pred_labels)\n",
    "    return accuracy"
   ]
  },
  {
   "cell_type": "code",
   "execution_count": 2,
   "id": "attended-integrity",
   "metadata": {},
   "outputs": [
    {
     "name": "stderr",
     "output_type": "stream",
     "text": [
      "\u001b[32m[I 2021-08-28 16:25:02,984]\u001b[0m A new study created in memory with name: no-name-4a4ccea2-5e46-46f6-9633-7cd2a43112a5\u001b[0m\n"
     ]
    },
    {
     "name": "stdout",
     "output_type": "stream",
     "text": [
      "[0]\tvalidation-auc:0.90217\n",
      "[1]\tvalidation-auc:0.97101\n",
      "[2]\tvalidation-auc:0.97762\n",
      "[3]\tvalidation-auc:0.98316\n",
      "[4]\tvalidation-auc:0.98231\n",
      "[5]\tvalidation-auc:0.98316\n",
      "[6]\tvalidation-auc:0.98359\n",
      "[7]\tvalidation-auc:0.98487\n",
      "[8]\tvalidation-auc:0.98615\n",
      "[9]\tvalidation-auc:0.98849\n"
     ]
    },
    {
     "name": "stderr",
     "output_type": "stream",
     "text": [
      "\u001b[32m[I 2021-08-28 16:25:03,016]\u001b[0m Trial 0 finished with value: 0.9370629370629371 and parameters: {'booster': 'gblinear', 'lambda': 2.104735809177423e-05, 'alpha': 3.3095264565262413e-06}. Best is trial 0 with value: 0.9370629370629371.\u001b[0m\n"
     ]
    },
    {
     "name": "stdout",
     "output_type": "stream",
     "text": [
      "[0]\tvalidation-auc:0.88316\n",
      "[1]\tvalidation-auc:0.88316\n",
      "[2]\tvalidation-auc:0.88316\n",
      "[3]\tvalidation-auc:0.88316\n",
      "[4]\tvalidation-auc:0.88316\n",
      "[5]\tvalidation-auc:0.88316\n",
      "[6]\tvalidation-auc:0.88316\n",
      "[7]\tvalidation-auc:0.88316\n",
      "[8]\tvalidation-auc:0.88316\n",
      "[9]\tvalidation-auc:0.88316\n"
     ]
    },
    {
     "name": "stderr",
     "output_type": "stream",
     "text": [
      "\u001b[32m[I 2021-08-28 16:25:03,056]\u001b[0m Trial 1 finished with value: 0.8741258741258742 and parameters: {'booster': 'dart', 'lambda': 0.2132321619761001, 'alpha': 9.162253607640591e-07, 'max_depth': 1, 'eta': 5.111638849135322e-08, 'gamma': 1.4060002184274652e-05, 'grow_policy': 'lossguide', 'sample_type': 'uniform', 'normalize_type': 'tree', 'rate_drop': 0.00044973343086083774, 'skip_drop': 0.225748931139502}. Best is trial 0 with value: 0.9370629370629371.\u001b[0m\n"
     ]
    },
    {
     "name": "stdout",
     "output_type": "stream",
     "text": [
      "[0]\tvalidation-auc:0.96281\n",
      "[1]\tvalidation-auc:0.97549\n",
      "[2]\tvalidation-auc:0.98140\n",
      "[3]\tvalidation-auc:0.98162\n",
      "[4]\tvalidation-auc:0.98246\n",
      "[5]\tvalidation-auc:0.98415\n",
      "[6]\tvalidation-auc:0.98436\n",
      "[7]\tvalidation-auc:0.98457\n",
      "[8]\tvalidation-auc:0.98478\n",
      "[9]\tvalidation-auc:0.98542\n"
     ]
    },
    {
     "name": "stderr",
     "output_type": "stream",
     "text": [
      "\u001b[32m[I 2021-08-28 16:25:03,091]\u001b[0m Trial 2 finished with value: 0.9370629370629371 and parameters: {'booster': 'gblinear', 'lambda': 0.00016119657545443143, 'alpha': 1.3860814554257811e-05}. Best is trial 0 with value: 0.9370629370629371.\u001b[0m\n"
     ]
    },
    {
     "name": "stdout",
     "output_type": "stream",
     "text": [
      "[0]\tvalidation-auc:0.94809\n",
      "[1]\tvalidation-auc:0.95130\n",
      "[2]\tvalidation-auc:0.96054\n",
      "[3]\tvalidation-auc:0.97078\n",
      "[4]\tvalidation-auc:0.97078\n",
      "[5]\tvalidation-auc:0.97018\n",
      "[6]\tvalidation-auc:0.97018\n",
      "[7]\tvalidation-auc:0.97018\n",
      "[8]\tvalidation-auc:0.97159\n",
      "[9]\tvalidation-auc:0.97199\n"
     ]
    },
    {
     "name": "stderr",
     "output_type": "stream",
     "text": [
      "\u001b[32m[I 2021-08-28 16:25:03,158]\u001b[0m Trial 3 finished with value: 0.951048951048951 and parameters: {'booster': 'dart', 'lambda': 3.954777133640897e-06, 'alpha': 1.370557116271428e-07, 'max_depth': 7, 'eta': 0.01741781932673572, 'gamma': 1.0858649912027607e-05, 'grow_policy': 'depthwise', 'sample_type': 'uniform', 'normalize_type': 'tree', 'rate_drop': 6.097223544104432e-06, 'skip_drop': 0.0530902671588562}. Best is trial 3 with value: 0.951048951048951.\u001b[0m\n"
     ]
    },
    {
     "name": "stdout",
     "output_type": "stream",
     "text": [
      "[0]\tvalidation-auc:0.93142\n",
      "[1]\tvalidation-auc:0.95752\n",
      "[2]\tvalidation-auc:0.95816\n",
      "[3]\tvalidation-auc:0.95858\n",
      "[4]\tvalidation-auc:0.95858\n",
      "[5]\tvalidation-auc:0.95921\n",
      "[6]\tvalidation-auc:0.95985\n",
      "[7]\tvalidation-auc:0.95795\n",
      "[8]\tvalidation-auc:0.95731\n",
      "[9]\tvalidation-auc:0.95816\n"
     ]
    },
    {
     "name": "stderr",
     "output_type": "stream",
     "text": [
      "\u001b[32m[I 2021-08-28 16:25:03,214]\u001b[0m Trial 4 finished with value: 0.916083916083916 and parameters: {'booster': 'gbtree', 'lambda': 6.738790284624032e-06, 'alpha': 1.4467646289619524e-08, 'max_depth': 4, 'eta': 0.000489885631740101, 'gamma': 0.0740823682301092, 'grow_policy': 'depthwise'}. Best is trial 3 with value: 0.951048951048951.\u001b[0m\n"
     ]
    },
    {
     "name": "stdout",
     "output_type": "stream",
     "text": [
      "[0]\tvalidation-auc:0.95450\n",
      "[1]\tvalidation-auc:0.95340\n",
      "[2]\tvalidation-auc:0.95373\n",
      "[3]\tvalidation-auc:0.95395\n",
      "[4]\tvalidation-auc:0.95450\n",
      "[5]\tvalidation-auc:0.95384\n"
     ]
    },
    {
     "name": "stderr",
     "output_type": "stream",
     "text": [
      "\u001b[32m[I 2021-08-28 16:25:03,253]\u001b[0m Trial 5 pruned. Trial was pruned at iteration 5.\u001b[0m\n"
     ]
    },
    {
     "name": "stdout",
     "output_type": "stream",
     "text": [
      "[0]\tvalidation-auc:0.94043\n",
      "[1]\tvalidation-auc:0.95162\n",
      "[2]\tvalidation-auc:0.95151\n",
      "[3]\tvalidation-auc:0.95247\n",
      "[4]\tvalidation-auc:0.95130\n",
      "[5]\tvalidation-auc:0.95130\n"
     ]
    },
    {
     "name": "stderr",
     "output_type": "stream",
     "text": [
      "\u001b[32m[I 2021-08-28 16:25:03,289]\u001b[0m Trial 6 pruned. Trial was pruned at iteration 5.\u001b[0m\n"
     ]
    },
    {
     "name": "stdout",
     "output_type": "stream",
     "text": [
      "[0]\tvalidation-auc:0.97692\n",
      "[1]\tvalidation-auc:0.97759\n",
      "[2]\tvalidation-auc:0.97759\n",
      "[3]\tvalidation-auc:0.97893\n",
      "[4]\tvalidation-auc:0.98005\n",
      "[5]\tvalidation-auc:0.98028\n",
      "[6]\tvalidation-auc:0.98028\n",
      "[7]\tvalidation-auc:0.98095\n",
      "[8]\tvalidation-auc:0.98140\n",
      "[9]\tvalidation-auc:0.98297\n"
     ]
    },
    {
     "name": "stderr",
     "output_type": "stream",
     "text": [
      "\u001b[32m[I 2021-08-28 16:25:03,328]\u001b[0m Trial 7 finished with value: 0.9370629370629371 and parameters: {'booster': 'gblinear', 'lambda': 7.2098883370073935e-06, 'alpha': 8.867750568655011e-07}. Best is trial 3 with value: 0.951048951048951.\u001b[0m\n"
     ]
    },
    {
     "name": "stdout",
     "output_type": "stream",
     "text": [
      "[0]\tvalidation-auc:0.88108\n",
      "[1]\tvalidation-auc:0.90065\n",
      "[2]\tvalidation-auc:0.89634\n",
      "[3]\tvalidation-auc:0.89957\n",
      "[4]\tvalidation-auc:0.90430\n",
      "[5]\tvalidation-auc:0.91183\n"
     ]
    },
    {
     "name": "stderr",
     "output_type": "stream",
     "text": [
      "\u001b[32m[I 2021-08-28 16:25:03,356]\u001b[0m Trial 8 pruned. Trial was pruned at iteration 5.\u001b[0m\n"
     ]
    },
    {
     "name": "stdout",
     "output_type": "stream",
     "text": [
      "[0]\tvalidation-auc:0.92117\n",
      "[1]\tvalidation-auc:0.92767\n",
      "[2]\tvalidation-auc:0.92851\n",
      "[3]\tvalidation-auc:0.92610\n",
      "[4]\tvalidation-auc:0.92610\n",
      "[5]\tvalidation-auc:0.92851\n"
     ]
    },
    {
     "name": "stderr",
     "output_type": "stream",
     "text": [
      "\u001b[32m[I 2021-08-28 16:25:03,393]\u001b[0m Trial 9 pruned. Trial was pruned at iteration 5.\u001b[0m\n"
     ]
    },
    {
     "name": "stdout",
     "output_type": "stream",
     "text": [
      "[0]\tvalidation-auc:0.92613\n",
      "[1]\tvalidation-auc:0.94798\n",
      "[2]\tvalidation-auc:0.95724\n",
      "[3]\tvalidation-auc:0.96879\n",
      "[4]\tvalidation-auc:0.97451\n",
      "[5]\tvalidation-auc:0.96536\n"
     ]
    },
    {
     "name": "stderr",
     "output_type": "stream",
     "text": [
      "\u001b[32m[I 2021-08-28 16:25:03,470]\u001b[0m Trial 10 pruned. Trial was pruned at iteration 5.\u001b[0m\n"
     ]
    },
    {
     "name": "stdout",
     "output_type": "stream",
     "text": [
      "[0]\tvalidation-auc:0.97094\n",
      "[1]\tvalidation-auc:0.95964\n",
      "[2]\tvalidation-auc:0.96308\n",
      "[3]\tvalidation-auc:0.96731\n",
      "[4]\tvalidation-auc:0.97236\n"
     ]
    },
    {
     "name": "stderr",
     "output_type": "stream",
     "text": [
      "\u001b[32m[I 2021-08-28 16:25:03,507]\u001b[0m Trial 11 pruned. Trial was pruned at iteration 5.\u001b[0m\n"
     ]
    },
    {
     "name": "stdout",
     "output_type": "stream",
     "text": [
      "[0]\tvalidation-auc:0.98199\n",
      "[1]\tvalidation-auc:0.98199\n",
      "[2]\tvalidation-auc:0.98199\n",
      "[3]\tvalidation-auc:0.98029\n",
      "[4]\tvalidation-auc:0.97997\n",
      "[5]\tvalidation-auc:0.97986\n",
      "[6]\tvalidation-auc:0.97943\n",
      "[7]\tvalidation-auc:0.97879\n",
      "[8]\tvalidation-auc:0.97879\n",
      "[9]\tvalidation-auc:0.97901\n"
     ]
    },
    {
     "name": "stderr",
     "output_type": "stream",
     "text": [
      "\u001b[32m[I 2021-08-28 16:25:03,621]\u001b[0m Trial 12 finished with value: 0.951048951048951 and parameters: {'booster': 'dart', 'lambda': 0.0027705128179911407, 'alpha': 3.0513922381260032e-05, 'max_depth': 6, 'eta': 0.16957600142958273, 'gamma': 0.000603616820612747, 'grow_policy': 'depthwise', 'sample_type': 'weighted', 'normalize_type': 'forest', 'rate_drop': 0.6137912391825742, 'skip_drop': 0.32705411446981564}. Best is trial 3 with value: 0.951048951048951.\u001b[0m\n"
     ]
    },
    {
     "name": "stdout",
     "output_type": "stream",
     "text": [
      "[0]\tvalidation-auc:0.97903\n",
      "[1]\tvalidation-auc:0.97982\n",
      "[2]\tvalidation-auc:0.97982\n",
      "[3]\tvalidation-auc:0.97982\n",
      "[4]\tvalidation-auc:0.98107\n",
      "[5]\tvalidation-auc:0.98107\n",
      "[6]\tvalidation-auc:0.98107\n",
      "[7]\tvalidation-auc:0.98107\n",
      "[8]\tvalidation-auc:0.98571\n",
      "[9]\tvalidation-auc:0.98469\n"
     ]
    },
    {
     "name": "stderr",
     "output_type": "stream",
     "text": [
      "\u001b[32m[I 2021-08-28 16:25:03,733]\u001b[0m Trial 13 finished with value: 0.972027972027972 and parameters: {'booster': 'dart', 'lambda': 0.004352723541780597, 'alpha': 0.00020656646500302265, 'max_depth': 7, 'eta': 0.18418487071393788, 'gamma': 0.0004900748193918444, 'grow_policy': 'depthwise', 'sample_type': 'weighted', 'normalize_type': 'forest', 'rate_drop': 0.9661469276126681, 'skip_drop': 0.8356131275423323}. Best is trial 13 with value: 0.972027972027972.\u001b[0m\n"
     ]
    },
    {
     "name": "stdout",
     "output_type": "stream",
     "text": [
      "[0]\tvalidation-auc:0.98370\n",
      "[1]\tvalidation-auc:0.98284\n",
      "[2]\tvalidation-auc:0.98444\n",
      "[3]\tvalidation-auc:0.98433\n",
      "[4]\tvalidation-auc:0.98593\n",
      "[5]\tvalidation-auc:0.98593\n",
      "[6]\tvalidation-auc:0.98444\n",
      "[7]\tvalidation-auc:0.98444\n",
      "[8]\tvalidation-auc:0.98551\n",
      "[9]\tvalidation-auc:0.98721\n"
     ]
    },
    {
     "name": "stderr",
     "output_type": "stream",
     "text": [
      "\u001b[32m[I 2021-08-28 16:25:03,829]\u001b[0m Trial 14 finished with value: 0.951048951048951 and parameters: {'booster': 'dart', 'lambda': 0.041542341067366984, 'alpha': 0.0006328374363180186, 'max_depth': 7, 'eta': 0.005630735812919904, 'gamma': 2.9392135698469975e-06, 'grow_policy': 'depthwise', 'sample_type': 'weighted', 'normalize_type': 'forest', 'rate_drop': 6.362630365357765e-06, 'skip_drop': 0.7638259987911884}. Best is trial 13 with value: 0.972027972027972.\u001b[0m\n"
     ]
    },
    {
     "name": "stdout",
     "output_type": "stream",
     "text": [
      "[0]\tvalidation-auc:0.94882\n",
      "[1]\tvalidation-auc:0.94849\n",
      "[2]\tvalidation-auc:0.96280\n",
      "[3]\tvalidation-auc:0.97839\n",
      "[4]\tvalidation-auc:0.98720\n",
      "[5]\tvalidation-auc:0.98710\n",
      "[6]\tvalidation-auc:0.98925\n",
      "[7]\tvalidation-auc:0.98753\n",
      "[8]\tvalidation-auc:0.98989\n",
      "[9]\tvalidation-auc:0.99054\n"
     ]
    },
    {
     "name": "stderr",
     "output_type": "stream",
     "text": [
      "\u001b[32m[I 2021-08-28 16:25:03,914]\u001b[0m Trial 15 finished with value: 0.951048951048951 and parameters: {'booster': 'dart', 'lambda': 0.008030117954515642, 'alpha': 0.01834185776669583, 'max_depth': 6, 'eta': 0.8779155997045838, 'gamma': 0.0008081512727507104, 'grow_policy': 'depthwise', 'sample_type': 'weighted', 'normalize_type': 'forest', 'rate_drop': 7.231679575051246e-05, 'skip_drop': 0.0006271421234349123}. Best is trial 13 with value: 0.972027972027972.\u001b[0m\n"
     ]
    },
    {
     "name": "stdout",
     "output_type": "stream",
     "text": [
      "[0]\tvalidation-auc:0.95237\n",
      "[1]\tvalidation-auc:0.95237\n",
      "[2]\tvalidation-auc:0.95237\n",
      "[3]\tvalidation-auc:0.95237\n",
      "[4]\tvalidation-auc:0.95237\n",
      "[5]\tvalidation-auc:0.95237\n"
     ]
    },
    {
     "name": "stderr",
     "output_type": "stream",
     "text": [
      "\u001b[32m[I 2021-08-28 16:25:03,992]\u001b[0m Trial 16 pruned. Trial was pruned at iteration 5.\u001b[0m\n"
     ]
    },
    {
     "name": "stdout",
     "output_type": "stream",
     "text": [
      "[0]\tvalidation-auc:0.97710\n",
      "[1]\tvalidation-auc:0.98676\n",
      "[2]\tvalidation-auc:0.98621\n",
      "[3]\tvalidation-auc:0.98697\n",
      "[4]\tvalidation-auc:0.98686\n",
      "[5]\tvalidation-auc:0.98621\n",
      "[6]\tvalidation-auc:0.98578\n",
      "[7]\tvalidation-auc:0.98719\n",
      "[8]\tvalidation-auc:0.98578\n",
      "[9]\tvalidation-auc:0.98513\n"
     ]
    },
    {
     "name": "stderr",
     "output_type": "stream",
     "text": [
      "\u001b[32m[I 2021-08-28 16:25:04,081]\u001b[0m Trial 17 finished with value: 0.9440559440559441 and parameters: {'booster': 'gbtree', 'lambda': 0.03808101594453967, 'alpha': 7.619789447378721e-05, 'max_depth': 7, 'eta': 0.00016167295256742576, 'gamma': 0.0003622490037255243, 'grow_policy': 'depthwise'}. Best is trial 13 with value: 0.972027972027972.\u001b[0m\n"
     ]
    },
    {
     "name": "stdout",
     "output_type": "stream",
     "text": [
      "[0]\tvalidation-auc:0.97022\n",
      "[1]\tvalidation-auc:0.97484\n",
      "[2]\tvalidation-auc:0.98527\n",
      "[3]\tvalidation-auc:0.98333\n",
      "[4]\tvalidation-auc:0.98301\n",
      "[5]\tvalidation-auc:0.98140\n",
      "[6]\tvalidation-auc:0.99011\n",
      "[7]\tvalidation-auc:0.99495\n",
      "[8]\tvalidation-auc:0.99495\n",
      "[9]\tvalidation-auc:0.99495\n"
     ]
    },
    {
     "name": "stderr",
     "output_type": "stream",
     "text": [
      "\u001b[32m[I 2021-08-28 16:25:04,172]\u001b[0m Trial 18 finished with value: 0.9790209790209791 and parameters: {'booster': 'dart', 'lambda': 0.006956348558769062, 'alpha': 0.049043171433414155, 'max_depth': 5, 'eta': 0.7760200262076922, 'gamma': 0.9012404494058776, 'grow_policy': 'depthwise', 'sample_type': 'weighted', 'normalize_type': 'forest', 'rate_drop': 0.0022108573007237446, 'skip_drop': 1.035132197652835e-08}. Best is trial 18 with value: 0.9790209790209791.\u001b[0m\n"
     ]
    },
    {
     "name": "stdout",
     "output_type": "stream",
     "text": [
      "[0]\tvalidation-auc:0.95776\n",
      "[1]\tvalidation-auc:0.95849\n",
      "[2]\tvalidation-auc:0.95849\n",
      "[3]\tvalidation-auc:0.95849\n",
      "[4]\tvalidation-auc:0.95849\n"
     ]
    },
    {
     "name": "stderr",
     "output_type": "stream",
     "text": [
      "\u001b[32m[I 2021-08-28 16:25:04,245]\u001b[0m Trial 19 pruned. Trial was pruned at iteration 5.\u001b[0m\n"
     ]
    },
    {
     "name": "stdout",
     "output_type": "stream",
     "text": [
      "[0]\tvalidation-auc:0.95080\n",
      "[1]\tvalidation-auc:0.95290\n",
      "[2]\tvalidation-auc:0.96410\n",
      "[3]\tvalidation-auc:0.96609\n",
      "[4]\tvalidation-auc:0.97507\n"
     ]
    },
    {
     "name": "stderr",
     "output_type": "stream",
     "text": [
      "\u001b[32m[I 2021-08-28 16:25:04,306]\u001b[0m Trial 20 pruned. Trial was pruned at iteration 5.\u001b[0m\n"
     ]
    },
    {
     "name": "stdout",
     "output_type": "stream",
     "text": [
      "[0]\tvalidation-auc:0.95556\n",
      "[1]\tvalidation-auc:0.97173\n",
      "[2]\tvalidation-auc:0.97361\n",
      "[3]\tvalidation-auc:0.97242\n",
      "[4]\tvalidation-auc:0.97282\n",
      "[5]\tvalidation-auc:0.97242\n"
     ]
    },
    {
     "name": "stderr",
     "output_type": "stream",
     "text": [
      "\u001b[32m[I 2021-08-28 16:25:04,376]\u001b[0m Trial 21 pruned. Trial was pruned at iteration 5.\u001b[0m\n"
     ]
    },
    {
     "name": "stdout",
     "output_type": "stream",
     "text": [
      "[0]\tvalidation-auc:0.98004\n",
      "[1]\tvalidation-auc:0.97906\n",
      "[2]\tvalidation-auc:0.97083\n",
      "[3]\tvalidation-auc:0.97840\n",
      "[4]\tvalidation-auc:0.98695\n",
      "[5]\tvalidation-auc:0.98410\n",
      "[6]\tvalidation-auc:0.98202\n",
      "[7]\tvalidation-auc:0.98158\n",
      "[8]\tvalidation-auc:0.98136\n",
      "[9]\tvalidation-auc:0.98596\n"
     ]
    },
    {
     "name": "stderr",
     "output_type": "stream",
     "text": [
      "\u001b[32m[I 2021-08-28 16:25:04,467]\u001b[0m Trial 22 finished with value: 0.951048951048951 and parameters: {'booster': 'dart', 'lambda': 0.0002571393074802893, 'alpha': 0.11596238825791502, 'max_depth': 6, 'eta': 0.7861574022332058, 'gamma': 3.4033946199787675e-07, 'grow_policy': 'depthwise', 'sample_type': 'weighted', 'normalize_type': 'forest', 'rate_drop': 9.857131589184331e-06, 'skip_drop': 0.030302712119460666}. Best is trial 18 with value: 0.9790209790209791.\u001b[0m\n"
     ]
    },
    {
     "name": "stdout",
     "output_type": "stream",
     "text": [
      "[0]\tvalidation-auc:0.98190\n",
      "[1]\tvalidation-auc:0.98731\n",
      "[2]\tvalidation-auc:0.99667\n",
      "[3]\tvalidation-auc:0.99480\n",
      "[4]\tvalidation-auc:0.99313\n",
      "[5]\tvalidation-auc:0.99563\n",
      "[6]\tvalidation-auc:0.99293\n",
      "[7]\tvalidation-auc:0.99126\n",
      "[8]\tvalidation-auc:0.99084\n",
      "[9]\tvalidation-auc:0.99459\n"
     ]
    },
    {
     "name": "stderr",
     "output_type": "stream",
     "text": [
      "\u001b[32m[I 2021-08-28 16:25:04,558]\u001b[0m Trial 23 finished with value: 0.993006993006993 and parameters: {'booster': 'dart', 'lambda': 0.0003972573585417277, 'alpha': 0.04940147924246267, 'max_depth': 5, 'eta': 0.6619806282566565, 'gamma': 2.245363206261995e-07, 'grow_policy': 'depthwise', 'sample_type': 'weighted', 'normalize_type': 'forest', 'rate_drop': 0.016321455918765698, 'skip_drop': 1.2417685466798311e-05}. Best is trial 23 with value: 0.993006993006993.\u001b[0m\n"
     ]
    },
    {
     "name": "stdout",
     "output_type": "stream",
     "text": [
      "[0]\tvalidation-auc:0.98809\n",
      "[1]\tvalidation-auc:0.98628\n",
      "[2]\tvalidation-auc:0.98651\n",
      "[3]\tvalidation-auc:0.98129\n",
      "[4]\tvalidation-auc:0.97993\n",
      "[5]\tvalidation-auc:0.97993\n",
      "[6]\tvalidation-auc:0.97993\n",
      "[7]\tvalidation-auc:0.97993\n",
      "[8]\tvalidation-auc:0.97857\n",
      "[9]\tvalidation-auc:0.97857\n"
     ]
    },
    {
     "name": "stderr",
     "output_type": "stream",
     "text": [
      "\u001b[32m[I 2021-08-28 16:25:04,661]\u001b[0m Trial 24 finished with value: 0.9440559440559441 and parameters: {'booster': 'dart', 'lambda': 0.0044236275080806, 'alpha': 0.007591727413757164, 'max_depth': 5, 'eta': 0.0013583296350373312, 'gamma': 1.5323450291455238e-07, 'grow_policy': 'depthwise', 'sample_type': 'weighted', 'normalize_type': 'forest', 'rate_drop': 0.020293482160641564, 'skip_drop': 6.893977143575047e-06}. Best is trial 23 with value: 0.993006993006993.\u001b[0m\n"
     ]
    },
    {
     "name": "stdout",
     "output_type": "stream",
     "text": [
      "[0]\tvalidation-auc:0.98152\n",
      "[1]\tvalidation-auc:0.98254\n",
      "[2]\tvalidation-auc:0.98073\n",
      "[3]\tvalidation-auc:0.99116\n",
      "[4]\tvalidation-auc:0.99229\n",
      "[5]\tvalidation-auc:0.99002\n",
      "[6]\tvalidation-auc:0.98662\n",
      "[7]\tvalidation-auc:0.98776\n",
      "[8]\tvalidation-auc:0.98798\n",
      "[9]\tvalidation-auc:0.99388\n"
     ]
    },
    {
     "name": "stderr",
     "output_type": "stream",
     "text": [
      "\u001b[32m[I 2021-08-28 16:25:04,749]\u001b[0m Trial 25 finished with value: 0.986013986013986 and parameters: {'booster': 'dart', 'lambda': 0.09043529016243462, 'alpha': 0.08143412683913494, 'max_depth': 3, 'eta': 0.9891155722407662, 'gamma': 0.006849550754414744, 'grow_policy': 'depthwise', 'sample_type': 'weighted', 'normalize_type': 'forest', 'rate_drop': 0.056391260483514956, 'skip_drop': 1.5663667409501248e-08}. Best is trial 23 with value: 0.993006993006993.\u001b[0m\n"
     ]
    },
    {
     "name": "stdout",
     "output_type": "stream",
     "text": [
      "[0]\tvalidation-auc:0.95420\n",
      "[1]\tvalidation-auc:0.95533\n",
      "[2]\tvalidation-auc:0.95533\n",
      "[3]\tvalidation-auc:0.95533\n",
      "[4]\tvalidation-auc:0.95533\n",
      "[5]\tvalidation-auc:0.95533\n"
     ]
    },
    {
     "name": "stderr",
     "output_type": "stream",
     "text": [
      "\u001b[32m[I 2021-08-28 16:25:04,816]\u001b[0m Trial 26 pruned. Trial was pruned at iteration 5.\u001b[0m\n"
     ]
    },
    {
     "name": "stdout",
     "output_type": "stream",
     "text": [
      "[0]\tvalidation-auc:0.93237\n",
      "[1]\tvalidation-auc:0.95543\n",
      "[2]\tvalidation-auc:0.95604\n",
      "[3]\tvalidation-auc:0.95543\n",
      "[4]\tvalidation-auc:0.95522\n"
     ]
    },
    {
     "name": "stderr",
     "output_type": "stream",
     "text": [
      "\u001b[32m[I 2021-08-28 16:25:04,886]\u001b[0m Trial 27 pruned. Trial was pruned at iteration 5.\u001b[0m\n"
     ]
    },
    {
     "name": "stdout",
     "output_type": "stream",
     "text": [
      "[0]\tvalidation-auc:0.98072\n",
      "[1]\tvalidation-auc:0.98623\n",
      "[2]\tvalidation-auc:0.99592\n",
      "[3]\tvalidation-auc:0.99653\n",
      "[4]\tvalidation-auc:0.99572\n",
      "[5]\tvalidation-auc:0.99429\n",
      "[6]\tvalidation-auc:0.99714\n",
      "[7]\tvalidation-auc:0.99776\n",
      "[8]\tvalidation-auc:0.99776\n",
      "[9]\tvalidation-auc:0.99837\n"
     ]
    },
    {
     "name": "stderr",
     "output_type": "stream",
     "text": [
      "\u001b[32m[I 2021-08-28 16:25:04,961]\u001b[0m Trial 28 finished with value: 0.986013986013986 and parameters: {'booster': 'gbtree', 'lambda': 0.01872258518702048, 'alpha': 0.004087251277499147, 'max_depth': 3, 'eta': 0.8144664975402124, 'gamma': 0.11184168113609168, 'grow_policy': 'depthwise'}. Best is trial 23 with value: 0.993006993006993.\u001b[0m\n"
     ]
    },
    {
     "name": "stdout",
     "output_type": "stream",
     "text": [
      "[0]\tvalidation-auc:0.92743\n",
      "[1]\tvalidation-auc:0.92743\n",
      "[2]\tvalidation-auc:0.92743\n",
      "[3]\tvalidation-auc:0.92743\n",
      "[4]\tvalidation-auc:0.92743\n"
     ]
    },
    {
     "name": "stderr",
     "output_type": "stream",
     "text": [
      "\u001b[32m[I 2021-08-28 16:25:05,016]\u001b[0m Trial 29 pruned. Trial was pruned at iteration 5.\u001b[0m\n"
     ]
    },
    {
     "name": "stdout",
     "output_type": "stream",
     "text": [
      "[0]\tvalidation-auc:0.97527\n",
      "[1]\tvalidation-auc:0.98840\n",
      "[2]\tvalidation-auc:0.99128\n",
      "[3]\tvalidation-auc:0.99610\n",
      "[4]\tvalidation-auc:0.99774\n",
      "[5]\tvalidation-auc:0.99610\n",
      "[6]\tvalidation-auc:0.99733\n",
      "[7]\tvalidation-auc:0.99692\n",
      "[8]\tvalidation-auc:0.99672\n",
      "[9]\tvalidation-auc:0.99795\n"
     ]
    },
    {
     "name": "stderr",
     "output_type": "stream",
     "text": [
      "\u001b[32m[I 2021-08-28 16:25:05,093]\u001b[0m Trial 30 finished with value: 0.972027972027972 and parameters: {'booster': 'gbtree', 'lambda': 0.1323572656581881, 'alpha': 0.17881840857563586, 'max_depth': 3, 'eta': 0.14096052129681963, 'gamma': 7.119336341839737e-05, 'grow_policy': 'depthwise'}. Best is trial 23 with value: 0.993006993006993.\u001b[0m\n"
     ]
    },
    {
     "name": "stdout",
     "output_type": "stream",
     "text": [
      "[0]\tvalidation-auc:0.96345\n",
      "[1]\tvalidation-auc:0.99618\n",
      "[2]\tvalidation-auc:0.99398\n",
      "[3]\tvalidation-auc:0.99478\n",
      "[4]\tvalidation-auc:0.99598\n",
      "[5]\tvalidation-auc:0.99538\n",
      "[6]\tvalidation-auc:0.99679\n",
      "[7]\tvalidation-auc:0.99719\n",
      "[8]\tvalidation-auc:0.99659\n",
      "[9]\tvalidation-auc:0.99659\n"
     ]
    },
    {
     "name": "stderr",
     "output_type": "stream",
     "text": [
      "\u001b[32m[I 2021-08-28 16:25:05,173]\u001b[0m Trial 31 finished with value: 0.965034965034965 and parameters: {'booster': 'gbtree', 'lambda': 0.01626246883504732, 'alpha': 0.029038621647639252, 'max_depth': 4, 'eta': 0.8366470302249848, 'gamma': 0.27051220647828456, 'grow_policy': 'depthwise'}. Best is trial 23 with value: 0.993006993006993.\u001b[0m\n"
     ]
    },
    {
     "name": "stdout",
     "output_type": "stream",
     "text": [
      "[0]\tvalidation-auc:0.95961\n",
      "[1]\tvalidation-auc:0.99643\n",
      "[2]\tvalidation-auc:0.99663\n",
      "[3]\tvalidation-auc:0.99541\n",
      "[4]\tvalidation-auc:0.99684\n",
      "[5]\tvalidation-auc:0.99561\n",
      "[6]\tvalidation-auc:0.99643\n",
      "[7]\tvalidation-auc:0.99714\n",
      "[8]\tvalidation-auc:0.99796\n",
      "[9]\tvalidation-auc:0.99898\n"
     ]
    },
    {
     "name": "stderr",
     "output_type": "stream",
     "text": [
      "\u001b[32m[I 2021-08-28 16:25:05,249]\u001b[0m Trial 32 finished with value: 0.972027972027972 and parameters: {'booster': 'gbtree', 'lambda': 0.057897486665248105, 'alpha': 0.00612317079602362, 'max_depth': 2, 'eta': 0.9010819555838714, 'gamma': 0.028005161046635942, 'grow_policy': 'depthwise'}. Best is trial 23 with value: 0.993006993006993.\u001b[0m\n"
     ]
    },
    {
     "name": "stdout",
     "output_type": "stream",
     "text": [
      "[0]\tvalidation-auc:0.91733\n",
      "[1]\tvalidation-auc:0.91933\n",
      "[2]\tvalidation-auc:0.92088\n",
      "[3]\tvalidation-auc:0.92731\n",
      "[4]\tvalidation-auc:0.92642\n"
     ]
    },
    {
     "name": "stderr",
     "output_type": "stream",
     "text": [
      "\u001b[32m[I 2021-08-28 16:25:05,288]\u001b[0m Trial 33 pruned. Trial was pruned at iteration 5.\u001b[0m\n"
     ]
    },
    {
     "name": "stdout",
     "output_type": "stream",
     "text": [
      "[0]\tvalidation-auc:0.99349\n",
      "[1]\tvalidation-auc:0.99773\n",
      "[2]\tvalidation-auc:0.99711\n",
      "[3]\tvalidation-auc:0.99700\n",
      "[4]\tvalidation-auc:0.99742\n",
      "[5]\tvalidation-auc:0.99618\n",
      "[6]\tvalidation-auc:0.99587\n",
      "[7]\tvalidation-auc:0.99628\n",
      "[8]\tvalidation-auc:0.99752\n",
      "[9]\tvalidation-auc:0.99752\n"
     ]
    },
    {
     "name": "stderr",
     "output_type": "stream",
     "text": [
      "\u001b[32m[I 2021-08-28 16:25:05,382]\u001b[0m Trial 34 finished with value: 0.972027972027972 and parameters: {'booster': 'dart', 'lambda': 5.684431392586364e-05, 'alpha': 0.07418135621608038, 'max_depth': 5, 'eta': 0.2718726921359667, 'gamma': 0.23619996818431774, 'grow_policy': 'depthwise', 'sample_type': 'weighted', 'normalize_type': 'forest', 'rate_drop': 0.002337356120893273, 'skip_drop': 1.8466225013285415e-05}. Best is trial 23 with value: 0.993006993006993.\u001b[0m\n"
     ]
    },
    {
     "name": "stdout",
     "output_type": "stream",
     "text": [
      "[0]\tvalidation-auc:0.90667\n",
      "[1]\tvalidation-auc:0.90667\n",
      "[2]\tvalidation-auc:0.95420\n",
      "[3]\tvalidation-auc:0.95808\n",
      "[4]\tvalidation-auc:0.95706\n",
      "[5]\tvalidation-auc:0.98970\n",
      "[6]\tvalidation-auc:0.98990\n",
      "[7]\tvalidation-auc:0.98990\n",
      "[8]\tvalidation-auc:0.98990\n",
      "[9]\tvalidation-auc:0.98990\n"
     ]
    },
    {
     "name": "stderr",
     "output_type": "stream",
     "text": [
      "\u001b[32m[I 2021-08-28 16:25:05,458]\u001b[0m Trial 35 finished with value: 0.9440559440559441 and parameters: {'booster': 'gbtree', 'lambda': 0.011263996400825768, 'alpha': 0.2399633890778552, 'max_depth': 1, 'eta': 0.03192817402938886, 'gamma': 0.00289915557034101, 'grow_policy': 'depthwise'}. Best is trial 23 with value: 0.993006993006993.\u001b[0m\n"
     ]
    },
    {
     "name": "stdout",
     "output_type": "stream",
     "text": [
      "[0]\tvalidation-auc:0.50000\n",
      "[1]\tvalidation-auc:0.50000\n",
      "[2]\tvalidation-auc:0.50000\n",
      "[3]\tvalidation-auc:0.83655\n",
      "[4]\tvalidation-auc:0.83655\n"
     ]
    },
    {
     "name": "stderr",
     "output_type": "stream",
     "text": [
      "\u001b[32m[I 2021-08-28 16:25:05,527]\u001b[0m Trial 36 pruned. Trial was pruned at iteration 5.\u001b[0m\n"
     ]
    },
    {
     "name": "stdout",
     "output_type": "stream",
     "text": [
      "[0]\tvalidation-auc:0.95467\n",
      "[1]\tvalidation-auc:0.96756\n",
      "[2]\tvalidation-auc:0.98658\n",
      "[3]\tvalidation-auc:0.98637\n",
      "[4]\tvalidation-auc:0.98574\n",
      "[5]\tvalidation-auc:0.98478\n",
      "[6]\tvalidation-auc:0.98383\n",
      "[7]\tvalidation-auc:0.98383\n",
      "[8]\tvalidation-auc:0.98510\n",
      "[9]\tvalidation-auc:0.98616\n"
     ]
    },
    {
     "name": "stderr",
     "output_type": "stream",
     "text": [
      "\u001b[32m[I 2021-08-28 16:25:05,611]\u001b[0m Trial 37 pruned. Trial was pruned at iteration 9.\u001b[0m\n"
     ]
    },
    {
     "name": "stdout",
     "output_type": "stream",
     "text": [
      "[0]\tvalidation-auc:0.94970\n",
      "[1]\tvalidation-auc:0.96534\n",
      "[2]\tvalidation-auc:0.95604\n",
      "[3]\tvalidation-auc:0.95731\n",
      "[4]\tvalidation-auc:0.95541\n"
     ]
    },
    {
     "name": "stderr",
     "output_type": "stream",
     "text": [
      "\u001b[32m[I 2021-08-28 16:25:05,649]\u001b[0m Trial 38 pruned. Trial was pruned at iteration 5.\u001b[0m\n"
     ]
    },
    {
     "name": "stdout",
     "output_type": "stream",
     "text": [
      "[0]\tvalidation-auc:0.95300\n",
      "[1]\tvalidation-auc:0.96002\n",
      "[2]\tvalidation-auc:0.96932\n",
      "[3]\tvalidation-auc:0.96870\n",
      "[4]\tvalidation-auc:0.96994\n",
      "[5]\tvalidation-auc:0.96932\n"
     ]
    },
    {
     "name": "stderr",
     "output_type": "stream",
     "text": [
      "\u001b[32m[I 2021-08-28 16:25:05,732]\u001b[0m Trial 39 pruned. Trial was pruned at iteration 5.\u001b[0m\n"
     ]
    },
    {
     "name": "stdout",
     "output_type": "stream",
     "text": [
      "[0]\tvalidation-auc:0.96646\n",
      "[1]\tvalidation-auc:0.96625\n",
      "[2]\tvalidation-auc:0.96625\n",
      "[3]\tvalidation-auc:0.96625\n",
      "[4]\tvalidation-auc:0.96855\n"
     ]
    },
    {
     "name": "stderr",
     "output_type": "stream",
     "text": [
      "\u001b[32m[I 2021-08-28 16:25:05,795]\u001b[0m Trial 40 pruned. Trial was pruned at iteration 5.\u001b[0m\n"
     ]
    },
    {
     "name": "stdout",
     "output_type": "stream",
     "text": [
      "[0]\tvalidation-auc:0.92391\n",
      "[1]\tvalidation-auc:0.95055\n",
      "[2]\tvalidation-auc:0.96334\n",
      "[3]\tvalidation-auc:0.96750\n",
      "[4]\tvalidation-auc:0.96771\n"
     ]
    },
    {
     "name": "stderr",
     "output_type": "stream",
     "text": [
      "\u001b[32m[I 2021-08-28 16:25:05,864]\u001b[0m Trial 41 pruned. Trial was pruned at iteration 5.\u001b[0m\n"
     ]
    },
    {
     "name": "stdout",
     "output_type": "stream",
     "text": [
      "[0]\tvalidation-auc:0.96841\n",
      "[1]\tvalidation-auc:0.96746\n",
      "[2]\tvalidation-auc:0.96862\n",
      "[3]\tvalidation-auc:0.97073\n",
      "[4]\tvalidation-auc:0.97263\n",
      "[5]\tvalidation-auc:0.97834\n"
     ]
    },
    {
     "name": "stderr",
     "output_type": "stream",
     "text": [
      "\u001b[32m[I 2021-08-28 16:25:05,928]\u001b[0m Trial 42 pruned. Trial was pruned at iteration 5.\u001b[0m\n"
     ]
    },
    {
     "name": "stdout",
     "output_type": "stream",
     "text": [
      "[0]\tvalidation-auc:0.96952\n",
      "[1]\tvalidation-auc:0.97680\n",
      "[2]\tvalidation-auc:0.97857\n",
      "[3]\tvalidation-auc:0.98408\n",
      "[4]\tvalidation-auc:0.98367\n",
      "[5]\tvalidation-auc:0.98575\n",
      "[6]\tvalidation-auc:0.98679\n",
      "[7]\tvalidation-auc:0.98356\n",
      "[8]\tvalidation-auc:0.98689\n"
     ]
    },
    {
     "name": "stderr",
     "output_type": "stream",
     "text": [
      "\u001b[32m[I 2021-08-28 16:25:06,010]\u001b[0m Trial 43 pruned. Trial was pruned at iteration 9.\u001b[0m\n"
     ]
    },
    {
     "name": "stdout",
     "output_type": "stream",
     "text": [
      "[0]\tvalidation-auc:0.94905\n",
      "[1]\tvalidation-auc:0.94834\n",
      "[2]\tvalidation-auc:0.94834\n",
      "[3]\tvalidation-auc:0.94825\n",
      "[4]\tvalidation-auc:0.94794\n"
     ]
    },
    {
     "name": "stderr",
     "output_type": "stream",
     "text": [
      "\u001b[32m[I 2021-08-28 16:25:06,075]\u001b[0m Trial 44 pruned. Trial was pruned at iteration 5.\u001b[0m\n"
     ]
    },
    {
     "name": "stdout",
     "output_type": "stream",
     "text": [
      "[0]\tvalidation-auc:0.95652\n",
      "[1]\tvalidation-auc:0.96328\n",
      "[2]\tvalidation-auc:0.97680\n",
      "[3]\tvalidation-auc:0.97579\n",
      "[4]\tvalidation-auc:0.98235\n",
      "[5]\tvalidation-auc:0.98235\n"
     ]
    },
    {
     "name": "stderr",
     "output_type": "stream",
     "text": [
      "\u001b[32m[I 2021-08-28 16:25:06,151]\u001b[0m Trial 45 pruned. Trial was pruned at iteration 5.\u001b[0m\n"
     ]
    },
    {
     "name": "stdout",
     "output_type": "stream",
     "text": [
      "[0]\tvalidation-auc:0.97654\n",
      "[1]\tvalidation-auc:0.97940\n",
      "[2]\tvalidation-auc:0.98195\n",
      "[3]\tvalidation-auc:0.99011\n",
      "[4]\tvalidation-auc:0.98939\n",
      "[5]\tvalidation-auc:0.98817\n",
      "[6]\tvalidation-auc:0.98878\n",
      "[7]\tvalidation-auc:0.98450\n",
      "[8]\tvalidation-auc:0.98694\n",
      "[9]\tvalidation-auc:0.98694\n"
     ]
    },
    {
     "name": "stderr",
     "output_type": "stream",
     "text": [
      "\u001b[32m[I 2021-08-28 16:25:06,244]\u001b[0m Trial 46 finished with value: 0.958041958041958 and parameters: {'booster': 'dart', 'lambda': 6.729818445293324e-05, 'alpha': 0.004203336155577557, 'max_depth': 6, 'eta': 0.9972885288769187, 'gamma': 0.027679822706733654, 'grow_policy': 'lossguide', 'sample_type': 'weighted', 'normalize_type': 'forest', 'rate_drop': 0.006762746633871465, 'skip_drop': 3.2104526805950257e-06}. Best is trial 23 with value: 0.993006993006993.\u001b[0m\n"
     ]
    },
    {
     "name": "stdout",
     "output_type": "stream",
     "text": [
      "[0]\tvalidation-auc:0.97538\n",
      "[1]\tvalidation-auc:0.97688\n",
      "[2]\tvalidation-auc:0.97624\n",
      "[3]\tvalidation-auc:0.97624\n",
      "[4]\tvalidation-auc:0.97624\n",
      "[5]\tvalidation-auc:0.97624\n"
     ]
    },
    {
     "name": "stderr",
     "output_type": "stream",
     "text": [
      "\u001b[32m[I 2021-08-28 16:25:06,323]\u001b[0m Trial 47 pruned. Trial was pruned at iteration 5.\u001b[0m\n"
     ]
    },
    {
     "name": "stdout",
     "output_type": "stream",
     "text": [
      "[0]\tvalidation-auc:0.95183\n",
      "[1]\tvalidation-auc:0.95978\n",
      "[2]\tvalidation-auc:0.96151\n",
      "[3]\tvalidation-auc:0.96280\n",
      "[4]\tvalidation-auc:0.96602\n"
     ]
    },
    {
     "name": "stderr",
     "output_type": "stream",
     "text": [
      "\u001b[32m[I 2021-08-28 16:25:06,363]\u001b[0m Trial 48 pruned. Trial was pruned at iteration 5.\u001b[0m\n"
     ]
    },
    {
     "name": "stdout",
     "output_type": "stream",
     "text": [
      "[0]\tvalidation-auc:0.97797\n",
      "[1]\tvalidation-auc:0.99582\n",
      "[2]\tvalidation-auc:0.99776\n",
      "[3]\tvalidation-auc:0.99939\n",
      "[4]\tvalidation-auc:0.99898\n",
      "[5]\tvalidation-auc:0.99878\n",
      "[6]\tvalidation-auc:0.99898\n",
      "[7]\tvalidation-auc:0.99939\n",
      "[8]\tvalidation-auc:0.99939\n",
      "[9]\tvalidation-auc:0.99959\n"
     ]
    },
    {
     "name": "stderr",
     "output_type": "stream",
     "text": [
      "\u001b[32m[I 2021-08-28 16:25:06,491]\u001b[0m Trial 49 finished with value: 0.9790209790209791 and parameters: {'booster': 'dart', 'lambda': 0.0007399611061358898, 'alpha': 0.40966045815976276, 'max_depth': 4, 'eta': 0.3366062346919768, 'gamma': 0.0640860801523795, 'grow_policy': 'depthwise', 'sample_type': 'weighted', 'normalize_type': 'forest', 'rate_drop': 0.00015858224968797645, 'skip_drop': 4.1237663250442326e-07}. Best is trial 23 with value: 0.993006993006993.\u001b[0m\n"
     ]
    },
    {
     "name": "stdout",
     "output_type": "stream",
     "text": [
      "[0]\tvalidation-auc:0.95710\n",
      "[1]\tvalidation-auc:0.96228\n",
      "[2]\tvalidation-auc:0.96122\n",
      "[3]\tvalidation-auc:0.96238\n",
      "[4]\tvalidation-auc:0.96164\n"
     ]
    },
    {
     "name": "stderr",
     "output_type": "stream",
     "text": [
      "\u001b[32m[I 2021-08-28 16:25:06,573]\u001b[0m Trial 50 pruned. Trial was pruned at iteration 5.\u001b[0m\n"
     ]
    },
    {
     "name": "stdout",
     "output_type": "stream",
     "text": [
      "[0]\tvalidation-auc:0.93680\n",
      "[1]\tvalidation-auc:0.98375\n",
      "[2]\tvalidation-auc:0.97030\n",
      "[3]\tvalidation-auc:0.96941\n",
      "[4]\tvalidation-auc:0.99070\n",
      "[5]\tvalidation-auc:0.98644\n",
      "[6]\tvalidation-auc:0.98353\n",
      "[7]\tvalidation-auc:0.98532\n",
      "[8]\tvalidation-auc:0.98891\n",
      "[9]\tvalidation-auc:0.98857\n"
     ]
    },
    {
     "name": "stderr",
     "output_type": "stream",
     "text": [
      "\u001b[32m[I 2021-08-28 16:25:06,669]\u001b[0m Trial 51 finished with value: 0.958041958041958 and parameters: {'booster': 'dart', 'lambda': 0.0004261606879679619, 'alpha': 0.08931891749447335, 'max_depth': 5, 'eta': 0.3389774527362398, 'gamma': 0.15855239185173334, 'grow_policy': 'depthwise', 'sample_type': 'weighted', 'normalize_type': 'forest', 'rate_drop': 0.02918887730179279, 'skip_drop': 3.771630752682325e-08}. Best is trial 23 with value: 0.993006993006993.\u001b[0m\n"
     ]
    },
    {
     "name": "stdout",
     "output_type": "stream",
     "text": [
      "[0]\tvalidation-auc:0.95012\n",
      "[1]\tvalidation-auc:0.99153\n",
      "[2]\tvalidation-auc:0.97960\n",
      "[3]\tvalidation-auc:0.98756\n",
      "[4]\tvalidation-auc:0.99062\n",
      "[5]\tvalidation-auc:0.99204\n",
      "[6]\tvalidation-auc:0.99306\n",
      "[7]\tvalidation-auc:0.99347\n",
      "[8]\tvalidation-auc:0.99388\n",
      "[9]\tvalidation-auc:0.99408\n"
     ]
    },
    {
     "name": "stderr",
     "output_type": "stream",
     "text": [
      "\u001b[32m[I 2021-08-28 16:25:06,774]\u001b[0m Trial 52 finished with value: 0.9370629370629371 and parameters: {'booster': 'dart', 'lambda': 0.0024953291448513997, 'alpha': 0.028430264770681724, 'max_depth': 4, 'eta': 0.234263544887122, 'gamma': 0.013783246456958753, 'grow_policy': 'depthwise', 'sample_type': 'weighted', 'normalize_type': 'forest', 'rate_drop': 0.0003550909072563821, 'skip_drop': 5.8962231013549804e-05}. Best is trial 23 with value: 0.993006993006993.\u001b[0m\n"
     ]
    },
    {
     "name": "stdout",
     "output_type": "stream",
     "text": [
      "[0]\tvalidation-auc:0.97769\n",
      "[1]\tvalidation-auc:0.97475\n",
      "[2]\tvalidation-auc:0.98398\n",
      "[3]\tvalidation-auc:0.98235\n",
      "[4]\tvalidation-auc:0.98337\n"
     ]
    },
    {
     "name": "stderr",
     "output_type": "stream",
     "text": [
      "\u001b[32m[I 2021-08-28 16:25:06,856]\u001b[0m Trial 53 pruned. Trial was pruned at iteration 5.\u001b[0m\n"
     ]
    },
    {
     "name": "stdout",
     "output_type": "stream",
     "text": [
      "[0]\tvalidation-auc:0.96471\n",
      "[1]\tvalidation-auc:0.95847\n",
      "[2]\tvalidation-auc:0.96101\n",
      "[3]\tvalidation-auc:0.96270\n",
      "[4]\tvalidation-auc:0.96735\n"
     ]
    },
    {
     "name": "stderr",
     "output_type": "stream",
     "text": [
      "\u001b[32m[I 2021-08-28 16:25:06,922]\u001b[0m Trial 54 pruned. Trial was pruned at iteration 5.\u001b[0m\n"
     ]
    },
    {
     "name": "stdout",
     "output_type": "stream",
     "text": [
      "[0]\tvalidation-auc:0.95142\n",
      "[1]\tvalidation-auc:0.95558\n",
      "[2]\tvalidation-auc:0.95416\n",
      "[3]\tvalidation-auc:0.95314\n",
      "[4]\tvalidation-auc:0.95365\n"
     ]
    },
    {
     "name": "stderr",
     "output_type": "stream",
     "text": [
      "\u001b[32m[I 2021-08-28 16:25:07,003]\u001b[0m Trial 55 pruned. Trial was pruned at iteration 5.\u001b[0m\n"
     ]
    },
    {
     "name": "stdout",
     "output_type": "stream",
     "text": [
      "[0]\tvalidation-auc:0.97123\n",
      "[1]\tvalidation-auc:0.97293\n",
      "[2]\tvalidation-auc:0.97293\n",
      "[3]\tvalidation-auc:0.97187\n",
      "[4]\tvalidation-auc:0.97187\n",
      "[5]\tvalidation-auc:0.97144\n"
     ]
    },
    {
     "name": "stderr",
     "output_type": "stream",
     "text": [
      "\u001b[32m[I 2021-08-28 16:25:07,081]\u001b[0m Trial 56 pruned. Trial was pruned at iteration 5.\u001b[0m\n"
     ]
    },
    {
     "name": "stdout",
     "output_type": "stream",
     "text": [
      "[0]\tvalidation-auc:0.94359\n",
      "[1]\tvalidation-auc:0.94576\n",
      "[2]\tvalidation-auc:0.94607\n",
      "[3]\tvalidation-auc:0.94587\n",
      "[4]\tvalidation-auc:0.94618\n",
      "[5]\tvalidation-auc:0.94380\n"
     ]
    },
    {
     "name": "stderr",
     "output_type": "stream",
     "text": [
      "\u001b[32m[I 2021-08-28 16:25:07,173]\u001b[0m Trial 57 pruned. Trial was pruned at iteration 5.\u001b[0m\n"
     ]
    },
    {
     "name": "stdout",
     "output_type": "stream",
     "text": [
      "[0]\tvalidation-auc:0.93428\n",
      "[1]\tvalidation-auc:0.92759\n",
      "[2]\tvalidation-auc:0.98103\n",
      "[3]\tvalidation-auc:0.97241\n",
      "[4]\tvalidation-auc:0.97181\n",
      "[5]\tvalidation-auc:0.97039\n"
     ]
    },
    {
     "name": "stderr",
     "output_type": "stream",
     "text": [
      "\u001b[32m[I 2021-08-28 16:25:07,271]\u001b[0m Trial 58 pruned. Trial was pruned at iteration 5.\u001b[0m\n"
     ]
    },
    {
     "name": "stdout",
     "output_type": "stream",
     "text": [
      "[0]\tvalidation-auc:0.97069\n",
      "[1]\tvalidation-auc:0.98915\n",
      "[2]\tvalidation-auc:0.99057\n",
      "[3]\tvalidation-auc:0.99016\n",
      "[4]\tvalidation-auc:0.98864\n",
      "[5]\tvalidation-auc:0.98986\n",
      "[6]\tvalidation-auc:0.99108\n",
      "[7]\tvalidation-auc:0.99148\n",
      "[8]\tvalidation-auc:0.99209\n",
      "[9]\tvalidation-auc:0.99168\n"
     ]
    },
    {
     "name": "stderr",
     "output_type": "stream",
     "text": [
      "\u001b[32m[I 2021-08-28 16:25:07,360]\u001b[0m Trial 59 finished with value: 0.958041958041958 and parameters: {'booster': 'gbtree', 'lambda': 0.027088793432621546, 'alpha': 0.13644056645784283, 'max_depth': 3, 'eta': 0.1393101155163242, 'gamma': 1.5669740519548105e-06, 'grow_policy': 'depthwise'}. Best is trial 23 with value: 0.993006993006993.\u001b[0m\n"
     ]
    },
    {
     "name": "stdout",
     "output_type": "stream",
     "text": [
      "[0]\tvalidation-auc:0.94757\n",
      "[1]\tvalidation-auc:0.94736\n",
      "[2]\tvalidation-auc:0.95652\n",
      "[3]\tvalidation-auc:0.95759\n",
      "[4]\tvalidation-auc:0.95610\n"
     ]
    },
    {
     "name": "stderr",
     "output_type": "stream",
     "text": [
      "\u001b[32m[I 2021-08-28 16:25:07,407]\u001b[0m Trial 60 pruned. Trial was pruned at iteration 5.\u001b[0m\n"
     ]
    },
    {
     "name": "stdout",
     "output_type": "stream",
     "text": [
      "[0]\tvalidation-auc:0.95667\n",
      "[1]\tvalidation-auc:0.95667\n",
      "[2]\tvalidation-auc:0.98624\n",
      "[3]\tvalidation-auc:0.98602\n",
      "[4]\tvalidation-auc:0.98624\n",
      "[5]\tvalidation-auc:0.98495\n"
     ]
    },
    {
     "name": "stderr",
     "output_type": "stream",
     "text": [
      "\u001b[32m[I 2021-08-28 16:25:07,486]\u001b[0m Trial 61 pruned. Trial was pruned at iteration 5.\u001b[0m\n"
     ]
    },
    {
     "name": "stdout",
     "output_type": "stream",
     "text": [
      "[0]\tvalidation-auc:0.95119\n",
      "[1]\tvalidation-auc:0.97325\n",
      "[2]\tvalidation-auc:0.97837\n",
      "[3]\tvalidation-auc:0.97741\n",
      "[4]\tvalidation-auc:0.97442\n"
     ]
    },
    {
     "name": "stderr",
     "output_type": "stream",
     "text": [
      "\u001b[32m[I 2021-08-28 16:25:07,571]\u001b[0m Trial 62 pruned. Trial was pruned at iteration 5.\u001b[0m\n"
     ]
    },
    {
     "name": "stdout",
     "output_type": "stream",
     "text": [
      "[0]\tvalidation-auc:0.93904\n",
      "[1]\tvalidation-auc:0.95803\n",
      "[2]\tvalidation-auc:0.95803\n",
      "[3]\tvalidation-auc:0.97342\n",
      "[4]\tvalidation-auc:0.97342\n"
     ]
    },
    {
     "name": "stderr",
     "output_type": "stream",
     "text": [
      "\u001b[32m[I 2021-08-28 16:25:07,654]\u001b[0m Trial 63 pruned. Trial was pruned at iteration 5.\u001b[0m\n"
     ]
    },
    {
     "name": "stdout",
     "output_type": "stream",
     "text": [
      "[0]\tvalidation-auc:0.96814\n",
      "[1]\tvalidation-auc:0.96678\n",
      "[2]\tvalidation-auc:0.97041\n",
      "[3]\tvalidation-auc:0.96927\n",
      "[4]\tvalidation-auc:0.97075\n",
      "[5]\tvalidation-auc:0.97098\n"
     ]
    },
    {
     "name": "stderr",
     "output_type": "stream",
     "text": [
      "\u001b[32m[I 2021-08-28 16:25:07,730]\u001b[0m Trial 64 pruned. Trial was pruned at iteration 5.\u001b[0m\n"
     ]
    },
    {
     "name": "stdout",
     "output_type": "stream",
     "text": [
      "[0]\tvalidation-auc:0.94241\n",
      "[1]\tvalidation-auc:0.95921\n",
      "[2]\tvalidation-auc:0.96640\n",
      "[3]\tvalidation-auc:0.96640\n",
      "[4]\tvalidation-auc:0.96576\n"
     ]
    },
    {
     "name": "stderr",
     "output_type": "stream",
     "text": [
      "\u001b[32m[I 2021-08-28 16:25:07,805]\u001b[0m Trial 65 pruned. Trial was pruned at iteration 5.\u001b[0m\n"
     ]
    },
    {
     "name": "stdout",
     "output_type": "stream",
     "text": [
      "[0]\tvalidation-auc:0.90526\n",
      "[1]\tvalidation-auc:0.96689\n",
      "[2]\tvalidation-auc:0.96579\n",
      "[3]\tvalidation-auc:0.97818\n",
      "[4]\tvalidation-auc:0.97906\n"
     ]
    },
    {
     "name": "stderr",
     "output_type": "stream",
     "text": [
      "\u001b[32m[I 2021-08-28 16:25:07,878]\u001b[0m Trial 66 pruned. Trial was pruned at iteration 5.\u001b[0m\n"
     ]
    },
    {
     "name": "stdout",
     "output_type": "stream",
     "text": [
      "[0]\tvalidation-auc:0.96565\n",
      "[1]\tvalidation-auc:0.97770\n",
      "[2]\tvalidation-auc:0.97909\n",
      "[3]\tvalidation-auc:0.98208\n",
      "[4]\tvalidation-auc:0.98586\n"
     ]
    },
    {
     "name": "stderr",
     "output_type": "stream",
     "text": [
      "\u001b[32m[I 2021-08-28 16:25:07,946]\u001b[0m Trial 67 pruned. Trial was pruned at iteration 5.\u001b[0m\n"
     ]
    },
    {
     "name": "stdout",
     "output_type": "stream",
     "text": [
      "[0]\tvalidation-auc:0.97126\n",
      "[1]\tvalidation-auc:0.97126\n",
      "[2]\tvalidation-auc:0.97167\n",
      "[3]\tvalidation-auc:0.98235\n",
      "[4]\tvalidation-auc:0.98769\n",
      "[5]\tvalidation-auc:0.98769\n",
      "[6]\tvalidation-auc:0.98984\n",
      "[7]\tvalidation-auc:0.99025\n",
      "[8]\tvalidation-auc:0.99046\n",
      "[9]\tvalidation-auc:0.98984\n"
     ]
    },
    {
     "name": "stderr",
     "output_type": "stream",
     "text": [
      "\u001b[32m[I 2021-08-28 16:25:08,040]\u001b[0m Trial 68 finished with value: 0.951048951048951 and parameters: {'booster': 'gbtree', 'lambda': 0.6408401900731738, 'alpha': 0.030610121346647, 'max_depth': 4, 'eta': 0.08848512539135032, 'gamma': 0.05422326323378941, 'grow_policy': 'lossguide'}. Best is trial 23 with value: 0.993006993006993.\u001b[0m\n"
     ]
    },
    {
     "name": "stdout",
     "output_type": "stream",
     "text": [
      "[0]\tvalidation-auc:0.87775\n",
      "[1]\tvalidation-auc:0.96270\n",
      "[2]\tvalidation-auc:0.98035\n",
      "[3]\tvalidation-auc:0.98235\n",
      "[4]\tvalidation-auc:0.98109\n",
      "[5]\tvalidation-auc:0.98309\n"
     ]
    },
    {
     "name": "stderr",
     "output_type": "stream",
     "text": [
      "\u001b[32m[I 2021-08-28 16:25:08,125]\u001b[0m Trial 69 pruned. Trial was pruned at iteration 5.\u001b[0m\n"
     ]
    },
    {
     "name": "stdout",
     "output_type": "stream",
     "text": [
      "[0]\tvalidation-auc:0.94581\n",
      "[1]\tvalidation-auc:0.94906\n",
      "[2]\tvalidation-auc:0.95943\n",
      "[3]\tvalidation-auc:0.95985\n",
      "[4]\tvalidation-auc:0.96897\n",
      "[5]\tvalidation-auc:0.97652\n"
     ]
    },
    {
     "name": "stderr",
     "output_type": "stream",
     "text": [
      "\u001b[32m[I 2021-08-28 16:25:08,215]\u001b[0m Trial 70 pruned. Trial was pruned at iteration 5.\u001b[0m\n"
     ]
    },
    {
     "name": "stdout",
     "output_type": "stream",
     "text": [
      "[0]\tvalidation-auc:0.97008\n",
      "[1]\tvalidation-auc:0.97606\n",
      "[2]\tvalidation-auc:0.97891\n",
      "[3]\tvalidation-auc:0.97779\n",
      "[4]\tvalidation-auc:0.97637\n"
     ]
    },
    {
     "name": "stderr",
     "output_type": "stream",
     "text": [
      "\u001b[32m[I 2021-08-28 16:25:08,279]\u001b[0m Trial 71 pruned. Trial was pruned at iteration 5.\u001b[0m\n"
     ]
    },
    {
     "name": "stdout",
     "output_type": "stream",
     "text": [
      "[0]\tvalidation-auc:0.94660\n",
      "[1]\tvalidation-auc:0.96723\n",
      "[2]\tvalidation-auc:0.97279\n",
      "[3]\tvalidation-auc:0.97404\n",
      "[4]\tvalidation-auc:0.98934\n",
      "[5]\tvalidation-auc:0.99206\n",
      "[6]\tvalidation-auc:0.99388\n",
      "[7]\tvalidation-auc:0.99388\n",
      "[8]\tvalidation-auc:0.99410\n",
      "[9]\tvalidation-auc:0.99410\n"
     ]
    },
    {
     "name": "stderr",
     "output_type": "stream",
     "text": [
      "\u001b[32m[I 2021-08-28 16:25:08,361]\u001b[0m Trial 72 finished with value: 0.9440559440559441 and parameters: {'booster': 'gbtree', 'lambda': 0.00033161934632340253, 'alpha': 0.041378229963336816, 'max_depth': 3, 'eta': 0.5717746254149215, 'gamma': 1.0424209498772272e-05, 'grow_policy': 'depthwise'}. Best is trial 23 with value: 0.993006993006993.\u001b[0m\n"
     ]
    },
    {
     "name": "stdout",
     "output_type": "stream",
     "text": [
      "[0]\tvalidation-auc:0.95791\n",
      "[1]\tvalidation-auc:0.95716\n",
      "[2]\tvalidation-auc:0.95674\n",
      "[3]\tvalidation-auc:0.95855\n",
      "[4]\tvalidation-auc:0.95791\n"
     ]
    },
    {
     "name": "stderr",
     "output_type": "stream",
     "text": [
      "\u001b[32m[I 2021-08-28 16:25:08,435]\u001b[0m Trial 73 pruned. Trial was pruned at iteration 5.\u001b[0m\n"
     ]
    },
    {
     "name": "stdout",
     "output_type": "stream",
     "text": [
      "[0]\tvalidation-auc:0.98779\n",
      "[1]\tvalidation-auc:0.98779\n",
      "[2]\tvalidation-auc:0.98733\n",
      "[3]\tvalidation-auc:0.98756\n",
      "[4]\tvalidation-auc:0.98709\n",
      "[5]\tvalidation-auc:0.98733\n"
     ]
    },
    {
     "name": "stderr",
     "output_type": "stream",
     "text": [
      "\u001b[32m[I 2021-08-28 16:25:08,512]\u001b[0m Trial 74 pruned. Trial was pruned at iteration 6.\u001b[0m\n"
     ]
    },
    {
     "name": "stdout",
     "output_type": "stream",
     "text": [
      "[0]\tvalidation-auc:0.98794\n",
      "[1]\tvalidation-auc:0.98595\n",
      "[2]\tvalidation-auc:0.99507\n",
      "[3]\tvalidation-auc:0.99612\n",
      "[4]\tvalidation-auc:0.99423\n",
      "[5]\tvalidation-auc:0.99329\n",
      "[6]\tvalidation-auc:0.99539\n",
      "[7]\tvalidation-auc:0.99623\n",
      "[8]\tvalidation-auc:0.99623\n",
      "[9]\tvalidation-auc:0.99644\n"
     ]
    },
    {
     "name": "stderr",
     "output_type": "stream",
     "text": [
      "\u001b[32m[I 2021-08-28 16:25:08,612]\u001b[0m Trial 75 finished with value: 0.972027972027972 and parameters: {'booster': 'dart', 'lambda': 0.00014995714983629646, 'alpha': 1.0674832193932046e-05, 'max_depth': 5, 'eta': 0.5900069718263796, 'gamma': 0.007507001522681006, 'grow_policy': 'depthwise', 'sample_type': 'weighted', 'normalize_type': 'forest', 'rate_drop': 0.0013285640750037757, 'skip_drop': 3.121574433959068e-08}. Best is trial 23 with value: 0.993006993006993.\u001b[0m\n"
     ]
    },
    {
     "name": "stdout",
     "output_type": "stream",
     "text": [
      "[0]\tvalidation-auc:0.98161\n",
      "[1]\tvalidation-auc:0.97696\n",
      "[2]\tvalidation-auc:0.98791\n",
      "[3]\tvalidation-auc:0.98833\n",
      "[4]\tvalidation-auc:0.98853\n",
      "[5]\tvalidation-auc:0.98812\n"
     ]
    },
    {
     "name": "stderr",
     "output_type": "stream",
     "text": [
      "\u001b[32m[I 2021-08-28 16:25:08,702]\u001b[0m Trial 76 pruned. Trial was pruned at iteration 6.\u001b[0m\n"
     ]
    },
    {
     "name": "stdout",
     "output_type": "stream",
     "text": [
      "[0]\tvalidation-auc:0.95868\n",
      "[1]\tvalidation-auc:0.98130\n",
      "[2]\tvalidation-auc:0.98130\n",
      "[3]\tvalidation-auc:0.98512\n",
      "[4]\tvalidation-auc:0.98388\n"
     ]
    },
    {
     "name": "stderr",
     "output_type": "stream",
     "text": [
      "\u001b[32m[I 2021-08-28 16:25:08,785]\u001b[0m Trial 77 pruned. Trial was pruned at iteration 5.\u001b[0m\n"
     ]
    },
    {
     "name": "stdout",
     "output_type": "stream",
     "text": [
      "[0]\tvalidation-auc:0.94663\n",
      "[1]\tvalidation-auc:0.92672\n",
      "[2]\tvalidation-auc:0.92693\n",
      "[3]\tvalidation-auc:0.92796\n",
      "[4]\tvalidation-auc:0.93021\n"
     ]
    },
    {
     "name": "stderr",
     "output_type": "stream",
     "text": [
      "\u001b[32m[I 2021-08-28 16:25:08,827]\u001b[0m Trial 78 pruned. Trial was pruned at iteration 5.\u001b[0m\n"
     ]
    },
    {
     "name": "stdout",
     "output_type": "stream",
     "text": [
      "[0]\tvalidation-auc:0.96839\n",
      "[1]\tvalidation-auc:0.96572\n",
      "[2]\tvalidation-auc:0.96572\n",
      "[3]\tvalidation-auc:0.96572\n",
      "[4]\tvalidation-auc:0.96490\n",
      "[5]\tvalidation-auc:0.96490\n"
     ]
    },
    {
     "name": "stderr",
     "output_type": "stream",
     "text": [
      "\u001b[32m[I 2021-08-28 16:25:08,914]\u001b[0m Trial 79 pruned. Trial was pruned at iteration 5.\u001b[0m\n"
     ]
    },
    {
     "name": "stdout",
     "output_type": "stream",
     "text": [
      "[0]\tvalidation-auc:0.96276\n",
      "[1]\tvalidation-auc:0.96588\n",
      "[2]\tvalidation-auc:0.98419\n",
      "[3]\tvalidation-auc:0.98335\n",
      "[4]\tvalidation-auc:0.98419\n",
      "[5]\tvalidation-auc:0.99230\n",
      "[6]\tvalidation-auc:0.99189\n",
      "[7]\tvalidation-auc:0.99126\n",
      "[8]\tvalidation-auc:0.99168\n",
      "[9]\tvalidation-auc:0.99230\n"
     ]
    },
    {
     "name": "stderr",
     "output_type": "stream",
     "text": [
      "\u001b[32m[I 2021-08-28 16:25:09,033]\u001b[0m Trial 80 finished with value: 0.958041958041958 and parameters: {'booster': 'dart', 'lambda': 0.005598433735678219, 'alpha': 1.6992618879704695e-05, 'max_depth': 6, 'eta': 0.29328477104352807, 'gamma': 0.0006495143272303455, 'grow_policy': 'lossguide', 'sample_type': 'weighted', 'normalize_type': 'forest', 'rate_drop': 0.0007151410562892184, 'skip_drop': 9.546357569393652e-05}. Best is trial 23 with value: 0.993006993006993.\u001b[0m\n"
     ]
    },
    {
     "name": "stdout",
     "output_type": "stream",
     "text": [
      "[0]\tvalidation-auc:0.97423\n",
      "[1]\tvalidation-auc:0.98333\n",
      "[2]\tvalidation-auc:0.98608\n",
      "[3]\tvalidation-auc:0.99090\n",
      "[4]\tvalidation-auc:0.99057\n",
      "[5]\tvalidation-auc:0.99101\n",
      "[6]\tvalidation-auc:0.98991\n",
      "[7]\tvalidation-auc:0.99342\n",
      "[8]\tvalidation-auc:0.99408\n",
      "[9]\tvalidation-auc:0.99474\n"
     ]
    },
    {
     "name": "stderr",
     "output_type": "stream",
     "text": [
      "\u001b[32m[I 2021-08-28 16:25:09,121]\u001b[0m Trial 81 finished with value: 0.9370629370629371 and parameters: {'booster': 'gbtree', 'lambda': 0.012885468628940645, 'alpha': 0.00015796508650428183, 'max_depth': 3, 'eta': 0.5531477929193935, 'gamma': 0.004770630047041408, 'grow_policy': 'depthwise'}. Best is trial 23 with value: 0.993006993006993.\u001b[0m\n"
     ]
    },
    {
     "name": "stdout",
     "output_type": "stream",
     "text": [
      "[0]\tvalidation-auc:0.97026\n",
      "[1]\tvalidation-auc:0.98339\n",
      "[2]\tvalidation-auc:0.99240\n",
      "[3]\tvalidation-auc:0.99218\n",
      "[4]\tvalidation-auc:0.99175\n",
      "[5]\tvalidation-auc:0.99208\n",
      "[6]\tvalidation-auc:0.99251\n",
      "[7]\tvalidation-auc:0.99251\n",
      "[8]\tvalidation-auc:0.99218\n",
      "[9]\tvalidation-auc:0.99262\n"
     ]
    },
    {
     "name": "stderr",
     "output_type": "stream",
     "text": [
      "\u001b[32m[I 2021-08-28 16:25:09,220]\u001b[0m Trial 82 finished with value: 0.951048951048951 and parameters: {'booster': 'gbtree', 'lambda': 0.037028213568040175, 'alpha': 0.005583005949652011, 'max_depth': 2, 'eta': 0.06429449936263867, 'gamma': 0.039845981056185115, 'grow_policy': 'depthwise'}. Best is trial 23 with value: 0.993006993006993.\u001b[0m\n"
     ]
    },
    {
     "name": "stdout",
     "output_type": "stream",
     "text": [
      "[0]\tvalidation-auc:0.99601\n",
      "[1]\tvalidation-auc:0.99601\n",
      "[2]\tvalidation-auc:0.99601\n",
      "[3]\tvalidation-auc:0.99601\n",
      "[4]\tvalidation-auc:0.99579\n",
      "[5]\tvalidation-auc:0.99557\n",
      "[6]\tvalidation-auc:0.99535\n",
      "[7]\tvalidation-auc:0.99557\n",
      "[8]\tvalidation-auc:0.99557\n",
      "[9]\tvalidation-auc:0.99557\n"
     ]
    },
    {
     "name": "stderr",
     "output_type": "stream",
     "text": [
      "\u001b[32m[I 2021-08-28 16:25:09,340]\u001b[0m Trial 83 finished with value: 0.986013986013986 and parameters: {'booster': 'dart', 'lambda': 0.06746610558133351, 'alpha': 0.11810226715876446, 'max_depth': 4, 'eta': 0.1957290262705402, 'gamma': 0.19904770480867318, 'grow_policy': 'depthwise', 'sample_type': 'weighted', 'normalize_type': 'forest', 'rate_drop': 0.948449010877773, 'skip_drop': 0.011930903267863818}. Best is trial 23 with value: 0.993006993006993.\u001b[0m\n"
     ]
    },
    {
     "name": "stdout",
     "output_type": "stream",
     "text": [
      "[0]\tvalidation-auc:0.93288\n",
      "[1]\tvalidation-auc:0.93288\n",
      "[2]\tvalidation-auc:0.93288\n",
      "[3]\tvalidation-auc:0.91463\n",
      "[4]\tvalidation-auc:0.91463\n",
      "[5]\tvalidation-auc:0.95471\n"
     ]
    },
    {
     "name": "stderr",
     "output_type": "stream",
     "text": [
      "\u001b[32m[I 2021-08-28 16:25:09,441]\u001b[0m Trial 84 pruned. Trial was pruned at iteration 5.\u001b[0m\n"
     ]
    },
    {
     "name": "stdout",
     "output_type": "stream",
     "text": [
      "[0]\tvalidation-auc:0.95964\n",
      "[1]\tvalidation-auc:0.97219\n",
      "[2]\tvalidation-auc:0.98223\n",
      "[3]\tvalidation-auc:0.98283\n",
      "[4]\tvalidation-auc:0.98273\n",
      "[5]\tvalidation-auc:0.98253\n"
     ]
    },
    {
     "name": "stderr",
     "output_type": "stream",
     "text": [
      "\u001b[32m[I 2021-08-28 16:25:09,559]\u001b[0m Trial 85 pruned. Trial was pruned at iteration 5.\u001b[0m\n"
     ]
    },
    {
     "name": "stdout",
     "output_type": "stream",
     "text": [
      "[0]\tvalidation-auc:0.95671\n",
      "[1]\tvalidation-auc:0.95671\n",
      "[2]\tvalidation-auc:0.94979\n",
      "[3]\tvalidation-auc:0.95279\n",
      "[4]\tvalidation-auc:0.95083\n"
     ]
    },
    {
     "name": "stderr",
     "output_type": "stream",
     "text": [
      "\u001b[32m[I 2021-08-28 16:25:09,662]\u001b[0m Trial 86 pruned. Trial was pruned at iteration 5.\u001b[0m\n"
     ]
    },
    {
     "name": "stdout",
     "output_type": "stream",
     "text": [
      "[0]\tvalidation-auc:0.95690\n",
      "[1]\tvalidation-auc:0.97384\n",
      "[2]\tvalidation-auc:0.98621\n",
      "[3]\tvalidation-auc:0.98752\n",
      "[4]\tvalidation-auc:0.99175\n",
      "[5]\tvalidation-auc:0.99132\n",
      "[6]\tvalidation-auc:0.99370\n",
      "[7]\tvalidation-auc:0.99370\n",
      "[8]\tvalidation-auc:0.99327\n",
      "[9]\tvalidation-auc:0.99414\n"
     ]
    },
    {
     "name": "stderr",
     "output_type": "stream",
     "text": [
      "\u001b[32m[I 2021-08-28 16:25:09,789]\u001b[0m Trial 87 finished with value: 0.958041958041958 and parameters: {'booster': 'dart', 'lambda': 0.00012261958474088814, 'alpha': 0.025347107968145523, 'max_depth': 5, 'eta': 0.24336646716652213, 'gamma': 0.14159871006691227, 'grow_policy': 'depthwise', 'sample_type': 'weighted', 'normalize_type': 'forest', 'rate_drop': 0.025176907892386746, 'skip_drop': 1.235262707466674e-07}. Best is trial 23 with value: 0.993006993006993.\u001b[0m\n"
     ]
    },
    {
     "name": "stdout",
     "output_type": "stream",
     "text": [
      "[0]\tvalidation-auc:0.95197\n",
      "[1]\tvalidation-auc:0.95187\n",
      "[2]\tvalidation-auc:0.95125\n",
      "[3]\tvalidation-auc:0.95197\n",
      "[4]\tvalidation-auc:0.95238\n",
      "[5]\tvalidation-auc:0.96788\n"
     ]
    },
    {
     "name": "stderr",
     "output_type": "stream",
     "text": [
      "\u001b[32m[I 2021-08-28 16:25:09,871]\u001b[0m Trial 88 pruned. Trial was pruned at iteration 5.\u001b[0m\n"
     ]
    },
    {
     "name": "stdout",
     "output_type": "stream",
     "text": [
      "[0]\tvalidation-auc:0.97831\n",
      "[1]\tvalidation-auc:0.98543\n",
      "[2]\tvalidation-auc:0.99556\n",
      "[3]\tvalidation-auc:0.99690\n",
      "[4]\tvalidation-auc:0.99711\n",
      "[5]\tvalidation-auc:0.99773\n",
      "[6]\tvalidation-auc:0.99793\n",
      "[7]\tvalidation-auc:0.99773\n",
      "[8]\tvalidation-auc:0.99793\n",
      "[9]\tvalidation-auc:0.99731\n"
     ]
    },
    {
     "name": "stderr",
     "output_type": "stream",
     "text": [
      "\u001b[32m[I 2021-08-28 16:25:09,991]\u001b[0m Trial 89 finished with value: 0.958041958041958 and parameters: {'booster': 'dart', 'lambda': 0.0005156661082495416, 'alpha': 0.05755549905042497, 'max_depth': 5, 'eta': 0.6501086120004843, 'gamma': 0.5775937120104054, 'grow_policy': 'depthwise', 'sample_type': 'weighted', 'normalize_type': 'forest', 'rate_drop': 0.00017130543628038035, 'skip_drop': 5.005752437277352e-07}. Best is trial 23 with value: 0.993006993006993.\u001b[0m\n"
     ]
    },
    {
     "name": "stdout",
     "output_type": "stream",
     "text": [
      "[0]\tvalidation-auc:0.91251\n",
      "[1]\tvalidation-auc:0.93005\n",
      "[2]\tvalidation-auc:0.92899\n",
      "[3]\tvalidation-auc:0.93216\n",
      "[4]\tvalidation-auc:0.93428\n"
     ]
    },
    {
     "name": "stderr",
     "output_type": "stream",
     "text": [
      "\u001b[32m[I 2021-08-28 16:25:10,039]\u001b[0m Trial 90 pruned. Trial was pruned at iteration 5.\u001b[0m\n"
     ]
    },
    {
     "name": "stdout",
     "output_type": "stream",
     "text": [
      "[0]\tvalidation-auc:0.96739\n",
      "[1]\tvalidation-auc:0.96974\n",
      "[2]\tvalidation-auc:0.98005\n",
      "[3]\tvalidation-auc:0.98868\n",
      "[4]\tvalidation-auc:0.98823\n"
     ]
    },
    {
     "name": "stderr",
     "output_type": "stream",
     "text": [
      "\u001b[32m[I 2021-08-28 16:25:10,133]\u001b[0m Trial 91 pruned. Trial was pruned at iteration 5.\u001b[0m\n"
     ]
    },
    {
     "name": "stdout",
     "output_type": "stream",
     "text": [
      "[0]\tvalidation-auc:0.94561\n",
      "[1]\tvalidation-auc:0.97061\n",
      "[2]\tvalidation-auc:0.97237\n",
      "[3]\tvalidation-auc:0.97204\n",
      "[4]\tvalidation-auc:0.97138\n",
      "[5]\tvalidation-auc:0.97215\n"
     ]
    },
    {
     "name": "stderr",
     "output_type": "stream",
     "text": [
      "\u001b[32m[I 2021-08-28 16:25:10,226]\u001b[0m Trial 92 pruned. Trial was pruned at iteration 5.\u001b[0m\n"
     ]
    },
    {
     "name": "stdout",
     "output_type": "stream",
     "text": [
      "[0]\tvalidation-auc:0.90068\n",
      "[1]\tvalidation-auc:0.89461\n",
      "[2]\tvalidation-auc:0.90388\n",
      "[3]\tvalidation-auc:0.90121\n",
      "[4]\tvalidation-auc:0.92892\n"
     ]
    },
    {
     "name": "stderr",
     "output_type": "stream",
     "text": [
      "\u001b[32m[I 2021-08-28 16:25:10,315]\u001b[0m Trial 93 pruned. Trial was pruned at iteration 5.\u001b[0m\n"
     ]
    },
    {
     "name": "stdout",
     "output_type": "stream",
     "text": [
      "[0]\tvalidation-auc:0.94078\n",
      "[1]\tvalidation-auc:0.96318\n",
      "[2]\tvalidation-auc:0.96751\n",
      "[3]\tvalidation-auc:0.96025\n",
      "[4]\tvalidation-auc:0.96893\n"
     ]
    },
    {
     "name": "stderr",
     "output_type": "stream",
     "text": [
      "\u001b[32m[I 2021-08-28 16:25:10,397]\u001b[0m Trial 94 pruned. Trial was pruned at iteration 5.\u001b[0m\n"
     ]
    },
    {
     "name": "stdout",
     "output_type": "stream",
     "text": [
      "[0]\tvalidation-auc:0.94463\n",
      "[1]\tvalidation-auc:0.96880\n",
      "[2]\tvalidation-auc:0.96839\n",
      "[3]\tvalidation-auc:0.96818\n",
      "[4]\tvalidation-auc:0.96963\n",
      "[5]\tvalidation-auc:0.96963\n"
     ]
    },
    {
     "name": "stderr",
     "output_type": "stream",
     "text": [
      "\u001b[32m[I 2021-08-28 16:25:10,474]\u001b[0m Trial 95 pruned. Trial was pruned at iteration 5.\u001b[0m\n"
     ]
    },
    {
     "name": "stdout",
     "output_type": "stream",
     "text": [
      "[0]\tvalidation-auc:0.96217\n",
      "[1]\tvalidation-auc:0.97248\n",
      "[2]\tvalidation-auc:0.99287\n",
      "[3]\tvalidation-auc:0.99452\n",
      "[4]\tvalidation-auc:0.99605\n",
      "[5]\tvalidation-auc:0.99561\n",
      "[6]\tvalidation-auc:0.99649\n",
      "[7]\tvalidation-auc:0.99561\n",
      "[8]\tvalidation-auc:0.99737\n",
      "[9]\tvalidation-auc:0.99759\n"
     ]
    },
    {
     "name": "stderr",
     "output_type": "stream",
     "text": [
      "\u001b[32m[I 2021-08-28 16:25:10,583]\u001b[0m Trial 96 finished with value: 0.9790209790209791 and parameters: {'booster': 'dart', 'lambda': 0.10643062640639764, 'alpha': 7.956116261031496e-06, 'max_depth': 2, 'eta': 0.3539730175381571, 'gamma': 5.633962936570964e-06, 'grow_policy': 'depthwise', 'sample_type': 'uniform', 'normalize_type': 'tree', 'rate_drop': 0.06134103451990524, 'skip_drop': 0.34525253288414215}. Best is trial 23 with value: 0.993006993006993.\u001b[0m\n"
     ]
    },
    {
     "name": "stdout",
     "output_type": "stream",
     "text": [
      "[0]\tvalidation-auc:0.80177\n",
      "[1]\tvalidation-auc:0.93331\n",
      "[2]\tvalidation-auc:0.96396\n",
      "[3]\tvalidation-auc:0.97016\n",
      "[4]\tvalidation-auc:0.97062\n"
     ]
    },
    {
     "name": "stderr",
     "output_type": "stream",
     "text": [
      "\u001b[32m[I 2021-08-28 16:25:10,666]\u001b[0m Trial 97 pruned. Trial was pruned at iteration 5.\u001b[0m\n"
     ]
    },
    {
     "name": "stdout",
     "output_type": "stream",
     "text": [
      "[0]\tvalidation-auc:0.91112\n",
      "[1]\tvalidation-auc:0.93532\n",
      "[2]\tvalidation-auc:0.94320\n",
      "[3]\tvalidation-auc:0.94533\n",
      "[4]\tvalidation-auc:0.95311\n"
     ]
    },
    {
     "name": "stderr",
     "output_type": "stream",
     "text": [
      "\u001b[32m[I 2021-08-28 16:25:10,753]\u001b[0m Trial 98 pruned. Trial was pruned at iteration 5.\u001b[0m\n"
     ]
    },
    {
     "name": "stdout",
     "output_type": "stream",
     "text": [
      "[0]\tvalidation-auc:0.84247\n",
      "[1]\tvalidation-auc:0.93791\n",
      "[2]\tvalidation-auc:0.96223\n",
      "[3]\tvalidation-auc:0.96819\n",
      "[4]\tvalidation-auc:0.98071\n",
      "[5]\tvalidation-auc:0.97855\n"
     ]
    },
    {
     "name": "stderr",
     "output_type": "stream",
     "text": [
      "\u001b[32m[I 2021-08-28 16:25:10,838]\u001b[0m Trial 99 pruned. Trial was pruned at iteration 5.\u001b[0m\n"
     ]
    },
    {
     "name": "stdout",
     "output_type": "stream",
     "text": [
      "FrozenTrial(number=23, values=[0.993006993006993], datetime_start=datetime.datetime(2021, 8, 28, 16, 25, 4, 468293), datetime_complete=datetime.datetime(2021, 8, 28, 16, 25, 4, 557295), params={'booster': 'dart', 'lambda': 0.0003972573585417277, 'alpha': 0.04940147924246267, 'max_depth': 5, 'eta': 0.6619806282566565, 'gamma': 2.245363206261995e-07, 'grow_policy': 'depthwise', 'sample_type': 'weighted', 'normalize_type': 'forest', 'rate_drop': 0.016321455918765698, 'skip_drop': 1.2417685466798311e-05}, distributions={'booster': CategoricalDistribution(choices=('gbtree', 'gblinear', 'dart')), 'lambda': LogUniformDistribution(high=1.0, low=1e-08), 'alpha': LogUniformDistribution(high=1.0, low=1e-08), 'max_depth': IntUniformDistribution(high=9, low=1, step=1), 'eta': LogUniformDistribution(high=1.0, low=1e-08), 'gamma': LogUniformDistribution(high=1.0, low=1e-08), 'grow_policy': CategoricalDistribution(choices=('depthwise', 'lossguide')), 'sample_type': CategoricalDistribution(choices=('uniform', 'weighted')), 'normalize_type': CategoricalDistribution(choices=('tree', 'forest')), 'rate_drop': LogUniformDistribution(high=1.0, low=1e-08), 'skip_drop': LogUniformDistribution(high=1.0, low=1e-08)}, user_attrs={}, system_attrs={}, intermediate_values={0: 0.981898, 1: 0.987308, 2: 0.996671, 3: 0.994798, 4: 0.993134, 5: 0.99563, 6: 0.992926, 7: 0.991261, 8: 0.990845, 9: 0.99459}, trial_id=23, state=TrialState.COMPLETE, value=None)\n"
     ]
    }
   ],
   "source": [
    "study = optuna.create_study(\n",
    "    pruner=optuna.pruners.MedianPruner(n_warmup_steps=5), direction=\"maximize\"\n",
    ")\n",
    "study.optimize(objective, n_trials=100)\n",
    "print(study.best_trial)"
   ]
  },
  {
   "cell_type": "code",
   "execution_count": 3,
   "id": "affiliated-heavy",
   "metadata": {},
   "outputs": [
    {
     "data": {
      "text/plain": [
       "{'booster': 'dart',\n",
       " 'lambda': 0.0003972573585417277,\n",
       " 'alpha': 0.04940147924246267,\n",
       " 'max_depth': 5,\n",
       " 'eta': 0.6619806282566565,\n",
       " 'gamma': 2.245363206261995e-07,\n",
       " 'grow_policy': 'depthwise',\n",
       " 'sample_type': 'weighted',\n",
       " 'normalize_type': 'forest',\n",
       " 'rate_drop': 0.016321455918765698,\n",
       " 'skip_drop': 1.2417685466798311e-05}"
      ]
     },
     "execution_count": 3,
     "metadata": {},
     "output_type": "execute_result"
    }
   ],
   "source": [
    "study.best_params"
   ]
  },
  {
   "cell_type": "code",
   "execution_count": null,
   "id": "greenhouse-antibody",
   "metadata": {},
   "outputs": [],
   "source": []
  }
 ],
 "metadata": {
  "kernelspec": {
   "display_name": "volatility",
   "language": "python",
   "name": "volatility"
  },
  "language_info": {
   "codemirror_mode": {
    "name": "ipython",
    "version": 3
   },
   "file_extension": ".py",
   "mimetype": "text/x-python",
   "name": "python",
   "nbconvert_exporter": "python",
   "pygments_lexer": "ipython3",
   "version": "3.8.10"
  }
 },
 "nbformat": 4,
 "nbformat_minor": 5
}
